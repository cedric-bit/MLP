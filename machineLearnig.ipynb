{
  "cells": [
    {
      "cell_type": "markdown",
      "metadata": {
        "id": "view-in-github",
        "colab_type": "text"
      },
      "source": [
        "<a href=\"https://colab.research.google.com/github/cedric-bit/MLP/blob/main/machineLearnig.ipynb\" target=\"_parent\"><img src=\"https://colab.research.google.com/assets/colab-badge.svg\" alt=\"Open In Colab\"/></a>"
      ]
    },
    {
      "cell_type": "markdown",
      "source": [
        "# INFO-F-422 - Statistical Foundations of Machine Learning"
      ],
      "metadata": {
        "id": "B_Bin4Nw0Ro4"
      }
    },
    {
      "cell_type": "markdown",
      "source": [],
      "metadata": {
        "id": "OlLYYZesDLfi"
      }
    },
    {
      "cell_type": "code",
      "source": [
        "install.packages(\"ggplot2\")\n",
        "install.packages(\"mRMRe\")\n",
        "install.packages(\"dplyr\")\n",
        "library(ggplot2)\n",
        "library(mRMRe)\n",
        "library(dplyr)"
      ],
      "metadata": {
        "colab": {
          "base_uri": "https://localhost:8080/"
        },
        "id": "GOHMte0UC9px",
        "outputId": "03506b64-ebfa-4760-dac2-bbc0695edea1"
      },
      "execution_count": null,
      "outputs": [
        {
          "output_type": "stream",
          "name": "stderr",
          "text": [
            "Installing package into ‘/usr/local/lib/R/site-library’\n",
            "(as ‘lib’ is unspecified)\n",
            "\n",
            "Installing package into ‘/usr/local/lib/R/site-library’\n",
            "(as ‘lib’ is unspecified)\n",
            "\n",
            "Installing package into ‘/usr/local/lib/R/site-library’\n",
            "(as ‘lib’ is unspecified)\n",
            "\n"
          ]
        }
      ]
    },
    {
      "cell_type": "code",
      "source": [
        "set.seed(5)"
      ],
      "metadata": {
        "id": "dW-y7T5VzmNh"
      },
      "execution_count": null,
      "outputs": []
    },
    {
      "cell_type": "code",
      "source": [
        "train.features <- read.csv(file=\"train_values.csv\",stringsAsFactors = T, row.names = 1)\n",
        "train.labels <- read.csv(file=\"train_labels.csv\",stringsAsFactors = T, row.names = 1)\n",
        "test.features <- read.csv(file=\"test_values.csv\",stringsAsFactors = T, row.names = 1)\n"
      ],
      "metadata": {
        "id": "WUbEhiqwI2RQ"
      },
      "execution_count": null,
      "outputs": []
    },
    {
      "cell_type": "code",
      "source": [],
      "metadata": {
        "id": "AFjdfzNhqq_q"
      },
      "execution_count": null,
      "outputs": []
    },
    {
      "cell_type": "code",
      "source": [
        "str(train.labels)"
      ],
      "metadata": {
        "colab": {
          "base_uri": "https://localhost:8080/"
        },
        "id": "wFhgutk-NrXV",
        "outputId": "e3f0470d-68b0-41e6-8207-43dd698ae5cf"
      },
      "execution_count": null,
      "outputs": [
        {
          "output_type": "stream",
          "name": "stdout",
          "text": [
            "'data.frame':\t260601 obs. of  1 variable:\n",
            " $ damage_grade: int  3 2 3 2 3 2 3 1 2 1 ...\n"
          ]
        }
      ]
    },
    {
      "cell_type": "code",
      "source": [
        "str(train.features)"
      ],
      "metadata": {
        "colab": {
          "base_uri": "https://localhost:8080/"
        },
        "id": "Q0FWwPa3JyYh",
        "outputId": "88f902db-afe6-4588-a11b-99a65e6da005"
      },
      "execution_count": null,
      "outputs": [
        {
          "output_type": "stream",
          "name": "stdout",
          "text": [
            "'data.frame':\t260601 obs. of  38 variables:\n",
            " $ geo_level_1_id                        : int  6 8 21 22 11 8 9 20 0 26 ...\n",
            " $ geo_level_2_id                        : int  487 900 363 418 131 558 475 323 757 886 ...\n",
            " $ geo_level_3_id                        : int  12198 2812 8973 10694 1488 6089 12066 12236 7219 994 ...\n",
            " $ count_floors_pre_eq                   : int  2 2 2 2 3 2 2 2 2 1 ...\n",
            " $ age                                   : int  30 10 10 10 30 10 25 0 15 0 ...\n",
            " $ area_percentage                       : int  6 8 5 6 8 9 3 8 8 13 ...\n",
            " $ height_percentage                     : int  5 7 5 5 9 5 4 6 6 4 ...\n",
            " $ land_surface_condition                : Factor w/ 3 levels \"n\",\"o\",\"t\": 3 2 3 3 3 3 1 3 3 3 ...\n",
            " $ foundation_type                       : Factor w/ 5 levels \"h\",\"i\",\"r\",\"u\",..: 3 3 3 3 3 3 3 5 3 2 ...\n",
            " $ roof_type                             : Factor w/ 3 levels \"n\",\"q\",\"x\": 1 1 1 1 1 1 1 2 2 1 ...\n",
            " $ ground_floor_type                     : Factor w/ 5 levels \"f\",\"m\",\"v\",\"x\",..: 1 4 1 1 1 1 4 3 1 3 ...\n",
            " $ other_floor_type                      : Factor w/ 4 levels \"j\",\"q\",\"s\",\"x\": 2 2 4 4 4 2 2 4 2 1 ...\n",
            " $ position                              : Factor w/ 4 levels \"j\",\"o\",\"s\",\"t\": 4 3 4 3 3 3 3 3 3 3 ...\n",
            " $ plan_configuration                    : Factor w/ 10 levels \"a\",\"c\",\"d\",\"f\",..: 3 3 3 3 3 3 3 10 3 3 ...\n",
            " $ has_superstructure_adobe_mud          : int  1 0 0 0 1 0 0 0 0 0 ...\n",
            " $ has_superstructure_mud_mortar_stone   : int  1 1 1 1 0 1 1 0 1 0 ...\n",
            " $ has_superstructure_stone_flag         : int  0 0 0 0 0 0 0 0 0 0 ...\n",
            " $ has_superstructure_cement_mortar_stone: int  0 0 0 0 0 0 0 0 0 0 ...\n",
            " $ has_superstructure_mud_mortar_brick   : int  0 0 0 0 0 0 0 0 0 0 ...\n",
            " $ has_superstructure_cement_mortar_brick: int  0 0 0 0 0 0 0 1 0 1 ...\n",
            " $ has_superstructure_timber             : int  0 0 0 1 0 0 0 1 1 0 ...\n",
            " $ has_superstructure_bamboo             : int  0 0 0 1 0 0 0 0 0 0 ...\n",
            " $ has_superstructure_rc_non_engineered  : int  0 0 0 0 0 0 0 0 0 0 ...\n",
            " $ has_superstructure_rc_engineered      : int  0 0 0 0 0 0 0 0 0 0 ...\n",
            " $ has_superstructure_other              : int  0 0 0 0 0 0 0 0 0 0 ...\n",
            " $ legal_ownership_status                : Factor w/ 4 levels \"a\",\"r\",\"v\",\"w\": 3 3 3 3 3 3 3 3 3 3 ...\n",
            " $ count_families                        : int  1 1 1 1 1 1 1 1 1 1 ...\n",
            " $ has_secondary_use                     : int  0 0 0 0 0 1 0 0 0 0 ...\n",
            " $ has_secondary_use_agriculture         : int  0 0 0 0 0 1 0 0 0 0 ...\n",
            " $ has_secondary_use_hotel               : int  0 0 0 0 0 0 0 0 0 0 ...\n",
            " $ has_secondary_use_rental              : int  0 0 0 0 0 0 0 0 0 0 ...\n",
            " $ has_secondary_use_institution         : int  0 0 0 0 0 0 0 0 0 0 ...\n",
            " $ has_secondary_use_school              : int  0 0 0 0 0 0 0 0 0 0 ...\n",
            " $ has_secondary_use_industry            : int  0 0 0 0 0 0 0 0 0 0 ...\n",
            " $ has_secondary_use_health_post         : int  0 0 0 0 0 0 0 0 0 0 ...\n",
            " $ has_secondary_use_gov_office          : int  0 0 0 0 0 0 0 0 0 0 ...\n",
            " $ has_secondary_use_use_police          : int  0 0 0 0 0 0 0 0 0 0 ...\n",
            " $ has_secondary_use_other               : int  0 0 0 0 0 0 0 0 0 0 ...\n"
          ]
        }
      ]
    },
    {
      "cell_type": "code",
      "source": [
        "\n",
        "summary(train.features)\n"
      ],
      "metadata": {
        "id": "IamO005nXvBZ",
        "colab": {
          "base_uri": "https://localhost:8080/",
          "height": 1000
        },
        "outputId": "81ced6dc-885f-4bd0-8e59-ec2ace97dc75"
      },
      "execution_count": null,
      "outputs": [
        {
          "output_type": "display_data",
          "data": {
            "text/plain": [
              " geo_level_1_id geo_level_2_id   geo_level_3_id  count_floors_pre_eq\n",
              " Min.   : 0.0   Min.   :   0.0   Min.   :    0   Min.   :1.00       \n",
              " 1st Qu.: 7.0   1st Qu.: 350.0   1st Qu.: 3073   1st Qu.:2.00       \n",
              " Median :12.0   Median : 702.0   Median : 6270   Median :2.00       \n",
              " Mean   :13.9   Mean   : 701.1   Mean   : 6258   Mean   :2.13       \n",
              " 3rd Qu.:21.0   3rd Qu.:1050.0   3rd Qu.: 9412   3rd Qu.:2.00       \n",
              " Max.   :30.0   Max.   :1427.0   Max.   :12567   Max.   :9.00       \n",
              "                                                                    \n",
              "      age         area_percentage   height_percentage land_surface_condition\n",
              " Min.   :  0.00   Min.   :  1.000   Min.   : 2.000    n: 35528              \n",
              " 1st Qu.: 10.00   1st Qu.:  5.000   1st Qu.: 4.000    o:  8316              \n",
              " Median : 15.00   Median :  7.000   Median : 5.000    t:216757              \n",
              " Mean   : 26.54   Mean   :  8.018   Mean   : 5.434                          \n",
              " 3rd Qu.: 30.00   3rd Qu.:  9.000   3rd Qu.: 6.000                          \n",
              " Max.   :995.00   Max.   :100.000   Max.   :32.000                          \n",
              "                                                                            \n",
              " foundation_type roof_type  ground_floor_type other_floor_type position  \n",
              " h:  1448        n:182842   f:209619          j: 39843         j: 13282  \n",
              " i: 10579        q: 61576   m:   508          q:165282         o:  2333  \n",
              " r:219196        x: 16183   v: 24593          s: 12028         s:202090  \n",
              " u: 14260                   x: 24877          x: 43448         t: 42896  \n",
              " w: 15118                   z:  1004                                     \n",
              "                                                                         \n",
              "                                                                         \n",
              " plan_configuration has_superstructure_adobe_mud\n",
              " d      :250072     Min.   :0.00000             \n",
              " q      :  5692     1st Qu.:0.00000             \n",
              " u      :  3649     Median :0.00000             \n",
              " s      :   346     Mean   :0.08865             \n",
              " c      :   325     3rd Qu.:0.00000             \n",
              " a      :   252     Max.   :1.00000             \n",
              " (Other):   265                                 \n",
              " has_superstructure_mud_mortar_stone has_superstructure_stone_flag\n",
              " Min.   :0.0000                      Min.   :0.00000              \n",
              " 1st Qu.:1.0000                      1st Qu.:0.00000              \n",
              " Median :1.0000                      Median :0.00000              \n",
              " Mean   :0.7619                      Mean   :0.03433              \n",
              " 3rd Qu.:1.0000                      3rd Qu.:0.00000              \n",
              " Max.   :1.0000                      Max.   :1.00000              \n",
              "                                                                  \n",
              " has_superstructure_cement_mortar_stone has_superstructure_mud_mortar_brick\n",
              " Min.   :0.00000                        Min.   :0.00000                    \n",
              " 1st Qu.:0.00000                        1st Qu.:0.00000                    \n",
              " Median :0.00000                        Median :0.00000                    \n",
              " Mean   :0.01823                        Mean   :0.06815                    \n",
              " 3rd Qu.:0.00000                        3rd Qu.:0.00000                    \n",
              " Max.   :1.00000                        Max.   :1.00000                    \n",
              "                                                                           \n",
              " has_superstructure_cement_mortar_brick has_superstructure_timber\n",
              " Min.   :0.00000                        Min.   :0.000            \n",
              " 1st Qu.:0.00000                        1st Qu.:0.000            \n",
              " Median :0.00000                        Median :0.000            \n",
              " Mean   :0.07527                        Mean   :0.255            \n",
              " 3rd Qu.:0.00000                        3rd Qu.:1.000            \n",
              " Max.   :1.00000                        Max.   :1.000            \n",
              "                                                                 \n",
              " has_superstructure_bamboo has_superstructure_rc_non_engineered\n",
              " Min.   :0.00000           Min.   :0.00000                     \n",
              " 1st Qu.:0.00000           1st Qu.:0.00000                     \n",
              " Median :0.00000           Median :0.00000                     \n",
              " Mean   :0.08501           Mean   :0.04259                     \n",
              " 3rd Qu.:0.00000           3rd Qu.:0.00000                     \n",
              " Max.   :1.00000           Max.   :1.00000                     \n",
              "                                                               \n",
              " has_superstructure_rc_engineered has_superstructure_other\n",
              " Min.   :0.00000                  Min.   :0.00000         \n",
              " 1st Qu.:0.00000                  1st Qu.:0.00000         \n",
              " Median :0.00000                  Median :0.00000         \n",
              " Mean   :0.01586                  Mean   :0.01498         \n",
              " 3rd Qu.:0.00000                  3rd Qu.:0.00000         \n",
              " Max.   :1.00000                  Max.   :1.00000         \n",
              "                                                          \n",
              " legal_ownership_status count_families   has_secondary_use\n",
              " a:  5512               Min.   :0.0000   Min.   :0.0000   \n",
              " r:  1473               1st Qu.:1.0000   1st Qu.:0.0000   \n",
              " v:250939               Median :1.0000   Median :0.0000   \n",
              " w:  2677               Mean   :0.9839   Mean   :0.1119   \n",
              "                        3rd Qu.:1.0000   3rd Qu.:0.0000   \n",
              "                        Max.   :9.0000   Max.   :1.0000   \n",
              "                                                          \n",
              " has_secondary_use_agriculture has_secondary_use_hotel has_secondary_use_rental\n",
              " Min.   :0.00000               Min.   :0.00000         Min.   :0.000000        \n",
              " 1st Qu.:0.00000               1st Qu.:0.00000         1st Qu.:0.000000        \n",
              " Median :0.00000               Median :0.00000         Median :0.000000        \n",
              " Mean   :0.06438               Mean   :0.03363         Mean   :0.008101        \n",
              " 3rd Qu.:0.00000               3rd Qu.:0.00000         3rd Qu.:0.000000        \n",
              " Max.   :1.00000               Max.   :1.00000         Max.   :1.000000        \n",
              "                                                                               \n",
              " has_secondary_use_institution has_secondary_use_school\n",
              " Min.   :0.0000000             Min.   :0.0000000       \n",
              " 1st Qu.:0.0000000             1st Qu.:0.0000000       \n",
              " Median :0.0000000             Median :0.0000000       \n",
              " Mean   :0.0009401             Mean   :0.0003607       \n",
              " 3rd Qu.:0.0000000             3rd Qu.:0.0000000       \n",
              " Max.   :1.0000000             Max.   :1.0000000       \n",
              "                                                       \n",
              " has_secondary_use_industry has_secondary_use_health_post\n",
              " Min.   :0.000000           Min.   :0.000000             \n",
              " 1st Qu.:0.000000           1st Qu.:0.000000             \n",
              " Median :0.000000           Median :0.000000             \n",
              " Mean   :0.001071           Mean   :0.000188             \n",
              " 3rd Qu.:0.000000           3rd Qu.:0.000000             \n",
              " Max.   :1.000000           Max.   :1.000000             \n",
              "                                                         \n",
              " has_secondary_use_gov_office has_secondary_use_use_police\n",
              " Min.   :0.0000000            Min.   :0.00e+00            \n",
              " 1st Qu.:0.0000000            1st Qu.:0.00e+00            \n",
              " Median :0.0000000            Median :0.00e+00            \n",
              " Mean   :0.0001458            Mean   :8.83e-05            \n",
              " 3rd Qu.:0.0000000            3rd Qu.:0.00e+00            \n",
              " Max.   :1.0000000            Max.   :1.00e+00            \n",
              "                                                          \n",
              " has_secondary_use_other\n",
              " Min.   :0.000000       \n",
              " 1st Qu.:0.000000       \n",
              " Median :0.000000       \n",
              " Mean   :0.005119       \n",
              " 3rd Qu.:0.000000       \n",
              " Max.   :1.000000       \n",
              "                        "
            ]
          },
          "metadata": {}
        }
      ]
    },
    {
      "cell_type": "code",
      "source": [
        "get_var_type <- function(x) {\n",
        "  if (is.factor(x)) {\n",
        "    return(\"Categorical\")\n",
        "  } else if (length(unique(x)) == 2) {\n",
        "    return(\"Binary\")\n",
        "  } else {\n",
        "    return(\"Numerical\")\n",
        "  }\n",
        "}\n",
        "\n",
        "var_info <- data.frame(variable = names(train.features),\n",
        "                       var_type = sapply(train.features, get_var_type),\n",
        "                       count = sapply(train.features, function(x) length(unique(x))))\n",
        "\n",
        "var_types <- sapply(train.features, get_var_type)\n",
        "\n",
        "# Comptez le nombre de variables de chaque type\n",
        "type_counts <- table(var_types)\n",
        "type_counts\n"
      ],
      "metadata": {
        "colab": {
          "base_uri": "https://localhost:8080/",
          "height": 69
        },
        "id": "iTiEcx56tvg5",
        "outputId": "7a5a24b0-bb17-46ae-b2fb-6d3717d29f3f"
      },
      "execution_count": null,
      "outputs": [
        {
          "output_type": "display_data",
          "data": {
            "text/plain": [
              "var_types\n",
              "     Binary Categorical   Numerical \n",
              "         22           8           8 "
            ]
          },
          "metadata": {}
        }
      ]
    },
    {
      "cell_type": "markdown",
      "source": [
        "* feature engineering\n",
        "\n",
        "It is important to note that the building_id variable itself has no predictive value and should not be included as a feature in our prediction model"
      ],
      "metadata": {
        "id": "IPaIoVyt5Oeo"
      }
    },
    {
      "cell_type": "code",
      "source": [
        "\n"
      ],
      "metadata": {
        "id": "qvCASuVU4SDn"
      },
      "execution_count": null,
      "outputs": []
    },
    {
      "cell_type": "code",
      "source": [
        "factor_variables<-which(sapply(test.features[1,],class)==\"factor\")\n",
        "factor_variables"
      ],
      "metadata": {
        "colab": {
          "base_uri": "https://localhost:8080/",
          "height": 34
        },
        "id": "s1rWzsPwvq6J",
        "outputId": "070e9cea-f350-4fea-a609-8885df8f65f0"
      },
      "execution_count": null,
      "outputs": [
        {
          "output_type": "display_data",
          "data": {
            "text/html": [
              "<style>\n",
              ".dl-inline {width: auto; margin:0; padding: 0}\n",
              ".dl-inline>dt, .dl-inline>dd {float: none; width: auto; display: inline-block}\n",
              ".dl-inline>dt::after {content: \":\\0020\"; padding-right: .5ex}\n",
              ".dl-inline>dt:not(:first-of-type) {padding-left: .5ex}\n",
              "</style><dl class=dl-inline><dt>land_surface_condition</dt><dd>8</dd><dt>foundation_type</dt><dd>9</dd><dt>roof_type</dt><dd>10</dd><dt>ground_floor_type</dt><dd>11</dd><dt>other_floor_type</dt><dd>12</dd><dt>position</dt><dd>13</dd><dt>plan_configuration</dt><dd>14</dd><dt>legal_ownership_status</dt><dd>26</dd></dl>\n"
            ],
            "text/markdown": "land_surface_condition\n:   8foundation_type\n:   9roof_type\n:   10ground_floor_type\n:   11other_floor_type\n:   12position\n:   13plan_configuration\n:   14legal_ownership_status\n:   26\n\n",
            "text/latex": "\\begin{description*}\n\\item[land\\textbackslash{}\\_surface\\textbackslash{}\\_condition] 8\n\\item[foundation\\textbackslash{}\\_type] 9\n\\item[roof\\textbackslash{}\\_type] 10\n\\item[ground\\textbackslash{}\\_floor\\textbackslash{}\\_type] 11\n\\item[other\\textbackslash{}\\_floor\\textbackslash{}\\_type] 12\n\\item[position] 13\n\\item[plan\\textbackslash{}\\_configuration] 14\n\\item[legal\\textbackslash{}\\_ownership\\textbackslash{}\\_status] 26\n\\end{description*}\n",
            "text/plain": [
              "land_surface_condition        foundation_type              roof_type \n",
              "                     8                      9                     10 \n",
              "     ground_floor_type       other_floor_type               position \n",
              "                    11                     12                     13 \n",
              "    plan_configuration legal_ownership_status \n",
              "                    14                     26 "
            ]
          },
          "metadata": {}
        }
      ]
    },
    {
      "cell_type": "code",
      "source": [
        "data_factor<-test.features[,factor_variables]\n",
        "dim(data_factor)"
      ],
      "metadata": {
        "id": "q1-4Rnom4edX",
        "colab": {
          "base_uri": "https://localhost:8080/",
          "height": 34
        },
        "outputId": "00fcf962-cd3f-4299-c702-1af217a92815"
      },
      "execution_count": null,
      "outputs": [
        {
          "output_type": "display_data",
          "data": {
            "text/html": [
              "<style>\n",
              ".list-inline {list-style: none; margin:0; padding: 0}\n",
              ".list-inline>li {display: inline-block}\n",
              ".list-inline>li:not(:last-child)::after {content: \"\\00b7\"; padding: 0 .5ex}\n",
              "</style>\n",
              "<ol class=list-inline><li>86868</li><li>8</li></ol>\n"
            ],
            "text/markdown": "1. 86868\n2. 8\n\n\n",
            "text/latex": "\\begin{enumerate*}\n\\item 86868\n\\item 8\n\\end{enumerate*}\n",
            "text/plain": [
              "[1] 86868     8"
            ]
          },
          "metadata": {}
        }
      ]
    },
    {
      "cell_type": "code",
      "source": [
        "data_factor<-train.features[,factor_variables]\n",
        "dim(data_factor)"
      ],
      "metadata": {
        "colab": {
          "base_uri": "https://localhost:8080/",
          "height": 34
        },
        "id": "Lrz_oaxYyAhM",
        "outputId": "e3290cca-777d-499b-bc67-0ce7565919ac"
      },
      "execution_count": null,
      "outputs": [
        {
          "output_type": "display_data",
          "data": {
            "text/html": [
              "<style>\n",
              ".list-inline {list-style: none; margin:0; padding: 0}\n",
              ".list-inline>li {display: inline-block}\n",
              ".list-inline>li:not(:last-child)::after {content: \"\\00b7\"; padding: 0 .5ex}\n",
              "</style>\n",
              "<ol class=list-inline><li>260601</li><li>8</li></ol>\n"
            ],
            "text/markdown": "1. 260601\n2. 8\n\n\n",
            "text/latex": "\\begin{enumerate*}\n\\item 260601\n\\item 8\n\\end{enumerate*}\n",
            "text/plain": [
              "[1] 260601      8"
            ]
          },
          "metadata": {}
        }
      ]
    },
    {
      "cell_type": "code",
      "source": [
        "data_factor[1:2,]"
      ],
      "metadata": {
        "colab": {
          "base_uri": "https://localhost:8080/",
          "height": 161
        },
        "id": "qqLsSI9kyofw",
        "outputId": "1713fc6e-8ce7-4b06-9a79-82f23b0e80db"
      },
      "execution_count": null,
      "outputs": [
        {
          "output_type": "display_data",
          "data": {
            "text/html": [
              "<table class=\"dataframe\">\n",
              "<caption>A data.frame: 2 × 8</caption>\n",
              "<thead>\n",
              "\t<tr><th></th><th scope=col>land_surface_condition</th><th scope=col>foundation_type</th><th scope=col>roof_type</th><th scope=col>ground_floor_type</th><th scope=col>other_floor_type</th><th scope=col>position</th><th scope=col>plan_configuration</th><th scope=col>legal_ownership_status</th></tr>\n",
              "\t<tr><th></th><th scope=col>&lt;fct&gt;</th><th scope=col>&lt;fct&gt;</th><th scope=col>&lt;fct&gt;</th><th scope=col>&lt;fct&gt;</th><th scope=col>&lt;fct&gt;</th><th scope=col>&lt;fct&gt;</th><th scope=col>&lt;fct&gt;</th><th scope=col>&lt;fct&gt;</th></tr>\n",
              "</thead>\n",
              "<tbody>\n",
              "\t<tr><th scope=row>802906</th><td>t</td><td>r</td><td>n</td><td>f</td><td>q</td><td>t</td><td>d</td><td>v</td></tr>\n",
              "\t<tr><th scope=row>28830</th><td>o</td><td>r</td><td>n</td><td>x</td><td>q</td><td>s</td><td>d</td><td>v</td></tr>\n",
              "</tbody>\n",
              "</table>\n"
            ],
            "text/markdown": "\nA data.frame: 2 × 8\n\n| <!--/--> | land_surface_condition &lt;fct&gt; | foundation_type &lt;fct&gt; | roof_type &lt;fct&gt; | ground_floor_type &lt;fct&gt; | other_floor_type &lt;fct&gt; | position &lt;fct&gt; | plan_configuration &lt;fct&gt; | legal_ownership_status &lt;fct&gt; |\n|---|---|---|---|---|---|---|---|---|\n| 802906 | t | r | n | f | q | t | d | v |\n| 28830 | o | r | n | x | q | s | d | v |\n\n",
            "text/latex": "A data.frame: 2 × 8\n\\begin{tabular}{r|llllllll}\n  & land\\_surface\\_condition & foundation\\_type & roof\\_type & ground\\_floor\\_type & other\\_floor\\_type & position & plan\\_configuration & legal\\_ownership\\_status\\\\\n  & <fct> & <fct> & <fct> & <fct> & <fct> & <fct> & <fct> & <fct>\\\\\n\\hline\n\t802906 & t & r & n & f & q & t & d & v\\\\\n\t28830 & o & r & n & x & q & s & d & v\\\\\n\\end{tabular}\n",
            "text/plain": [
              "       land_surface_condition foundation_type roof_type ground_floor_type\n",
              "802906 t                      r               n         f                \n",
              "28830  o                      r               n         x                \n",
              "       other_floor_type position plan_configuration legal_ownership_status\n",
              "802906 q                t        d                  v                     \n",
              "28830  q                s        d                  v                     "
            ]
          },
          "metadata": {}
        }
      ]
    },
    {
      "cell_type": "code",
      "source": [
        "\n"
      ],
      "metadata": {
        "id": "0yyqqqI243T4"
      },
      "execution_count": null,
      "outputs": []
    },
    {
      "cell_type": "code",
      "source": [
        "# Initialiser une nouvelle colonne 'fragile_building' avec des zéros\n",
        "train.features$fragile_building <- 0\n",
        "# Parcourir chaque ligne du dataframe et déterminer si le bâtiment est fragile\n",
        "for (i in 1:nrow(train.features)) {\n",
        "  if (train.features[i, \"has_superstructure_adobe_mud\"] == 1 |\n",
        "      train.features[i, \"has_superstructure_mud_mortar_stone\"] == 1 |\n",
        "      train.features[i, \"has_superstructure_mud_mortar_brick\"] == 1) {\n",
        "    train.features[i, \"fragile_building\"] <- 1\n",
        "  }\n",
        "}\n",
        "\n",
        "# Initialiser une nouvelle colonne 'fragile_building' avec des zéros\n",
        "test.features$fragile_building <- 0\n",
        "# Parcourir chaque ligne du dataframe et déterminer si le bâtiment est fragile\n",
        "for (i in 1:nrow(test.features)) {\n",
        "  if (test.features[i, \"has_superstructure_adobe_mud\"] == 1 |\n",
        "      test.features[i, \"has_superstructure_mud_mortar_stone\"] == 1 |\n",
        "      test.features[i, \"has_superstructure_mud_mortar_brick\"] == 1) {\n",
        "      test.features[i, \"fragile_building\"] <- 1\n",
        "  }\n",
        "}\n"
      ],
      "metadata": {
        "id": "s6ZFl9V58J8d"
      },
      "execution_count": null,
      "outputs": []
    },
    {
      "cell_type": "code",
      "source": [
        "num_fragile_buildings <- sum(train.features$fragile_building)\n",
        "\n",
        "print(num_fragile_buildings)\n",
        "total_buildings <- nrow(train.features)\n",
        "num_non_fragile_buildings <- total_buildings - num_fragile_buildings\n",
        "print(num_non_fragile_buildings)\n"
      ],
      "metadata": {
        "colab": {
          "base_uri": "https://localhost:8080/"
        },
        "id": "8IhUXSX6Y74u",
        "outputId": "a39e724b-e585-4707-f8da-70d5623f2e96"
      },
      "execution_count": null,
      "outputs": [
        {
          "output_type": "stream",
          "name": "stdout",
          "text": [
            "[1] 222380\n",
            "[1] 38221\n"
          ]
        }
      ]
    },
    {
      "cell_type": "code",
      "source": [
        "num_fragile_buildings <- sum(test.features$fragile_building)\n",
        "\n",
        "print(num_fragile_buildings)\n",
        "total_buildings <- nrow(test.features)\n",
        "num_non_fragile_buildings <- total_buildings - num_fragile_buildings\n",
        "print(num_non_fragile_buildings)"
      ],
      "metadata": {
        "colab": {
          "base_uri": "https://localhost:8080/"
        },
        "id": "wvaXmGQXhJW8",
        "outputId": "2f820571-926b-499b-b6ff-ae5ed772b744"
      },
      "execution_count": null,
      "outputs": [
        {
          "output_type": "stream",
          "name": "stdout",
          "text": [
            "[1] 74184\n",
            "[1] 12684\n"
          ]
        }
      ]
    },
    {
      "cell_type": "code",
      "source": [
        "fragile_data <- data.frame(\n",
        "  Type = c(\"Fragile\", \"Non_Fragile\"),\n",
        "  Count = c(num_fragile_buildings, num_non_fragile_buildings)\n",
        ")\n",
        "\n",
        "ggplot(fragile_data, aes(x = Type, y = Count, fill = Type)) +\n",
        "  geom_bar(stat = \"identity\") +\n",
        "  theme_minimal() +\n",
        "  labs(title = \"Répartition des bâtiments fragiles et non fragiles\",\n",
        "       x = \"Type de bâtiment\",\n",
        "       y = \"Nombre de bâtiments\") +\n",
        "  scale_fill_manual(values = c(\"red\", \"blue\"))\n"
      ],
      "metadata": {
        "colab": {
          "base_uri": "https://localhost:8080/",
          "height": 437
        },
        "id": "YNbvHDd6Zhjf",
        "outputId": "9cb284ed-b787-4828-d699-42b691f6722b"
      },
      "execution_count": null,
      "outputs": [
        {
          "output_type": "display_data",
          "data": {
            "text/plain": [
              "plot without title"
            ],
            "image/png": "[encoded data removed]"
          },
          "metadata": {
            "image/png": {
              "width": 420,
              "height": 420
            }
          }
        }
      ]
    },
    {
      "cell_type": "code",
      "source": [
        "dim(train.features)"
      ],
      "metadata": {
        "colab": {
          "base_uri": "https://localhost:8080/",
          "height": 34
        },
        "id": "1vtAi68E9BS4",
        "outputId": "3b9b29e5-4d3e-43ee-d320-75ae24431100"
      },
      "execution_count": null,
      "outputs": [
        {
          "output_type": "display_data",
          "data": {
            "text/html": [
              "<style>\n",
              ".list-inline {list-style: none; margin:0; padding: 0}\n",
              ".list-inline>li {display: inline-block}\n",
              ".list-inline>li:not(:last-child)::after {content: \"\\00b7\"; padding: 0 .5ex}\n",
              "</style>\n",
              "<ol class=list-inline><li>260601</li><li>39</li></ol>\n"
            ],
            "text/markdown": "1. 260601\n2. 39\n\n\n",
            "text/latex": "\\begin{enumerate*}\n\\item 260601\n\\item 39\n\\end{enumerate*}\n",
            "text/plain": [
              "[1] 260601     39"
            ]
          },
          "metadata": {}
        }
      ]
    },
    {
      "cell_type": "code",
      "source": [
        "# Créer les catégories pour la variable \"age\"\n",
        "train.features$age_category <- cut(train.features$age, \n",
        "                                   breaks = c(-Inf, 10, 50, Inf), \n",
        "                                   labels = c(\"jeune\", \"moyen\", \"ancien\"))\n",
        "\n",
        "# Convertir la variable en facteur\n",
        "train.features$age_category <- as.factor(train.features$age_category)\n",
        "\n",
        "# Créer les catégories pour la variable \"age\"\n",
        "test.features$age_category <- cut(test.features$age, \n",
        "                                   breaks = c(-Inf, 10, 50, Inf), \n",
        "                                   labels = c(\"jeune\", \"moyen\", \"ancien\"))\n",
        "\n",
        "# Convertir la variable en facteur\n",
        "test.features$age_category <- as.factor(test.features$age_category)"
      ],
      "metadata": {
        "id": "YGUOVUiLgEIt"
      },
      "execution_count": null,
      "outputs": []
    },
    {
      "cell_type": "code",
      "source": [],
      "metadata": {
        "id": "8IeG6grLujQe"
      },
      "execution_count": null,
      "outputs": []
    },
    {
      "cell_type": "code",
      "source": [
        "# Créer un diagramme à barres pour visualiser la distribution des catégories d'âge\n",
        "age_bar_plot <- ggplot(train.features, aes(x = age_category)) +\n",
        "  geom_bar() +\n",
        "  xlab(\"Catégorie d'âge\") +\n",
        "  ylab(\"Nombre de bâtiments\") +\n",
        "  ggtitle(\"Distribution des catégories d'âge des bâtiments\")\n",
        "\n",
        "# Afficher le diagramme à barres\n",
        "print(age_bar_plot)\n"
      ],
      "metadata": {
        "colab": {
          "base_uri": "https://localhost:8080/",
          "height": 437
        },
        "id": "e9efCM4IgXze",
        "outputId": "26249c4b-2eca-4b14-be90-42288effcf16"
      },
      "execution_count": null,
      "outputs": [
        {
          "output_type": "display_data",
          "data": {
            "text/plain": [
              "plot without title"
            ],
            "image/png": "[encoded data removed]"
          },
          "metadata": {
            "image/png": {
              "width": 420,
              "height": 420
            }
          }
        }
      ]
    },
    {
      "cell_type": "code",
      "source": [
        "dim(test.features)\n",
        "head(train.features)"
      ],
      "metadata": {
        "colab": {
          "base_uri": "https://localhost:8080/",
          "height": 324
        },
        "id": "LlvN6bgvjvIz",
        "outputId": "9a078da3-bb2e-4a8b-8d7d-bf70df04f3fa"
      },
      "execution_count": null,
      "outputs": [
        {
          "output_type": "display_data",
          "data": {
            "text/html": [
              "<style>\n",
              ".list-inline {list-style: none; margin:0; padding: 0}\n",
              ".list-inline>li {display: inline-block}\n",
              ".list-inline>li:not(:last-child)::after {content: \"\\00b7\"; padding: 0 .5ex}\n",
              "</style>\n",
              "<ol class=list-inline><li>86868</li><li>40</li></ol>\n"
            ],
            "text/markdown": "1. 86868\n2. 40\n\n\n",
            "text/latex": "\\begin{enumerate*}\n\\item 86868\n\\item 40\n\\end{enumerate*}\n",
            "text/plain": [
              "[1] 86868    40"
            ]
          },
          "metadata": {}
        },
        {
          "output_type": "display_data",
          "data": {
            "text/html": [
              "<table class=\"dataframe\">\n",
              "<caption>A data.frame: 6 × 40</caption>\n",
              "<thead>\n",
              "\t<tr><th></th><th scope=col>geo_level_1_id</th><th scope=col>geo_level_2_id</th><th scope=col>geo_level_3_id</th><th scope=col>count_floors_pre_eq</th><th scope=col>age</th><th scope=col>area_percentage</th><th scope=col>height_percentage</th><th scope=col>land_surface_condition</th><th scope=col>foundation_type</th><th scope=col>roof_type</th><th scope=col>⋯</th><th scope=col>has_secondary_use_rental</th><th scope=col>has_secondary_use_institution</th><th scope=col>has_secondary_use_school</th><th scope=col>has_secondary_use_industry</th><th scope=col>has_secondary_use_health_post</th><th scope=col>has_secondary_use_gov_office</th><th scope=col>has_secondary_use_use_police</th><th scope=col>has_secondary_use_other</th><th scope=col>fragile_building</th><th scope=col>age_category</th></tr>\n",
              "\t<tr><th></th><th scope=col>&lt;int&gt;</th><th scope=col>&lt;int&gt;</th><th scope=col>&lt;int&gt;</th><th scope=col>&lt;int&gt;</th><th scope=col>&lt;int&gt;</th><th scope=col>&lt;int&gt;</th><th scope=col>&lt;int&gt;</th><th scope=col>&lt;fct&gt;</th><th scope=col>&lt;fct&gt;</th><th scope=col>&lt;fct&gt;</th><th scope=col>⋯</th><th scope=col>&lt;int&gt;</th><th scope=col>&lt;int&gt;</th><th scope=col>&lt;int&gt;</th><th scope=col>&lt;int&gt;</th><th scope=col>&lt;int&gt;</th><th scope=col>&lt;int&gt;</th><th scope=col>&lt;int&gt;</th><th scope=col>&lt;int&gt;</th><th scope=col>&lt;dbl&gt;</th><th scope=col>&lt;fct&gt;</th></tr>\n",
              "</thead>\n",
              "<tbody>\n",
              "\t<tr><th scope=row>802906</th><td> 6</td><td>487</td><td>12198</td><td>2</td><td>30</td><td>6</td><td>5</td><td>t</td><td>r</td><td>n</td><td>⋯</td><td>0</td><td>0</td><td>0</td><td>0</td><td>0</td><td>0</td><td>0</td><td>0</td><td>1</td><td>moyen</td></tr>\n",
              "\t<tr><th scope=row>28830</th><td> 8</td><td>900</td><td> 2812</td><td>2</td><td>10</td><td>8</td><td>7</td><td>o</td><td>r</td><td>n</td><td>⋯</td><td>0</td><td>0</td><td>0</td><td>0</td><td>0</td><td>0</td><td>0</td><td>0</td><td>1</td><td>jeune</td></tr>\n",
              "\t<tr><th scope=row>94947</th><td>21</td><td>363</td><td> 8973</td><td>2</td><td>10</td><td>5</td><td>5</td><td>t</td><td>r</td><td>n</td><td>⋯</td><td>0</td><td>0</td><td>0</td><td>0</td><td>0</td><td>0</td><td>0</td><td>0</td><td>1</td><td>jeune</td></tr>\n",
              "\t<tr><th scope=row>590882</th><td>22</td><td>418</td><td>10694</td><td>2</td><td>10</td><td>6</td><td>5</td><td>t</td><td>r</td><td>n</td><td>⋯</td><td>0</td><td>0</td><td>0</td><td>0</td><td>0</td><td>0</td><td>0</td><td>0</td><td>1</td><td>jeune</td></tr>\n",
              "\t<tr><th scope=row>201944</th><td>11</td><td>131</td><td> 1488</td><td>3</td><td>30</td><td>8</td><td>9</td><td>t</td><td>r</td><td>n</td><td>⋯</td><td>0</td><td>0</td><td>0</td><td>0</td><td>0</td><td>0</td><td>0</td><td>0</td><td>1</td><td>moyen</td></tr>\n",
              "\t<tr><th scope=row>333020</th><td> 8</td><td>558</td><td> 6089</td><td>2</td><td>10</td><td>9</td><td>5</td><td>t</td><td>r</td><td>n</td><td>⋯</td><td>0</td><td>0</td><td>0</td><td>0</td><td>0</td><td>0</td><td>0</td><td>0</td><td>1</td><td>jeune</td></tr>\n",
              "</tbody>\n",
              "</table>\n"
            ],
            "text/markdown": "\nA data.frame: 6 × 40\n\n| <!--/--> | geo_level_1_id &lt;int&gt; | geo_level_2_id &lt;int&gt; | geo_level_3_id &lt;int&gt; | count_floors_pre_eq &lt;int&gt; | age &lt;int&gt; | area_percentage &lt;int&gt; | height_percentage &lt;int&gt; | land_surface_condition &lt;fct&gt; | foundation_type &lt;fct&gt; | roof_type &lt;fct&gt; | ⋯ ⋯ | has_secondary_use_rental &lt;int&gt; | has_secondary_use_institution &lt;int&gt; | has_secondary_use_school &lt;int&gt; | has_secondary_use_industry &lt;int&gt; | has_secondary_use_health_post &lt;int&gt; | has_secondary_use_gov_office &lt;int&gt; | has_secondary_use_use_police &lt;int&gt; | has_secondary_use_other &lt;int&gt; | fragile_building &lt;dbl&gt; | age_category &lt;fct&gt; |\n|---|---|---|---|---|---|---|---|---|---|---|---|---|---|---|---|---|---|---|---|---|---|\n| 802906 |  6 | 487 | 12198 | 2 | 30 | 6 | 5 | t | r | n | ⋯ | 0 | 0 | 0 | 0 | 0 | 0 | 0 | 0 | 1 | moyen |\n| 28830 |  8 | 900 |  2812 | 2 | 10 | 8 | 7 | o | r | n | ⋯ | 0 | 0 | 0 | 0 | 0 | 0 | 0 | 0 | 1 | jeune |\n| 94947 | 21 | 363 |  8973 | 2 | 10 | 5 | 5 | t | r | n | ⋯ | 0 | 0 | 0 | 0 | 0 | 0 | 0 | 0 | 1 | jeune |\n| 590882 | 22 | 418 | 10694 | 2 | 10 | 6 | 5 | t | r | n | ⋯ | 0 | 0 | 0 | 0 | 0 | 0 | 0 | 0 | 1 | jeune |\n| 201944 | 11 | 131 |  1488 | 3 | 30 | 8 | 9 | t | r | n | ⋯ | 0 | 0 | 0 | 0 | 0 | 0 | 0 | 0 | 1 | moyen |\n| 333020 |  8 | 558 |  6089 | 2 | 10 | 9 | 5 | t | r | n | ⋯ | 0 | 0 | 0 | 0 | 0 | 0 | 0 | 0 | 1 | jeune |\n\n",
            "text/latex": "A data.frame: 6 × 40\n\\begin{tabular}{r|lllllllllllllllllllll}\n  & geo\\_level\\_1\\_id & geo\\_level\\_2\\_id & geo\\_level\\_3\\_id & count\\_floors\\_pre\\_eq & age & area\\_percentage & height\\_percentage & land\\_surface\\_condition & foundation\\_type & roof\\_type & ⋯ & has\\_secondary\\_use\\_rental & has\\_secondary\\_use\\_institution & has\\_secondary\\_use\\_school & has\\_secondary\\_use\\_industry & has\\_secondary\\_use\\_health\\_post & has\\_secondary\\_use\\_gov\\_office & has\\_secondary\\_use\\_use\\_police & has\\_secondary\\_use\\_other & fragile\\_building & age\\_category\\\\\n  & <int> & <int> & <int> & <int> & <int> & <int> & <int> & <fct> & <fct> & <fct> & ⋯ & <int> & <int> & <int> & <int> & <int> & <int> & <int> & <int> & <dbl> & <fct>\\\\\n\\hline\n\t802906 &  6 & 487 & 12198 & 2 & 30 & 6 & 5 & t & r & n & ⋯ & 0 & 0 & 0 & 0 & 0 & 0 & 0 & 0 & 1 & moyen\\\\\n\t28830 &  8 & 900 &  2812 & 2 & 10 & 8 & 7 & o & r & n & ⋯ & 0 & 0 & 0 & 0 & 0 & 0 & 0 & 0 & 1 & jeune\\\\\n\t94947 & 21 & 363 &  8973 & 2 & 10 & 5 & 5 & t & r & n & ⋯ & 0 & 0 & 0 & 0 & 0 & 0 & 0 & 0 & 1 & jeune\\\\\n\t590882 & 22 & 418 & 10694 & 2 & 10 & 6 & 5 & t & r & n & ⋯ & 0 & 0 & 0 & 0 & 0 & 0 & 0 & 0 & 1 & jeune\\\\\n\t201944 & 11 & 131 &  1488 & 3 & 30 & 8 & 9 & t & r & n & ⋯ & 0 & 0 & 0 & 0 & 0 & 0 & 0 & 0 & 1 & moyen\\\\\n\t333020 &  8 & 558 &  6089 & 2 & 10 & 9 & 5 & t & r & n & ⋯ & 0 & 0 & 0 & 0 & 0 & 0 & 0 & 0 & 1 & jeune\\\\\n\\end{tabular}\n",
            "text/plain": [
              "       geo_level_1_id geo_level_2_id geo_level_3_id count_floors_pre_eq age\n",
              "802906  6             487            12198          2                   30 \n",
              "28830   8             900             2812          2                   10 \n",
              "94947  21             363             8973          2                   10 \n",
              "590882 22             418            10694          2                   10 \n",
              "201944 11             131             1488          3                   30 \n",
              "333020  8             558             6089          2                   10 \n",
              "       area_percentage height_percentage land_surface_condition foundation_type\n",
              "802906 6               5                 t                      r              \n",
              "28830  8               7                 o                      r              \n",
              "94947  5               5                 t                      r              \n",
              "590882 6               5                 t                      r              \n",
              "201944 8               9                 t                      r              \n",
              "333020 9               5                 t                      r              \n",
              "       roof_type ⋯ has_secondary_use_rental has_secondary_use_institution\n",
              "802906 n         ⋯ 0                        0                            \n",
              "28830  n         ⋯ 0                        0                            \n",
              "94947  n         ⋯ 0                        0                            \n",
              "590882 n         ⋯ 0                        0                            \n",
              "201944 n         ⋯ 0                        0                            \n",
              "333020 n         ⋯ 0                        0                            \n",
              "       has_secondary_use_school has_secondary_use_industry\n",
              "802906 0                        0                         \n",
              "28830  0                        0                         \n",
              "94947  0                        0                         \n",
              "590882 0                        0                         \n",
              "201944 0                        0                         \n",
              "333020 0                        0                         \n",
              "       has_secondary_use_health_post has_secondary_use_gov_office\n",
              "802906 0                             0                           \n",
              "28830  0                             0                           \n",
              "94947  0                             0                           \n",
              "590882 0                             0                           \n",
              "201944 0                             0                           \n",
              "333020 0                             0                           \n",
              "       has_secondary_use_use_police has_secondary_use_other fragile_building\n",
              "802906 0                            0                       1               \n",
              "28830  0                            0                       1               \n",
              "94947  0                            0                       1               \n",
              "590882 0                            0                       1               \n",
              "201944 0                            0                       1               \n",
              "333020 0                            0                       1               \n",
              "       age_category\n",
              "802906 moyen       \n",
              "28830  jeune       \n",
              "94947  jeune       \n",
              "590882 jeune       \n",
              "201944 moyen       \n",
              "333020 jeune       "
            ]
          },
          "metadata": {}
        }
      ]
    },
    {
      "cell_type": "code",
      "source": [
        "\n",
        "head(test.features)\n"
      ],
      "metadata": {
        "colab": {
          "base_uri": "https://localhost:8080/",
          "height": 306
        },
        "id": "QLV4k9rP-IrE",
        "outputId": "ed5803ef-4eea-4ca1-a6a6-a65ce709ba70"
      },
      "execution_count": null,
      "outputs": [
        {
          "output_type": "display_data",
          "data": {
            "text/html": [
              "<table class=\"dataframe\">\n",
              "<caption>A data.frame: 6 × 40</caption>\n",
              "<thead>\n",
              "\t<tr><th></th><th scope=col>geo_level_1_id</th><th scope=col>geo_level_2_id</th><th scope=col>geo_level_3_id</th><th scope=col>count_floors_pre_eq</th><th scope=col>age</th><th scope=col>area_percentage</th><th scope=col>height_percentage</th><th scope=col>land_surface_condition</th><th scope=col>foundation_type</th><th scope=col>roof_type</th><th scope=col>⋯</th><th scope=col>has_secondary_use_rental</th><th scope=col>has_secondary_use_institution</th><th scope=col>has_secondary_use_school</th><th scope=col>has_secondary_use_industry</th><th scope=col>has_secondary_use_health_post</th><th scope=col>has_secondary_use_gov_office</th><th scope=col>has_secondary_use_use_police</th><th scope=col>has_secondary_use_other</th><th scope=col>fragile_building</th><th scope=col>age_category</th></tr>\n",
              "\t<tr><th></th><th scope=col>&lt;int&gt;</th><th scope=col>&lt;int&gt;</th><th scope=col>&lt;int&gt;</th><th scope=col>&lt;int&gt;</th><th scope=col>&lt;int&gt;</th><th scope=col>&lt;int&gt;</th><th scope=col>&lt;int&gt;</th><th scope=col>&lt;fct&gt;</th><th scope=col>&lt;fct&gt;</th><th scope=col>&lt;fct&gt;</th><th scope=col>⋯</th><th scope=col>&lt;int&gt;</th><th scope=col>&lt;int&gt;</th><th scope=col>&lt;int&gt;</th><th scope=col>&lt;int&gt;</th><th scope=col>&lt;int&gt;</th><th scope=col>&lt;int&gt;</th><th scope=col>&lt;int&gt;</th><th scope=col>&lt;int&gt;</th><th scope=col>&lt;dbl&gt;</th><th scope=col>&lt;fct&gt;</th></tr>\n",
              "</thead>\n",
              "<tbody>\n",
              "\t<tr><th scope=row>300051</th><td>17</td><td>596</td><td>11307</td><td>3</td><td>20</td><td> 7</td><td>6</td><td>t</td><td>r</td><td>n</td><td>⋯</td><td>0</td><td>0</td><td>0</td><td>0</td><td>0</td><td>0</td><td>0</td><td>0</td><td>1</td><td>moyen </td></tr>\n",
              "\t<tr><th scope=row>99355</th><td> 6</td><td>141</td><td>11987</td><td>2</td><td>25</td><td>13</td><td>5</td><td>t</td><td>r</td><td>n</td><td>⋯</td><td>0</td><td>0</td><td>0</td><td>0</td><td>0</td><td>0</td><td>0</td><td>0</td><td>1</td><td>moyen </td></tr>\n",
              "\t<tr><th scope=row>890251</th><td>22</td><td> 19</td><td>10044</td><td>2</td><td> 5</td><td> 4</td><td>5</td><td>t</td><td>r</td><td>n</td><td>⋯</td><td>0</td><td>0</td><td>0</td><td>0</td><td>0</td><td>0</td><td>0</td><td>0</td><td>1</td><td>jeune </td></tr>\n",
              "\t<tr><th scope=row>745817</th><td>26</td><td> 39</td><td>  633</td><td>1</td><td> 0</td><td>19</td><td>3</td><td>t</td><td>r</td><td>x</td><td>⋯</td><td>1</td><td>0</td><td>0</td><td>0</td><td>0</td><td>0</td><td>0</td><td>0</td><td>0</td><td>jeune </td></tr>\n",
              "\t<tr><th scope=row>421793</th><td>17</td><td>289</td><td> 7970</td><td>3</td><td>15</td><td> 8</td><td>7</td><td>t</td><td>r</td><td>q</td><td>⋯</td><td>0</td><td>0</td><td>0</td><td>0</td><td>0</td><td>0</td><td>0</td><td>0</td><td>1</td><td>moyen </td></tr>\n",
              "\t<tr><th scope=row>871976</th><td>22</td><td>170</td><td> 4029</td><td>1</td><td>55</td><td> 4</td><td>3</td><td>t</td><td>r</td><td>q</td><td>⋯</td><td>0</td><td>0</td><td>0</td><td>0</td><td>0</td><td>0</td><td>0</td><td>0</td><td>1</td><td>ancien</td></tr>\n",
              "</tbody>\n",
              "</table>\n"
            ],
            "text/markdown": "\nA data.frame: 6 × 40\n\n| <!--/--> | geo_level_1_id &lt;int&gt; | geo_level_2_id &lt;int&gt; | geo_level_3_id &lt;int&gt; | count_floors_pre_eq &lt;int&gt; | age &lt;int&gt; | area_percentage &lt;int&gt; | height_percentage &lt;int&gt; | land_surface_condition &lt;fct&gt; | foundation_type &lt;fct&gt; | roof_type &lt;fct&gt; | ⋯ ⋯ | has_secondary_use_rental &lt;int&gt; | has_secondary_use_institution &lt;int&gt; | has_secondary_use_school &lt;int&gt; | has_secondary_use_industry &lt;int&gt; | has_secondary_use_health_post &lt;int&gt; | has_secondary_use_gov_office &lt;int&gt; | has_secondary_use_use_police &lt;int&gt; | has_secondary_use_other &lt;int&gt; | fragile_building &lt;dbl&gt; | age_category &lt;fct&gt; |\n|---|---|---|---|---|---|---|---|---|---|---|---|---|---|---|---|---|---|---|---|---|---|\n| 300051 | 17 | 596 | 11307 | 3 | 20 |  7 | 6 | t | r | n | ⋯ | 0 | 0 | 0 | 0 | 0 | 0 | 0 | 0 | 1 | moyen  |\n| 99355 |  6 | 141 | 11987 | 2 | 25 | 13 | 5 | t | r | n | ⋯ | 0 | 0 | 0 | 0 | 0 | 0 | 0 | 0 | 1 | moyen  |\n| 890251 | 22 |  19 | 10044 | 2 |  5 |  4 | 5 | t | r | n | ⋯ | 0 | 0 | 0 | 0 | 0 | 0 | 0 | 0 | 1 | jeune  |\n| 745817 | 26 |  39 |   633 | 1 |  0 | 19 | 3 | t | r | x | ⋯ | 1 | 0 | 0 | 0 | 0 | 0 | 0 | 0 | 0 | jeune  |\n| 421793 | 17 | 289 |  7970 | 3 | 15 |  8 | 7 | t | r | q | ⋯ | 0 | 0 | 0 | 0 | 0 | 0 | 0 | 0 | 1 | moyen  |\n| 871976 | 22 | 170 |  4029 | 1 | 55 |  4 | 3 | t | r | q | ⋯ | 0 | 0 | 0 | 0 | 0 | 0 | 0 | 0 | 1 | ancien |\n\n",
            "text/latex": "A data.frame: 6 × 40\n\\begin{tabular}{r|lllllllllllllllllllll}\n  & geo\\_level\\_1\\_id & geo\\_level\\_2\\_id & geo\\_level\\_3\\_id & count\\_floors\\_pre\\_eq & age & area\\_percentage & height\\_percentage & land\\_surface\\_condition & foundation\\_type & roof\\_type & ⋯ & has\\_secondary\\_use\\_rental & has\\_secondary\\_use\\_institution & has\\_secondary\\_use\\_school & has\\_secondary\\_use\\_industry & has\\_secondary\\_use\\_health\\_post & has\\_secondary\\_use\\_gov\\_office & has\\_secondary\\_use\\_use\\_police & has\\_secondary\\_use\\_other & fragile\\_building & age\\_category\\\\\n  & <int> & <int> & <int> & <int> & <int> & <int> & <int> & <fct> & <fct> & <fct> & ⋯ & <int> & <int> & <int> & <int> & <int> & <int> & <int> & <int> & <dbl> & <fct>\\\\\n\\hline\n\t300051 & 17 & 596 & 11307 & 3 & 20 &  7 & 6 & t & r & n & ⋯ & 0 & 0 & 0 & 0 & 0 & 0 & 0 & 0 & 1 & moyen \\\\\n\t99355 &  6 & 141 & 11987 & 2 & 25 & 13 & 5 & t & r & n & ⋯ & 0 & 0 & 0 & 0 & 0 & 0 & 0 & 0 & 1 & moyen \\\\\n\t890251 & 22 &  19 & 10044 & 2 &  5 &  4 & 5 & t & r & n & ⋯ & 0 & 0 & 0 & 0 & 0 & 0 & 0 & 0 & 1 & jeune \\\\\n\t745817 & 26 &  39 &   633 & 1 &  0 & 19 & 3 & t & r & x & ⋯ & 1 & 0 & 0 & 0 & 0 & 0 & 0 & 0 & 0 & jeune \\\\\n\t421793 & 17 & 289 &  7970 & 3 & 15 &  8 & 7 & t & r & q & ⋯ & 0 & 0 & 0 & 0 & 0 & 0 & 0 & 0 & 1 & moyen \\\\\n\t871976 & 22 & 170 &  4029 & 1 & 55 &  4 & 3 & t & r & q & ⋯ & 0 & 0 & 0 & 0 & 0 & 0 & 0 & 0 & 1 & ancien\\\\\n\\end{tabular}\n",
            "text/plain": [
              "       geo_level_1_id geo_level_2_id geo_level_3_id count_floors_pre_eq age\n",
              "300051 17             596            11307          3                   20 \n",
              "99355   6             141            11987          2                   25 \n",
              "890251 22              19            10044          2                    5 \n",
              "745817 26              39              633          1                    0 \n",
              "421793 17             289             7970          3                   15 \n",
              "871976 22             170             4029          1                   55 \n",
              "       area_percentage height_percentage land_surface_condition foundation_type\n",
              "300051  7              6                 t                      r              \n",
              "99355  13              5                 t                      r              \n",
              "890251  4              5                 t                      r              \n",
              "745817 19              3                 t                      r              \n",
              "421793  8              7                 t                      r              \n",
              "871976  4              3                 t                      r              \n",
              "       roof_type ⋯ has_secondary_use_rental has_secondary_use_institution\n",
              "300051 n         ⋯ 0                        0                            \n",
              "99355  n         ⋯ 0                        0                            \n",
              "890251 n         ⋯ 0                        0                            \n",
              "745817 x         ⋯ 1                        0                            \n",
              "421793 q         ⋯ 0                        0                            \n",
              "871976 q         ⋯ 0                        0                            \n",
              "       has_secondary_use_school has_secondary_use_industry\n",
              "300051 0                        0                         \n",
              "99355  0                        0                         \n",
              "890251 0                        0                         \n",
              "745817 0                        0                         \n",
              "421793 0                        0                         \n",
              "871976 0                        0                         \n",
              "       has_secondary_use_health_post has_secondary_use_gov_office\n",
              "300051 0                             0                           \n",
              "99355  0                             0                           \n",
              "890251 0                             0                           \n",
              "745817 0                             0                           \n",
              "421793 0                             0                           \n",
              "871976 0                             0                           \n",
              "       has_secondary_use_use_police has_secondary_use_other fragile_building\n",
              "300051 0                            0                       1               \n",
              "99355  0                            0                       1               \n",
              "890251 0                            0                       1               \n",
              "745817 0                            0                       0               \n",
              "421793 0                            0                       1               \n",
              "871976 0                            0                       1               \n",
              "       age_category\n",
              "300051 moyen       \n",
              "99355  moyen       \n",
              "890251 jeune       \n",
              "745817 jeune       \n",
              "421793 moyen       \n",
              "871976 ancien      "
            ]
          },
          "metadata": {}
        }
      ]
    },
    {
      "cell_type": "code",
      "source": [
        "onehot_encoding <- function(df) {\n",
        "  for (colname in colnames(df)) {\n",
        "    if (class(df[[colname]]) == \"factor\") {\n",
        "      cat(\"Encodage one-hot pour la colonne\", colname, \"\\n\")\n",
        "      dummy_cols <- model.matrix(~ df[[colname]] - 1) # Créer des colonnes binaires\n",
        "      colnames(dummy_cols) <- paste(colname, levels(df[[colname]]), sep=\"_\") # Renommer les colonnes\n",
        "      df <- cbind(df, dummy_cols) # Ajouter les colonnes binaires au dataframe\n",
        "      df[[colname]] <- NULL # Supprimer la colonne catégorielle originale\n",
        "    }\n",
        "  }\n",
        "  return(df)\n",
        "}\n",
        "\n"
      ],
      "metadata": {
        "id": "-vK4wA74_VBN"
      },
      "execution_count": null,
      "outputs": []
    },
    {
      "cell_type": "code",
      "source": [
        "encoded_train_features <- onehot_encoding(train.features)\n",
        "encoded_test_features <- onehot_encoding(test.features)\n"
      ],
      "metadata": {
        "colab": {
          "base_uri": "https://localhost:8080/"
        },
        "id": "7UoN_U7dAS1E",
        "outputId": "0766fd6a-d535-41aa-d167-8c1d414b3f5e"
      },
      "execution_count": null,
      "outputs": [
        {
          "output_type": "stream",
          "name": "stdout",
          "text": [
            "Encodage one-hot pour la colonne land_surface_condition \n",
            "Encodage one-hot pour la colonne foundation_type \n",
            "Encodage one-hot pour la colonne roof_type \n",
            "Encodage one-hot pour la colonne ground_floor_type \n",
            "Encodage one-hot pour la colonne other_floor_type \n",
            "Encodage one-hot pour la colonne position \n",
            "Encodage one-hot pour la colonne plan_configuration \n",
            "Encodage one-hot pour la colonne legal_ownership_status \n",
            "Encodage one-hot pour la colonne age_category \n",
            "Encodage one-hot pour la colonne land_surface_condition \n",
            "Encodage one-hot pour la colonne foundation_type \n",
            "Encodage one-hot pour la colonne roof_type \n",
            "Encodage one-hot pour la colonne ground_floor_type \n",
            "Encodage one-hot pour la colonne other_floor_type \n",
            "Encodage one-hot pour la colonne position \n",
            "Encodage one-hot pour la colonne plan_configuration \n",
            "Encodage one-hot pour la colonne legal_ownership_status \n",
            "Encodage one-hot pour la colonne age_category \n"
          ]
        }
      ]
    },
    {
      "cell_type": "code",
      "source": [
        "dim(encoded_train_features)"
      ],
      "metadata": {
        "colab": {
          "base_uri": "https://localhost:8080/",
          "height": 34
        },
        "id": "1e7JPQwVAp5q",
        "outputId": "a60eea02-9e5e-4d66-ef97-b578078d6e1b"
      },
      "execution_count": null,
      "outputs": [
        {
          "output_type": "display_data",
          "data": {
            "text/html": [
              "<style>\n",
              ".list-inline {list-style: none; margin:0; padding: 0}\n",
              ".list-inline>li {display: inline-block}\n",
              ".list-inline>li:not(:last-child)::after {content: \"\\00b7\"; padding: 0 .5ex}\n",
              "</style>\n",
              "<ol class=list-inline><li>260601</li><li>72</li></ol>\n"
            ],
            "text/markdown": "1. 260601\n2. 72\n\n\n",
            "text/latex": "\\begin{enumerate*}\n\\item 260601\n\\item 72\n\\end{enumerate*}\n",
            "text/plain": [
              "[1] 260601     72"
            ]
          },
          "metadata": {}
        }
      ]
    },
    {
      "cell_type": "code",
      "source": [
        "head(encoded_train_features)"
      ],
      "metadata": {
        "id": "gRupNbosfS6n",
        "colab": {
          "base_uri": "https://localhost:8080/",
          "height": 306
        },
        "outputId": "fd029c55-2857-4623-e1ca-bab714715ca4"
      },
      "execution_count": null,
      "outputs": [
        {
          "output_type": "display_data",
          "data": {
            "text/html": [
              "<table class=\"dataframe\">\n",
              "<caption>A data.frame: 6 × 72</caption>\n",
              "<thead>\n",
              "\t<tr><th></th><th scope=col>geo_level_1_id</th><th scope=col>geo_level_2_id</th><th scope=col>geo_level_3_id</th><th scope=col>count_floors_pre_eq</th><th scope=col>age</th><th scope=col>area_percentage</th><th scope=col>height_percentage</th><th scope=col>has_superstructure_adobe_mud</th><th scope=col>has_superstructure_mud_mortar_stone</th><th scope=col>has_superstructure_stone_flag</th><th scope=col>⋯</th><th scope=col>plan_configuration_q</th><th scope=col>plan_configuration_s</th><th scope=col>plan_configuration_u</th><th scope=col>legal_ownership_status_a</th><th scope=col>legal_ownership_status_r</th><th scope=col>legal_ownership_status_v</th><th scope=col>legal_ownership_status_w</th><th scope=col>age_category_jeune</th><th scope=col>age_category_moyen</th><th scope=col>age_category_ancien</th></tr>\n",
              "\t<tr><th></th><th scope=col>&lt;int&gt;</th><th scope=col>&lt;int&gt;</th><th scope=col>&lt;int&gt;</th><th scope=col>&lt;int&gt;</th><th scope=col>&lt;int&gt;</th><th scope=col>&lt;int&gt;</th><th scope=col>&lt;int&gt;</th><th scope=col>&lt;int&gt;</th><th scope=col>&lt;int&gt;</th><th scope=col>&lt;int&gt;</th><th scope=col>⋯</th><th scope=col>&lt;dbl&gt;</th><th scope=col>&lt;dbl&gt;</th><th scope=col>&lt;dbl&gt;</th><th scope=col>&lt;dbl&gt;</th><th scope=col>&lt;dbl&gt;</th><th scope=col>&lt;dbl&gt;</th><th scope=col>&lt;dbl&gt;</th><th scope=col>&lt;dbl&gt;</th><th scope=col>&lt;dbl&gt;</th><th scope=col>&lt;dbl&gt;</th></tr>\n",
              "</thead>\n",
              "<tbody>\n",
              "\t<tr><th scope=row>802906</th><td> 6</td><td>487</td><td>12198</td><td>2</td><td>30</td><td>6</td><td>5</td><td>1</td><td>1</td><td>0</td><td>⋯</td><td>0</td><td>0</td><td>0</td><td>0</td><td>0</td><td>1</td><td>0</td><td>0</td><td>1</td><td>0</td></tr>\n",
              "\t<tr><th scope=row>28830</th><td> 8</td><td>900</td><td> 2812</td><td>2</td><td>10</td><td>8</td><td>7</td><td>0</td><td>1</td><td>0</td><td>⋯</td><td>0</td><td>0</td><td>0</td><td>0</td><td>0</td><td>1</td><td>0</td><td>1</td><td>0</td><td>0</td></tr>\n",
              "\t<tr><th scope=row>94947</th><td>21</td><td>363</td><td> 8973</td><td>2</td><td>10</td><td>5</td><td>5</td><td>0</td><td>1</td><td>0</td><td>⋯</td><td>0</td><td>0</td><td>0</td><td>0</td><td>0</td><td>1</td><td>0</td><td>1</td><td>0</td><td>0</td></tr>\n",
              "\t<tr><th scope=row>590882</th><td>22</td><td>418</td><td>10694</td><td>2</td><td>10</td><td>6</td><td>5</td><td>0</td><td>1</td><td>0</td><td>⋯</td><td>0</td><td>0</td><td>0</td><td>0</td><td>0</td><td>1</td><td>0</td><td>1</td><td>0</td><td>0</td></tr>\n",
              "\t<tr><th scope=row>201944</th><td>11</td><td>131</td><td> 1488</td><td>3</td><td>30</td><td>8</td><td>9</td><td>1</td><td>0</td><td>0</td><td>⋯</td><td>0</td><td>0</td><td>0</td><td>0</td><td>0</td><td>1</td><td>0</td><td>0</td><td>1</td><td>0</td></tr>\n",
              "\t<tr><th scope=row>333020</th><td> 8</td><td>558</td><td> 6089</td><td>2</td><td>10</td><td>9</td><td>5</td><td>0</td><td>1</td><td>0</td><td>⋯</td><td>0</td><td>0</td><td>0</td><td>0</td><td>0</td><td>1</td><td>0</td><td>1</td><td>0</td><td>0</td></tr>\n",
              "</tbody>\n",
              "</table>\n"
            ],
            "text/markdown": "\nA data.frame: 6 × 72\n\n| <!--/--> | geo_level_1_id &lt;int&gt; | geo_level_2_id &lt;int&gt; | geo_level_3_id &lt;int&gt; | count_floors_pre_eq &lt;int&gt; | age &lt;int&gt; | area_percentage &lt;int&gt; | height_percentage &lt;int&gt; | has_superstructure_adobe_mud &lt;int&gt; | has_superstructure_mud_mortar_stone &lt;int&gt; | has_superstructure_stone_flag &lt;int&gt; | ⋯ ⋯ | plan_configuration_q &lt;dbl&gt; | plan_configuration_s &lt;dbl&gt; | plan_configuration_u &lt;dbl&gt; | legal_ownership_status_a &lt;dbl&gt; | legal_ownership_status_r &lt;dbl&gt; | legal_ownership_status_v &lt;dbl&gt; | legal_ownership_status_w &lt;dbl&gt; | age_category_jeune &lt;dbl&gt; | age_category_moyen &lt;dbl&gt; | age_category_ancien &lt;dbl&gt; |\n|---|---|---|---|---|---|---|---|---|---|---|---|---|---|---|---|---|---|---|---|---|---|\n| 802906 |  6 | 487 | 12198 | 2 | 30 | 6 | 5 | 1 | 1 | 0 | ⋯ | 0 | 0 | 0 | 0 | 0 | 1 | 0 | 0 | 1 | 0 |\n| 28830 |  8 | 900 |  2812 | 2 | 10 | 8 | 7 | 0 | 1 | 0 | ⋯ | 0 | 0 | 0 | 0 | 0 | 1 | 0 | 1 | 0 | 0 |\n| 94947 | 21 | 363 |  8973 | 2 | 10 | 5 | 5 | 0 | 1 | 0 | ⋯ | 0 | 0 | 0 | 0 | 0 | 1 | 0 | 1 | 0 | 0 |\n| 590882 | 22 | 418 | 10694 | 2 | 10 | 6 | 5 | 0 | 1 | 0 | ⋯ | 0 | 0 | 0 | 0 | 0 | 1 | 0 | 1 | 0 | 0 |\n| 201944 | 11 | 131 |  1488 | 3 | 30 | 8 | 9 | 1 | 0 | 0 | ⋯ | 0 | 0 | 0 | 0 | 0 | 1 | 0 | 0 | 1 | 0 |\n| 333020 |  8 | 558 |  6089 | 2 | 10 | 9 | 5 | 0 | 1 | 0 | ⋯ | 0 | 0 | 0 | 0 | 0 | 1 | 0 | 1 | 0 | 0 |\n\n",
            "text/latex": "A data.frame: 6 × 72\n\\begin{tabular}{r|lllllllllllllllllllll}\n  & geo\\_level\\_1\\_id & geo\\_level\\_2\\_id & geo\\_level\\_3\\_id & count\\_floors\\_pre\\_eq & age & area\\_percentage & height\\_percentage & has\\_superstructure\\_adobe\\_mud & has\\_superstructure\\_mud\\_mortar\\_stone & has\\_superstructure\\_stone\\_flag & ⋯ & plan\\_configuration\\_q & plan\\_configuration\\_s & plan\\_configuration\\_u & legal\\_ownership\\_status\\_a & legal\\_ownership\\_status\\_r & legal\\_ownership\\_status\\_v & legal\\_ownership\\_status\\_w & age\\_category\\_jeune & age\\_category\\_moyen & age\\_category\\_ancien\\\\\n  & <int> & <int> & <int> & <int> & <int> & <int> & <int> & <int> & <int> & <int> & ⋯ & <dbl> & <dbl> & <dbl> & <dbl> & <dbl> & <dbl> & <dbl> & <dbl> & <dbl> & <dbl>\\\\\n\\hline\n\t802906 &  6 & 487 & 12198 & 2 & 30 & 6 & 5 & 1 & 1 & 0 & ⋯ & 0 & 0 & 0 & 0 & 0 & 1 & 0 & 0 & 1 & 0\\\\\n\t28830 &  8 & 900 &  2812 & 2 & 10 & 8 & 7 & 0 & 1 & 0 & ⋯ & 0 & 0 & 0 & 0 & 0 & 1 & 0 & 1 & 0 & 0\\\\\n\t94947 & 21 & 363 &  8973 & 2 & 10 & 5 & 5 & 0 & 1 & 0 & ⋯ & 0 & 0 & 0 & 0 & 0 & 1 & 0 & 1 & 0 & 0\\\\\n\t590882 & 22 & 418 & 10694 & 2 & 10 & 6 & 5 & 0 & 1 & 0 & ⋯ & 0 & 0 & 0 & 0 & 0 & 1 & 0 & 1 & 0 & 0\\\\\n\t201944 & 11 & 131 &  1488 & 3 & 30 & 8 & 9 & 1 & 0 & 0 & ⋯ & 0 & 0 & 0 & 0 & 0 & 1 & 0 & 0 & 1 & 0\\\\\n\t333020 &  8 & 558 &  6089 & 2 & 10 & 9 & 5 & 0 & 1 & 0 & ⋯ & 0 & 0 & 0 & 0 & 0 & 1 & 0 & 1 & 0 & 0\\\\\n\\end{tabular}\n",
            "text/plain": [
              "       geo_level_1_id geo_level_2_id geo_level_3_id count_floors_pre_eq age\n",
              "802906  6             487            12198          2                   30 \n",
              "28830   8             900             2812          2                   10 \n",
              "94947  21             363             8973          2                   10 \n",
              "590882 22             418            10694          2                   10 \n",
              "201944 11             131             1488          3                   30 \n",
              "333020  8             558             6089          2                   10 \n",
              "       area_percentage height_percentage has_superstructure_adobe_mud\n",
              "802906 6               5                 1                           \n",
              "28830  8               7                 0                           \n",
              "94947  5               5                 0                           \n",
              "590882 6               5                 0                           \n",
              "201944 8               9                 1                           \n",
              "333020 9               5                 0                           \n",
              "       has_superstructure_mud_mortar_stone has_superstructure_stone_flag ⋯\n",
              "802906 1                                   0                             ⋯\n",
              "28830  1                                   0                             ⋯\n",
              "94947  1                                   0                             ⋯\n",
              "590882 1                                   0                             ⋯\n",
              "201944 0                                   0                             ⋯\n",
              "333020 1                                   0                             ⋯\n",
              "       plan_configuration_q plan_configuration_s plan_configuration_u\n",
              "802906 0                    0                    0                   \n",
              "28830  0                    0                    0                   \n",
              "94947  0                    0                    0                   \n",
              "590882 0                    0                    0                   \n",
              "201944 0                    0                    0                   \n",
              "333020 0                    0                    0                   \n",
              "       legal_ownership_status_a legal_ownership_status_r\n",
              "802906 0                        0                       \n",
              "28830  0                        0                       \n",
              "94947  0                        0                       \n",
              "590882 0                        0                       \n",
              "201944 0                        0                       \n",
              "333020 0                        0                       \n",
              "       legal_ownership_status_v legal_ownership_status_w age_category_jeune\n",
              "802906 1                        0                        0                 \n",
              "28830  1                        0                        1                 \n",
              "94947  1                        0                        1                 \n",
              "590882 1                        0                        1                 \n",
              "201944 1                        0                        0                 \n",
              "333020 1                        0                        1                 \n",
              "       age_category_moyen age_category_ancien\n",
              "802906 1                  0                  \n",
              "28830  0                  0                  \n",
              "94947  0                  0                  \n",
              "590882 0                  0                  \n",
              "201944 1                  0                  \n",
              "333020 0                  0                  "
            ]
          },
          "metadata": {}
        }
      ]
    },
    {
      "cell_type": "code",
      "source": [],
      "metadata": {
        "id": "gFsZO10xfS8E"
      },
      "execution_count": null,
      "outputs": []
    },
    {
      "cell_type": "code",
      "source": [
        "summary(encoded_train_features)"
      ],
      "metadata": {
        "id": "Z8Sg2MSuW1qz",
        "colab": {
          "base_uri": "https://localhost:8080/",
          "height": 1000
        },
        "outputId": "e0e3bbd6-2e28-4dd9-c619-18130ac7cc08"
      },
      "execution_count": null,
      "outputs": [
        {
          "output_type": "display_data",
          "data": {
            "text/plain": [
              " geo_level_1_id geo_level_2_id   geo_level_3_id  count_floors_pre_eq\n",
              " Min.   : 0.0   Min.   :   0.0   Min.   :    0   Min.   :1.00       \n",
              " 1st Qu.: 7.0   1st Qu.: 350.0   1st Qu.: 3073   1st Qu.:2.00       \n",
              " Median :12.0   Median : 702.0   Median : 6270   Median :2.00       \n",
              " Mean   :13.9   Mean   : 701.1   Mean   : 6258   Mean   :2.13       \n",
              " 3rd Qu.:21.0   3rd Qu.:1050.0   3rd Qu.: 9412   3rd Qu.:2.00       \n",
              " Max.   :30.0   Max.   :1427.0   Max.   :12567   Max.   :9.00       \n",
              "      age         area_percentage   height_percentage\n",
              " Min.   :  0.00   Min.   :  1.000   Min.   : 2.000   \n",
              " 1st Qu.: 10.00   1st Qu.:  5.000   1st Qu.: 4.000   \n",
              " Median : 15.00   Median :  7.000   Median : 5.000   \n",
              " Mean   : 26.54   Mean   :  8.018   Mean   : 5.434   \n",
              " 3rd Qu.: 30.00   3rd Qu.:  9.000   3rd Qu.: 6.000   \n",
              " Max.   :995.00   Max.   :100.000   Max.   :32.000   \n",
              " has_superstructure_adobe_mud has_superstructure_mud_mortar_stone\n",
              " Min.   :0.00000              Min.   :0.0000                     \n",
              " 1st Qu.:0.00000              1st Qu.:1.0000                     \n",
              " Median :0.00000              Median :1.0000                     \n",
              " Mean   :0.08865              Mean   :0.7619                     \n",
              " 3rd Qu.:0.00000              3rd Qu.:1.0000                     \n",
              " Max.   :1.00000              Max.   :1.0000                     \n",
              " has_superstructure_stone_flag has_superstructure_cement_mortar_stone\n",
              " Min.   :0.00000               Min.   :0.00000                       \n",
              " 1st Qu.:0.00000               1st Qu.:0.00000                       \n",
              " Median :0.00000               Median :0.00000                       \n",
              " Mean   :0.03433               Mean   :0.01823                       \n",
              " 3rd Qu.:0.00000               3rd Qu.:0.00000                       \n",
              " Max.   :1.00000               Max.   :1.00000                       \n",
              " has_superstructure_mud_mortar_brick has_superstructure_cement_mortar_brick\n",
              " Min.   :0.00000                     Min.   :0.00000                       \n",
              " 1st Qu.:0.00000                     1st Qu.:0.00000                       \n",
              " Median :0.00000                     Median :0.00000                       \n",
              " Mean   :0.06815                     Mean   :0.07527                       \n",
              " 3rd Qu.:0.00000                     3rd Qu.:0.00000                       \n",
              " Max.   :1.00000                     Max.   :1.00000                       \n",
              " has_superstructure_timber has_superstructure_bamboo\n",
              " Min.   :0.000             Min.   :0.00000          \n",
              " 1st Qu.:0.000             1st Qu.:0.00000          \n",
              " Median :0.000             Median :0.00000          \n",
              " Mean   :0.255             Mean   :0.08501          \n",
              " 3rd Qu.:1.000             3rd Qu.:0.00000          \n",
              " Max.   :1.000             Max.   :1.00000          \n",
              " has_superstructure_rc_non_engineered has_superstructure_rc_engineered\n",
              " Min.   :0.00000                      Min.   :0.00000                 \n",
              " 1st Qu.:0.00000                      1st Qu.:0.00000                 \n",
              " Median :0.00000                      Median :0.00000                 \n",
              " Mean   :0.04259                      Mean   :0.01586                 \n",
              " 3rd Qu.:0.00000                      3rd Qu.:0.00000                 \n",
              " Max.   :1.00000                      Max.   :1.00000                 \n",
              " has_superstructure_other count_families   has_secondary_use\n",
              " Min.   :0.00000          Min.   :0.0000   Min.   :0.0000   \n",
              " 1st Qu.:0.00000          1st Qu.:1.0000   1st Qu.:0.0000   \n",
              " Median :0.00000          Median :1.0000   Median :0.0000   \n",
              " Mean   :0.01498          Mean   :0.9839   Mean   :0.1119   \n",
              " 3rd Qu.:0.00000          3rd Qu.:1.0000   3rd Qu.:0.0000   \n",
              " Max.   :1.00000          Max.   :9.0000   Max.   :1.0000   \n",
              " has_secondary_use_agriculture has_secondary_use_hotel has_secondary_use_rental\n",
              " Min.   :0.00000               Min.   :0.00000         Min.   :0.000000        \n",
              " 1st Qu.:0.00000               1st Qu.:0.00000         1st Qu.:0.000000        \n",
              " Median :0.00000               Median :0.00000         Median :0.000000        \n",
              " Mean   :0.06438               Mean   :0.03363         Mean   :0.008101        \n",
              " 3rd Qu.:0.00000               3rd Qu.:0.00000         3rd Qu.:0.000000        \n",
              " Max.   :1.00000               Max.   :1.00000         Max.   :1.000000        \n",
              " has_secondary_use_institution has_secondary_use_school\n",
              " Min.   :0.0000000             Min.   :0.0000000       \n",
              " 1st Qu.:0.0000000             1st Qu.:0.0000000       \n",
              " Median :0.0000000             Median :0.0000000       \n",
              " Mean   :0.0009401             Mean   :0.0003607       \n",
              " 3rd Qu.:0.0000000             3rd Qu.:0.0000000       \n",
              " Max.   :1.0000000             Max.   :1.0000000       \n",
              " has_secondary_use_industry has_secondary_use_health_post\n",
              " Min.   :0.000000           Min.   :0.000000             \n",
              " 1st Qu.:0.000000           1st Qu.:0.000000             \n",
              " Median :0.000000           Median :0.000000             \n",
              " Mean   :0.001071           Mean   :0.000188             \n",
              " 3rd Qu.:0.000000           3rd Qu.:0.000000             \n",
              " Max.   :1.000000           Max.   :1.000000             \n",
              " has_secondary_use_gov_office has_secondary_use_use_police\n",
              " Min.   :0.0000000            Min.   :0.00e+00            \n",
              " 1st Qu.:0.0000000            1st Qu.:0.00e+00            \n",
              " Median :0.0000000            Median :0.00e+00            \n",
              " Mean   :0.0001458            Mean   :8.83e-05            \n",
              " 3rd Qu.:0.0000000            3rd Qu.:0.00e+00            \n",
              " Max.   :1.0000000            Max.   :1.00e+00            \n",
              " has_secondary_use_other fragile_building land_surface_condition_n\n",
              " Min.   :0.000000        Min.   :0.0000   Min.   :0.0000          \n",
              " 1st Qu.:0.000000        1st Qu.:1.0000   1st Qu.:0.0000          \n",
              " Median :0.000000        Median :1.0000   Median :0.0000          \n",
              " Mean   :0.005119        Mean   :0.8533   Mean   :0.1363          \n",
              " 3rd Qu.:0.000000        3rd Qu.:1.0000   3rd Qu.:0.0000          \n",
              " Max.   :1.000000        Max.   :1.0000   Max.   :1.0000          \n",
              " land_surface_condition_o land_surface_condition_t foundation_type_h \n",
              " Min.   :0.00000          Min.   :0.0000           Min.   :0.000000  \n",
              " 1st Qu.:0.00000          1st Qu.:1.0000           1st Qu.:0.000000  \n",
              " Median :0.00000          Median :1.0000           Median :0.000000  \n",
              " Mean   :0.03191          Mean   :0.8318           Mean   :0.005556  \n",
              " 3rd Qu.:0.00000          3rd Qu.:1.0000           3rd Qu.:0.000000  \n",
              " Max.   :1.00000          Max.   :1.0000           Max.   :1.000000  \n",
              " foundation_type_i foundation_type_r foundation_type_u foundation_type_w\n",
              " Min.   :0.00000   Min.   :0.0000    Min.   :0.00000   Min.   :0.00000  \n",
              " 1st Qu.:0.00000   1st Qu.:1.0000    1st Qu.:0.00000   1st Qu.:0.00000  \n",
              " Median :0.00000   Median :1.0000    Median :0.00000   Median :0.00000  \n",
              " Mean   :0.04059   Mean   :0.8411    Mean   :0.05472   Mean   :0.05801  \n",
              " 3rd Qu.:0.00000   3rd Qu.:1.0000    3rd Qu.:0.00000   3rd Qu.:0.00000  \n",
              " Max.   :1.00000   Max.   :1.0000    Max.   :1.00000   Max.   :1.00000  \n",
              "  roof_type_n      roof_type_q      roof_type_x     ground_floor_type_f\n",
              " Min.   :0.0000   Min.   :0.0000   Min.   :0.0000   Min.   :0.0000     \n",
              " 1st Qu.:0.0000   1st Qu.:0.0000   1st Qu.:0.0000   1st Qu.:1.0000     \n",
              " Median :1.0000   Median :0.0000   Median :0.0000   Median :1.0000     \n",
              " Mean   :0.7016   Mean   :0.2363   Mean   :0.0621   Mean   :0.8044     \n",
              " 3rd Qu.:1.0000   3rd Qu.:0.0000   3rd Qu.:0.0000   3rd Qu.:1.0000     \n",
              " Max.   :1.0000   Max.   :1.0000   Max.   :1.0000   Max.   :1.0000     \n",
              " ground_floor_type_m ground_floor_type_v ground_floor_type_x\n",
              " Min.   :0.000000    Min.   :0.00000     Min.   :0.00000    \n",
              " 1st Qu.:0.000000    1st Qu.:0.00000     1st Qu.:0.00000    \n",
              " Median :0.000000    Median :0.00000     Median :0.00000    \n",
              " Mean   :0.001949    Mean   :0.09437     Mean   :0.09546    \n",
              " 3rd Qu.:0.000000    3rd Qu.:0.00000     3rd Qu.:0.00000    \n",
              " Max.   :1.000000    Max.   :1.00000     Max.   :1.00000    \n",
              " ground_floor_type_z other_floor_type_j other_floor_type_q other_floor_type_s\n",
              " Min.   :0.000000    Min.   :0.0000     Min.   :0.0000     Min.   :0.00000   \n",
              " 1st Qu.:0.000000    1st Qu.:0.0000     1st Qu.:0.0000     1st Qu.:0.00000   \n",
              " Median :0.000000    Median :0.0000     Median :1.0000     Median :0.00000   \n",
              " Mean   :0.003853    Mean   :0.1529     Mean   :0.6342     Mean   :0.04615   \n",
              " 3rd Qu.:0.000000    3rd Qu.:0.0000     3rd Qu.:1.0000     3rd Qu.:0.00000   \n",
              " Max.   :1.000000    Max.   :1.0000     Max.   :1.0000     Max.   :1.00000   \n",
              " other_floor_type_x   position_j        position_o         position_s    \n",
              " Min.   :0.0000     Min.   :0.00000   Min.   :0.000000   Min.   :0.0000  \n",
              " 1st Qu.:0.0000     1st Qu.:0.00000   1st Qu.:0.000000   1st Qu.:1.0000  \n",
              " Median :0.0000     Median :0.00000   Median :0.000000   Median :1.0000  \n",
              " Mean   :0.1667     Mean   :0.05097   Mean   :0.008952   Mean   :0.7755  \n",
              " 3rd Qu.:0.0000     3rd Qu.:0.00000   3rd Qu.:0.000000   3rd Qu.:1.0000  \n",
              " Max.   :1.0000     Max.   :1.00000   Max.   :1.000000   Max.   :1.0000  \n",
              "   position_t     plan_configuration_a plan_configuration_c\n",
              " Min.   :0.0000   Min.   :0.000000     Min.   :0.000000    \n",
              " 1st Qu.:0.0000   1st Qu.:0.000000     1st Qu.:0.000000    \n",
              " Median :0.0000   Median :0.000000     Median :0.000000    \n",
              " Mean   :0.1646   Mean   :0.000967     Mean   :0.001247    \n",
              " 3rd Qu.:0.0000   3rd Qu.:0.000000     3rd Qu.:0.000000    \n",
              " Max.   :1.0000   Max.   :1.000000     Max.   :1.000000    \n",
              " plan_configuration_d plan_configuration_f plan_configuration_m\n",
              " Min.   :0.0000       Min.   :0.00e+00     Min.   :0.0000000   \n",
              " 1st Qu.:1.0000       1st Qu.:0.00e+00     1st Qu.:0.0000000   \n",
              " Median :1.0000       Median :0.00e+00     Median :0.0000000   \n",
              " Mean   :0.9596       Mean   :8.44e-05     Mean   :0.0001765   \n",
              " 3rd Qu.:1.0000       3rd Qu.:0.00e+00     3rd Qu.:0.0000000   \n",
              " Max.   :1.0000       Max.   :1.00e+00     Max.   :1.0000000   \n",
              " plan_configuration_n plan_configuration_o plan_configuration_q\n",
              " Min.   :0.0000000    Min.   :0.0000000    Min.   :0.00000     \n",
              " 1st Qu.:0.0000000    1st Qu.:0.0000000    1st Qu.:0.00000     \n",
              " Median :0.0000000    Median :0.0000000    Median :0.00000     \n",
              " Mean   :0.0001458    Mean   :0.0006101    Mean   :0.02184     \n",
              " 3rd Qu.:0.0000000    3rd Qu.:0.0000000    3rd Qu.:0.00000     \n",
              " Max.   :1.0000000    Max.   :1.0000000    Max.   :1.00000     \n",
              " plan_configuration_s plan_configuration_u legal_ownership_status_a\n",
              " Min.   :0.000000     Min.   :0.000        Min.   :0.00000         \n",
              " 1st Qu.:0.000000     1st Qu.:0.000        1st Qu.:0.00000         \n",
              " Median :0.000000     Median :0.000        Median :0.00000         \n",
              " Mean   :0.001328     Mean   :0.014        Mean   :0.02115         \n",
              " 3rd Qu.:0.000000     3rd Qu.:0.000        3rd Qu.:0.00000         \n",
              " Max.   :1.000000     Max.   :1.000        Max.   :1.00000         \n",
              " legal_ownership_status_r legal_ownership_status_v legal_ownership_status_w\n",
              " Min.   :0.000000         Min.   :0.0000           Min.   :0.00000         \n",
              " 1st Qu.:0.000000         1st Qu.:1.0000           1st Qu.:0.00000         \n",
              " Median :0.000000         Median :1.0000           Median :0.00000         \n",
              " Mean   :0.005652         Mean   :0.9629           Mean   :0.01027         \n",
              " 3rd Qu.:0.000000         3rd Qu.:1.0000           3rd Qu.:0.00000         \n",
              " Max.   :1.000000         Max.   :1.0000           Max.   :1.00000         \n",
              " age_category_jeune age_category_moyen age_category_ancien\n",
              " Min.   :0.0000     Min.   :0.0000     Min.   :0.00000    \n",
              " 1st Qu.:0.0000     1st Qu.:0.0000     1st Qu.:0.00000    \n",
              " Median :0.0000     Median :1.0000     Median :0.00000    \n",
              " Mean   :0.3785     Mean   :0.5519     Mean   :0.06962    \n",
              " 3rd Qu.:1.0000     3rd Qu.:1.0000     3rd Qu.:0.00000    \n",
              " Max.   :1.0000     Max.   :1.0000     Max.   :1.00000    "
            ]
          },
          "metadata": {}
        }
      ]
    },
    {
      "cell_type": "code",
      "source": [
        "head(encoded_train_features)"
      ],
      "metadata": {
        "colab": {
          "base_uri": "https://localhost:8080/",
          "height": 306
        },
        "id": "3UZQy4puX8Nn",
        "outputId": "609e01f5-eeed-4cff-c272-42c01ec98f09"
      },
      "execution_count": null,
      "outputs": [
        {
          "output_type": "display_data",
          "data": {
            "text/html": [
              "<table class=\"dataframe\">\n",
              "<caption>A data.frame: 6 × 72</caption>\n",
              "<thead>\n",
              "\t<tr><th></th><th scope=col>geo_level_1_id</th><th scope=col>geo_level_2_id</th><th scope=col>geo_level_3_id</th><th scope=col>count_floors_pre_eq</th><th scope=col>age</th><th scope=col>area_percentage</th><th scope=col>height_percentage</th><th scope=col>has_superstructure_adobe_mud</th><th scope=col>has_superstructure_mud_mortar_stone</th><th scope=col>has_superstructure_stone_flag</th><th scope=col>⋯</th><th scope=col>plan_configuration_q</th><th scope=col>plan_configuration_s</th><th scope=col>plan_configuration_u</th><th scope=col>legal_ownership_status_a</th><th scope=col>legal_ownership_status_r</th><th scope=col>legal_ownership_status_v</th><th scope=col>legal_ownership_status_w</th><th scope=col>age_category_jeune</th><th scope=col>age_category_moyen</th><th scope=col>age_category_ancien</th></tr>\n",
              "\t<tr><th></th><th scope=col>&lt;int&gt;</th><th scope=col>&lt;int&gt;</th><th scope=col>&lt;int&gt;</th><th scope=col>&lt;int&gt;</th><th scope=col>&lt;int&gt;</th><th scope=col>&lt;int&gt;</th><th scope=col>&lt;int&gt;</th><th scope=col>&lt;int&gt;</th><th scope=col>&lt;int&gt;</th><th scope=col>&lt;int&gt;</th><th scope=col>⋯</th><th scope=col>&lt;dbl&gt;</th><th scope=col>&lt;dbl&gt;</th><th scope=col>&lt;dbl&gt;</th><th scope=col>&lt;dbl&gt;</th><th scope=col>&lt;dbl&gt;</th><th scope=col>&lt;dbl&gt;</th><th scope=col>&lt;dbl&gt;</th><th scope=col>&lt;dbl&gt;</th><th scope=col>&lt;dbl&gt;</th><th scope=col>&lt;dbl&gt;</th></tr>\n",
              "</thead>\n",
              "<tbody>\n",
              "\t<tr><th scope=row>802906</th><td> 6</td><td>487</td><td>12198</td><td>2</td><td>30</td><td>6</td><td>5</td><td>1</td><td>1</td><td>0</td><td>⋯</td><td>0</td><td>0</td><td>0</td><td>0</td><td>0</td><td>1</td><td>0</td><td>0</td><td>1</td><td>0</td></tr>\n",
              "\t<tr><th scope=row>28830</th><td> 8</td><td>900</td><td> 2812</td><td>2</td><td>10</td><td>8</td><td>7</td><td>0</td><td>1</td><td>0</td><td>⋯</td><td>0</td><td>0</td><td>0</td><td>0</td><td>0</td><td>1</td><td>0</td><td>1</td><td>0</td><td>0</td></tr>\n",
              "\t<tr><th scope=row>94947</th><td>21</td><td>363</td><td> 8973</td><td>2</td><td>10</td><td>5</td><td>5</td><td>0</td><td>1</td><td>0</td><td>⋯</td><td>0</td><td>0</td><td>0</td><td>0</td><td>0</td><td>1</td><td>0</td><td>1</td><td>0</td><td>0</td></tr>\n",
              "\t<tr><th scope=row>590882</th><td>22</td><td>418</td><td>10694</td><td>2</td><td>10</td><td>6</td><td>5</td><td>0</td><td>1</td><td>0</td><td>⋯</td><td>0</td><td>0</td><td>0</td><td>0</td><td>0</td><td>1</td><td>0</td><td>1</td><td>0</td><td>0</td></tr>\n",
              "\t<tr><th scope=row>201944</th><td>11</td><td>131</td><td> 1488</td><td>3</td><td>30</td><td>8</td><td>9</td><td>1</td><td>0</td><td>0</td><td>⋯</td><td>0</td><td>0</td><td>0</td><td>0</td><td>0</td><td>1</td><td>0</td><td>0</td><td>1</td><td>0</td></tr>\n",
              "\t<tr><th scope=row>333020</th><td> 8</td><td>558</td><td> 6089</td><td>2</td><td>10</td><td>9</td><td>5</td><td>0</td><td>1</td><td>0</td><td>⋯</td><td>0</td><td>0</td><td>0</td><td>0</td><td>0</td><td>1</td><td>0</td><td>1</td><td>0</td><td>0</td></tr>\n",
              "</tbody>\n",
              "</table>\n"
            ],
            "text/markdown": "\nA data.frame: 6 × 72\n\n| <!--/--> | geo_level_1_id &lt;int&gt; | geo_level_2_id &lt;int&gt; | geo_level_3_id &lt;int&gt; | count_floors_pre_eq &lt;int&gt; | age &lt;int&gt; | area_percentage &lt;int&gt; | height_percentage &lt;int&gt; | has_superstructure_adobe_mud &lt;int&gt; | has_superstructure_mud_mortar_stone &lt;int&gt; | has_superstructure_stone_flag &lt;int&gt; | ⋯ ⋯ | plan_configuration_q &lt;dbl&gt; | plan_configuration_s &lt;dbl&gt; | plan_configuration_u &lt;dbl&gt; | legal_ownership_status_a &lt;dbl&gt; | legal_ownership_status_r &lt;dbl&gt; | legal_ownership_status_v &lt;dbl&gt; | legal_ownership_status_w &lt;dbl&gt; | age_category_jeune &lt;dbl&gt; | age_category_moyen &lt;dbl&gt; | age_category_ancien &lt;dbl&gt; |\n|---|---|---|---|---|---|---|---|---|---|---|---|---|---|---|---|---|---|---|---|---|---|\n| 802906 |  6 | 487 | 12198 | 2 | 30 | 6 | 5 | 1 | 1 | 0 | ⋯ | 0 | 0 | 0 | 0 | 0 | 1 | 0 | 0 | 1 | 0 |\n| 28830 |  8 | 900 |  2812 | 2 | 10 | 8 | 7 | 0 | 1 | 0 | ⋯ | 0 | 0 | 0 | 0 | 0 | 1 | 0 | 1 | 0 | 0 |\n| 94947 | 21 | 363 |  8973 | 2 | 10 | 5 | 5 | 0 | 1 | 0 | ⋯ | 0 | 0 | 0 | 0 | 0 | 1 | 0 | 1 | 0 | 0 |\n| 590882 | 22 | 418 | 10694 | 2 | 10 | 6 | 5 | 0 | 1 | 0 | ⋯ | 0 | 0 | 0 | 0 | 0 | 1 | 0 | 1 | 0 | 0 |\n| 201944 | 11 | 131 |  1488 | 3 | 30 | 8 | 9 | 1 | 0 | 0 | ⋯ | 0 | 0 | 0 | 0 | 0 | 1 | 0 | 0 | 1 | 0 |\n| 333020 |  8 | 558 |  6089 | 2 | 10 | 9 | 5 | 0 | 1 | 0 | ⋯ | 0 | 0 | 0 | 0 | 0 | 1 | 0 | 1 | 0 | 0 |\n\n",
            "text/latex": "A data.frame: 6 × 72\n\\begin{tabular}{r|lllllllllllllllllllll}\n  & geo\\_level\\_1\\_id & geo\\_level\\_2\\_id & geo\\_level\\_3\\_id & count\\_floors\\_pre\\_eq & age & area\\_percentage & height\\_percentage & has\\_superstructure\\_adobe\\_mud & has\\_superstructure\\_mud\\_mortar\\_stone & has\\_superstructure\\_stone\\_flag & ⋯ & plan\\_configuration\\_q & plan\\_configuration\\_s & plan\\_configuration\\_u & legal\\_ownership\\_status\\_a & legal\\_ownership\\_status\\_r & legal\\_ownership\\_status\\_v & legal\\_ownership\\_status\\_w & age\\_category\\_jeune & age\\_category\\_moyen & age\\_category\\_ancien\\\\\n  & <int> & <int> & <int> & <int> & <int> & <int> & <int> & <int> & <int> & <int> & ⋯ & <dbl> & <dbl> & <dbl> & <dbl> & <dbl> & <dbl> & <dbl> & <dbl> & <dbl> & <dbl>\\\\\n\\hline\n\t802906 &  6 & 487 & 12198 & 2 & 30 & 6 & 5 & 1 & 1 & 0 & ⋯ & 0 & 0 & 0 & 0 & 0 & 1 & 0 & 0 & 1 & 0\\\\\n\t28830 &  8 & 900 &  2812 & 2 & 10 & 8 & 7 & 0 & 1 & 0 & ⋯ & 0 & 0 & 0 & 0 & 0 & 1 & 0 & 1 & 0 & 0\\\\\n\t94947 & 21 & 363 &  8973 & 2 & 10 & 5 & 5 & 0 & 1 & 0 & ⋯ & 0 & 0 & 0 & 0 & 0 & 1 & 0 & 1 & 0 & 0\\\\\n\t590882 & 22 & 418 & 10694 & 2 & 10 & 6 & 5 & 0 & 1 & 0 & ⋯ & 0 & 0 & 0 & 0 & 0 & 1 & 0 & 1 & 0 & 0\\\\\n\t201944 & 11 & 131 &  1488 & 3 & 30 & 8 & 9 & 1 & 0 & 0 & ⋯ & 0 & 0 & 0 & 0 & 0 & 1 & 0 & 0 & 1 & 0\\\\\n\t333020 &  8 & 558 &  6089 & 2 & 10 & 9 & 5 & 0 & 1 & 0 & ⋯ & 0 & 0 & 0 & 0 & 0 & 1 & 0 & 1 & 0 & 0\\\\\n\\end{tabular}\n",
            "text/plain": [
              "       geo_level_1_id geo_level_2_id geo_level_3_id count_floors_pre_eq age\n",
              "802906  6             487            12198          2                   30 \n",
              "28830   8             900             2812          2                   10 \n",
              "94947  21             363             8973          2                   10 \n",
              "590882 22             418            10694          2                   10 \n",
              "201944 11             131             1488          3                   30 \n",
              "333020  8             558             6089          2                   10 \n",
              "       area_percentage height_percentage has_superstructure_adobe_mud\n",
              "802906 6               5                 1                           \n",
              "28830  8               7                 0                           \n",
              "94947  5               5                 0                           \n",
              "590882 6               5                 0                           \n",
              "201944 8               9                 1                           \n",
              "333020 9               5                 0                           \n",
              "       has_superstructure_mud_mortar_stone has_superstructure_stone_flag ⋯\n",
              "802906 1                                   0                             ⋯\n",
              "28830  1                                   0                             ⋯\n",
              "94947  1                                   0                             ⋯\n",
              "590882 1                                   0                             ⋯\n",
              "201944 0                                   0                             ⋯\n",
              "333020 1                                   0                             ⋯\n",
              "       plan_configuration_q plan_configuration_s plan_configuration_u\n",
              "802906 0                    0                    0                   \n",
              "28830  0                    0                    0                   \n",
              "94947  0                    0                    0                   \n",
              "590882 0                    0                    0                   \n",
              "201944 0                    0                    0                   \n",
              "333020 0                    0                    0                   \n",
              "       legal_ownership_status_a legal_ownership_status_r\n",
              "802906 0                        0                       \n",
              "28830  0                        0                       \n",
              "94947  0                        0                       \n",
              "590882 0                        0                       \n",
              "201944 0                        0                       \n",
              "333020 0                        0                       \n",
              "       legal_ownership_status_v legal_ownership_status_w age_category_jeune\n",
              "802906 1                        0                        0                 \n",
              "28830  1                        0                        1                 \n",
              "94947  1                        0                        1                 \n",
              "590882 1                        0                        1                 \n",
              "201944 1                        0                        0                 \n",
              "333020 1                        0                        1                 \n",
              "       age_category_moyen age_category_ancien\n",
              "802906 1                  0                  \n",
              "28830  0                  0                  \n",
              "94947  0                  0                  \n",
              "590882 0                  0                  \n",
              "201944 1                  0                  \n",
              "333020 0                  0                  "
            ]
          },
          "metadata": {}
        }
      ]
    },
    {
      "cell_type": "code",
      "source": [
        "head(encoded_test_features) "
      ],
      "metadata": {
        "colab": {
          "base_uri": "https://localhost:8080/",
          "height": 306
        },
        "id": "EEimIwKZlglg",
        "outputId": "dd675b0c-d264-420a-b38a-84e460824bbb"
      },
      "execution_count": null,
      "outputs": [
        {
          "output_type": "display_data",
          "data": {
            "text/html": [
              "<table class=\"dataframe\">\n",
              "<caption>A data.frame: 6 × 72</caption>\n",
              "<thead>\n",
              "\t<tr><th></th><th scope=col>geo_level_1_id</th><th scope=col>geo_level_2_id</th><th scope=col>geo_level_3_id</th><th scope=col>count_floors_pre_eq</th><th scope=col>age</th><th scope=col>area_percentage</th><th scope=col>height_percentage</th><th scope=col>has_superstructure_adobe_mud</th><th scope=col>has_superstructure_mud_mortar_stone</th><th scope=col>has_superstructure_stone_flag</th><th scope=col>⋯</th><th scope=col>plan_configuration_q</th><th scope=col>plan_configuration_s</th><th scope=col>plan_configuration_u</th><th scope=col>legal_ownership_status_a</th><th scope=col>legal_ownership_status_r</th><th scope=col>legal_ownership_status_v</th><th scope=col>legal_ownership_status_w</th><th scope=col>age_category_jeune</th><th scope=col>age_category_moyen</th><th scope=col>age_category_ancien</th></tr>\n",
              "\t<tr><th></th><th scope=col>&lt;int&gt;</th><th scope=col>&lt;int&gt;</th><th scope=col>&lt;int&gt;</th><th scope=col>&lt;int&gt;</th><th scope=col>&lt;int&gt;</th><th scope=col>&lt;int&gt;</th><th scope=col>&lt;int&gt;</th><th scope=col>&lt;int&gt;</th><th scope=col>&lt;int&gt;</th><th scope=col>&lt;int&gt;</th><th scope=col>⋯</th><th scope=col>&lt;dbl&gt;</th><th scope=col>&lt;dbl&gt;</th><th scope=col>&lt;dbl&gt;</th><th scope=col>&lt;dbl&gt;</th><th scope=col>&lt;dbl&gt;</th><th scope=col>&lt;dbl&gt;</th><th scope=col>&lt;dbl&gt;</th><th scope=col>&lt;dbl&gt;</th><th scope=col>&lt;dbl&gt;</th><th scope=col>&lt;dbl&gt;</th></tr>\n",
              "</thead>\n",
              "<tbody>\n",
              "\t<tr><th scope=row>300051</th><td>17</td><td>596</td><td>11307</td><td>3</td><td>20</td><td> 7</td><td>6</td><td>0</td><td>1</td><td>0</td><td>⋯</td><td>0</td><td>0</td><td>0</td><td>0</td><td>0</td><td>1</td><td>0</td><td>0</td><td>1</td><td>0</td></tr>\n",
              "\t<tr><th scope=row>99355</th><td> 6</td><td>141</td><td>11987</td><td>2</td><td>25</td><td>13</td><td>5</td><td>0</td><td>1</td><td>0</td><td>⋯</td><td>0</td><td>0</td><td>0</td><td>0</td><td>0</td><td>1</td><td>0</td><td>0</td><td>1</td><td>0</td></tr>\n",
              "\t<tr><th scope=row>890251</th><td>22</td><td> 19</td><td>10044</td><td>2</td><td> 5</td><td> 4</td><td>5</td><td>0</td><td>1</td><td>0</td><td>⋯</td><td>0</td><td>0</td><td>0</td><td>0</td><td>0</td><td>1</td><td>0</td><td>1</td><td>0</td><td>0</td></tr>\n",
              "\t<tr><th scope=row>745817</th><td>26</td><td> 39</td><td>  633</td><td>1</td><td> 0</td><td>19</td><td>3</td><td>0</td><td>0</td><td>0</td><td>⋯</td><td>0</td><td>0</td><td>0</td><td>0</td><td>0</td><td>1</td><td>0</td><td>1</td><td>0</td><td>0</td></tr>\n",
              "\t<tr><th scope=row>421793</th><td>17</td><td>289</td><td> 7970</td><td>3</td><td>15</td><td> 8</td><td>7</td><td>0</td><td>1</td><td>0</td><td>⋯</td><td>0</td><td>0</td><td>0</td><td>0</td><td>0</td><td>1</td><td>0</td><td>0</td><td>1</td><td>0</td></tr>\n",
              "\t<tr><th scope=row>871976</th><td>22</td><td>170</td><td> 4029</td><td>1</td><td>55</td><td> 4</td><td>3</td><td>0</td><td>1</td><td>0</td><td>⋯</td><td>0</td><td>0</td><td>0</td><td>0</td><td>0</td><td>1</td><td>0</td><td>0</td><td>0</td><td>1</td></tr>\n",
              "</tbody>\n",
              "</table>\n"
            ],
            "text/markdown": "\nA data.frame: 6 × 72\n\n| <!--/--> | geo_level_1_id &lt;int&gt; | geo_level_2_id &lt;int&gt; | geo_level_3_id &lt;int&gt; | count_floors_pre_eq &lt;int&gt; | age &lt;int&gt; | area_percentage &lt;int&gt; | height_percentage &lt;int&gt; | has_superstructure_adobe_mud &lt;int&gt; | has_superstructure_mud_mortar_stone &lt;int&gt; | has_superstructure_stone_flag &lt;int&gt; | ⋯ ⋯ | plan_configuration_q &lt;dbl&gt; | plan_configuration_s &lt;dbl&gt; | plan_configuration_u &lt;dbl&gt; | legal_ownership_status_a &lt;dbl&gt; | legal_ownership_status_r &lt;dbl&gt; | legal_ownership_status_v &lt;dbl&gt; | legal_ownership_status_w &lt;dbl&gt; | age_category_jeune &lt;dbl&gt; | age_category_moyen &lt;dbl&gt; | age_category_ancien &lt;dbl&gt; |\n|---|---|---|---|---|---|---|---|---|---|---|---|---|---|---|---|---|---|---|---|---|---|\n| 300051 | 17 | 596 | 11307 | 3 | 20 |  7 | 6 | 0 | 1 | 0 | ⋯ | 0 | 0 | 0 | 0 | 0 | 1 | 0 | 0 | 1 | 0 |\n| 99355 |  6 | 141 | 11987 | 2 | 25 | 13 | 5 | 0 | 1 | 0 | ⋯ | 0 | 0 | 0 | 0 | 0 | 1 | 0 | 0 | 1 | 0 |\n| 890251 | 22 |  19 | 10044 | 2 |  5 |  4 | 5 | 0 | 1 | 0 | ⋯ | 0 | 0 | 0 | 0 | 0 | 1 | 0 | 1 | 0 | 0 |\n| 745817 | 26 |  39 |   633 | 1 |  0 | 19 | 3 | 0 | 0 | 0 | ⋯ | 0 | 0 | 0 | 0 | 0 | 1 | 0 | 1 | 0 | 0 |\n| 421793 | 17 | 289 |  7970 | 3 | 15 |  8 | 7 | 0 | 1 | 0 | ⋯ | 0 | 0 | 0 | 0 | 0 | 1 | 0 | 0 | 1 | 0 |\n| 871976 | 22 | 170 |  4029 | 1 | 55 |  4 | 3 | 0 | 1 | 0 | ⋯ | 0 | 0 | 0 | 0 | 0 | 1 | 0 | 0 | 0 | 1 |\n\n",
            "text/latex": "A data.frame: 6 × 72\n\\begin{tabular}{r|lllllllllllllllllllll}\n  & geo\\_level\\_1\\_id & geo\\_level\\_2\\_id & geo\\_level\\_3\\_id & count\\_floors\\_pre\\_eq & age & area\\_percentage & height\\_percentage & has\\_superstructure\\_adobe\\_mud & has\\_superstructure\\_mud\\_mortar\\_stone & has\\_superstructure\\_stone\\_flag & ⋯ & plan\\_configuration\\_q & plan\\_configuration\\_s & plan\\_configuration\\_u & legal\\_ownership\\_status\\_a & legal\\_ownership\\_status\\_r & legal\\_ownership\\_status\\_v & legal\\_ownership\\_status\\_w & age\\_category\\_jeune & age\\_category\\_moyen & age\\_category\\_ancien\\\\\n  & <int> & <int> & <int> & <int> & <int> & <int> & <int> & <int> & <int> & <int> & ⋯ & <dbl> & <dbl> & <dbl> & <dbl> & <dbl> & <dbl> & <dbl> & <dbl> & <dbl> & <dbl>\\\\\n\\hline\n\t300051 & 17 & 596 & 11307 & 3 & 20 &  7 & 6 & 0 & 1 & 0 & ⋯ & 0 & 0 & 0 & 0 & 0 & 1 & 0 & 0 & 1 & 0\\\\\n\t99355 &  6 & 141 & 11987 & 2 & 25 & 13 & 5 & 0 & 1 & 0 & ⋯ & 0 & 0 & 0 & 0 & 0 & 1 & 0 & 0 & 1 & 0\\\\\n\t890251 & 22 &  19 & 10044 & 2 &  5 &  4 & 5 & 0 & 1 & 0 & ⋯ & 0 & 0 & 0 & 0 & 0 & 1 & 0 & 1 & 0 & 0\\\\\n\t745817 & 26 &  39 &   633 & 1 &  0 & 19 & 3 & 0 & 0 & 0 & ⋯ & 0 & 0 & 0 & 0 & 0 & 1 & 0 & 1 & 0 & 0\\\\\n\t421793 & 17 & 289 &  7970 & 3 & 15 &  8 & 7 & 0 & 1 & 0 & ⋯ & 0 & 0 & 0 & 0 & 0 & 1 & 0 & 0 & 1 & 0\\\\\n\t871976 & 22 & 170 &  4029 & 1 & 55 &  4 & 3 & 0 & 1 & 0 & ⋯ & 0 & 0 & 0 & 0 & 0 & 1 & 0 & 0 & 0 & 1\\\\\n\\end{tabular}\n",
            "text/plain": [
              "       geo_level_1_id geo_level_2_id geo_level_3_id count_floors_pre_eq age\n",
              "300051 17             596            11307          3                   20 \n",
              "99355   6             141            11987          2                   25 \n",
              "890251 22              19            10044          2                    5 \n",
              "745817 26              39              633          1                    0 \n",
              "421793 17             289             7970          3                   15 \n",
              "871976 22             170             4029          1                   55 \n",
              "       area_percentage height_percentage has_superstructure_adobe_mud\n",
              "300051  7              6                 0                           \n",
              "99355  13              5                 0                           \n",
              "890251  4              5                 0                           \n",
              "745817 19              3                 0                           \n",
              "421793  8              7                 0                           \n",
              "871976  4              3                 0                           \n",
              "       has_superstructure_mud_mortar_stone has_superstructure_stone_flag ⋯\n",
              "300051 1                                   0                             ⋯\n",
              "99355  1                                   0                             ⋯\n",
              "890251 1                                   0                             ⋯\n",
              "745817 0                                   0                             ⋯\n",
              "421793 1                                   0                             ⋯\n",
              "871976 1                                   0                             ⋯\n",
              "       plan_configuration_q plan_configuration_s plan_configuration_u\n",
              "300051 0                    0                    0                   \n",
              "99355  0                    0                    0                   \n",
              "890251 0                    0                    0                   \n",
              "745817 0                    0                    0                   \n",
              "421793 0                    0                    0                   \n",
              "871976 0                    0                    0                   \n",
              "       legal_ownership_status_a legal_ownership_status_r\n",
              "300051 0                        0                       \n",
              "99355  0                        0                       \n",
              "890251 0                        0                       \n",
              "745817 0                        0                       \n",
              "421793 0                        0                       \n",
              "871976 0                        0                       \n",
              "       legal_ownership_status_v legal_ownership_status_w age_category_jeune\n",
              "300051 1                        0                        0                 \n",
              "99355  1                        0                        0                 \n",
              "890251 1                        0                        1                 \n",
              "745817 1                        0                        1                 \n",
              "421793 1                        0                        0                 \n",
              "871976 1                        0                        0                 \n",
              "       age_category_moyen age_category_ancien\n",
              "300051 1                  0                  \n",
              "99355  1                  0                  \n",
              "890251 0                  0                  \n",
              "745817 0                  0                  \n",
              "421793 1                  0                  \n",
              "871976 0                  1                  "
            ]
          },
          "metadata": {}
        }
      ]
    },
    {
      "cell_type": "code",
      "source": [
        "# Remove the building_id column\n",
        "#data_test <- encoded_test_features %>% select(-building_id)\n",
        "#data_train <- encoded_test_features %>% select(-building_id)\n"
      ],
      "metadata": {
        "id": "qR8LnflLpwfc"
      },
      "execution_count": null,
      "outputs": []
    },
    {
      "cell_type": "code",
      "source": [
        "dim(encoded_train_features )\n",
        "dim(train.labels)"
      ],
      "metadata": {
        "colab": {
          "base_uri": "https://localhost:8080/",
          "height": 52
        },
        "id": "kaHk4CVFwK1N",
        "outputId": "fabba4a5-0607-4bb5-8401-8c762e901739"
      },
      "execution_count": null,
      "outputs": [
        {
          "output_type": "display_data",
          "data": {
            "text/html": [
              "<style>\n",
              ".list-inline {list-style: none; margin:0; padding: 0}\n",
              ".list-inline>li {display: inline-block}\n",
              ".list-inline>li:not(:last-child)::after {content: \"\\00b7\"; padding: 0 .5ex}\n",
              "</style>\n",
              "<ol class=list-inline><li>260601</li><li>72</li></ol>\n"
            ],
            "text/markdown": "1. 260601\n2. 72\n\n\n",
            "text/latex": "\\begin{enumerate*}\n\\item 260601\n\\item 72\n\\end{enumerate*}\n",
            "text/plain": [
              "[1] 260601     72"
            ]
          },
          "metadata": {}
        },
        {
          "output_type": "display_data",
          "data": {
            "text/html": [
              "<style>\n",
              ".list-inline {list-style: none; margin:0; padding: 0}\n",
              ".list-inline>li {display: inline-block}\n",
              ".list-inline>li:not(:last-child)::after {content: \"\\00b7\"; padding: 0 .5ex}\n",
              "</style>\n",
              "<ol class=list-inline><li>260601</li><li>1</li></ol>\n"
            ],
            "text/markdown": "1. 260601\n2. 1\n\n\n",
            "text/latex": "\\begin{enumerate*}\n\\item 260601\n\\item 1\n\\end{enumerate*}\n",
            "text/plain": [
              "[1] 260601      1"
            ]
          },
          "metadata": {}
        }
      ]
    },
    {
      "cell_type": "markdown",
      "source": [
        "* Feature selection\n",
        "\n",
        "\n",
        "\n",
        "The minimum-Redundancy Maximum-Relevance (mRMR) approach is a feature selection technique based on mutual information. It aims to choose a subset of features that are highly relevant to the target variable while having low redundancy among themselves. This is achieved by maximizing the mutual information between the features and the target variable while minimizing the mutual information among the features\n",
        "\n",
        "\n",
        "\n",
        "\n",
        "\n"
      ],
      "metadata": {
        "id": "kz8kL56yXdsd"
      }
    },
    {
      "cell_type": "code",
      "source": [
        "\n",
        "N<-nrow(encoded_train_features)\n",
        "n<-ncol(encoded_train_features)\n",
        "n\n",
        "N"
      ],
      "metadata": {
        "colab": {
          "base_uri": "https://localhost:8080/",
          "height": 52
        },
        "id": "elTl-_Fz2d7X",
        "outputId": "28de161e-21fb-4caf-c64f-da723c2f9dff"
      },
      "execution_count": null,
      "outputs": [
        {
          "output_type": "display_data",
          "data": {
            "text/html": [
              "72"
            ],
            "text/markdown": "72",
            "text/latex": "72",
            "text/plain": [
              "[1] 72"
            ]
          },
          "metadata": {}
        },
        {
          "output_type": "display_data",
          "data": {
            "text/html": [
              "260601"
            ],
            "text/markdown": "260601",
            "text/latex": "260601",
            "text/plain": [
              "[1] 260601"
            ]
          },
          "metadata": {}
        }
      ]
    },
    {
      "cell_type": "code",
      "source": [
        "CV_folds <- 10\n",
        "\n",
        "size_CV <-floor(N/CV_folds)\n",
        "selected_nb_features <- 20\n",
        "CV_err<-matrix(0,nrow=selected_nb_features,ncol=CV_folds)\n",
        "\n",
        "for (i in 1:CV_folds) {\n",
        "    \n",
        "    idx_ts<-(((i-1)*size_CV+1):(i*size_CV))  ### idx_ts represents the indices of the test set the i-th fold\n",
        "    X_ts<-encoded_train_features[idx_ts,]\n",
        "    Y_ts<-train.labels$damage_grade[idx_ts]\n",
        "     \n",
        "    idx_tr<-setdiff(1:N,idx_ts) ### idx_tr represents  indices of the training sefor the i-th fold\n",
        "    X_tr<-encoded_train_features[idx_tr,]\n",
        "    Y_tr<-train.labels$damage_grade[idx_tr]                          \n",
        "    \n",
        "    # Compute correlation across all the input variables and the target variable\n",
        "    correlation_vector <-abs(cor(X_tr,Y_tr))\n",
        "    # Rank variables according to correlation with the output\n",
        "    correlation_ranking_idx <-sort(correlation_vector,dec=T,index.return=T)$ix\n",
        "     \n",
        "    for (nb_features in 1:selected_nb_features) {\n",
        "        # Create a dataset including only the nb_features most correlated variables with the output\n",
        "        DS<-cbind(X_tr[,correlation_ranking_idx[1:nb_features],drop=F],damage_grade=Y_tr)\n",
        "        # Model fit (using lm function)\n",
        "        model<- lm(damage_grade~.,DS)\n",
        "        \n",
        "        # Model prediction\n",
        "        Y_hat_ts<- predict(model,X_ts[,correlation_ranking_idx[1:nb_features],drop=F])\n",
        "        \n",
        "        # Cross validation error = MSE\n",
        "        CV_err[nb_features,i] <- mean((Y_hat_ts-Y_ts)^2)\n",
        "    }\n",
        "}  \n",
        "\n",
        "print(paste(\"#Features: \",c(1:selected_nb_features),\" ; CV error=\",round(apply(CV_err,1,mean),digits=4), \" ; std dev=\",round(apply(CV_err,1,sd),digits=4)))\n",
        "\n"
      ],
      "metadata": {
        "id": "28T9X-OX21uq",
        "colab": {
          "base_uri": "https://localhost:8080/"
        },
        "outputId": "b4791793-89b4-4636-8991-736abf64a726"
      },
      "execution_count": null,
      "outputs": [
        {
          "output_type": "stream",
          "name": "stdout",
          "text": [
            " [1] \"#Features:  1  ; CV error= 0.3215  ; std dev= 0.0019\" \n",
            " [2] \"#Features:  2  ; CV error= 0.3171  ; std dev= 0.0019\" \n",
            " [3] \"#Features:  3  ; CV error= 0.3136  ; std dev= 0.0019\" \n",
            " [4] \"#Features:  4  ; CV error= 0.3135  ; std dev= 0.0019\" \n",
            " [5] \"#Features:  5  ; CV error= 0.3132  ; std dev= 0.0018\" \n",
            " [6] \"#Features:  6  ; CV error= 0.3129  ; std dev= 0.0018\" \n",
            " [7] \"#Features:  7  ; CV error= 0.3127  ; std dev= 0.0018\" \n",
            " [8] \"#Features:  8  ; CV error= 0.3127  ; std dev= 0.0018\" \n",
            " [9] \"#Features:  9  ; CV error= 0.3126  ; std dev= 0.0018\" \n",
            "[10] \"#Features:  10  ; CV error= 0.3124  ; std dev= 0.0018\"\n",
            "[11] \"#Features:  11  ; CV error= 0.3109  ; std dev= 0.0018\"\n",
            "[12] \"#Features:  12  ; CV error= 0.3096  ; std dev= 0.0018\"\n",
            "[13] \"#Features:  13  ; CV error= 0.3096  ; std dev= 0.0019\"\n",
            "[14] \"#Features:  14  ; CV error= 0.3095  ; std dev= 0.0018\"\n",
            "[15] \"#Features:  15  ; CV error= 0.3095  ; std dev= 0.0018\"\n",
            "[16] \"#Features:  16  ; CV error= 0.3095  ; std dev= 0.0018\"\n",
            "[17] \"#Features:  17  ; CV error= 0.309  ; std dev= 0.0019\" \n",
            "[18] \"#Features:  18  ; CV error= 0.3089  ; std dev= 0.0019\"\n",
            "[19] \"#Features:  19  ; CV error= 0.3071  ; std dev= 0.0019\"\n",
            "[20] \"#Features:  20  ; CV error= 0.3071  ; std dev= 0.0018\"\n"
          ]
        }
      ]
    },
    {
      "cell_type": "code",
      "source": [
        "# Imprimer les noms des variables les plus corrélées avec la sortie\n",
        "variable_names <- names(X_tr)[correlation_ranking_idx[1:nb_features]]\n",
        "print(paste(\"Features:\", variable_names))\n",
        "#correlation_ranking_idx"
      ],
      "metadata": {
        "colab": {
          "base_uri": "https://localhost:8080/"
        },
        "id": "piBqRgL_FfKj",
        "outputId": "3a1abd5b-6e93-43ca-853e-5dbc47e7c162"
      },
      "execution_count": null,
      "outputs": [
        {
          "output_type": "stream",
          "name": "stdout",
          "text": [
            " [1] \"Features: fragile_building\"                      \n",
            " [2] \"Features: foundation_type_r\"                     \n",
            " [3] \"Features: ground_floor_type_v\"                   \n",
            " [4] \"Features: has_superstructure_mud_mortar_stone\"   \n",
            " [5] \"Features: roof_type_x\"                           \n",
            " [6] \"Features: foundation_type_i\"                     \n",
            " [7] \"Features: has_superstructure_cement_mortar_brick\"\n",
            " [8] \"Features: ground_floor_type_f\"                   \n",
            " [9] \"Features: other_floor_type_s\"                    \n",
            "[10] \"Features: has_superstructure_rc_engineered\"      \n",
            "[11] \"Features: foundation_type_w\"                     \n",
            "[12] \"Features: age_category_jeune\"                    \n",
            "[13] \"Features: other_floor_type_q\"                    \n",
            "[14] \"Features: has_superstructure_rc_non_engineered\"  \n",
            "[15] \"Features: age_category_moyen\"                    \n",
            "[16] \"Features: foundation_type_u\"                     \n",
            "[17] \"Features: other_floor_type_j\"                    \n",
            "[18] \"Features: area_percentage\"                       \n",
            "[19] \"Features: count_floors_pre_eq\"                   \n",
            "[20] \"Features: has_secondary_use_hotel\"               \n"
          ]
        }
      ]
    },
    {
      "cell_type": "code",
      "source": [
        "\n",
        "\n",
        "CV_folds <- 10\n",
        "n_variables <- 20\n",
        "\n",
        "N <- nrow(encoded_train_features)\n",
        "n <- ncol(encoded_train_features)\n",
        "\n",
        "size_CV <- floor(N / CV_folds)\n",
        "\n",
        "CV_err <- matrix(0, nrow = n_variables, ncol = CV_folds)\n",
        "\n",
        "for (i in 1:CV_folds) {\n",
        "    \n",
        "    idx_ts <- (((i - 1) * size_CV + 1):(i * size_CV))\n",
        "    X_ts <- encoded_train_features[idx_ts,]\n",
        "    Y_ts <- train.labels$damage_grade[idx_ts]\n",
        "    \n",
        "    idx_tr <- setdiff(1:N, idx_ts)\n",
        "    X_tr <- encoded_train_features[idx_tr,]\n",
        "    Y_tr <- train.labels$damage_grade[idx_tr]\n",
        "    \n",
        "    correlation <- abs(cor(X_tr, Y_tr))\n",
        "    \n",
        "    selected <- c()\n",
        "    candidates <- 1:n\n",
        "    \n",
        "    for (j in 1:n_variables) {\n",
        "        redundancy_score <- numeric(length(candidates))\n",
        "        \n",
        "        if (length(selected) > 0) {\n",
        "            cor_selected_candidates <- cor(X_tr[, selected, drop = F], X_tr[, candidates, drop = F])\n",
        "            redundancy_score <- apply(cor_selected_candidates, 2, mean)\n",
        "        }\n",
        "        \n",
        "        mRMR_score <- correlation[candidates] - redundancy_score\n",
        "        selected_current <- candidates[which.max(mRMR_score)]\n",
        "        selected <- c(selected, selected_current)\n",
        "        candidates <- setdiff(candidates, selected_current)\n",
        "    }\n",
        "    \n",
        "    ranking <- selected\n",
        "     \n",
        "    for (nb_features in 1:n_variables) {\n",
        "        DS <- cbind(X_tr[, ranking[1:nb_features], drop = F], damage_grade = Y_tr)\n",
        "       # Model fit (using lm function)\n",
        "        model<- lm(damage_grade~.,DS)\n",
        "        Y_hat_ts<- predict(model,X_ts[,ranking[1:nb_features],drop=F])\n",
        "        \n",
        "        # Cross-validation error = MSE\n",
        "        CV_err[nb_features,i]<-mean((Y_hat_ts-Y_ts)^2)\n",
        "    }\n",
        "}  \n",
        "\n",
        "print(paste(\"#Features: \", c(1:n_variables), \" ; CV error=\", round(apply(CV_err, 1, mean), digits = 4), \" ; std dev=\", round(apply(CV_err, 1, sd), digits = 4)))\n",
        "\n",
        "CV_err_svm_single_model_fs <- CV_err\n"
      ],
      "metadata": {
        "id": "RxcsN7jhwfaN",
        "colab": {
          "base_uri": "https://localhost:8080/"
        },
        "outputId": "7f96fa4d-99e2-42a2-a670-404d8c0ed3d9"
      },
      "execution_count": null,
      "outputs": [
        {
          "output_type": "stream",
          "name": "stdout",
          "text": [
            " [1] \"#Features:  1  ; CV error= 0.3215  ; std dev= 0.0019\" \n",
            " [2] \"#Features:  2  ; CV error= 0.3169  ; std dev= 0.0019\" \n",
            " [3] \"#Features:  3  ; CV error= 0.3141  ; std dev= 0.0019\" \n",
            " [4] \"#Features:  4  ; CV error= 0.313  ; std dev= 0.0019\"  \n",
            " [5] \"#Features:  5  ; CV error= 0.3121  ; std dev= 0.0019\" \n",
            " [6] \"#Features:  6  ; CV error= 0.3121  ; std dev= 0.0019\" \n",
            " [7] \"#Features:  7  ; CV error= 0.3118  ; std dev= 0.0019\" \n",
            " [8] \"#Features:  8  ; CV error= 0.3118  ; std dev= 0.0019\" \n",
            " [9] \"#Features:  9  ; CV error= 0.3111  ; std dev= 0.0018\" \n",
            "[10] \"#Features:  10  ; CV error= 0.3111  ; std dev= 0.0019\"\n",
            "[11] \"#Features:  11  ; CV error= 0.311  ; std dev= 0.0019\" \n",
            "[12] \"#Features:  12  ; CV error= 0.3107  ; std dev= 0.0019\"\n",
            "[13] \"#Features:  13  ; CV error= 0.3104  ; std dev= 0.0019\"\n",
            "[14] \"#Features:  14  ; CV error= 0.3093  ; std dev= 0.0019\"\n",
            "[15] \"#Features:  15  ; CV error= 0.3093  ; std dev= 0.0019\"\n",
            "[16] \"#Features:  16  ; CV error= 0.3076  ; std dev= 0.0018\"\n",
            "[17] \"#Features:  17  ; CV error= 0.3073  ; std dev= 0.0018\"\n",
            "[18] \"#Features:  18  ; CV error= 0.3064  ; std dev= 0.0017\"\n",
            "[19] \"#Features:  19  ; CV error= 0.3064  ; std dev= 0.0017\"\n",
            "[20] \"#Features:  20  ; CV error= 0.3063  ; std dev= 0.0017\"\n"
          ]
        }
      ]
    },
    {
      "cell_type": "code",
      "source": [
        "\n",
        "selected_variable_names <- colnames(encoded_train_features)[ranking]\n",
        "\n",
        "print(selected_variable_names)\n",
        "print(ranking)\n"
      ],
      "metadata": {
        "colab": {
          "base_uri": "https://localhost:8080/"
        },
        "id": "R4p_YfZbxul3",
        "outputId": "da3711b8-4bb5-4260-b818-8c26737bd2f1"
      },
      "execution_count": null,
      "outputs": [
        {
          "output_type": "stream",
          "name": "stdout",
          "text": [
            " [1] \"fragile_building\"                      \n",
            " [2] \"ground_floor_type_v\"                   \n",
            " [3] \"foundation_type_w\"                     \n",
            " [4] \"foundation_type_r\"                     \n",
            " [5] \"roof_type_x\"                           \n",
            " [6] \"ground_floor_type_f\"                   \n",
            " [7] \"has_superstructure_cement_mortar_brick\"\n",
            " [8] \"has_superstructure_mud_mortar_stone\"   \n",
            " [9] \"foundation_type_i\"                     \n",
            "[10] \"foundation_type_u\"                     \n",
            "[11] \"other_floor_type_q\"                    \n",
            "[12] \"other_floor_type_j\"                    \n",
            "[13] \"other_floor_type_s\"                    \n",
            "[14] \"age_category_jeune\"                    \n",
            "[15] \"age_category_moyen\"                    \n",
            "[16] \"count_floors_pre_eq\"                   \n",
            "[17] \"has_superstructure_rc_engineered\"      \n",
            "[18] \"roof_type_n\"                           \n",
            "[19] \"roof_type_q\"                           \n",
            "[20] \"has_superstructure_rc_non_engineered\"  \n",
            " [1] 31 45 39 37 42 43 13  9 36 38 49 48 50 70 71  4 17 40 41 16\n"
          ]
        }
      ]
    },
    {
      "cell_type": "code",
      "source": [
        "X_train_selected <- encoded_train_features[, selected_variable_names]\n",
        "head(X_train_selected)"
      ],
      "metadata": {
        "colab": {
          "base_uri": "https://localhost:8080/",
          "height": 306
        },
        "id": "gGqSsQEnETPo",
        "outputId": "929d17d9-ef60-42e5-8e5f-1a665b4d1aee"
      },
      "execution_count": null,
      "outputs": [
        {
          "output_type": "display_data",
          "data": {
            "text/html": [
              "<table class=\"dataframe\">\n",
              "<caption>A data.frame: 6 × 20</caption>\n",
              "<thead>\n",
              "\t<tr><th></th><th scope=col>fragile_building</th><th scope=col>ground_floor_type_v</th><th scope=col>foundation_type_w</th><th scope=col>foundation_type_r</th><th scope=col>roof_type_x</th><th scope=col>ground_floor_type_f</th><th scope=col>has_superstructure_cement_mortar_brick</th><th scope=col>has_superstructure_mud_mortar_stone</th><th scope=col>foundation_type_i</th><th scope=col>foundation_type_u</th><th scope=col>other_floor_type_q</th><th scope=col>other_floor_type_j</th><th scope=col>other_floor_type_s</th><th scope=col>age_category_jeune</th><th scope=col>age_category_moyen</th><th scope=col>count_floors_pre_eq</th><th scope=col>has_superstructure_rc_engineered</th><th scope=col>roof_type_n</th><th scope=col>roof_type_q</th><th scope=col>has_superstructure_rc_non_engineered</th></tr>\n",
              "\t<tr><th></th><th scope=col>&lt;dbl&gt;</th><th scope=col>&lt;dbl&gt;</th><th scope=col>&lt;dbl&gt;</th><th scope=col>&lt;dbl&gt;</th><th scope=col>&lt;dbl&gt;</th><th scope=col>&lt;dbl&gt;</th><th scope=col>&lt;int&gt;</th><th scope=col>&lt;int&gt;</th><th scope=col>&lt;dbl&gt;</th><th scope=col>&lt;dbl&gt;</th><th scope=col>&lt;dbl&gt;</th><th scope=col>&lt;dbl&gt;</th><th scope=col>&lt;dbl&gt;</th><th scope=col>&lt;dbl&gt;</th><th scope=col>&lt;dbl&gt;</th><th scope=col>&lt;int&gt;</th><th scope=col>&lt;int&gt;</th><th scope=col>&lt;dbl&gt;</th><th scope=col>&lt;dbl&gt;</th><th scope=col>&lt;int&gt;</th></tr>\n",
              "</thead>\n",
              "<tbody>\n",
              "\t<tr><th scope=row>802906</th><td>1</td><td>0</td><td>0</td><td>1</td><td>0</td><td>1</td><td>0</td><td>1</td><td>0</td><td>0</td><td>1</td><td>0</td><td>0</td><td>0</td><td>1</td><td>2</td><td>0</td><td>1</td><td>0</td><td>0</td></tr>\n",
              "\t<tr><th scope=row>28830</th><td>1</td><td>0</td><td>0</td><td>1</td><td>0</td><td>0</td><td>0</td><td>1</td><td>0</td><td>0</td><td>1</td><td>0</td><td>0</td><td>1</td><td>0</td><td>2</td><td>0</td><td>1</td><td>0</td><td>0</td></tr>\n",
              "\t<tr><th scope=row>94947</th><td>1</td><td>0</td><td>0</td><td>1</td><td>0</td><td>1</td><td>0</td><td>1</td><td>0</td><td>0</td><td>0</td><td>0</td><td>0</td><td>1</td><td>0</td><td>2</td><td>0</td><td>1</td><td>0</td><td>0</td></tr>\n",
              "\t<tr><th scope=row>590882</th><td>1</td><td>0</td><td>0</td><td>1</td><td>0</td><td>1</td><td>0</td><td>1</td><td>0</td><td>0</td><td>0</td><td>0</td><td>0</td><td>1</td><td>0</td><td>2</td><td>0</td><td>1</td><td>0</td><td>0</td></tr>\n",
              "\t<tr><th scope=row>201944</th><td>1</td><td>0</td><td>0</td><td>1</td><td>0</td><td>1</td><td>0</td><td>0</td><td>0</td><td>0</td><td>0</td><td>0</td><td>0</td><td>0</td><td>1</td><td>3</td><td>0</td><td>1</td><td>0</td><td>0</td></tr>\n",
              "\t<tr><th scope=row>333020</th><td>1</td><td>0</td><td>0</td><td>1</td><td>0</td><td>1</td><td>0</td><td>1</td><td>0</td><td>0</td><td>1</td><td>0</td><td>0</td><td>1</td><td>0</td><td>2</td><td>0</td><td>1</td><td>0</td><td>0</td></tr>\n",
              "</tbody>\n",
              "</table>\n"
            ],
            "text/markdown": "\nA data.frame: 6 × 20\n\n| <!--/--> | fragile_building &lt;dbl&gt; | ground_floor_type_v &lt;dbl&gt; | foundation_type_w &lt;dbl&gt; | foundation_type_r &lt;dbl&gt; | roof_type_x &lt;dbl&gt; | ground_floor_type_f &lt;dbl&gt; | has_superstructure_cement_mortar_brick &lt;int&gt; | has_superstructure_mud_mortar_stone &lt;int&gt; | foundation_type_i &lt;dbl&gt; | foundation_type_u &lt;dbl&gt; | other_floor_type_q &lt;dbl&gt; | other_floor_type_j &lt;dbl&gt; | other_floor_type_s &lt;dbl&gt; | age_category_jeune &lt;dbl&gt; | age_category_moyen &lt;dbl&gt; | count_floors_pre_eq &lt;int&gt; | has_superstructure_rc_engineered &lt;int&gt; | roof_type_n &lt;dbl&gt; | roof_type_q &lt;dbl&gt; | has_superstructure_rc_non_engineered &lt;int&gt; |\n|---|---|---|---|---|---|---|---|---|---|---|---|---|---|---|---|---|---|---|---|---|\n| 802906 | 1 | 0 | 0 | 1 | 0 | 1 | 0 | 1 | 0 | 0 | 1 | 0 | 0 | 0 | 1 | 2 | 0 | 1 | 0 | 0 |\n| 28830 | 1 | 0 | 0 | 1 | 0 | 0 | 0 | 1 | 0 | 0 | 1 | 0 | 0 | 1 | 0 | 2 | 0 | 1 | 0 | 0 |\n| 94947 | 1 | 0 | 0 | 1 | 0 | 1 | 0 | 1 | 0 | 0 | 0 | 0 | 0 | 1 | 0 | 2 | 0 | 1 | 0 | 0 |\n| 590882 | 1 | 0 | 0 | 1 | 0 | 1 | 0 | 1 | 0 | 0 | 0 | 0 | 0 | 1 | 0 | 2 | 0 | 1 | 0 | 0 |\n| 201944 | 1 | 0 | 0 | 1 | 0 | 1 | 0 | 0 | 0 | 0 | 0 | 0 | 0 | 0 | 1 | 3 | 0 | 1 | 0 | 0 |\n| 333020 | 1 | 0 | 0 | 1 | 0 | 1 | 0 | 1 | 0 | 0 | 1 | 0 | 0 | 1 | 0 | 2 | 0 | 1 | 0 | 0 |\n\n",
            "text/latex": "A data.frame: 6 × 20\n\\begin{tabular}{r|llllllllllllllllllll}\n  & fragile\\_building & ground\\_floor\\_type\\_v & foundation\\_type\\_w & foundation\\_type\\_r & roof\\_type\\_x & ground\\_floor\\_type\\_f & has\\_superstructure\\_cement\\_mortar\\_brick & has\\_superstructure\\_mud\\_mortar\\_stone & foundation\\_type\\_i & foundation\\_type\\_u & other\\_floor\\_type\\_q & other\\_floor\\_type\\_j & other\\_floor\\_type\\_s & age\\_category\\_jeune & age\\_category\\_moyen & count\\_floors\\_pre\\_eq & has\\_superstructure\\_rc\\_engineered & roof\\_type\\_n & roof\\_type\\_q & has\\_superstructure\\_rc\\_non\\_engineered\\\\\n  & <dbl> & <dbl> & <dbl> & <dbl> & <dbl> & <dbl> & <int> & <int> & <dbl> & <dbl> & <dbl> & <dbl> & <dbl> & <dbl> & <dbl> & <int> & <int> & <dbl> & <dbl> & <int>\\\\\n\\hline\n\t802906 & 1 & 0 & 0 & 1 & 0 & 1 & 0 & 1 & 0 & 0 & 1 & 0 & 0 & 0 & 1 & 2 & 0 & 1 & 0 & 0\\\\\n\t28830 & 1 & 0 & 0 & 1 & 0 & 0 & 0 & 1 & 0 & 0 & 1 & 0 & 0 & 1 & 0 & 2 & 0 & 1 & 0 & 0\\\\\n\t94947 & 1 & 0 & 0 & 1 & 0 & 1 & 0 & 1 & 0 & 0 & 0 & 0 & 0 & 1 & 0 & 2 & 0 & 1 & 0 & 0\\\\\n\t590882 & 1 & 0 & 0 & 1 & 0 & 1 & 0 & 1 & 0 & 0 & 0 & 0 & 0 & 1 & 0 & 2 & 0 & 1 & 0 & 0\\\\\n\t201944 & 1 & 0 & 0 & 1 & 0 & 1 & 0 & 0 & 0 & 0 & 0 & 0 & 0 & 0 & 1 & 3 & 0 & 1 & 0 & 0\\\\\n\t333020 & 1 & 0 & 0 & 1 & 0 & 1 & 0 & 1 & 0 & 0 & 1 & 0 & 0 & 1 & 0 & 2 & 0 & 1 & 0 & 0\\\\\n\\end{tabular}\n",
            "text/plain": [
              "       fragile_building ground_floor_type_v foundation_type_w foundation_type_r\n",
              "802906 1                0                   0                 1                \n",
              "28830  1                0                   0                 1                \n",
              "94947  1                0                   0                 1                \n",
              "590882 1                0                   0                 1                \n",
              "201944 1                0                   0                 1                \n",
              "333020 1                0                   0                 1                \n",
              "       roof_type_x ground_floor_type_f has_superstructure_cement_mortar_brick\n",
              "802906 0           1                   0                                     \n",
              "28830  0           0                   0                                     \n",
              "94947  0           1                   0                                     \n",
              "590882 0           1                   0                                     \n",
              "201944 0           1                   0                                     \n",
              "333020 0           1                   0                                     \n",
              "       has_superstructure_mud_mortar_stone foundation_type_i foundation_type_u\n",
              "802906 1                                   0                 0                \n",
              "28830  1                                   0                 0                \n",
              "94947  1                                   0                 0                \n",
              "590882 1                                   0                 0                \n",
              "201944 0                                   0                 0                \n",
              "333020 1                                   0                 0                \n",
              "       other_floor_type_q other_floor_type_j other_floor_type_s\n",
              "802906 1                  0                  0                 \n",
              "28830  1                  0                  0                 \n",
              "94947  0                  0                  0                 \n",
              "590882 0                  0                  0                 \n",
              "201944 0                  0                  0                 \n",
              "333020 1                  0                  0                 \n",
              "       age_category_jeune age_category_moyen count_floors_pre_eq\n",
              "802906 0                  1                  2                  \n",
              "28830  1                  0                  2                  \n",
              "94947  1                  0                  2                  \n",
              "590882 1                  0                  2                  \n",
              "201944 0                  1                  3                  \n",
              "333020 1                  0                  2                  \n",
              "       has_superstructure_rc_engineered roof_type_n roof_type_q\n",
              "802906 0                                1           0          \n",
              "28830  0                                1           0          \n",
              "94947  0                                1           0          \n",
              "590882 0                                1           0          \n",
              "201944 0                                1           0          \n",
              "333020 0                                1           0          \n",
              "       has_superstructure_rc_non_engineered\n",
              "802906 0                                   \n",
              "28830  0                                   \n",
              "94947  0                                   \n",
              "590882 0                                   \n",
              "201944 0                                   \n",
              "333020 0                                   "
            ]
          },
          "metadata": {}
        }
      ]
    },
    {
      "cell_type": "code",
      "source": [
        "Y_train <- train.labels$damage_grade\n",
        "data_training <- cbind(X_train_selected, damage_grade = Y_train)\n",
        "dim(data_training)\n",
        "head(Y_train) \n"
      ],
      "metadata": {
        "colab": {
          "base_uri": "https://localhost:8080/",
          "height": 52
        },
        "id": "T0yK23MDHqMU",
        "outputId": "ad0bcba3-a4f3-4b71-d023-db9851d32090"
      },
      "execution_count": null,
      "outputs": [
        {
          "output_type": "display_data",
          "data": {
            "text/html": [
              "<style>\n",
              ".list-inline {list-style: none; margin:0; padding: 0}\n",
              ".list-inline>li {display: inline-block}\n",
              ".list-inline>li:not(:last-child)::after {content: \"\\00b7\"; padding: 0 .5ex}\n",
              "</style>\n",
              "<ol class=list-inline><li>260601</li><li>21</li></ol>\n"
            ],
            "text/markdown": "1. 260601\n2. 21\n\n\n",
            "text/latex": "\\begin{enumerate*}\n\\item 260601\n\\item 21\n\\end{enumerate*}\n",
            "text/plain": [
              "[1] 260601     21"
            ]
          },
          "metadata": {}
        },
        {
          "output_type": "display_data",
          "data": {
            "text/html": [
              "<style>\n",
              ".list-inline {list-style: none; margin:0; padding: 0}\n",
              ".list-inline>li {display: inline-block}\n",
              ".list-inline>li:not(:last-child)::after {content: \"\\00b7\"; padding: 0 .5ex}\n",
              "</style>\n",
              "<ol class=list-inline><li>3</li><li>2</li><li>3</li><li>2</li><li>3</li><li>2</li></ol>\n"
            ],
            "text/markdown": "1. 3\n2. 2\n3. 3\n4. 2\n5. 3\n6. 2\n\n\n",
            "text/latex": "\\begin{enumerate*}\n\\item 3\n\\item 2\n\\item 3\n\\item 2\n\\item 3\n\\item 2\n\\end{enumerate*}\n",
            "text/plain": [
              "[1] 3 2 3 2 3 2"
            ]
          },
          "metadata": {}
        }
      ]
    },
    {
      "cell_type": "code",
      "source": [
        "\n",
        "CV_folds <- 10\n",
        "#n_variables <- 20\n",
        "\n",
        "\n",
        "size_CV <- floor(N / CV_folds)\n",
        "\n",
        "CV_err <- matrix(0, nrow = n, ncol = CV_folds)\n",
        "\n",
        "for (i in 1:CV_folds) {\n",
        "    \n",
        "    idx_ts <- (((i - 1) * size_CV + 1):(i * size_CV))\n",
        "    X_ts <- encoded_train_data[idx_ts,]\n",
        "    Y_ts <- train_labels$damage_grade[idx_ts]\n",
        "    \n",
        "    idx_tr <- setdiff(1:N, idx_ts)\n",
        "    X_tr <- encoded_train_data[idx_tr,]\n",
        "    Y_tr <- train_labels$damage_grade[idx_tr]\n",
        "    \n",
        "    correlation <- abs(cor(X_tr, Y_tr))\n",
        "    \n",
        "    selected <- c()\n",
        "    candidates <- 1:n\n",
        "    \n",
        "    for (j in 1:n) {\n",
        "        redundancy_score <- numeric(length(candidates))\n",
        "        \n",
        "        if (length(selected) > 0) {\n",
        "            cor_selected_candidates <- cor(X_tr[, selected, drop = F], X_tr[, candidates, drop = F])\n",
        "            redundancy_score <- apply(cor_selected_candidates, 2, mean)\n",
        "        }\n",
        "        \n",
        "        mRMR_score <- correlation[candidates] - redundancy_score\n",
        "        selected_current <- candidates[which.max(mRMR_score)]\n",
        "        selected <- c(selected, selected_current)\n",
        "        candidates <- setdiff(candidates, selected_current)\n",
        "    }\n",
        "    \n",
        "    ranking <- selected\n",
        "     \n",
        "    for (nb_features in 1:n) {\n",
        "        DS <- cbind(X_tr[, ranking[1:nb_features], drop = F], damage_grade = Y_tr)\n",
        "       # Model fit (using lm function)\n",
        "        model<- lm(damage_grade~.,DS)\n",
        "        Y_hat_ts<- predict(model,X_ts[,ranking[1:nb_features],drop=F])\n",
        "        \n",
        "        # Cross-validation error = MSE\n",
        "        CV_err[nb_features,i]<-mean((Y_hat_ts-Y_ts)^2)\n",
        "    }\n",
        "}  \n",
        "\n",
        "print(paste(\"#Features: \", c(1:n), \" ; CV error=\", round(apply(CV_err, 1, mean), digits = 4), \" ; std dev=\", round(apply(CV_err, 1, sd), digits = 4)))\n",
        "\n",
        "CV_err_svm_single_model_fs <- CV_err\n"
      ],
      "metadata": {
        "id": "2LM-S5ZJHqOS"
      },
      "execution_count": null,
      "outputs": []
    },
    {
      "cell_type": "code",
      "source": [
        "CV_folds <- 10\n",
        "#PCA\n",
        "size_CV <-floor(N/CV_folds)\n",
        "\n",
        "CV_err<-matrix(0,nrow=n,ncol=CV_folds)\n",
        "\n",
        "# Compute PCA on the full input dataset X and return the dataset transformed in the space of principal components\n",
        "X_pca<-data.frame(prcomp(encoded_train_data,retx=T)$x)\n",
        "\n",
        "for (i in 1:CV_folds) {\n",
        "    \n",
        "    idx_ts<-(((i-1)*size_CV+1):(i*size_CV))  ### idx_ts represents the indices of the test set the i-th fold\n",
        "    X_ts<-X_pca[idx_ts,]  \n",
        "    Y_ts<-train_labels$damage_grade[idx_ts]  \n",
        "     \n",
        "    idx_tr<-setdiff(1:N,idx_ts) ### idx_tr represents  indices of the training sefor the i-th fold\n",
        "    X_tr<-X_pca[idx_tr,]\n",
        "    Y_tr<-train_labels$damage_grade[idx_tr]         \n",
        "     \n",
        "    for (nb_features in 1:n) {\n",
        "        # Create a dataset including only the first nb_features principal components\n",
        "        DS<-cbind(X_tr[,1:nb_features,drop=F],damage_grade=Y_tr)\n",
        "        \n",
        "        # Model fit (using lm function)\n",
        "        model<- lm(damage_grade~.,DS)\n",
        "        \n",
        "        # Model predict\n",
        "        Y_hat_ts<- predict(model,X_ts[,1:nb_features,drop=F])\n",
        "        \n",
        "        CV_err[nb_features,i]<-mean((Y_hat_ts-Y_ts)^2)\n",
        "    }\n",
        "}  \n",
        "\n",
        "print(paste(\"#features: \",c(1:n),\" ; CV error=\",round(apply(CV_err,1,mean),digits=4), \" ;  std dev=\",round(apply(CV_err,1,sd),digits=4)))"
      ],
      "metadata": {
        "id": "knjlBtWzE0QX"
      },
      "execution_count": null,
      "outputs": []
    },
    {
      "cell_type": "code",
      "source": [
        "CV_folds <- 10\n",
        "\n",
        "size_CV <-floor(N/CV_folds)\n",
        "#selected_nb_features <- 69\n",
        "CV_err<-matrix(0,nrow=n,ncol=CV_folds)\n",
        "\n",
        "for (i in 1:CV_folds) {\n",
        "    \n",
        "    idx_ts<-(((i-1)*size_CV+1):(i*size_CV))  ### idx_ts represents the indices of the test set the i-th fold\n",
        "    X_ts<-encoded_train_data[idx_ts,]\n",
        "    Y_ts<-train_labels$damage_grade[idx_ts]\n",
        "     \n",
        "    idx_tr<-setdiff(1:N,idx_ts) ### idx_tr represents  indices of the training sefor the i-th fold\n",
        "    X_tr<-encoded_train_data[idx_tr,]\n",
        "    Y_tr<-train_labels$damage_grade[idx_tr]                          \n",
        "    \n",
        "    # Compute correlation across all the input variables and the target variable\n",
        "    correlation_vector <-abs(cor(X_tr,Y_tr))\n",
        "    # Rank variables according to correlation with the output\n",
        "    correlation_ranking_idx <-sort(correlation_vector,dec=T,index.return=T)$ix\n",
        "     \n",
        "    for (nb_features in 1:n) {\n",
        "        # Create a dataset including only the nb_features most correlated variables with the output\n",
        "        DS<-cbind(X_tr[,correlation_ranking_idx[1:nb_features],drop=F],damage_grade=Y_tr)\n",
        "        # Model fit (using lm function)\n",
        "        model<- lm(damage_grade~.,DS)\n",
        "        \n",
        "        # Model prediction\n",
        "        Y_hat_ts<- predict(model,X_ts[,correlation_ranking_idx[1:nb_features],drop=F])\n",
        "        \n",
        "        # Cross validation error = MSE\n",
        "        CV_err[nb_features,i] <- mean((Y_hat_ts-Y_ts)^2)\n",
        "    }\n",
        "}  \n",
        "\n",
        "print(paste(\"#Features: \",c(1:n),\" ; CV error=\",round(apply(CV_err,1,mean),digits=4), \" ; std dev=\",round(apply(CV_err,1,sd),digits=4)))\n",
        "\n",
        "variable_names <- names(X_tr)[correlation_ranking_idx[1:nb_features]]\n",
        "print(paste(variable_names))\n",
        "correlation_ranking_idx"
      ],
      "metadata": {
        "id": "yR4Owr_hulcZ"
      },
      "execution_count": null,
      "outputs": []
    }
  ],
  "metadata": {
    "colab": {
      "provenance": [],
      "include_colab_link": true
    },
    "kernelspec": {
      "display_name": "R",
      "language": "R",
      "name": "ir"
    },
    "language_info": {
      "codemirror_mode": "r",
      "file_extension": ".r",
      "mimetype": "text/x-r-source",
      "name": "R",
      "pygments_lexer": "r",
      "version": "4.1.3"
    }
  },
  "nbformat": 4,
  "nbformat_minor": 0
}