{
  "cells": [
    {
      "cell_type": "markdown",
      "metadata": {
        "id": "view-in-github",
        "colab_type": "text"
      },
      "source": [
        "<a href=\"https://colab.research.google.com/github/cedric-bit/MLP/blob/main/LEDKDC.ipynb\" target=\"_parent\"><img src=\"https://colab.research.google.com/assets/colab-badge.svg\" alt=\"Open In Colab\"/></a>"
      ]
    },
    {
      "cell_type": "markdown",
      "id": "508981c3",
      "metadata": {
        "id": "508981c3"
      },
      "source": [
        "# INFO-F-422 - Statistical Foundations of Machine Learning\n",
        "## Project: Modeling Earthquake Damage\n",
        "# INTRODUCTION\n",
        "DrivenData competition Richter's Predictor: Modeling Earthquake Damage \n",
        "\n",
        "The main objective of this project is to develop a prediction model capable of estimating the level of damage to buildings during the 2015 Nepal earthquake, based on various structural and geographical characteristics.\n",
        "\n",
        "For this project, we have a dataset comprised of train_features, test_features, and train_labels. Both train_features and test_features include information on buildings, their structure, geographical location, and legal status, collected after the Gorkha earthquake. These datasets have 39 columns each, with the building_id column serving as a unique and random identifier. The remaining 38 features provide information about the building, its structure, construction materials, location, etc., which are useful for predicting damage. The train_labels dataset contains the known output values (damage_grade) for the training data in train_features"
      ]
    },
    {
      "cell_type": "code",
      "execution_count": 38,
      "id": "6635f64a",
      "metadata": {
        "colab": {
          "base_uri": "https://localhost:8080/"
        },
        "id": "6635f64a",
        "outputId": "beb5b68d-7bb9-41ba-d667-7d8fc3bc9833"
      },
      "outputs": [
        {
          "output_type": "stream",
          "name": "stderr",
          "text": [
            "Installing package into ‘/usr/local/lib/R/site-library’\n",
            "(as ‘lib’ is unspecified)\n",
            "\n"
          ]
        }
      ],
      "source": [
        "install.packages(\"ggplot2\")\n",
        "library(ggplot2)\n"
      ]
    },
    {
      "cell_type": "code",
      "execution_count": 39,
      "id": "99a6d98f",
      "metadata": {
        "id": "99a6d98f"
      },
      "outputs": [],
      "source": [
        "set.seed(5)"
      ]
    },
    {
      "cell_type": "markdown",
      "source": [
        "# Data preprocessing\n",
        "Data pre-processing is an important step in the analysis of our data. This involves cleaning, transforming and normalising the data to make it ready to be used to train machine learning models.\n",
        "\n",
        "As I mentioned earlier, we have three CSV files of data that can be downloaded from the competition site :\n",
        "\n",
        "* train_features: file contains the training data that will be used to \n",
        "train machine learning models. The data in this file includes input features and known the target variable).\n",
        "\n",
        "* train_labels: This file contains the known output values for the training data in train_features. These known output values will be used to train and evaluate the performance of machine learning models.\n",
        "\n",
        "* test_features: This file contains new data that the trained machine learning models will be used to make predictions on. This file contains input features for which the target variable (i.e., the output) is not known."
      ],
      "metadata": {
        "id": "hgTA1yG1TeZ2"
      },
      "id": "hgTA1yG1TeZ2"
    },
    {
      "cell_type": "code",
      "execution_count": 40,
      "id": "4c25ae12",
      "metadata": {
        "id": "4c25ae12"
      },
      "outputs": [],
      "source": [
        "train_features <- read.csv(file=\"train_values.csv\",stringsAsFactors = T)\n",
        "train_labels <- read.csv(file=\"train_labels.csv\",stringsAsFactors = T)\n",
        "test_features <- read.csv(file=\"test_values.csv\",stringsAsFactors = T)"
      ]
    },
    {
      "cell_type": "code",
      "execution_count": 41,
      "id": "5cf0a4a6",
      "metadata": {
        "colab": {
          "base_uri": "https://localhost:8080/",
          "height": 52
        },
        "id": "5cf0a4a6",
        "outputId": "def20a9b-cef3-4f14-dfd0-b5ec861ccae4"
      },
      "outputs": [
        {
          "output_type": "display_data",
          "data": {
            "text/html": [
              "<style>\n",
              ".list-inline {list-style: none; margin:0; padding: 0}\n",
              ".list-inline>li {display: inline-block}\n",
              ".list-inline>li:not(:last-child)::after {content: \"\\00b7\"; padding: 0 .5ex}\n",
              "</style>\n",
              "<ol class=list-inline><li>260601</li><li>39</li></ol>\n"
            ],
            "text/markdown": "1. 260601\n2. 39\n\n\n",
            "text/latex": "\\begin{enumerate*}\n\\item 260601\n\\item 39\n\\end{enumerate*}\n",
            "text/plain": [
              "[1] 260601     39"
            ]
          },
          "metadata": {}
        },
        {
          "output_type": "display_data",
          "data": {
            "text/html": [
              "<style>\n",
              ".list-inline {list-style: none; margin:0; padding: 0}\n",
              ".list-inline>li {display: inline-block}\n",
              ".list-inline>li:not(:last-child)::after {content: \"\\00b7\"; padding: 0 .5ex}\n",
              "</style>\n",
              "<ol class=list-inline><li>86868</li><li>39</li></ol>\n"
            ],
            "text/markdown": "1. 86868\n2. 39\n\n\n",
            "text/latex": "\\begin{enumerate*}\n\\item 86868\n\\item 39\n\\end{enumerate*}\n",
            "text/plain": [
              "[1] 86868    39"
            ]
          },
          "metadata": {}
        }
      ],
      "source": [
        "dim(train_features)\n",
        "dim(test_features) "
      ]
    },
    {
      "cell_type": "code",
      "source": [],
      "metadata": {
        "id": "fRV5wd98ocoA"
      },
      "id": "fRV5wd98ocoA",
      "execution_count": 42,
      "outputs": []
    },
    {
      "cell_type": "markdown",
      "source": [
        "This means that our training set contains 260601 building observations and their 39 associated features and test set contains 86868 building observations and their 39 associated features. we can observe that we have l small data for test feature.the building identifier *building_id* has no more information on the prediction, we will remove this variable for the rest of the project.\n",
        "\n"
      ],
      "metadata": {
        "id": "AJmqyGaBskd1"
      },
      "id": "AJmqyGaBskd1"
    },
    {
      "cell_type": "code",
      "source": [
        "str(train_labels)\n",
        "dim(train_labels)"
      ],
      "metadata": {
        "colab": {
          "base_uri": "https://localhost:8080/",
          "height": 89
        },
        "id": "KpKv4G4zo6dn",
        "outputId": "9cb04dec-9b4b-4b62-efd9-740ee53f8a60"
      },
      "id": "KpKv4G4zo6dn",
      "execution_count": 43,
      "outputs": [
        {
          "output_type": "stream",
          "name": "stdout",
          "text": [
            "'data.frame':\t260601 obs. of  2 variables:\n",
            " $ building_id : int  802906 28830 94947 590882 201944 333020 728451 475515 441126 989500 ...\n",
            " $ damage_grade: int  3 2 3 2 3 2 3 1 2 1 ...\n"
          ]
        },
        {
          "output_type": "display_data",
          "data": {
            "text/html": [
              "<style>\n",
              ".list-inline {list-style: none; margin:0; padding: 0}\n",
              ".list-inline>li {display: inline-block}\n",
              ".list-inline>li:not(:last-child)::after {content: \"\\00b7\"; padding: 0 .5ex}\n",
              "</style>\n",
              "<ol class=list-inline><li>260601</li><li>2</li></ol>\n"
            ],
            "text/markdown": "1. 260601\n2. 2\n\n\n",
            "text/latex": "\\begin{enumerate*}\n\\item 260601\n\\item 2\n\\end{enumerate*}\n",
            "text/plain": [
              "[1] 260601      2"
            ]
          },
          "metadata": {}
        }
      ]
    },
    {
      "cell_type": "code",
      "source": [
        "ggplot(train_labels, aes(x = damage_grade)) +\n",
        "  geom_histogram(binwidth = 1, fill = \"steelblue\", color = \"black\", alpha = 0.7) +\n",
        "  labs(title = \"Distribution variable damage_grade\",\n",
        "       x = \"level of damage\",\n",
        "       y = \"Number of building\") +\n",
        "  theme_minimal()\n"
      ],
      "metadata": {
        "colab": {
          "base_uri": "https://localhost:8080/",
          "height": 437
        },
        "id": "Euyvdv2DdkkQ",
        "outputId": "36de5eb9-61d7-4f7a-f4da-18fc8e53366d"
      },
      "id": "Euyvdv2DdkkQ",
      "execution_count": 44,
      "outputs": [
        {
          "output_type": "display_data",
          "data": {
            "text/plain": [
              "plot without title"
            ],
            "image/png": "[encoded data removed]"
          },
          "metadata": {
            "image/png": {
              "width": 420,
              "height": 420
            }
          }
        }
      ]
    },
    {
      "cell_type": "markdown",
      "source": [
        "We can see that the damage_grade variable is a categorical variable. It represents the level of damage suffered by the building affected by the earthquake. \n",
        "\n",
        "There are three levels of damage:\n",
        "\n",
        "* 1 = represents a low level of damage\n",
        "* 2 = represents a medium level of damage\n",
        "* 3 = represents almost complete destruction"
      ],
      "metadata": {
        "id": "Am1JVarep4so"
      },
      "id": "Am1JVarep4so"
    },
    {
      "cell_type": "code",
      "execution_count": 45,
      "id": "e17f16dc",
      "metadata": {
        "colab": {
          "base_uri": "https://localhost:8080/"
        },
        "id": "e17f16dc",
        "outputId": "5aea0006-5ef9-4eef-adf3-c73853b00931"
      },
      "outputs": [
        {
          "output_type": "stream",
          "name": "stdout",
          "text": [
            "'data.frame':\t260601 obs. of  39 variables:\n",
            " $ building_id                           : int  802906 28830 94947 590882 201944 333020 728451 475515 441126 989500 ...\n",
            " $ geo_level_1_id                        : int  6 8 21 22 11 8 9 20 0 26 ...\n",
            " $ geo_level_2_id                        : int  487 900 363 418 131 558 475 323 757 886 ...\n",
            " $ geo_level_3_id                        : int  12198 2812 8973 10694 1488 6089 12066 12236 7219 994 ...\n",
            " $ count_floors_pre_eq                   : int  2 2 2 2 3 2 2 2 2 1 ...\n",
            " $ age                                   : int  30 10 10 10 30 10 25 0 15 0 ...\n",
            " $ area_percentage                       : int  6 8 5 6 8 9 3 8 8 13 ...\n",
            " $ height_percentage                     : int  5 7 5 5 9 5 4 6 6 4 ...\n",
            " $ land_surface_condition                : Factor w/ 3 levels \"n\",\"o\",\"t\": 3 2 3 3 3 3 1 3 3 3 ...\n",
            " $ foundation_type                       : Factor w/ 5 levels \"h\",\"i\",\"r\",\"u\",..: 3 3 3 3 3 3 3 5 3 2 ...\n",
            " $ roof_type                             : Factor w/ 3 levels \"n\",\"q\",\"x\": 1 1 1 1 1 1 1 2 2 1 ...\n",
            " $ ground_floor_type                     : Factor w/ 5 levels \"f\",\"m\",\"v\",\"x\",..: 1 4 1 1 1 1 4 3 1 3 ...\n",
            " $ other_floor_type                      : Factor w/ 4 levels \"j\",\"q\",\"s\",\"x\": 2 2 4 4 4 2 2 4 2 1 ...\n",
            " $ position                              : Factor w/ 4 levels \"j\",\"o\",\"s\",\"t\": 4 3 4 3 3 3 3 3 3 3 ...\n",
            " $ plan_configuration                    : Factor w/ 10 levels \"a\",\"c\",\"d\",\"f\",..: 3 3 3 3 3 3 3 10 3 3 ...\n",
            " $ has_superstructure_adobe_mud          : int  1 0 0 0 1 0 0 0 0 0 ...\n",
            " $ has_superstructure_mud_mortar_stone   : int  1 1 1 1 0 1 1 0 1 0 ...\n",
            " $ has_superstructure_stone_flag         : int  0 0 0 0 0 0 0 0 0 0 ...\n",
            " $ has_superstructure_cement_mortar_stone: int  0 0 0 0 0 0 0 0 0 0 ...\n",
            " $ has_superstructure_mud_mortar_brick   : int  0 0 0 0 0 0 0 0 0 0 ...\n",
            " $ has_superstructure_cement_mortar_brick: int  0 0 0 0 0 0 0 1 0 1 ...\n",
            " $ has_superstructure_timber             : int  0 0 0 1 0 0 0 1 1 0 ...\n",
            " $ has_superstructure_bamboo             : int  0 0 0 1 0 0 0 0 0 0 ...\n",
            " $ has_superstructure_rc_non_engineered  : int  0 0 0 0 0 0 0 0 0 0 ...\n",
            " $ has_superstructure_rc_engineered      : int  0 0 0 0 0 0 0 0 0 0 ...\n",
            " $ has_superstructure_other              : int  0 0 0 0 0 0 0 0 0 0 ...\n",
            " $ legal_ownership_status                : Factor w/ 4 levels \"a\",\"r\",\"v\",\"w\": 3 3 3 3 3 3 3 3 3 3 ...\n",
            " $ count_families                        : int  1 1 1 1 1 1 1 1 1 1 ...\n",
            " $ has_secondary_use                     : int  0 0 0 0 0 1 0 0 0 0 ...\n",
            " $ has_secondary_use_agriculture         : int  0 0 0 0 0 1 0 0 0 0 ...\n",
            " $ has_secondary_use_hotel               : int  0 0 0 0 0 0 0 0 0 0 ...\n",
            " $ has_secondary_use_rental              : int  0 0 0 0 0 0 0 0 0 0 ...\n",
            " $ has_secondary_use_institution         : int  0 0 0 0 0 0 0 0 0 0 ...\n",
            " $ has_secondary_use_school              : int  0 0 0 0 0 0 0 0 0 0 ...\n",
            " $ has_secondary_use_industry            : int  0 0 0 0 0 0 0 0 0 0 ...\n",
            " $ has_secondary_use_health_post         : int  0 0 0 0 0 0 0 0 0 0 ...\n",
            " $ has_secondary_use_gov_office          : int  0 0 0 0 0 0 0 0 0 0 ...\n",
            " $ has_secondary_use_use_police          : int  0 0 0 0 0 0 0 0 0 0 ...\n",
            " $ has_secondary_use_other               : int  0 0 0 0 0 0 0 0 0 0 ...\n"
          ]
        }
      ],
      "source": [
        "str(train_features)"
      ]
    },
    {
      "cell_type": "code",
      "execution_count": 46,
      "id": "e1525f32",
      "metadata": {
        "colab": {
          "base_uri": "https://localhost:8080/"
        },
        "id": "e1525f32",
        "outputId": "6c9bd382-34af-4f98-b45f-9d0685fe460e"
      },
      "outputs": [
        {
          "output_type": "stream",
          "name": "stdout",
          "text": [
            "'data.frame':\t86868 obs. of  39 variables:\n",
            " $ building_id                           : int  300051 99355 890251 745817 421793 871976 691228 896100 343471 766647 ...\n",
            " $ geo_level_1_id                        : int  17 6 22 26 17 22 26 8 16 26 ...\n",
            " $ geo_level_2_id                        : int  596 141 19 39 289 170 432 1373 244 761 ...\n",
            " $ geo_level_3_id                        : int  11307 11987 10044 633 7970 4029 6794 958 3521 3137 ...\n",
            " $ count_floors_pre_eq                   : int  3 2 2 1 3 1 2 2 2 2 ...\n",
            " $ age                                   : int  20 25 5 0 15 55 0 35 30 5 ...\n",
            " $ area_percentage                       : int  7 13 4 19 8 4 6 2 6 6 ...\n",
            " $ height_percentage                     : int  6 5 5 3 7 3 7 8 5 7 ...\n",
            " $ land_surface_condition                : Factor w/ 3 levels \"n\",\"o\",\"t\": 3 3 3 3 3 3 1 3 3 1 ...\n",
            " $ foundation_type                       : Factor w/ 5 levels \"h\",\"i\",\"r\",\"u\",..: 3 3 3 3 3 3 3 3 3 3 ...\n",
            " $ roof_type                             : Factor w/ 3 levels \"n\",\"q\",\"x\": 1 1 1 3 2 2 1 1 1 1 ...\n",
            " $ ground_floor_type                     : Factor w/ 5 levels \"f\",\"m\",\"v\",\"x\",..: 1 1 1 3 1 1 3 1 1 1 ...\n",
            " $ other_floor_type                      : Factor w/ 4 levels \"j\",\"q\",\"s\",\"x\": 2 2 2 1 2 1 4 2 4 4 ...\n",
            " $ position                              : Factor w/ 4 levels \"j\",\"o\",\"s\",\"t\": 3 3 3 4 4 3 3 3 3 3 ...\n",
            " $ plan_configuration                    : Factor w/ 10 levels \"a\",\"c\",\"d\",\"f\",..: 3 3 3 3 3 3 3 3 3 3 ...\n",
            " $ has_superstructure_adobe_mud          : int  0 0 0 0 0 0 0 0 0 0 ...\n",
            " $ has_superstructure_mud_mortar_stone   : int  1 1 1 0 1 1 0 1 1 1 ...\n",
            " $ has_superstructure_stone_flag         : int  0 0 0 0 0 0 0 0 0 0 ...\n",
            " $ has_superstructure_cement_mortar_stone: int  0 0 0 0 0 0 0 0 0 0 ...\n",
            " $ has_superstructure_mud_mortar_brick   : int  0 0 0 0 0 0 0 0 0 0 ...\n",
            " $ has_superstructure_cement_mortar_brick: int  0 0 0 1 0 0 1 0 0 0 ...\n",
            " $ has_superstructure_timber             : int  0 0 0 0 0 0 0 0 0 1 ...\n",
            " $ has_superstructure_bamboo             : int  0 0 0 0 0 0 0 0 0 1 ...\n",
            " $ has_superstructure_rc_non_engineered  : int  0 0 0 0 0 0 0 0 0 0 ...\n",
            " $ has_superstructure_rc_engineered      : int  0 0 0 0 0 0 0 0 0 0 ...\n",
            " $ has_superstructure_other              : int  0 0 0 0 0 0 1 0 0 0 ...\n",
            " $ legal_ownership_status                : Factor w/ 4 levels \"a\",\"r\",\"v\",\"w\": 3 3 3 3 3 3 3 3 3 3 ...\n",
            " $ count_families                        : int  1 1 1 2 1 1 1 0 1 1 ...\n",
            " $ has_secondary_use                     : int  0 1 0 1 0 0 0 0 0 0 ...\n",
            " $ has_secondary_use_agriculture         : int  0 1 0 0 0 0 0 0 0 0 ...\n",
            " $ has_secondary_use_hotel               : int  0 0 0 0 0 0 0 0 0 0 ...\n",
            " $ has_secondary_use_rental              : int  0 0 0 1 0 0 0 0 0 0 ...\n",
            " $ has_secondary_use_institution         : int  0 0 0 0 0 0 0 0 0 0 ...\n",
            " $ has_secondary_use_school              : int  0 0 0 0 0 0 0 0 0 0 ...\n",
            " $ has_secondary_use_industry            : int  0 0 0 0 0 0 0 0 0 0 ...\n",
            " $ has_secondary_use_health_post         : int  0 0 0 0 0 0 0 0 0 0 ...\n",
            " $ has_secondary_use_gov_office          : int  0 0 0 0 0 0 0 0 0 0 ...\n",
            " $ has_secondary_use_use_police          : int  0 0 0 0 0 0 0 0 0 0 ...\n",
            " $ has_secondary_use_other               : int  0 0 0 0 0 0 0 0 0 0 ...\n"
          ]
        }
      ],
      "source": [
        "str(test_features)"
      ]
    },
    {
      "cell_type": "markdown",
      "source": [
        "To process this data, we need to know what types of data we have. The get_var_type function allows us to check the existence of categorical, numerical and binary variables in our datasets. We can observe that we have \n",
        "* 8 categorical variables in total, which can take several characteristic values, \n",
        "* 22 binary variables (0 and 1), and finally \n",
        "* 9 numerical variables which represent integers."
      ],
      "metadata": {
        "id": "W6NdiM2HvNOV"
      },
      "id": "W6NdiM2HvNOV"
    },
    {
      "cell_type": "code",
      "execution_count": 47,
      "id": "fbeb5f53",
      "metadata": {
        "colab": {
          "base_uri": "https://localhost:8080/",
          "height": 127
        },
        "id": "fbeb5f53",
        "outputId": "082898bd-4fb7-49e0-e69a-9a966ee469e2"
      },
      "outputs": [
        {
          "output_type": "display_data",
          "data": {
            "text/plain": [
              "var_types\n",
              "     Binary Categorical   Numerical \n",
              "         22           8           9 "
            ]
          },
          "metadata": {}
        },
        {
          "output_type": "display_data",
          "data": {
            "text/plain": [
              "var_types_test\n",
              "     Binary Categorical   Numerical \n",
              "         22           8           9 "
            ]
          },
          "metadata": {}
        }
      ],
      "source": [
        "get_var_type <- function(x) {\n",
        "  if (is.factor(x)) {\n",
        "    return(\"Categorical\")\n",
        "  } else if (length(unique(x)) == 2) {\n",
        "    return(\"Binary\")\n",
        "  } else {\n",
        "    return(\"Numerical\")\n",
        "  }\n",
        "}\n",
        "\n",
        "var_info <- data.frame(variable = names(train_features),\n",
        "                       var_type = sapply(train_features, get_var_type),\n",
        "                       count = sapply(train_features, function(x) length(unique(x))))\n",
        "\n",
        "var_types <- sapply(train_features, get_var_type)\n",
        "type_counts <- table(var_types)\n",
        "type_counts\n",
        "\n",
        "var_info_test <- data.frame(variable = names(test_features),\n",
        "                       var_type = sapply(test_features, get_var_type),\n",
        "                       count = sapply(test_features, function(x) length(unique(x))))\n",
        "\n",
        "var_types_test <- sapply(test_features, get_var_type)\n",
        "type_counts_test <- table(var_types_test)\n",
        "type_counts_test\n"
      ]
    },
    {
      "cell_type": "code",
      "source": [
        "get_var_type <- function(x) {\n",
        "  if (is.factor(x)) {\n",
        "    return(\"Categorical\")\n",
        "  } else if (length(unique(x)) == 2) {\n",
        "    return(\"Binary\")\n",
        "  } else {\n",
        "    return(\"Numerical\")\n",
        "  }\n",
        "}\n",
        "\n",
        "var_types <- sapply(train_features, get_var_type)\n",
        "\n",
        "categorical_indices <- which(var_types == \"Categorical\")\n",
        "binary_indices <- which(var_types == \"Binary\")\n",
        "numeric_indices <- which(var_types == \"Numerical\")\n",
        "categorical_variables <- names(train_features)[categorical_indices]\n",
        "binary_variables <- names(train_features)[binary_indices]\n",
        "numeric_variables <- names(train_features)[numeric_indices]\n",
        "cat(\"Categorical variables:\\n\")\n",
        "print(categorical_variables)\n",
        "\n",
        "cat(\"Binary variables:\\n\")\n",
        "print(binary_variables)\n",
        "\n",
        "cat(\"Numeric variables:\\n\")\n",
        "print(numeric_variables)"
      ],
      "metadata": {
        "colab": {
          "base_uri": "https://localhost:8080/"
        },
        "id": "tOB9YCVEutYv",
        "outputId": "0da685fd-3fcd-4e56-dc43-8038f82a7bf6"
      },
      "id": "tOB9YCVEutYv",
      "execution_count": 48,
      "outputs": [
        {
          "output_type": "stream",
          "name": "stdout",
          "text": [
            "Categorical variables:\n",
            "[1] \"land_surface_condition\" \"foundation_type\"        \"roof_type\"             \n",
            "[4] \"ground_floor_type\"      \"other_floor_type\"       \"position\"              \n",
            "[7] \"plan_configuration\"     \"legal_ownership_status\"\n",
            "Binary variables:\n",
            " [1] \"has_superstructure_adobe_mud\"          \n",
            " [2] \"has_superstructure_mud_mortar_stone\"   \n",
            " [3] \"has_superstructure_stone_flag\"         \n",
            " [4] \"has_superstructure_cement_mortar_stone\"\n",
            " [5] \"has_superstructure_mud_mortar_brick\"   \n",
            " [6] \"has_superstructure_cement_mortar_brick\"\n",
            " [7] \"has_superstructure_timber\"             \n",
            " [8] \"has_superstructure_bamboo\"             \n",
            " [9] \"has_superstructure_rc_non_engineered\"  \n",
            "[10] \"has_superstructure_rc_engineered\"      \n",
            "[11] \"has_superstructure_other\"              \n",
            "[12] \"has_secondary_use\"                     \n",
            "[13] \"has_secondary_use_agriculture\"         \n",
            "[14] \"has_secondary_use_hotel\"               \n",
            "[15] \"has_secondary_use_rental\"              \n",
            "[16] \"has_secondary_use_institution\"         \n",
            "[17] \"has_secondary_use_school\"              \n",
            "[18] \"has_secondary_use_industry\"            \n",
            "[19] \"has_secondary_use_health_post\"         \n",
            "[20] \"has_secondary_use_gov_office\"          \n",
            "[21] \"has_secondary_use_use_police\"          \n",
            "[22] \"has_secondary_use_other\"               \n",
            "Numeric variables:\n",
            "[1] \"building_id\"         \"geo_level_1_id\"      \"geo_level_2_id\"     \n",
            "[4] \"geo_level_3_id\"      \"count_floors_pre_eq\" \"age\"                \n",
            "[7] \"area_percentage\"     \"height_percentage\"   \"count_families\"     \n"
          ]
        }
      ]
    },
    {
      "cell_type": "code",
      "source": [
        "var_types_df <- data.frame(\n",
        "  Type = c(\"Binary\", \"Categorical\", \"Numerical\"),\n",
        "  Count = c(22, 8, 9)\n",
        ")\n",
        "\n",
        "ggplot(var_types_df, aes(x = Type, y = Count, fill = Type)) +\n",
        "  geom_bar(stat = \"identity\", width = 0.5) +\n",
        "  theme_minimal() +\n",
        "  labs(title = \"Number of variables per type\", x = \"Type of variable\", y = \"Number of variables\") +\n",
        "  scale_fill_discrete(name = \"Types of variables\") +\n",
        "  theme(legend.position = \"bottom\")"
      ],
      "metadata": {
        "colab": {
          "base_uri": "https://localhost:8080/",
          "height": 437
        },
        "id": "RmmN-UEyxYpO",
        "outputId": "ad6ef4a0-ac66-4fa9-9a75-07abf720fc11"
      },
      "id": "RmmN-UEyxYpO",
      "execution_count": 49,
      "outputs": [
        {
          "output_type": "display_data",
          "data": {
            "text/plain": [
              "plot without title"
            ],
            "image/png": "[encoded data removed]"
          },
          "metadata": {
            "image/png": {
              "width": 420,
              "height": 420
            }
          }
        }
      ]
    },
    {
      "cell_type": "markdown",
      "source": [
        "## Missing value imputation\n",
        "\n",
        "Our analysis and observations allow us to conclude that the data set contains no missing (MV) or unattributed (NA) values for the variables present. This means that the data are complete and that no imputation or method of handling missing values is necessary for our analysis. The absence of missing values is an advantage for our project, as it reduces the risk of introducing errors in the analysis and the predictive model. It also facilitates the data preparation process, as we can focus on other aspects such as feature selection, feature engineering and model building without having to worry about missing values."
      ],
      "metadata": {
        "id": "pC3cyomtyEst"
      },
      "id": "pC3cyomtyEst"
    },
    {
      "cell_type": "code",
      "source": [
        "missing_values <- sapply(train_features, function(x) sum(is.na(x)))\n",
        "print(missing_values)\n"
      ],
      "metadata": {
        "colab": {
          "base_uri": "https://localhost:8080/"
        },
        "id": "TCPpPxMY0rGB",
        "outputId": "f2360cd8-1e8c-401e-dddc-45859924c271"
      },
      "id": "TCPpPxMY0rGB",
      "execution_count": 50,
      "outputs": [
        {
          "output_type": "stream",
          "name": "stdout",
          "text": [
            "                           building_id                         geo_level_1_id \n",
            "                                     0                                      0 \n",
            "                        geo_level_2_id                         geo_level_3_id \n",
            "                                     0                                      0 \n",
            "                   count_floors_pre_eq                                    age \n",
            "                                     0                                      0 \n",
            "                       area_percentage                      height_percentage \n",
            "                                     0                                      0 \n",
            "                land_surface_condition                        foundation_type \n",
            "                                     0                                      0 \n",
            "                             roof_type                      ground_floor_type \n",
            "                                     0                                      0 \n",
            "                      other_floor_type                               position \n",
            "                                     0                                      0 \n",
            "                    plan_configuration           has_superstructure_adobe_mud \n",
            "                                     0                                      0 \n",
            "   has_superstructure_mud_mortar_stone          has_superstructure_stone_flag \n",
            "                                     0                                      0 \n",
            "has_superstructure_cement_mortar_stone    has_superstructure_mud_mortar_brick \n",
            "                                     0                                      0 \n",
            "has_superstructure_cement_mortar_brick              has_superstructure_timber \n",
            "                                     0                                      0 \n",
            "             has_superstructure_bamboo   has_superstructure_rc_non_engineered \n",
            "                                     0                                      0 \n",
            "      has_superstructure_rc_engineered               has_superstructure_other \n",
            "                                     0                                      0 \n",
            "                legal_ownership_status                         count_families \n",
            "                                     0                                      0 \n",
            "                     has_secondary_use          has_secondary_use_agriculture \n",
            "                                     0                                      0 \n",
            "               has_secondary_use_hotel               has_secondary_use_rental \n",
            "                                     0                                      0 \n",
            "         has_secondary_use_institution               has_secondary_use_school \n",
            "                                     0                                      0 \n",
            "            has_secondary_use_industry          has_secondary_use_health_post \n",
            "                                     0                                      0 \n",
            "          has_secondary_use_gov_office           has_secondary_use_use_police \n",
            "                                     0                                      0 \n",
            "               has_secondary_use_other \n",
            "                                     0 \n"
          ]
        }
      ]
    },
    {
      "cell_type": "code",
      "source": [
        "dim(test_features) \n",
        "dim(na.omit(test_features))"
      ],
      "metadata": {
        "colab": {
          "base_uri": "https://localhost:8080/",
          "height": 52
        },
        "id": "fbtFpfhR1o30",
        "outputId": "92f09353-a80a-4c17-c451-d394b6f7b080"
      },
      "id": "fbtFpfhR1o30",
      "execution_count": 51,
      "outputs": [
        {
          "output_type": "display_data",
          "data": {
            "text/html": [
              "<style>\n",
              ".list-inline {list-style: none; margin:0; padding: 0}\n",
              ".list-inline>li {display: inline-block}\n",
              ".list-inline>li:not(:last-child)::after {content: \"\\00b7\"; padding: 0 .5ex}\n",
              "</style>\n",
              "<ol class=list-inline><li>86868</li><li>39</li></ol>\n"
            ],
            "text/markdown": "1. 86868\n2. 39\n\n\n",
            "text/latex": "\\begin{enumerate*}\n\\item 86868\n\\item 39\n\\end{enumerate*}\n",
            "text/plain": [
              "[1] 86868    39"
            ]
          },
          "metadata": {}
        },
        {
          "output_type": "display_data",
          "data": {
            "text/html": [
              "<style>\n",
              ".list-inline {list-style: none; margin:0; padding: 0}\n",
              ".list-inline>li {display: inline-block}\n",
              ".list-inline>li:not(:last-child)::after {content: \"\\00b7\"; padding: 0 .5ex}\n",
              "</style>\n",
              "<ol class=list-inline><li>86868</li><li>39</li></ol>\n"
            ],
            "text/markdown": "1. 86868\n2. 39\n\n\n",
            "text/latex": "\\begin{enumerate*}\n\\item 86868\n\\item 39\n\\end{enumerate*}\n",
            "text/plain": [
              "[1] 86868    39"
            ]
          },
          "metadata": {}
        }
      ]
    },
    {
      "cell_type": "code",
      "source": [
        "dim(train_features) \n",
        "dim(na.omit(train_features))"
      ],
      "metadata": {
        "colab": {
          "base_uri": "https://localhost:8080/",
          "height": 52
        },
        "id": "N5JrZG651xto",
        "outputId": "97c86b1e-f3e1-4309-a2fc-a6b3ed949083"
      },
      "id": "N5JrZG651xto",
      "execution_count": 52,
      "outputs": [
        {
          "output_type": "display_data",
          "data": {
            "text/html": [
              "<style>\n",
              ".list-inline {list-style: none; margin:0; padding: 0}\n",
              ".list-inline>li {display: inline-block}\n",
              ".list-inline>li:not(:last-child)::after {content: \"\\00b7\"; padding: 0 .5ex}\n",
              "</style>\n",
              "<ol class=list-inline><li>260601</li><li>39</li></ol>\n"
            ],
            "text/markdown": "1. 260601\n2. 39\n\n\n",
            "text/latex": "\\begin{enumerate*}\n\\item 260601\n\\item 39\n\\end{enumerate*}\n",
            "text/plain": [
              "[1] 260601     39"
            ]
          },
          "metadata": {}
        },
        {
          "output_type": "display_data",
          "data": {
            "text/html": [
              "<style>\n",
              ".list-inline {list-style: none; margin:0; padding: 0}\n",
              ".list-inline>li {display: inline-block}\n",
              ".list-inline>li:not(:last-child)::after {content: \"\\00b7\"; padding: 0 .5ex}\n",
              "</style>\n",
              "<ol class=list-inline><li>260601</li><li>39</li></ol>\n"
            ],
            "text/markdown": "1. 260601\n2. 39\n\n\n",
            "text/latex": "\\begin{enumerate*}\n\\item 260601\n\\item 39\n\\end{enumerate*}\n",
            "text/plain": [
              "[1] 260601     39"
            ]
          },
          "metadata": {}
        }
      ]
    },
    {
      "cell_type": "code",
      "source": [],
      "metadata": {
        "id": "A4b3wtXJw_Ym"
      },
      "id": "A4b3wtXJw_Ym",
      "execution_count": 53,
      "outputs": []
    },
    {
      "cell_type": "markdown",
      "source": [
        "## feature engineering\n",
        "\n",
        "Feature engineering is the process of creating new features (variables) from existing data to improve the performance of machine learning models. This process can include transforming data, combining multiple features, extracting new information from existing data, or converting categorical data into numerical data or binary data. \n",
        "\n",
        "To improve the accuracy of the model we have created a new binary variable fragile_building to group the buildings that we consider as fragile according to the characteristics of the superstructure. \n",
        "\n",
        "For example, we consider fragile buildings as those with adobe/mud, mud mortar/stone or mud mortar/brick superstructures and the rest as non-fragile. \n",
        "\n",
        "\n",
        "*   if fragile_building == 1 then the buildings \n",
        "considered as fragile and 0 for the others"
      ],
      "metadata": {
        "id": "uVcJQaKKz25M"
      },
      "id": "uVcJQaKKz25M"
    },
    {
      "cell_type": "code",
      "source": [
        "#  fragile_building\n",
        "train_features$fragile_building <- 0\n",
        "# for loop\n",
        "for (i in 1:nrow(train_features)) {\n",
        "  if (train_features[i, \"has_superstructure_adobe_mud\"] == 1 |\n",
        "      train_features[i, \"has_superstructure_mud_mortar_stone\"] == 1 |\n",
        "      train_features[i, \"has_superstructure_mud_mortar_brick\"] == 1) {\n",
        "    train_features[i, \"fragile_building\"] <- 1\n",
        "  }\n",
        "}\n",
        "\n",
        "# \n",
        "test_features$fragile_building <- 0\n",
        "\n",
        "for (i in 1:nrow(test_features)) {\n",
        "  if (test_features[i, \"has_superstructure_adobe_mud\"] == 1 |\n",
        "      test_features[i, \"has_superstructure_mud_mortar_stone\"] == 1 |\n",
        "      test_features[i, \"has_superstructure_mud_mortar_brick\"] == 1) {\n",
        "      test_features[i, \"fragile_building\"] <- 1\n",
        "  }\n",
        "}\n"
      ],
      "metadata": {
        "id": "os16_ftOMbXY"
      },
      "id": "os16_ftOMbXY",
      "execution_count": 54,
      "outputs": []
    },
    {
      "cell_type": "code",
      "source": [
        "#sum the fragile building\n",
        "num_fragile_buildings <- sum(train_features$fragile_building)\n",
        "\n",
        "print(num_fragile_buildings)\n",
        "total_buildings <- nrow(train_features)\n",
        "num_non_fragile_buildings <- total_buildings - num_fragile_buildings\n",
        "print(num_non_fragile_buildings)"
      ],
      "metadata": {
        "colab": {
          "base_uri": "https://localhost:8080/"
        },
        "id": "HSKZ-AJl7xjd",
        "outputId": "dec430cf-7594-4574-97b8-c286d81e3abc"
      },
      "id": "HSKZ-AJl7xjd",
      "execution_count": 55,
      "outputs": [
        {
          "output_type": "stream",
          "name": "stdout",
          "text": [
            "[1] 222380\n",
            "[1] 38221\n"
          ]
        }
      ]
    },
    {
      "cell_type": "code",
      "source": [
        "fragile_data <- data.frame(\n",
        "  Type = c(\"Fragile\", \"Non_Fragile\"),\n",
        "  Count = c(num_fragile_buildings, num_non_fragile_buildings)\n",
        ")\n",
        "\n",
        "ggplot(fragile_data, aes(x = Type, y = Count, fill = Type)) +\n",
        "  geom_bar(stat = \"identity\") +\n",
        "  theme_minimal() +\n",
        "  labs(title = \"Distribution of fragile and non-fragile buildings\",\n",
        "       x = \"Type of building\",\n",
        "       y = \"Number of building\") +\n",
        "  scale_fill_manual(values = c(\"red\", \"blue\"))"
      ],
      "metadata": {
        "colab": {
          "base_uri": "https://localhost:8080/",
          "height": 437
        },
        "id": "UHLwEGNS8dji",
        "outputId": "5829a6e9-7d32-47be-af02-efb6f9971e73"
      },
      "id": "UHLwEGNS8dji",
      "execution_count": 56,
      "outputs": [
        {
          "output_type": "display_data",
          "data": {
            "text/plain": [
              "plot without title"
            ],
            "image/png": "[encoded data removed]"
          },
          "metadata": {
            "image/png": {
              "width": 420,
              "height": 420
            }
          }
        }
      ]
    },
    {
      "cell_type": "code",
      "source": [
        "# Rove building_id in train_data and test_data\n",
        "train_data <- subset(train_features, select = -building_id)\n",
        "test_data <- subset(train_features, select = -building_id)\n",
        "train_labels<- subset(train_labels, select = -building_id)\n",
        "dim(train_data)\n",
        "dim(test_data)\n",
        "dim(train_labels)"
      ],
      "metadata": {
        "colab": {
          "base_uri": "https://localhost:8080/",
          "height": 69
        },
        "id": "q1D8tiup9Z3L",
        "outputId": "1937aa2f-831d-452c-f4e2-16a9dd63a6fd"
      },
      "id": "q1D8tiup9Z3L",
      "execution_count": 57,
      "outputs": [
        {
          "output_type": "display_data",
          "data": {
            "text/html": [
              "<style>\n",
              ".list-inline {list-style: none; margin:0; padding: 0}\n",
              ".list-inline>li {display: inline-block}\n",
              ".list-inline>li:not(:last-child)::after {content: \"\\00b7\"; padding: 0 .5ex}\n",
              "</style>\n",
              "<ol class=list-inline><li>260601</li><li>39</li></ol>\n"
            ],
            "text/markdown": "1. 260601\n2. 39\n\n\n",
            "text/latex": "\\begin{enumerate*}\n\\item 260601\n\\item 39\n\\end{enumerate*}\n",
            "text/plain": [
              "[1] 260601     39"
            ]
          },
          "metadata": {}
        },
        {
          "output_type": "display_data",
          "data": {
            "text/html": [
              "<style>\n",
              ".list-inline {list-style: none; margin:0; padding: 0}\n",
              ".list-inline>li {display: inline-block}\n",
              ".list-inline>li:not(:last-child)::after {content: \"\\00b7\"; padding: 0 .5ex}\n",
              "</style>\n",
              "<ol class=list-inline><li>260601</li><li>39</li></ol>\n"
            ],
            "text/markdown": "1. 260601\n2. 39\n\n\n",
            "text/latex": "\\begin{enumerate*}\n\\item 260601\n\\item 39\n\\end{enumerate*}\n",
            "text/plain": [
              "[1] 260601     39"
            ]
          },
          "metadata": {}
        },
        {
          "output_type": "display_data",
          "data": {
            "text/html": [
              "<style>\n",
              ".list-inline {list-style: none; margin:0; padding: 0}\n",
              ".list-inline>li {display: inline-block}\n",
              ".list-inline>li:not(:last-child)::after {content: \"\\00b7\"; padding: 0 .5ex}\n",
              "</style>\n",
              "<ol class=list-inline><li>260601</li><li>1</li></ol>\n"
            ],
            "text/markdown": "1. 260601\n2. 1\n\n\n",
            "text/latex": "\\begin{enumerate*}\n\\item 260601\n\\item 1\n\\end{enumerate*}\n",
            "text/plain": [
              "[1] 260601      1"
            ]
          },
          "metadata": {}
        }
      ]
    },
    {
      "cell_type": "code",
      "source": [
        "head(train_data)"
      ],
      "metadata": {
        "colab": {
          "base_uri": "https://localhost:8080/",
          "height": 306
        },
        "id": "DWZWaDu99aD6",
        "outputId": "83e87600-c400-4341-d6f1-54647cfdc3d6"
      },
      "id": "DWZWaDu99aD6",
      "execution_count": 58,
      "outputs": [
        {
          "output_type": "display_data",
          "data": {
            "text/html": [
              "<table class=\"dataframe\">\n",
              "<caption>A data.frame: 6 × 39</caption>\n",
              "<thead>\n",
              "\t<tr><th></th><th scope=col>geo_level_1_id</th><th scope=col>geo_level_2_id</th><th scope=col>geo_level_3_id</th><th scope=col>count_floors_pre_eq</th><th scope=col>age</th><th scope=col>area_percentage</th><th scope=col>height_percentage</th><th scope=col>land_surface_condition</th><th scope=col>foundation_type</th><th scope=col>roof_type</th><th scope=col>⋯</th><th scope=col>has_secondary_use_hotel</th><th scope=col>has_secondary_use_rental</th><th scope=col>has_secondary_use_institution</th><th scope=col>has_secondary_use_school</th><th scope=col>has_secondary_use_industry</th><th scope=col>has_secondary_use_health_post</th><th scope=col>has_secondary_use_gov_office</th><th scope=col>has_secondary_use_use_police</th><th scope=col>has_secondary_use_other</th><th scope=col>fragile_building</th></tr>\n",
              "\t<tr><th></th><th scope=col>&lt;int&gt;</th><th scope=col>&lt;int&gt;</th><th scope=col>&lt;int&gt;</th><th scope=col>&lt;int&gt;</th><th scope=col>&lt;int&gt;</th><th scope=col>&lt;int&gt;</th><th scope=col>&lt;int&gt;</th><th scope=col>&lt;fct&gt;</th><th scope=col>&lt;fct&gt;</th><th scope=col>&lt;fct&gt;</th><th scope=col>⋯</th><th scope=col>&lt;int&gt;</th><th scope=col>&lt;int&gt;</th><th scope=col>&lt;int&gt;</th><th scope=col>&lt;int&gt;</th><th scope=col>&lt;int&gt;</th><th scope=col>&lt;int&gt;</th><th scope=col>&lt;int&gt;</th><th scope=col>&lt;int&gt;</th><th scope=col>&lt;int&gt;</th><th scope=col>&lt;dbl&gt;</th></tr>\n",
              "</thead>\n",
              "<tbody>\n",
              "\t<tr><th scope=row>1</th><td> 6</td><td>487</td><td>12198</td><td>2</td><td>30</td><td>6</td><td>5</td><td>t</td><td>r</td><td>n</td><td>⋯</td><td>0</td><td>0</td><td>0</td><td>0</td><td>0</td><td>0</td><td>0</td><td>0</td><td>0</td><td>1</td></tr>\n",
              "\t<tr><th scope=row>2</th><td> 8</td><td>900</td><td> 2812</td><td>2</td><td>10</td><td>8</td><td>7</td><td>o</td><td>r</td><td>n</td><td>⋯</td><td>0</td><td>0</td><td>0</td><td>0</td><td>0</td><td>0</td><td>0</td><td>0</td><td>0</td><td>1</td></tr>\n",
              "\t<tr><th scope=row>3</th><td>21</td><td>363</td><td> 8973</td><td>2</td><td>10</td><td>5</td><td>5</td><td>t</td><td>r</td><td>n</td><td>⋯</td><td>0</td><td>0</td><td>0</td><td>0</td><td>0</td><td>0</td><td>0</td><td>0</td><td>0</td><td>1</td></tr>\n",
              "\t<tr><th scope=row>4</th><td>22</td><td>418</td><td>10694</td><td>2</td><td>10</td><td>6</td><td>5</td><td>t</td><td>r</td><td>n</td><td>⋯</td><td>0</td><td>0</td><td>0</td><td>0</td><td>0</td><td>0</td><td>0</td><td>0</td><td>0</td><td>1</td></tr>\n",
              "\t<tr><th scope=row>5</th><td>11</td><td>131</td><td> 1488</td><td>3</td><td>30</td><td>8</td><td>9</td><td>t</td><td>r</td><td>n</td><td>⋯</td><td>0</td><td>0</td><td>0</td><td>0</td><td>0</td><td>0</td><td>0</td><td>0</td><td>0</td><td>1</td></tr>\n",
              "\t<tr><th scope=row>6</th><td> 8</td><td>558</td><td> 6089</td><td>2</td><td>10</td><td>9</td><td>5</td><td>t</td><td>r</td><td>n</td><td>⋯</td><td>0</td><td>0</td><td>0</td><td>0</td><td>0</td><td>0</td><td>0</td><td>0</td><td>0</td><td>1</td></tr>\n",
              "</tbody>\n",
              "</table>\n"
            ],
            "text/markdown": "\nA data.frame: 6 × 39\n\n| <!--/--> | geo_level_1_id &lt;int&gt; | geo_level_2_id &lt;int&gt; | geo_level_3_id &lt;int&gt; | count_floors_pre_eq &lt;int&gt; | age &lt;int&gt; | area_percentage &lt;int&gt; | height_percentage &lt;int&gt; | land_surface_condition &lt;fct&gt; | foundation_type &lt;fct&gt; | roof_type &lt;fct&gt; | ⋯ ⋯ | has_secondary_use_hotel &lt;int&gt; | has_secondary_use_rental &lt;int&gt; | has_secondary_use_institution &lt;int&gt; | has_secondary_use_school &lt;int&gt; | has_secondary_use_industry &lt;int&gt; | has_secondary_use_health_post &lt;int&gt; | has_secondary_use_gov_office &lt;int&gt; | has_secondary_use_use_police &lt;int&gt; | has_secondary_use_other &lt;int&gt; | fragile_building &lt;dbl&gt; |\n|---|---|---|---|---|---|---|---|---|---|---|---|---|---|---|---|---|---|---|---|---|---|\n| 1 |  6 | 487 | 12198 | 2 | 30 | 6 | 5 | t | r | n | ⋯ | 0 | 0 | 0 | 0 | 0 | 0 | 0 | 0 | 0 | 1 |\n| 2 |  8 | 900 |  2812 | 2 | 10 | 8 | 7 | o | r | n | ⋯ | 0 | 0 | 0 | 0 | 0 | 0 | 0 | 0 | 0 | 1 |\n| 3 | 21 | 363 |  8973 | 2 | 10 | 5 | 5 | t | r | n | ⋯ | 0 | 0 | 0 | 0 | 0 | 0 | 0 | 0 | 0 | 1 |\n| 4 | 22 | 418 | 10694 | 2 | 10 | 6 | 5 | t | r | n | ⋯ | 0 | 0 | 0 | 0 | 0 | 0 | 0 | 0 | 0 | 1 |\n| 5 | 11 | 131 |  1488 | 3 | 30 | 8 | 9 | t | r | n | ⋯ | 0 | 0 | 0 | 0 | 0 | 0 | 0 | 0 | 0 | 1 |\n| 6 |  8 | 558 |  6089 | 2 | 10 | 9 | 5 | t | r | n | ⋯ | 0 | 0 | 0 | 0 | 0 | 0 | 0 | 0 | 0 | 1 |\n\n",
            "text/latex": "A data.frame: 6 × 39\n\\begin{tabular}{r|lllllllllllllllllllll}\n  & geo\\_level\\_1\\_id & geo\\_level\\_2\\_id & geo\\_level\\_3\\_id & count\\_floors\\_pre\\_eq & age & area\\_percentage & height\\_percentage & land\\_surface\\_condition & foundation\\_type & roof\\_type & ⋯ & has\\_secondary\\_use\\_hotel & has\\_secondary\\_use\\_rental & has\\_secondary\\_use\\_institution & has\\_secondary\\_use\\_school & has\\_secondary\\_use\\_industry & has\\_secondary\\_use\\_health\\_post & has\\_secondary\\_use\\_gov\\_office & has\\_secondary\\_use\\_use\\_police & has\\_secondary\\_use\\_other & fragile\\_building\\\\\n  & <int> & <int> & <int> & <int> & <int> & <int> & <int> & <fct> & <fct> & <fct> & ⋯ & <int> & <int> & <int> & <int> & <int> & <int> & <int> & <int> & <int> & <dbl>\\\\\n\\hline\n\t1 &  6 & 487 & 12198 & 2 & 30 & 6 & 5 & t & r & n & ⋯ & 0 & 0 & 0 & 0 & 0 & 0 & 0 & 0 & 0 & 1\\\\\n\t2 &  8 & 900 &  2812 & 2 & 10 & 8 & 7 & o & r & n & ⋯ & 0 & 0 & 0 & 0 & 0 & 0 & 0 & 0 & 0 & 1\\\\\n\t3 & 21 & 363 &  8973 & 2 & 10 & 5 & 5 & t & r & n & ⋯ & 0 & 0 & 0 & 0 & 0 & 0 & 0 & 0 & 0 & 1\\\\\n\t4 & 22 & 418 & 10694 & 2 & 10 & 6 & 5 & t & r & n & ⋯ & 0 & 0 & 0 & 0 & 0 & 0 & 0 & 0 & 0 & 1\\\\\n\t5 & 11 & 131 &  1488 & 3 & 30 & 8 & 9 & t & r & n & ⋯ & 0 & 0 & 0 & 0 & 0 & 0 & 0 & 0 & 0 & 1\\\\\n\t6 &  8 & 558 &  6089 & 2 & 10 & 9 & 5 & t & r & n & ⋯ & 0 & 0 & 0 & 0 & 0 & 0 & 0 & 0 & 0 & 1\\\\\n\\end{tabular}\n",
            "text/plain": [
              "  geo_level_1_id geo_level_2_id geo_level_3_id count_floors_pre_eq age\n",
              "1  6             487            12198          2                   30 \n",
              "2  8             900             2812          2                   10 \n",
              "3 21             363             8973          2                   10 \n",
              "4 22             418            10694          2                   10 \n",
              "5 11             131             1488          3                   30 \n",
              "6  8             558             6089          2                   10 \n",
              "  area_percentage height_percentage land_surface_condition foundation_type\n",
              "1 6               5                 t                      r              \n",
              "2 8               7                 o                      r              \n",
              "3 5               5                 t                      r              \n",
              "4 6               5                 t                      r              \n",
              "5 8               9                 t                      r              \n",
              "6 9               5                 t                      r              \n",
              "  roof_type ⋯ has_secondary_use_hotel has_secondary_use_rental\n",
              "1 n         ⋯ 0                       0                       \n",
              "2 n         ⋯ 0                       0                       \n",
              "3 n         ⋯ 0                       0                       \n",
              "4 n         ⋯ 0                       0                       \n",
              "5 n         ⋯ 0                       0                       \n",
              "6 n         ⋯ 0                       0                       \n",
              "  has_secondary_use_institution has_secondary_use_school\n",
              "1 0                             0                       \n",
              "2 0                             0                       \n",
              "3 0                             0                       \n",
              "4 0                             0                       \n",
              "5 0                             0                       \n",
              "6 0                             0                       \n",
              "  has_secondary_use_industry has_secondary_use_health_post\n",
              "1 0                          0                            \n",
              "2 0                          0                            \n",
              "3 0                          0                            \n",
              "4 0                          0                            \n",
              "5 0                          0                            \n",
              "6 0                          0                            \n",
              "  has_secondary_use_gov_office has_secondary_use_use_police\n",
              "1 0                            0                           \n",
              "2 0                            0                           \n",
              "3 0                            0                           \n",
              "4 0                            0                           \n",
              "5 0                            0                           \n",
              "6 0                            0                           \n",
              "  has_secondary_use_other fragile_building\n",
              "1 0                       1               \n",
              "2 0                       1               \n",
              "3 0                       1               \n",
              "4 0                       1               \n",
              "5 0                       1               \n",
              "6 0                       1               "
            ]
          },
          "metadata": {}
        }
      ]
    },
    {
      "cell_type": "markdown",
      "source": [
        "## Encoding data \n",
        "The goal of converting categorical values to numeric values is to make them compatible with machine learning algorithms, which typically work with numerical data. Two common strategies for doing so are integer encoding and one-hot encoding.\n",
        "\n",
        "*  Integer encoding: In integer encoding, each unique category within a categorical variable is assigned a unique integer.This method is straightforward, but it implies an ordinal relationship between categories, which may not always be appropriate.\n",
        "\n",
        "*  One-hot encoding: One-hot encoding creates binary (0 or 1) features for each unique category within a categorical variable. Each category is represented by a separate feature (or column) in the dataset.One-hot encoding does not imply any ordinal relationship between categories, which can be advantageous when working with categorical variables without a natural order.One of the main drawbacks of one-hot encoding is that it can greatly increase the number of variables in the dataset, which can become problematic when dealing with large or high-dimensional datasets.\n",
        "\n",
        "Our datasets have 8 categorical variables and on average 5 categories each. Although one hot encoding increases the dimensionality of the variables its use in this project is quite reasonable as the number of categories in each variable is not too high. One-hot encoding will create a new binary variable for each possible category, which should not result in an excessive number of new variables (40 variables in total as each categorical variable has 5 categories on average). "
      ],
      "metadata": {
        "id": "jKVMkfzmCMdP"
      },
      "id": "jKVMkfzmCMdP"
    },
    {
      "cell_type": "code",
      "source": [
        "# function to encoding\n",
        "onehot_encoding <- function(df) {\n",
        "  for (colname in colnames(df)) {\n",
        "    if (class(df[[colname]]) == \"factor\") {\n",
        "      #cat(\"Encodage one-hot pour la colonne\", colname, \"\\n\")\n",
        "      dummy_cols <- model.matrix(~ df[[colname]] - 1) # \n",
        "      colnames(dummy_cols) <- paste(colname, levels(df[[colname]]), sep=\"_\") \n",
        "      df <- cbind(df, dummy_cols) # Add the binary coluim dataframe\n",
        "      df[[colname]] <- NULL # delete the last categ\n",
        "    }\n",
        "  }\n",
        "  return(df)\n",
        "}"
      ],
      "metadata": {
        "id": "OB6BKANtJCBK"
      },
      "id": "OB6BKANtJCBK",
      "execution_count": 59,
      "outputs": []
    },
    {
      "cell_type": "code",
      "source": [
        "encoded_train_data <- onehot_encoding(train_data)\n",
        "encoded_test_features <- onehot_encoding(train_data)\n",
        "\n",
        "dim(encoded_train_data)\n",
        "dim(encoded_train_data)\n",
        "N<-nrow(encoded_train_data)\n",
        "n<-ncol(encoded_train_data)"
      ],
      "metadata": {
        "colab": {
          "base_uri": "https://localhost:8080/",
          "height": 52
        },
        "id": "VaiLAyK0Je58",
        "outputId": "ed2b0d74-b637-4cb3-99f6-59d303b5a1fa"
      },
      "id": "VaiLAyK0Je58",
      "execution_count": 60,
      "outputs": [
        {
          "output_type": "display_data",
          "data": {
            "text/html": [
              "<style>\n",
              ".list-inline {list-style: none; margin:0; padding: 0}\n",
              ".list-inline>li {display: inline-block}\n",
              ".list-inline>li:not(:last-child)::after {content: \"\\00b7\"; padding: 0 .5ex}\n",
              "</style>\n",
              "<ol class=list-inline><li>260601</li><li>69</li></ol>\n"
            ],
            "text/markdown": "1. 260601\n2. 69\n\n\n",
            "text/latex": "\\begin{enumerate*}\n\\item 260601\n\\item 69\n\\end{enumerate*}\n",
            "text/plain": [
              "[1] 260601     69"
            ]
          },
          "metadata": {}
        },
        {
          "output_type": "display_data",
          "data": {
            "text/html": [
              "<style>\n",
              ".list-inline {list-style: none; margin:0; padding: 0}\n",
              ".list-inline>li {display: inline-block}\n",
              ".list-inline>li:not(:last-child)::after {content: \"\\00b7\"; padding: 0 .5ex}\n",
              "</style>\n",
              "<ol class=list-inline><li>260601</li><li>69</li></ol>\n"
            ],
            "text/markdown": "1. 260601\n2. 69\n\n\n",
            "text/latex": "\\begin{enumerate*}\n\\item 260601\n\\item 69\n\\end{enumerate*}\n",
            "text/plain": [
              "[1] 260601     69"
            ]
          },
          "metadata": {}
        }
      ]
    },
    {
      "cell_type": "code",
      "source": [
        "head(encoded_train_data)"
      ],
      "metadata": {
        "colab": {
          "base_uri": "https://localhost:8080/",
          "height": 306
        },
        "id": "76DWU0ZHLMoy",
        "outputId": "d5adca8d-1e4f-49f9-dc4e-1c3fd8e1de6e"
      },
      "id": "76DWU0ZHLMoy",
      "execution_count": 61,
      "outputs": [
        {
          "output_type": "display_data",
          "data": {
            "text/html": [
              "<table class=\"dataframe\">\n",
              "<caption>A data.frame: 6 × 69</caption>\n",
              "<thead>\n",
              "\t<tr><th></th><th scope=col>geo_level_1_id</th><th scope=col>geo_level_2_id</th><th scope=col>geo_level_3_id</th><th scope=col>count_floors_pre_eq</th><th scope=col>age</th><th scope=col>area_percentage</th><th scope=col>height_percentage</th><th scope=col>has_superstructure_adobe_mud</th><th scope=col>has_superstructure_mud_mortar_stone</th><th scope=col>has_superstructure_stone_flag</th><th scope=col>⋯</th><th scope=col>plan_configuration_m</th><th scope=col>plan_configuration_n</th><th scope=col>plan_configuration_o</th><th scope=col>plan_configuration_q</th><th scope=col>plan_configuration_s</th><th scope=col>plan_configuration_u</th><th scope=col>legal_ownership_status_a</th><th scope=col>legal_ownership_status_r</th><th scope=col>legal_ownership_status_v</th><th scope=col>legal_ownership_status_w</th></tr>\n",
              "\t<tr><th></th><th scope=col>&lt;int&gt;</th><th scope=col>&lt;int&gt;</th><th scope=col>&lt;int&gt;</th><th scope=col>&lt;int&gt;</th><th scope=col>&lt;int&gt;</th><th scope=col>&lt;int&gt;</th><th scope=col>&lt;int&gt;</th><th scope=col>&lt;int&gt;</th><th scope=col>&lt;int&gt;</th><th scope=col>&lt;int&gt;</th><th scope=col>⋯</th><th scope=col>&lt;dbl&gt;</th><th scope=col>&lt;dbl&gt;</th><th scope=col>&lt;dbl&gt;</th><th scope=col>&lt;dbl&gt;</th><th scope=col>&lt;dbl&gt;</th><th scope=col>&lt;dbl&gt;</th><th scope=col>&lt;dbl&gt;</th><th scope=col>&lt;dbl&gt;</th><th scope=col>&lt;dbl&gt;</th><th scope=col>&lt;dbl&gt;</th></tr>\n",
              "</thead>\n",
              "<tbody>\n",
              "\t<tr><th scope=row>1</th><td> 6</td><td>487</td><td>12198</td><td>2</td><td>30</td><td>6</td><td>5</td><td>1</td><td>1</td><td>0</td><td>⋯</td><td>0</td><td>0</td><td>0</td><td>0</td><td>0</td><td>0</td><td>0</td><td>0</td><td>1</td><td>0</td></tr>\n",
              "\t<tr><th scope=row>2</th><td> 8</td><td>900</td><td> 2812</td><td>2</td><td>10</td><td>8</td><td>7</td><td>0</td><td>1</td><td>0</td><td>⋯</td><td>0</td><td>0</td><td>0</td><td>0</td><td>0</td><td>0</td><td>0</td><td>0</td><td>1</td><td>0</td></tr>\n",
              "\t<tr><th scope=row>3</th><td>21</td><td>363</td><td> 8973</td><td>2</td><td>10</td><td>5</td><td>5</td><td>0</td><td>1</td><td>0</td><td>⋯</td><td>0</td><td>0</td><td>0</td><td>0</td><td>0</td><td>0</td><td>0</td><td>0</td><td>1</td><td>0</td></tr>\n",
              "\t<tr><th scope=row>4</th><td>22</td><td>418</td><td>10694</td><td>2</td><td>10</td><td>6</td><td>5</td><td>0</td><td>1</td><td>0</td><td>⋯</td><td>0</td><td>0</td><td>0</td><td>0</td><td>0</td><td>0</td><td>0</td><td>0</td><td>1</td><td>0</td></tr>\n",
              "\t<tr><th scope=row>5</th><td>11</td><td>131</td><td> 1488</td><td>3</td><td>30</td><td>8</td><td>9</td><td>1</td><td>0</td><td>0</td><td>⋯</td><td>0</td><td>0</td><td>0</td><td>0</td><td>0</td><td>0</td><td>0</td><td>0</td><td>1</td><td>0</td></tr>\n",
              "\t<tr><th scope=row>6</th><td> 8</td><td>558</td><td> 6089</td><td>2</td><td>10</td><td>9</td><td>5</td><td>0</td><td>1</td><td>0</td><td>⋯</td><td>0</td><td>0</td><td>0</td><td>0</td><td>0</td><td>0</td><td>0</td><td>0</td><td>1</td><td>0</td></tr>\n",
              "</tbody>\n",
              "</table>\n"
            ],
            "text/markdown": "\nA data.frame: 6 × 69\n\n| <!--/--> | geo_level_1_id &lt;int&gt; | geo_level_2_id &lt;int&gt; | geo_level_3_id &lt;int&gt; | count_floors_pre_eq &lt;int&gt; | age &lt;int&gt; | area_percentage &lt;int&gt; | height_percentage &lt;int&gt; | has_superstructure_adobe_mud &lt;int&gt; | has_superstructure_mud_mortar_stone &lt;int&gt; | has_superstructure_stone_flag &lt;int&gt; | ⋯ ⋯ | plan_configuration_m &lt;dbl&gt; | plan_configuration_n &lt;dbl&gt; | plan_configuration_o &lt;dbl&gt; | plan_configuration_q &lt;dbl&gt; | plan_configuration_s &lt;dbl&gt; | plan_configuration_u &lt;dbl&gt; | legal_ownership_status_a &lt;dbl&gt; | legal_ownership_status_r &lt;dbl&gt; | legal_ownership_status_v &lt;dbl&gt; | legal_ownership_status_w &lt;dbl&gt; |\n|---|---|---|---|---|---|---|---|---|---|---|---|---|---|---|---|---|---|---|---|---|---|\n| 1 |  6 | 487 | 12198 | 2 | 30 | 6 | 5 | 1 | 1 | 0 | ⋯ | 0 | 0 | 0 | 0 | 0 | 0 | 0 | 0 | 1 | 0 |\n| 2 |  8 | 900 |  2812 | 2 | 10 | 8 | 7 | 0 | 1 | 0 | ⋯ | 0 | 0 | 0 | 0 | 0 | 0 | 0 | 0 | 1 | 0 |\n| 3 | 21 | 363 |  8973 | 2 | 10 | 5 | 5 | 0 | 1 | 0 | ⋯ | 0 | 0 | 0 | 0 | 0 | 0 | 0 | 0 | 1 | 0 |\n| 4 | 22 | 418 | 10694 | 2 | 10 | 6 | 5 | 0 | 1 | 0 | ⋯ | 0 | 0 | 0 | 0 | 0 | 0 | 0 | 0 | 1 | 0 |\n| 5 | 11 | 131 |  1488 | 3 | 30 | 8 | 9 | 1 | 0 | 0 | ⋯ | 0 | 0 | 0 | 0 | 0 | 0 | 0 | 0 | 1 | 0 |\n| 6 |  8 | 558 |  6089 | 2 | 10 | 9 | 5 | 0 | 1 | 0 | ⋯ | 0 | 0 | 0 | 0 | 0 | 0 | 0 | 0 | 1 | 0 |\n\n",
            "text/latex": "A data.frame: 6 × 69\n\\begin{tabular}{r|lllllllllllllllllllll}\n  & geo\\_level\\_1\\_id & geo\\_level\\_2\\_id & geo\\_level\\_3\\_id & count\\_floors\\_pre\\_eq & age & area\\_percentage & height\\_percentage & has\\_superstructure\\_adobe\\_mud & has\\_superstructure\\_mud\\_mortar\\_stone & has\\_superstructure\\_stone\\_flag & ⋯ & plan\\_configuration\\_m & plan\\_configuration\\_n & plan\\_configuration\\_o & plan\\_configuration\\_q & plan\\_configuration\\_s & plan\\_configuration\\_u & legal\\_ownership\\_status\\_a & legal\\_ownership\\_status\\_r & legal\\_ownership\\_status\\_v & legal\\_ownership\\_status\\_w\\\\\n  & <int> & <int> & <int> & <int> & <int> & <int> & <int> & <int> & <int> & <int> & ⋯ & <dbl> & <dbl> & <dbl> & <dbl> & <dbl> & <dbl> & <dbl> & <dbl> & <dbl> & <dbl>\\\\\n\\hline\n\t1 &  6 & 487 & 12198 & 2 & 30 & 6 & 5 & 1 & 1 & 0 & ⋯ & 0 & 0 & 0 & 0 & 0 & 0 & 0 & 0 & 1 & 0\\\\\n\t2 &  8 & 900 &  2812 & 2 & 10 & 8 & 7 & 0 & 1 & 0 & ⋯ & 0 & 0 & 0 & 0 & 0 & 0 & 0 & 0 & 1 & 0\\\\\n\t3 & 21 & 363 &  8973 & 2 & 10 & 5 & 5 & 0 & 1 & 0 & ⋯ & 0 & 0 & 0 & 0 & 0 & 0 & 0 & 0 & 1 & 0\\\\\n\t4 & 22 & 418 & 10694 & 2 & 10 & 6 & 5 & 0 & 1 & 0 & ⋯ & 0 & 0 & 0 & 0 & 0 & 0 & 0 & 0 & 1 & 0\\\\\n\t5 & 11 & 131 &  1488 & 3 & 30 & 8 & 9 & 1 & 0 & 0 & ⋯ & 0 & 0 & 0 & 0 & 0 & 0 & 0 & 0 & 1 & 0\\\\\n\t6 &  8 & 558 &  6089 & 2 & 10 & 9 & 5 & 0 & 1 & 0 & ⋯ & 0 & 0 & 0 & 0 & 0 & 0 & 0 & 0 & 1 & 0\\\\\n\\end{tabular}\n",
            "text/plain": [
              "  geo_level_1_id geo_level_2_id geo_level_3_id count_floors_pre_eq age\n",
              "1  6             487            12198          2                   30 \n",
              "2  8             900             2812          2                   10 \n",
              "3 21             363             8973          2                   10 \n",
              "4 22             418            10694          2                   10 \n",
              "5 11             131             1488          3                   30 \n",
              "6  8             558             6089          2                   10 \n",
              "  area_percentage height_percentage has_superstructure_adobe_mud\n",
              "1 6               5                 1                           \n",
              "2 8               7                 0                           \n",
              "3 5               5                 0                           \n",
              "4 6               5                 0                           \n",
              "5 8               9                 1                           \n",
              "6 9               5                 0                           \n",
              "  has_superstructure_mud_mortar_stone has_superstructure_stone_flag ⋯\n",
              "1 1                                   0                             ⋯\n",
              "2 1                                   0                             ⋯\n",
              "3 1                                   0                             ⋯\n",
              "4 1                                   0                             ⋯\n",
              "5 0                                   0                             ⋯\n",
              "6 1                                   0                             ⋯\n",
              "  plan_configuration_m plan_configuration_n plan_configuration_o\n",
              "1 0                    0                    0                   \n",
              "2 0                    0                    0                   \n",
              "3 0                    0                    0                   \n",
              "4 0                    0                    0                   \n",
              "5 0                    0                    0                   \n",
              "6 0                    0                    0                   \n",
              "  plan_configuration_q plan_configuration_s plan_configuration_u\n",
              "1 0                    0                    0                   \n",
              "2 0                    0                    0                   \n",
              "3 0                    0                    0                   \n",
              "4 0                    0                    0                   \n",
              "5 0                    0                    0                   \n",
              "6 0                    0                    0                   \n",
              "  legal_ownership_status_a legal_ownership_status_r legal_ownership_status_v\n",
              "1 0                        0                        1                       \n",
              "2 0                        0                        1                       \n",
              "3 0                        0                        1                       \n",
              "4 0                        0                        1                       \n",
              "5 0                        0                        1                       \n",
              "6 0                        0                        1                       \n",
              "  legal_ownership_status_w\n",
              "1 0                       \n",
              "2 0                       \n",
              "3 0                       \n",
              "4 0                       \n",
              "5 0                       \n",
              "6 0                       "
            ]
          },
          "metadata": {}
        }
      ]
    },
    {
      "cell_type": "markdown",
      "source": [
        "## Feature selection \n",
        "\n",
        "Feature selection is the process of selecting the most relevant or useful variables for building a predictive model from an initial set of variables or features.This can reduce overfitting, improve accuracy, and reduce training time.\n",
        "\n",
        "The goal of feature selection is to reduce the complexity of the model and improve its performance by eliminating redundant or irrelevant features, and focusing on the features that are most important for the prediction task. At present our dataset contains 69 variables that are not large enough for our observations because it is recommended to perform feature selection when the number of variables is high so we would like to keep all of them. \n",
        "However we will apply some technique to observe the most relevant variables for the prediction task.\n",
        "\n",
        "Two main approaches to feature selection are:\n",
        "\n",
        "* Filter methods:are a type of feature selection methods that select features based on their individual characteristics. The main idea behind filter methods is to evaluate each feature independently in terms of its predictive power and relevance to the output variable.\n",
        "\n",
        "   Examples:  PCA,  correlation, minimum redundancy maximum relevance (mRMR) \n",
        "* Wrapper methods: are a type of method that considers the selection of a set of features as a search problem. These methods evaluate subsets of features, meaning that they take into account the interactions between features. Examples of wrapper methods include recursive feature elimination, forward selection\n",
        "\n",
        "# Correlation \n",
        "Variables that have a high correlation with the target variable can be considered the most relevant for the prediction of our datasets. In addition, variables that have a low correlation with the target variable may be considered less relevant or even irrelevant for prediction.\n",
        "\n",
        "The Pearson correlation coefficient formula is:\n",
        "\n",
        "$r = \\frac{\\sum\\limits_{i=1}^n (x_i - \\bar{x})(y_i - \\bar{y})}{\\sqrt{\\sum\\limits_{i=1}^n (x_i - \\bar{x})^2 \\sum\\limits_{i=1}^n (y_i - \\bar{y})^2}}$\n",
        "\n",
        "where:\n",
        "\n",
        "* r is the correlation coefficient,\n",
        "* xi, yi are the individual sample points indexed with i,\n",
        "* x̄, ȳ are the mean values of x and y."
      ],
      "metadata": {
        "id": "1VB8a0enxbRg"
      },
      "id": "1VB8a0enxbRg"
    },
    {
      "cell_type": "code",
      "source": [
        "CV_folds <- 10\n",
        "\n",
        "size_CV <-floor(N/CV_folds)\n",
        "#selected_nb_features <- 69\n",
        "CV_err<-matrix(0,nrow=n,ncol=CV_folds)\n",
        "\n",
        "for (i in 1:CV_folds) {\n",
        "    \n",
        "    idx_ts<-(((i-1)*size_CV+1):(i*size_CV))  ### idx_ts represents the indices of the test set the i-th fold\n",
        "    X_ts<-encoded_train_data[idx_ts,]\n",
        "    Y_ts<-train_labels$damage_grade[idx_ts]\n",
        "     \n",
        "    idx_tr<-setdiff(1:N,idx_ts) ### idx_tr represents  indices of the training sefor the i-th fold\n",
        "    X_tr<-encoded_train_data[idx_tr,]\n",
        "    Y_tr<-train_labels$damage_grade[idx_tr]                          \n",
        "    \n",
        "    # Compute correlation across all the input variables and the target variable\n",
        "    correlation_vector <-abs(cor(X_tr,Y_tr))\n",
        "    # Rank variables according to correlation with the output\n",
        "    correlation_ranking_idx <-sort(correlation_vector,dec=T,index.return=T)$ix\n",
        "     \n",
        "    for (nb_features in 1:n) {\n",
        "        # Create a dataset including only the nb_features most correlated variables with the output\n",
        "        DS<-cbind(X_tr[,correlation_ranking_idx[1:nb_features],drop=F],damage_grade=Y_tr)\n",
        "        # Model fit (using lm function)\n",
        "        model<- lm(damage_grade~.,DS)\n",
        "        \n",
        "        # Model prediction\n",
        "        Y_hat_ts<- predict(model,X_ts[,correlation_ranking_idx[1:nb_features],drop=F])\n",
        "        \n",
        "        # Cross validation error = MSE\n",
        "        CV_err[nb_features,i] <- mean((Y_hat_ts-Y_ts)^2)\n",
        "    }\n",
        "}  \n",
        "\n",
        "print(paste(\"#Features: \",c(1:n),\" ; CV error=\",round(apply(CV_err,1,mean),digits=4), \" ; std dev=\",round(apply(CV_err,1,sd),digits=4)))\n",
        "\n"
      ],
      "metadata": {
        "colab": {
          "base_uri": "https://localhost:8080/"
        },
        "id": "7WlxeqrdCUJ4",
        "outputId": "934f3ee2-dd28-4fd7-ba28-6e93833a91cd"
      },
      "id": "7WlxeqrdCUJ4",
      "execution_count": 62,
      "outputs": [
        {
          "output_type": "stream",
          "name": "stdout",
          "text": [
            " [1] \"#Features:  1  ; CV error= 0.3215  ; std dev= 0.0019\" \n",
            " [2] \"#Features:  2  ; CV error= 0.3171  ; std dev= 0.0019\" \n",
            " [3] \"#Features:  3  ; CV error= 0.3136  ; std dev= 0.0019\" \n",
            " [4] \"#Features:  4  ; CV error= 0.3135  ; std dev= 0.0019\" \n",
            " [5] \"#Features:  5  ; CV error= 0.3132  ; std dev= 0.0018\" \n",
            " [6] \"#Features:  6  ; CV error= 0.3129  ; std dev= 0.0018\" \n",
            " [7] \"#Features:  7  ; CV error= 0.3127  ; std dev= 0.0018\" \n",
            " [8] \"#Features:  8  ; CV error= 0.3127  ; std dev= 0.0018\" \n",
            " [9] \"#Features:  9  ; CV error= 0.3126  ; std dev= 0.0018\" \n",
            "[10] \"#Features:  10  ; CV error= 0.3124  ; std dev= 0.0018\"\n",
            "[11] \"#Features:  11  ; CV error= 0.3108  ; std dev= 0.0018\"\n",
            "[12] \"#Features:  12  ; CV error= 0.3108  ; std dev= 0.0018\"\n",
            "[13] \"#Features:  13  ; CV error= 0.3107  ; std dev= 0.0018\"\n",
            "[14] \"#Features:  14  ; CV error= 0.3107  ; std dev= 0.0018\"\n",
            "[15] \"#Features:  15  ; CV error= 0.31  ; std dev= 0.0019\"  \n",
            "[16] \"#Features:  16  ; CV error= 0.31  ; std dev= 0.0019\"  \n",
            "[17] \"#Features:  17  ; CV error= 0.308  ; std dev= 0.0019\" \n",
            "[18] \"#Features:  18  ; CV error= 0.308  ; std dev= 0.0019\" \n",
            "[19] \"#Features:  19  ; CV error= 0.3079  ; std dev= 0.0018\"\n",
            "[20] \"#Features:  20  ; CV error= 0.3078  ; std dev= 0.0018\"\n",
            "[21] \"#Features:  21  ; CV error= 0.3073  ; std dev= 0.0015\"\n",
            "[22] \"#Features:  22  ; CV error= 0.3068  ; std dev= 0.0017\"\n",
            "[23] \"#Features:  23  ; CV error= 0.3068  ; std dev= 0.0017\"\n",
            "[24] \"#Features:  24  ; CV error= 0.3067  ; std dev= 0.0017\"\n",
            "[25] \"#Features:  25  ; CV error= 0.3058  ; std dev= 0.0016\"\n",
            "[26] \"#Features:  26  ; CV error= 0.3039  ; std dev= 0.0016\"\n",
            "[27] \"#Features:  27  ; CV error= 0.3038  ; std dev= 0.0016\"\n",
            "[28] \"#Features:  28  ; CV error= 0.3036  ; std dev= 0.0017\"\n",
            "[29] \"#Features:  29  ; CV error= 0.3036  ; std dev= 0.0017\"\n",
            "[30] \"#Features:  30  ; CV error= 0.3032  ; std dev= 0.0017\"\n",
            "[31] \"#Features:  31  ; CV error= 0.3031  ; std dev= 0.0017\"\n",
            "[32] \"#Features:  32  ; CV error= 0.3018  ; std dev= 0.0017\"\n",
            "[33] \"#Features:  33  ; CV error= 0.3017  ; std dev= 0.0017\"\n",
            "[34] \"#Features:  34  ; CV error= 0.3016  ; std dev= 0.0017\"\n",
            "[35] \"#Features:  35  ; CV error= 0.3015  ; std dev= 0.0017\"\n",
            "[36] \"#Features:  36  ; CV error= 0.3015  ; std dev= 0.0016\"\n",
            "[37] \"#Features:  37  ; CV error= 0.3014  ; std dev= 0.0017\"\n",
            "[38] \"#Features:  38  ; CV error= 0.3014  ; std dev= 0.0017\"\n",
            "[39] \"#Features:  39  ; CV error= 0.3014  ; std dev= 0.0016\"\n",
            "[40] \"#Features:  40  ; CV error= 0.3013  ; std dev= 0.0016\"\n",
            "[41] \"#Features:  41  ; CV error= 0.3013  ; std dev= 0.0016\"\n",
            "[42] \"#Features:  42  ; CV error= 0.3013  ; std dev= 0.0016\"\n",
            "[43] \"#Features:  43  ; CV error= 0.3012  ; std dev= 0.0016\"\n",
            "[44] \"#Features:  44  ; CV error= 0.3012  ; std dev= 0.0016\"\n",
            "[45] \"#Features:  45  ; CV error= 0.3012  ; std dev= 0.0016\"\n",
            "[46] \"#Features:  46  ; CV error= 0.3011  ; std dev= 0.0016\"\n",
            "[47] \"#Features:  47  ; CV error= 0.3011  ; std dev= 0.0016\"\n",
            "[48] \"#Features:  48  ; CV error= 0.3011  ; std dev= 0.0016\"\n",
            "[49] \"#Features:  49  ; CV error= 0.3011  ; std dev= 0.0016\"\n",
            "[50] \"#Features:  50  ; CV error= 0.301  ; std dev= 0.0016\" \n",
            "[51] \"#Features:  51  ; CV error= 0.301  ; std dev= 0.0016\" \n",
            "[52] \"#Features:  52  ; CV error= 0.3009  ; std dev= 0.0015\"\n",
            "[53] \"#Features:  53  ; CV error= 0.3008  ; std dev= 0.0015\"\n",
            "[54] \"#Features:  54  ; CV error= 0.3008  ; std dev= 0.0015\"\n",
            "[55] \"#Features:  55  ; CV error= 0.3008  ; std dev= 0.0015\"\n",
            "[56] \"#Features:  56  ; CV error= 0.3008  ; std dev= 0.0015\"\n",
            "[57] \"#Features:  57  ; CV error= 0.3008  ; std dev= 0.0015\"\n",
            "[58] \"#Features:  58  ; CV error= 0.3008  ; std dev= 0.0015\"\n",
            "[59] \"#Features:  59  ; CV error= 0.3008  ; std dev= 0.0015\"\n",
            "[60] \"#Features:  60  ; CV error= 0.3008  ; std dev= 0.0016\"\n",
            "[61] \"#Features:  61  ; CV error= 0.3008  ; std dev= 0.0015\"\n",
            "[62] \"#Features:  62  ; CV error= 0.3008  ; std dev= 0.0016\"\n",
            "[63] \"#Features:  63  ; CV error= 0.3008  ; std dev= 0.0015\"\n",
            "[64] \"#Features:  64  ; CV error= 0.3008  ; std dev= 0.0015\"\n",
            "[65] \"#Features:  65  ; CV error= 0.3008  ; std dev= 0.0015\"\n",
            "[66] \"#Features:  66  ; CV error= 0.3008  ; std dev= 0.0015\"\n",
            "[67] \"#Features:  67  ; CV error= 0.3008  ; std dev= 0.0015\"\n",
            "[68] \"#Features:  68  ; CV error= 0.3008  ; std dev= 0.0015\"\n",
            "[69] \"#Features:  69  ; CV error= 0.3008  ; std dev= 0.0015\"\n"
          ]
        }
      ]
    },
    {
      "cell_type": "code",
      "source": [
        "variable_names <- names(X_tr)[correlation_ranking_idx[1:nb_features]]\n",
        "print(paste(variable_names))\n",
        "correlation_ranking_idx"
      ],
      "metadata": {
        "colab": {
          "base_uri": "https://localhost:8080/",
          "height": 1000
        },
        "id": "scHzD_NyDjv3",
        "outputId": "771063a5-30fb-456c-b2be-09cc59a33f58"
      },
      "id": "scHzD_NyDjv3",
      "execution_count": 63,
      "outputs": [
        {
          "output_type": "stream",
          "name": "stdout",
          "text": [
            " [1] \"fragile_building\"                      \n",
            " [2] \"foundation_type_r\"                     \n",
            " [3] \"ground_floor_type_v\"                   \n",
            " [4] \"has_superstructure_mud_mortar_stone\"   \n",
            " [5] \"roof_type_x\"                           \n",
            " [6] \"foundation_type_i\"                     \n",
            " [7] \"has_superstructure_cement_mortar_brick\"\n",
            " [8] \"ground_floor_type_f\"                   \n",
            " [9] \"other_floor_type_s\"                    \n",
            "[10] \"has_superstructure_rc_engineered\"      \n",
            "[11] \"foundation_type_w\"                     \n",
            "[12] \"other_floor_type_q\"                    \n",
            "[13] \"has_superstructure_rc_non_engineered\"  \n",
            "[14] \"foundation_type_u\"                     \n",
            "[15] \"other_floor_type_j\"                    \n",
            "[16] \"area_percentage\"                       \n",
            "[17] \"count_floors_pre_eq\"                   \n",
            "[18] \"has_secondary_use_hotel\"               \n",
            "[19] \"has_secondary_use_rental\"              \n",
            "[20] \"legal_ownership_status_a\"              \n",
            "[21] \"roof_type_n\"                           \n",
            "[22] \"has_secondary_use\"                     \n",
            "[23] \"roof_type_q\"                           \n",
            "[24] \"geo_level_1_id\"                        \n",
            "[25] \"has_superstructure_timber\"             \n",
            "[26] \"has_superstructure_stone_flag\"         \n",
            "[27] \"has_superstructure_bamboo\"             \n",
            "[28] \"plan_configuration_u\"                  \n",
            "[29] \"has_superstructure_cement_mortar_stone\"\n",
            "[30] \"count_families\"                        \n",
            "[31] \"has_superstructure_adobe_mud\"          \n",
            "[32] \"position_t\"                            \n",
            "[33] \"height_percentage\"                     \n",
            "[34] \"legal_ownership_status_v\"              \n",
            "[35] \"other_floor_type_x\"                    \n",
            "[36] \"plan_configuration_d\"                  \n",
            "[37] \"geo_level_2_id\"                        \n",
            "[38] \"position_j\"                            \n",
            "[39] \"has_superstructure_other\"              \n",
            "[40] \"legal_ownership_status_w\"              \n",
            "[41] \"age\"                                   \n",
            "[42] \"has_secondary_use_institution\"         \n",
            "[43] \"position_s\"                            \n",
            "[44] \"plan_configuration_c\"                  \n",
            "[45] \"plan_configuration_a\"                  \n",
            "[46] \"ground_floor_type_m\"                   \n",
            "[47] \"ground_floor_type_z\"                   \n",
            "[48] \"has_secondary_use_other\"               \n",
            "[49] \"land_surface_condition_t\"              \n",
            "[50] \"land_surface_condition_o\"              \n",
            "[51] \"foundation_type_h\"                     \n",
            "[52] \"has_superstructure_mud_mortar_brick\"   \n",
            "[53] \"plan_configuration_o\"                  \n",
            "[54] \"has_secondary_use_agriculture\"         \n",
            "[55] \"has_secondary_use_industry\"            \n",
            "[56] \"plan_configuration_s\"                  \n",
            "[57] \"has_secondary_use_school\"              \n",
            "[58] \"land_surface_condition_n\"              \n",
            "[59] \"has_secondary_use_gov_office\"          \n",
            "[60] \"plan_configuration_q\"                  \n",
            "[61] \"has_secondary_use_health_post\"         \n",
            "[62] \"geo_level_3_id\"                        \n",
            "[63] \"plan_configuration_m\"                  \n",
            "[64] \"ground_floor_type_x\"                   \n",
            "[65] \"position_o\"                            \n",
            "[66] \"legal_ownership_status_r\"              \n",
            "[67] \"plan_configuration_n\"                  \n",
            "[68] \"has_secondary_use_use_police\"          \n",
            "[69] \"plan_configuration_f\"                  \n"
          ]
        },
        {
          "output_type": "display_data",
          "data": {
            "text/html": [
              "<style>\n",
              ".list-inline {list-style: none; margin:0; padding: 0}\n",
              ".list-inline>li {display: inline-block}\n",
              ".list-inline>li:not(:last-child)::after {content: \"\\00b7\"; padding: 0 .5ex}\n",
              "</style>\n",
              "<ol class=list-inline><li>31</li><li>37</li><li>45</li><li>9</li><li>42</li><li>36</li><li>13</li><li>43</li><li>50</li><li>17</li><li>39</li><li>49</li><li>16</li><li>38</li><li>48</li><li>6</li><li>4</li><li>22</li><li>23</li><li>66</li><li>40</li><li>20</li><li>41</li><li>1</li><li>14</li><li>10</li><li>15</li><li>65</li><li>11</li><li>19</li><li>8</li><li>55</li><li>7</li><li>68</li><li>51</li><li>58</li><li>2</li><li>52</li><li>18</li><li>69</li><li>5</li><li>24</li><li>54</li><li>57</li><li>56</li><li>44</li><li>47</li><li>30</li><li>34</li><li>33</li><li>35</li><li>12</li><li>62</li><li>21</li><li>26</li><li>64</li><li>25</li><li>32</li><li>28</li><li>63</li><li>27</li><li>3</li><li>60</li><li>46</li><li>53</li><li>67</li><li>61</li><li>29</li><li>59</li></ol>\n"
            ],
            "text/markdown": "1. 31\n2. 37\n3. 45\n4. 9\n5. 42\n6. 36\n7. 13\n8. 43\n9. 50\n10. 17\n11. 39\n12. 49\n13. 16\n14. 38\n15. 48\n16. 6\n17. 4\n18. 22\n19. 23\n20. 66\n21. 40\n22. 20\n23. 41\n24. 1\n25. 14\n26. 10\n27. 15\n28. 65\n29. 11\n30. 19\n31. 8\n32. 55\n33. 7\n34. 68\n35. 51\n36. 58\n37. 2\n38. 52\n39. 18\n40. 69\n41. 5\n42. 24\n43. 54\n44. 57\n45. 56\n46. 44\n47. 47\n48. 30\n49. 34\n50. 33\n51. 35\n52. 12\n53. 62\n54. 21\n55. 26\n56. 64\n57. 25\n58. 32\n59. 28\n60. 63\n61. 27\n62. 3\n63. 60\n64. 46\n65. 53\n66. 67\n67. 61\n68. 29\n69. 59\n\n\n",
            "text/latex": "\\begin{enumerate*}\n\\item 31\n\\item 37\n\\item 45\n\\item 9\n\\item 42\n\\item 36\n\\item 13\n\\item 43\n\\item 50\n\\item 17\n\\item 39\n\\item 49\n\\item 16\n\\item 38\n\\item 48\n\\item 6\n\\item 4\n\\item 22\n\\item 23\n\\item 66\n\\item 40\n\\item 20\n\\item 41\n\\item 1\n\\item 14\n\\item 10\n\\item 15\n\\item 65\n\\item 11\n\\item 19\n\\item 8\n\\item 55\n\\item 7\n\\item 68\n\\item 51\n\\item 58\n\\item 2\n\\item 52\n\\item 18\n\\item 69\n\\item 5\n\\item 24\n\\item 54\n\\item 57\n\\item 56\n\\item 44\n\\item 47\n\\item 30\n\\item 34\n\\item 33\n\\item 35\n\\item 12\n\\item 62\n\\item 21\n\\item 26\n\\item 64\n\\item 25\n\\item 32\n\\item 28\n\\item 63\n\\item 27\n\\item 3\n\\item 60\n\\item 46\n\\item 53\n\\item 67\n\\item 61\n\\item 29\n\\item 59\n\\end{enumerate*}\n",
            "text/plain": [
              " [1] 31 37 45  9 42 36 13 43 50 17 39 49 16 38 48  6  4 22 23 66 40 20 41  1 14\n",
              "[26] 10 15 65 11 19  8 55  7 68 51 58  2 52 18 69  5 24 54 57 56 44 47 30 34 33\n",
              "[51] 35 12 62 21 26 64 25 32 28 63 27  3 60 46 53 67 61 29 59"
            ]
          },
          "metadata": {}
        }
      ]
    },
    {
      "cell_type": "markdown",
      "source": [
        "## Minimum Redundancy Maximum Relevance (mRMR)\n",
        "\n",
        "The mRMR method is a feature selection approach that tries to select features that are highly correlated with the class (maximum relevance) but uncorrelated with each other (minimum redundancy). The goal is to select features that individually have high predictive power and collectively provide as much non-overlapping information as possible.\n",
        "For the relevance of a feature set S with respect to the target variable Y\n",
        "\n",
        "MaxRelevance(S) is defined as follows:\n",
        "\n",
        "MaxRelevance(S) = $\\frac{1}{|S|} \\sum_{i} I(x_i; Y)$\n",
        "\n",
        "\n",
        "where $|S|$ is the number of features in the set, $x_i$ is the i-th feature, and $I(x_i; Y)$ is the mutual information between $x_i$ and $Y$.\n",
        "\n",
        "The redundancy of a feature set $S$ can be defined as follows:\n",
        "\n",
        "\n",
        "MinRedundancy(S) =$\\frac{1}{|S|^2} \\sum_{i} \\sum_{j} I(x_i; x_j)$\n",
        "\n",
        "\n",
        "where $|S|$ is the number of features in the set, $x_i$ and $x_j$ are features in the set, and $I(x_i; x_j)$ is the mutual information between $x_i$ and $x_j$.\n",
        "\n",
        "The mRMR criterion can be defined as a combination of MaxRelevance and MinRedundancy:\n",
        "\n",
        "\n",
        "\n",
        "\n",
        "mRMR = MaxRelevance(S) - MinRedundancy(S)\n",
        "\n",
        "The goal of mRMR is to maximize this criterion.\n"
      ],
      "metadata": {
        "id": "Ewpv1-tYF2Gm"
      },
      "id": "Ewpv1-tYF2Gm"
    }
  ],
  "metadata": {
    "kernelspec": {
      "display_name": "R",
      "language": "R",
      "name": "ir"
    },
    "language_info": {
      "codemirror_mode": "r",
      "file_extension": ".r",
      "mimetype": "text/x-r-source",
      "name": "R",
      "pygments_lexer": "r",
      "version": "4.1.3"
    },
    "colab": {
      "provenance": [],
      "include_colab_link": true
    }
  },
  "nbformat": 4,
  "nbformat_minor": 5
}