{
  "cells": [
    {
      "cell_type": "markdown",
      "metadata": {
        "id": "view-in-github",
        "colab_type": "text"
      },
      "source": [
        "<a href=\"https://colab.research.google.com/github/cedric-bit/MLP/blob/main/LEDKDC.ipynb\" target=\"_parent\"><img src=\"https://colab.research.google.com/assets/colab-badge.svg\" alt=\"Open In Colab\"/></a>"
      ]
    },
    {
      "cell_type": "markdown",
      "id": "508981c3",
      "metadata": {
        "id": "508981c3"
      },
      "source": [
        "# INFO-F-422 - Statistical Foundations of Machine Learning\n",
        "## Project: Modeling Earthquake Damage\n",
        "# INTRODUCTION\n",
        "DrivenData competition Richter's Predictor: Modeling Earthquake Damage The main objective of this project is to develop a prediction model capable of estimating the level of damage to buildings during an earthquake in Nepal, depending on various structural and geographical characteristics. \n",
        "We have a dataset (train.features and test.features) including information on buildings, their structure, geographical location and legal status, collected after the Gorkha earthquake in Nepal in 2015. The dataset includes 38 explanatory variables (numerical, categorical and binary) and one target variable, the level of damage (train.labels), which is an ordered categorical variable with three possible levels (low, medium, high)"
      ]
    },
    {
      "cell_type": "code",
      "execution_count": null,
      "id": "6635f64a",
      "metadata": {
        "id": "6635f64a"
      },
      "outputs": [],
      "source": [
        "install.packages(\"ggplot2\")\n",
        "library(ggplot2)\n"
      ]
    },
    {
      "cell_type": "code",
      "execution_count": 47,
      "id": "99a6d98f",
      "metadata": {
        "id": "99a6d98f"
      },
      "outputs": [],
      "source": [
        "set.seed(5)"
      ]
    },
    {
      "cell_type": "markdown",
      "source": [
        "# Data preprocessing\n",
        "Data pre-processing is an important step in the analysis of our data. This involves cleaning, transforming and normalising the data to make it ready to be used to train machine learning models.\n",
        "\n",
        "We have three CSV files of data that can be downloaded from the competition site :\n",
        "\n",
        "* train.features: This CSV file contains the training data that will be used to \n",
        "train machine learning models. The data in this file includes input features and known output values (i.e., the target variable).\n",
        "\n",
        "* train.labels: This CSV file contains the known output values for the training data in train.features. These known output values will be used to train and evaluate the performance of machine learning models.\n",
        "\n",
        "* test.features: This CSV file contains new data that the trained machine learning models will be used to make predictions on. This file contains input features for which the target variable (i.e., the output) is not known."
      ],
      "metadata": {
        "id": "hgTA1yG1TeZ2"
      },
      "id": "hgTA1yG1TeZ2"
    },
    {
      "cell_type": "code",
      "execution_count": 25,
      "id": "4c25ae12",
      "metadata": {
        "id": "4c25ae12"
      },
      "outputs": [],
      "source": [
        "train.features <- read.csv(file=\"train_values.csv\",stringsAsFactors = T)\n",
        "train.labels <- read.csv(file=\"train_labels.csv\",stringsAsFactors = T)\n",
        "test.features <- read.csv(file=\"test_values.csv\",stringsAsFactors = T)"
      ]
    },
    {
      "cell_type": "code",
      "execution_count": 39,
      "id": "5cf0a4a6",
      "metadata": {
        "colab": {
          "base_uri": "https://localhost:8080/",
          "height": 34
        },
        "id": "5cf0a4a6",
        "outputId": "0a8d7757-b9f9-456f-b05c-43ed57c35d13"
      },
      "outputs": [
        {
          "output_type": "display_data",
          "data": {
            "text/html": [
              "<style>\n",
              ".list-inline {list-style: none; margin:0; padding: 0}\n",
              ".list-inline>li {display: inline-block}\n",
              ".list-inline>li:not(:last-child)::after {content: \"\\00b7\"; padding: 0 .5ex}\n",
              "</style>\n",
              "<ol class=list-inline><li>260601</li><li>39</li></ol>\n"
            ],
            "text/markdown": "1. 260601\n2. 39\n\n\n",
            "text/latex": "\\begin{enumerate*}\n\\item 260601\n\\item 39\n\\end{enumerate*}\n",
            "text/plain": [
              "[1] 260601     39"
            ]
          },
          "metadata": {}
        }
      ],
      "source": [
        "dim(train.features) "
      ]
    },
    {
      "cell_type": "code",
      "source": [
        "dim(test.features) "
      ],
      "metadata": {
        "colab": {
          "base_uri": "https://localhost:8080/",
          "height": 34
        },
        "id": "fRV5wd98ocoA",
        "outputId": "1f5ed526-1af6-4c13-8a1d-9f25b5c79daa"
      },
      "id": "fRV5wd98ocoA",
      "execution_count": 40,
      "outputs": [
        {
          "output_type": "display_data",
          "data": {
            "text/html": [
              "<style>\n",
              ".list-inline {list-style: none; margin:0; padding: 0}\n",
              ".list-inline>li {display: inline-block}\n",
              ".list-inline>li:not(:last-child)::after {content: \"\\00b7\"; padding: 0 .5ex}\n",
              "</style>\n",
              "<ol class=list-inline><li>86868</li><li>39</li></ol>\n"
            ],
            "text/markdown": "1. 86868\n2. 39\n\n\n",
            "text/latex": "\\begin{enumerate*}\n\\item 86868\n\\item 39\n\\end{enumerate*}\n",
            "text/plain": [
              "[1] 86868    39"
            ]
          },
          "metadata": {}
        }
      ]
    },
    {
      "cell_type": "markdown",
      "source": [
        "This means that our training set contains 260601 building observations and their 39 associated features and test set contains 86868 building observations and their 39 associated features. we can observe that the test set is smaller than the training set\n",
        "\n"
      ],
      "metadata": {
        "id": "AJmqyGaBskd1"
      },
      "id": "AJmqyGaBskd1"
    },
    {
      "cell_type": "code",
      "source": [
        "str(train.labels)"
      ],
      "metadata": {
        "colab": {
          "base_uri": "https://localhost:8080/"
        },
        "id": "KpKv4G4zo6dn",
        "outputId": "a55db0df-1d7b-4eee-d5a7-24f85424319f"
      },
      "id": "KpKv4G4zo6dn",
      "execution_count": 38,
      "outputs": [
        {
          "output_type": "stream",
          "name": "stdout",
          "text": [
            "'data.frame':\t260601 obs. of  2 variables:\n",
            " $ building_id : int  802906 28830 94947 590882 201944 333020 728451 475515 441126 989500 ...\n",
            " $ damage_grade: int  3 2 3 2 3 2 3 1 2 1 ...\n"
          ]
        }
      ]
    },
    {
      "cell_type": "markdown",
      "source": [
        "The categorical variable damage_grade represents the level of damage suffered by the building affected by the earthquake. \n",
        "\n",
        "There are three levels of damage:\n",
        "\n",
        "* represents low damage\n",
        "* represents a medium level of damage\n",
        "* represents almost complete destruction"
      ],
      "metadata": {
        "id": "Am1JVarep4so"
      },
      "id": "Am1JVarep4so"
    },
    {
      "cell_type": "code",
      "execution_count": 26,
      "id": "e17f16dc",
      "metadata": {
        "colab": {
          "base_uri": "https://localhost:8080/"
        },
        "id": "e17f16dc",
        "outputId": "e0d3dd21-9bc4-4bff-fcb2-47b6e504c4f7"
      },
      "outputs": [
        {
          "output_type": "stream",
          "name": "stdout",
          "text": [
            "'data.frame':\t260601 obs. of  39 variables:\n",
            " $ building_id                           : int  802906 28830 94947 590882 201944 333020 728451 475515 441126 989500 ...\n",
            " $ geo_level_1_id                        : int  6 8 21 22 11 8 9 20 0 26 ...\n",
            " $ geo_level_2_id                        : int  487 900 363 418 131 558 475 323 757 886 ...\n",
            " $ geo_level_3_id                        : int  12198 2812 8973 10694 1488 6089 12066 12236 7219 994 ...\n",
            " $ count_floors_pre_eq                   : int  2 2 2 2 3 2 2 2 2 1 ...\n",
            " $ age                                   : int  30 10 10 10 30 10 25 0 15 0 ...\n",
            " $ area_percentage                       : int  6 8 5 6 8 9 3 8 8 13 ...\n",
            " $ height_percentage                     : int  5 7 5 5 9 5 4 6 6 4 ...\n",
            " $ land_surface_condition                : Factor w/ 3 levels \"n\",\"o\",\"t\": 3 2 3 3 3 3 1 3 3 3 ...\n",
            " $ foundation_type                       : Factor w/ 5 levels \"h\",\"i\",\"r\",\"u\",..: 3 3 3 3 3 3 3 5 3 2 ...\n",
            " $ roof_type                             : Factor w/ 3 levels \"n\",\"q\",\"x\": 1 1 1 1 1 1 1 2 2 1 ...\n",
            " $ ground_floor_type                     : Factor w/ 5 levels \"f\",\"m\",\"v\",\"x\",..: 1 4 1 1 1 1 4 3 1 3 ...\n",
            " $ other_floor_type                      : Factor w/ 4 levels \"j\",\"q\",\"s\",\"x\": 2 2 4 4 4 2 2 4 2 1 ...\n",
            " $ position                              : Factor w/ 4 levels \"j\",\"o\",\"s\",\"t\": 4 3 4 3 3 3 3 3 3 3 ...\n",
            " $ plan_configuration                    : Factor w/ 10 levels \"a\",\"c\",\"d\",\"f\",..: 3 3 3 3 3 3 3 10 3 3 ...\n",
            " $ has_superstructure_adobe_mud          : int  1 0 0 0 1 0 0 0 0 0 ...\n",
            " $ has_superstructure_mud_mortar_stone   : int  1 1 1 1 0 1 1 0 1 0 ...\n",
            " $ has_superstructure_stone_flag         : int  0 0 0 0 0 0 0 0 0 0 ...\n",
            " $ has_superstructure_cement_mortar_stone: int  0 0 0 0 0 0 0 0 0 0 ...\n",
            " $ has_superstructure_mud_mortar_brick   : int  0 0 0 0 0 0 0 0 0 0 ...\n",
            " $ has_superstructure_cement_mortar_brick: int  0 0 0 0 0 0 0 1 0 1 ...\n",
            " $ has_superstructure_timber             : int  0 0 0 1 0 0 0 1 1 0 ...\n",
            " $ has_superstructure_bamboo             : int  0 0 0 1 0 0 0 0 0 0 ...\n",
            " $ has_superstructure_rc_non_engineered  : int  0 0 0 0 0 0 0 0 0 0 ...\n",
            " $ has_superstructure_rc_engineered      : int  0 0 0 0 0 0 0 0 0 0 ...\n",
            " $ has_superstructure_other              : int  0 0 0 0 0 0 0 0 0 0 ...\n",
            " $ legal_ownership_status                : Factor w/ 4 levels \"a\",\"r\",\"v\",\"w\": 3 3 3 3 3 3 3 3 3 3 ...\n",
            " $ count_families                        : int  1 1 1 1 1 1 1 1 1 1 ...\n",
            " $ has_secondary_use                     : int  0 0 0 0 0 1 0 0 0 0 ...\n",
            " $ has_secondary_use_agriculture         : int  0 0 0 0 0 1 0 0 0 0 ...\n",
            " $ has_secondary_use_hotel               : int  0 0 0 0 0 0 0 0 0 0 ...\n",
            " $ has_secondary_use_rental              : int  0 0 0 0 0 0 0 0 0 0 ...\n",
            " $ has_secondary_use_institution         : int  0 0 0 0 0 0 0 0 0 0 ...\n",
            " $ has_secondary_use_school              : int  0 0 0 0 0 0 0 0 0 0 ...\n",
            " $ has_secondary_use_industry            : int  0 0 0 0 0 0 0 0 0 0 ...\n",
            " $ has_secondary_use_health_post         : int  0 0 0 0 0 0 0 0 0 0 ...\n",
            " $ has_secondary_use_gov_office          : int  0 0 0 0 0 0 0 0 0 0 ...\n",
            " $ has_secondary_use_use_police          : int  0 0 0 0 0 0 0 0 0 0 ...\n",
            " $ has_secondary_use_other               : int  0 0 0 0 0 0 0 0 0 0 ...\n"
          ]
        }
      ],
      "source": [
        "str(train.features)"
      ]
    },
    {
      "cell_type": "code",
      "execution_count": 27,
      "id": "e1525f32",
      "metadata": {
        "colab": {
          "base_uri": "https://localhost:8080/"
        },
        "id": "e1525f32",
        "outputId": "668fb5ea-f49f-4499-9a60-8e7d31c13ac5"
      },
      "outputs": [
        {
          "output_type": "stream",
          "name": "stdout",
          "text": [
            "'data.frame':\t86868 obs. of  39 variables:\n",
            " $ building_id                           : int  300051 99355 890251 745817 421793 871976 691228 896100 343471 766647 ...\n",
            " $ geo_level_1_id                        : int  17 6 22 26 17 22 26 8 16 26 ...\n",
            " $ geo_level_2_id                        : int  596 141 19 39 289 170 432 1373 244 761 ...\n",
            " $ geo_level_3_id                        : int  11307 11987 10044 633 7970 4029 6794 958 3521 3137 ...\n",
            " $ count_floors_pre_eq                   : int  3 2 2 1 3 1 2 2 2 2 ...\n",
            " $ age                                   : int  20 25 5 0 15 55 0 35 30 5 ...\n",
            " $ area_percentage                       : int  7 13 4 19 8 4 6 2 6 6 ...\n",
            " $ height_percentage                     : int  6 5 5 3 7 3 7 8 5 7 ...\n",
            " $ land_surface_condition                : Factor w/ 3 levels \"n\",\"o\",\"t\": 3 3 3 3 3 3 1 3 3 1 ...\n",
            " $ foundation_type                       : Factor w/ 5 levels \"h\",\"i\",\"r\",\"u\",..: 3 3 3 3 3 3 3 3 3 3 ...\n",
            " $ roof_type                             : Factor w/ 3 levels \"n\",\"q\",\"x\": 1 1 1 3 2 2 1 1 1 1 ...\n",
            " $ ground_floor_type                     : Factor w/ 5 levels \"f\",\"m\",\"v\",\"x\",..: 1 1 1 3 1 1 3 1 1 1 ...\n",
            " $ other_floor_type                      : Factor w/ 4 levels \"j\",\"q\",\"s\",\"x\": 2 2 2 1 2 1 4 2 4 4 ...\n",
            " $ position                              : Factor w/ 4 levels \"j\",\"o\",\"s\",\"t\": 3 3 3 4 4 3 3 3 3 3 ...\n",
            " $ plan_configuration                    : Factor w/ 10 levels \"a\",\"c\",\"d\",\"f\",..: 3 3 3 3 3 3 3 3 3 3 ...\n",
            " $ has_superstructure_adobe_mud          : int  0 0 0 0 0 0 0 0 0 0 ...\n",
            " $ has_superstructure_mud_mortar_stone   : int  1 1 1 0 1 1 0 1 1 1 ...\n",
            " $ has_superstructure_stone_flag         : int  0 0 0 0 0 0 0 0 0 0 ...\n",
            " $ has_superstructure_cement_mortar_stone: int  0 0 0 0 0 0 0 0 0 0 ...\n",
            " $ has_superstructure_mud_mortar_brick   : int  0 0 0 0 0 0 0 0 0 0 ...\n",
            " $ has_superstructure_cement_mortar_brick: int  0 0 0 1 0 0 1 0 0 0 ...\n",
            " $ has_superstructure_timber             : int  0 0 0 0 0 0 0 0 0 1 ...\n",
            " $ has_superstructure_bamboo             : int  0 0 0 0 0 0 0 0 0 1 ...\n",
            " $ has_superstructure_rc_non_engineered  : int  0 0 0 0 0 0 0 0 0 0 ...\n",
            " $ has_superstructure_rc_engineered      : int  0 0 0 0 0 0 0 0 0 0 ...\n",
            " $ has_superstructure_other              : int  0 0 0 0 0 0 1 0 0 0 ...\n",
            " $ legal_ownership_status                : Factor w/ 4 levels \"a\",\"r\",\"v\",\"w\": 3 3 3 3 3 3 3 3 3 3 ...\n",
            " $ count_families                        : int  1 1 1 2 1 1 1 0 1 1 ...\n",
            " $ has_secondary_use                     : int  0 1 0 1 0 0 0 0 0 0 ...\n",
            " $ has_secondary_use_agriculture         : int  0 1 0 0 0 0 0 0 0 0 ...\n",
            " $ has_secondary_use_hotel               : int  0 0 0 0 0 0 0 0 0 0 ...\n",
            " $ has_secondary_use_rental              : int  0 0 0 1 0 0 0 0 0 0 ...\n",
            " $ has_secondary_use_institution         : int  0 0 0 0 0 0 0 0 0 0 ...\n",
            " $ has_secondary_use_school              : int  0 0 0 0 0 0 0 0 0 0 ...\n",
            " $ has_secondary_use_industry            : int  0 0 0 0 0 0 0 0 0 0 ...\n",
            " $ has_secondary_use_health_post         : int  0 0 0 0 0 0 0 0 0 0 ...\n",
            " $ has_secondary_use_gov_office          : int  0 0 0 0 0 0 0 0 0 0 ...\n",
            " $ has_secondary_use_use_police          : int  0 0 0 0 0 0 0 0 0 0 ...\n",
            " $ has_secondary_use_other               : int  0 0 0 0 0 0 0 0 0 0 ...\n"
          ]
        }
      ],
      "source": [
        "str(test.features)"
      ]
    },
    {
      "cell_type": "code",
      "execution_count": 29,
      "id": "fbeb5f53",
      "metadata": {
        "colab": {
          "base_uri": "https://localhost:8080/",
          "height": 69
        },
        "id": "fbeb5f53",
        "outputId": "f8f8cad2-cd93-4e58-fac4-ca6f1cb66e23"
      },
      "outputs": [
        {
          "output_type": "display_data",
          "data": {
            "text/plain": [
              "var_types\n",
              "     Binary Categorical   Numerical \n",
              "         22           8           9 "
            ]
          },
          "metadata": {}
        }
      ],
      "source": [
        "get_var_type <- function(x) {\n",
        "  if (is.factor(x)) {\n",
        "    return(\"Categorical\")\n",
        "  } else if (length(unique(x)) == 2) {\n",
        "    return(\"Binary\")\n",
        "  } else {\n",
        "    return(\"Numerical\")\n",
        "  }\n",
        "}\n",
        "\n",
        "var_info <- data.frame(variable = names(train.features),\n",
        "                       var_type = sapply(train.features, get_var_type),\n",
        "                       count = sapply(train.features, function(x) length(unique(x))))\n",
        "\n",
        "var_types <- sapply(train.features, get_var_type)\n",
        "type_counts <- table(var_types)\n",
        "type_counts\n"
      ]
    },
    {
      "cell_type": "code",
      "execution_count": 31,
      "id": "245e9fd9",
      "metadata": {
        "colab": {
          "base_uri": "https://localhost:8080/"
        },
        "id": "245e9fd9",
        "outputId": "48248fc8-a52b-48ad-a44a-0e7591cb1387"
      },
      "outputs": [
        {
          "output_type": "stream",
          "name": "stdout",
          "text": [
            "Categorical variables:\n",
            "[1] \"land_surface_condition\" \"foundation_type\"        \"roof_type\"             \n",
            "[4] \"ground_floor_type\"      \"other_floor_type\"       \"position\"              \n",
            "[7] \"plan_configuration\"     \"legal_ownership_status\"\n",
            "Binary variables:\n",
            " [1] \"has_superstructure_adobe_mud\"          \n",
            " [2] \"has_superstructure_mud_mortar_stone\"   \n",
            " [3] \"has_superstructure_stone_flag\"         \n",
            " [4] \"has_superstructure_cement_mortar_stone\"\n",
            " [5] \"has_superstructure_mud_mortar_brick\"   \n",
            " [6] \"has_superstructure_cement_mortar_brick\"\n",
            " [7] \"has_superstructure_timber\"             \n",
            " [8] \"has_superstructure_bamboo\"             \n",
            " [9] \"has_superstructure_rc_non_engineered\"  \n",
            "[10] \"has_superstructure_rc_engineered\"      \n",
            "[11] \"has_superstructure_other\"              \n",
            "[12] \"has_secondary_use\"                     \n",
            "[13] \"has_secondary_use_agriculture\"         \n",
            "[14] \"has_secondary_use_hotel\"               \n",
            "[15] \"has_secondary_use_rental\"              \n",
            "[16] \"has_secondary_use_institution\"         \n",
            "[17] \"has_secondary_use_school\"              \n",
            "[18] \"has_secondary_use_industry\"            \n",
            "[19] \"has_secondary_use_health_post\"         \n",
            "[20] \"has_secondary_use_gov_office\"          \n",
            "[21] \"has_secondary_use_use_police\"          \n",
            "[22] \"has_secondary_use_other\"               \n",
            "Numeric variables:\n",
            "[1] \"building_id\"         \"geo_level_1_id\"      \"geo_level_2_id\"     \n",
            "[4] \"geo_level_3_id\"      \"count_floors_pre_eq\" \"age\"                \n",
            "[7] \"area_percentage\"     \"height_percentage\"   \"count_families\"     \n"
          ]
        }
      ],
      "source": [
        "get_var_type <- function(x) {\n",
        "  if (is.factor(x)) {\n",
        "    return(\"Categorical\")\n",
        "  } else if (length(unique(x)) == 2) {\n",
        "    return(\"Binary\")\n",
        "  } else {\n",
        "    return(\"Numerical\")\n",
        "  }\n",
        "}\n",
        "\n",
        "var_types <- sapply(train.features, get_var_type)\n",
        "\n",
        "categorical_indices <- which(var_types == \"Categorical\")\n",
        "binary_indices <- which(var_types == \"Binary\")\n",
        "numeric_indices <- which(var_types == \"Numerical\")\n",
        "categorical_variables <- names(train.features)[categorical_indices]\n",
        "binary_variables <- names(train.features)[binary_indices]\n",
        "numeric_variables <- names(train.features)[numeric_indices]\n",
        "cat(\"Categorical variables:\\n\")\n",
        "print(categorical_variables)\n",
        "\n",
        "cat(\"Binary variables:\\n\")\n",
        "print(binary_variables)\n",
        "\n",
        "cat(\"Numeric variables:\\n\")\n",
        "print(numeric_variables)\n"
      ]
    },
    {
      "cell_type": "code",
      "execution_count": 41,
      "id": "cf5939f1",
      "metadata": {
        "colab": {
          "base_uri": "https://localhost:8080/",
          "height": 437
        },
        "id": "cf5939f1",
        "outputId": "085fbf65-cf2c-4cba-f345-5537decdfb09"
      },
      "outputs": [
        {
          "output_type": "display_data",
          "data": {
            "text/plain": [
              "plot without title"
            ],
            "image/png": "[encoded data removed]"
          },
          "metadata": {
            "image/png": {
              "width": 420,
              "height": 420
            }
          }
        }
      ],
      "source": [
        "\n",
        "var_types_df <- data.frame(\n",
        "  Type = c(\"Binary\", \"Categorical\", \"Numerical\"),\n",
        "  Count = c(22, 8, 9)\n",
        ")\n",
        "\n",
        "ggplot(var_types_df, aes(x = Type, y = Count, fill = Type)) +\n",
        "  geom_bar(stat = \"identity\", width = 0.5) +\n",
        "  theme_minimal() +\n",
        "  labs(title = \"Nombre de variables par type\", x = \"Type de variable\", y = \"Nombre de variables\") +\n",
        "  scale_fill_discrete(name = \"Types de variables\") +\n",
        "  theme(legend.position = \"bottom\")\n"
      ]
    },
    {
      "cell_type": "code",
      "source": [],
      "metadata": {
        "id": "Hk9XyftLzJIk"
      },
      "id": "Hk9XyftLzJIk",
      "execution_count": null,
      "outputs": []
    },
    {
      "cell_type": "markdown",
      "source": [
        "# Missing value imputation\n",
        "\n",
        "Our analysis and observations allow us to conclude that the data set contains no missing (MV) or unattributed (NA) values for the variables present. This means that the data are complete and that no imputation or method of handling missing values is necessary for our analysis. The absence of missing values is an advantage for our project, as it reduces the risk of introducing errors in the analysis and the predictive model. It also facilitates the data preparation process, as we can focus on other aspects such as feature selection, feature engineering and model building without having to worry about missing values."
      ],
      "metadata": {
        "id": "X1x8OypOzOnz"
      },
      "id": "X1x8OypOzOnz"
    },
    {
      "cell_type": "code",
      "execution_count": 43,
      "id": "ccb5ba2e",
      "metadata": {
        "colab": {
          "base_uri": "https://localhost:8080/",
          "height": 52
        },
        "id": "ccb5ba2e",
        "outputId": "cbc56528-fdf4-4006-ecd4-ab57e4e3f511"
      },
      "outputs": [
        {
          "output_type": "display_data",
          "data": {
            "text/html": [
              "<style>\n",
              ".list-inline {list-style: none; margin:0; padding: 0}\n",
              ".list-inline>li {display: inline-block}\n",
              ".list-inline>li:not(:last-child)::after {content: \"\\00b7\"; padding: 0 .5ex}\n",
              "</style>\n",
              "<ol class=list-inline><li>260601</li><li>39</li></ol>\n"
            ],
            "text/markdown": "1. 260601\n2. 39\n\n\n",
            "text/latex": "\\begin{enumerate*}\n\\item 260601\n\\item 39\n\\end{enumerate*}\n",
            "text/plain": [
              "[1] 260601     39"
            ]
          },
          "metadata": {}
        },
        {
          "output_type": "display_data",
          "data": {
            "text/html": [
              "<style>\n",
              ".list-inline {list-style: none; margin:0; padding: 0}\n",
              ".list-inline>li {display: inline-block}\n",
              ".list-inline>li:not(:last-child)::after {content: \"\\00b7\"; padding: 0 .5ex}\n",
              "</style>\n",
              "<ol class=list-inline><li>260601</li><li>39</li></ol>\n"
            ],
            "text/markdown": "1. 260601\n2. 39\n\n\n",
            "text/latex": "\\begin{enumerate*}\n\\item 260601\n\\item 39\n\\end{enumerate*}\n",
            "text/plain": [
              "[1] 260601     39"
            ]
          },
          "metadata": {}
        }
      ],
      "source": [
        "dim(train.features) \n",
        "dim(na.omit(train.features))"
      ]
    },
    {
      "cell_type": "code",
      "source": [
        "dim(test.features) \n",
        "dim(na.omit(test.features))"
      ],
      "metadata": {
        "colab": {
          "base_uri": "https://localhost:8080/",
          "height": 52
        },
        "id": "fbtFpfhR1o30",
        "outputId": "a41b219b-426d-4356-9893-d708873be6fa"
      },
      "id": "fbtFpfhR1o30",
      "execution_count": 44,
      "outputs": [
        {
          "output_type": "display_data",
          "data": {
            "text/html": [
              "<style>\n",
              ".list-inline {list-style: none; margin:0; padding: 0}\n",
              ".list-inline>li {display: inline-block}\n",
              ".list-inline>li:not(:last-child)::after {content: \"\\00b7\"; padding: 0 .5ex}\n",
              "</style>\n",
              "<ol class=list-inline><li>86868</li><li>39</li></ol>\n"
            ],
            "text/markdown": "1. 86868\n2. 39\n\n\n",
            "text/latex": "\\begin{enumerate*}\n\\item 86868\n\\item 39\n\\end{enumerate*}\n",
            "text/plain": [
              "[1] 86868    39"
            ]
          },
          "metadata": {}
        },
        {
          "output_type": "display_data",
          "data": {
            "text/html": [
              "<style>\n",
              ".list-inline {list-style: none; margin:0; padding: 0}\n",
              ".list-inline>li {display: inline-block}\n",
              ".list-inline>li:not(:last-child)::after {content: \"\\00b7\"; padding: 0 .5ex}\n",
              "</style>\n",
              "<ol class=list-inline><li>86868</li><li>39</li></ol>\n"
            ],
            "text/markdown": "1. 86868\n2. 39\n\n\n",
            "text/latex": "\\begin{enumerate*}\n\\item 86868\n\\item 39\n\\end{enumerate*}\n",
            "text/plain": [
              "[1] 86868    39"
            ]
          },
          "metadata": {}
        }
      ]
    },
    {
      "cell_type": "code",
      "source": [
        "summary(train.features)"
      ],
      "metadata": {
        "colab": {
          "base_uri": "https://localhost:8080/",
          "height": 1000
        },
        "id": "N5JrZG651xto",
        "outputId": "9f35eb7b-273f-41ea-8dfa-5d55647dda6f"
      },
      "id": "N5JrZG651xto",
      "execution_count": 45,
      "outputs": [
        {
          "output_type": "display_data",
          "data": {
            "text/plain": [
              "  building_id      geo_level_1_id geo_level_2_id   geo_level_3_id \n",
              " Min.   :      4   Min.   : 0.0   Min.   :   0.0   Min.   :    0  \n",
              " 1st Qu.: 261190   1st Qu.: 7.0   1st Qu.: 350.0   1st Qu.: 3073  \n",
              " Median : 525757   Median :12.0   Median : 702.0   Median : 6270  \n",
              " Mean   : 525676   Mean   :13.9   Mean   : 701.1   Mean   : 6258  \n",
              " 3rd Qu.: 789762   3rd Qu.:21.0   3rd Qu.:1050.0   3rd Qu.: 9412  \n",
              " Max.   :1052934   Max.   :30.0   Max.   :1427.0   Max.   :12567  \n",
              "                                                                  \n",
              " count_floors_pre_eq      age         area_percentage   height_percentage\n",
              " Min.   :1.00        Min.   :  0.00   Min.   :  1.000   Min.   : 2.000   \n",
              " 1st Qu.:2.00        1st Qu.: 10.00   1st Qu.:  5.000   1st Qu.: 4.000   \n",
              " Median :2.00        Median : 15.00   Median :  7.000   Median : 5.000   \n",
              " Mean   :2.13        Mean   : 26.54   Mean   :  8.018   Mean   : 5.434   \n",
              " 3rd Qu.:2.00        3rd Qu.: 30.00   3rd Qu.:  9.000   3rd Qu.: 6.000   \n",
              " Max.   :9.00        Max.   :995.00   Max.   :100.000   Max.   :32.000   \n",
              "                                                                         \n",
              " land_surface_condition foundation_type roof_type  ground_floor_type\n",
              " n: 35528               h:  1448        n:182842   f:209619         \n",
              " o:  8316               i: 10579        q: 61576   m:   508         \n",
              " t:216757               r:219196        x: 16183   v: 24593         \n",
              "                        u: 14260                   x: 24877         \n",
              "                        w: 15118                   z:  1004         \n",
              "                                                                    \n",
              "                                                                    \n",
              " other_floor_type position   plan_configuration has_superstructure_adobe_mud\n",
              " j: 39843         j: 13282   d      :250072     Min.   :0.00000             \n",
              " q:165282         o:  2333   q      :  5692     1st Qu.:0.00000             \n",
              " s: 12028         s:202090   u      :  3649     Median :0.00000             \n",
              " x: 43448         t: 42896   s      :   346     Mean   :0.08865             \n",
              "                             c      :   325     3rd Qu.:0.00000             \n",
              "                             a      :   252     Max.   :1.00000             \n",
              "                             (Other):   265                                 \n",
              " has_superstructure_mud_mortar_stone has_superstructure_stone_flag\n",
              " Min.   :0.0000                      Min.   :0.00000              \n",
              " 1st Qu.:1.0000                      1st Qu.:0.00000              \n",
              " Median :1.0000                      Median :0.00000              \n",
              " Mean   :0.7619                      Mean   :0.03433              \n",
              " 3rd Qu.:1.0000                      3rd Qu.:0.00000              \n",
              " Max.   :1.0000                      Max.   :1.00000              \n",
              "                                                                  \n",
              " has_superstructure_cement_mortar_stone has_superstructure_mud_mortar_brick\n",
              " Min.   :0.00000                        Min.   :0.00000                    \n",
              " 1st Qu.:0.00000                        1st Qu.:0.00000                    \n",
              " Median :0.00000                        Median :0.00000                    \n",
              " Mean   :0.01823                        Mean   :0.06815                    \n",
              " 3rd Qu.:0.00000                        3rd Qu.:0.00000                    \n",
              " Max.   :1.00000                        Max.   :1.00000                    \n",
              "                                                                           \n",
              " has_superstructure_cement_mortar_brick has_superstructure_timber\n",
              " Min.   :0.00000                        Min.   :0.000            \n",
              " 1st Qu.:0.00000                        1st Qu.:0.000            \n",
              " Median :0.00000                        Median :0.000            \n",
              " Mean   :0.07527                        Mean   :0.255            \n",
              " 3rd Qu.:0.00000                        3rd Qu.:1.000            \n",
              " Max.   :1.00000                        Max.   :1.000            \n",
              "                                                                 \n",
              " has_superstructure_bamboo has_superstructure_rc_non_engineered\n",
              " Min.   :0.00000           Min.   :0.00000                     \n",
              " 1st Qu.:0.00000           1st Qu.:0.00000                     \n",
              " Median :0.00000           Median :0.00000                     \n",
              " Mean   :0.08501           Mean   :0.04259                     \n",
              " 3rd Qu.:0.00000           3rd Qu.:0.00000                     \n",
              " Max.   :1.00000           Max.   :1.00000                     \n",
              "                                                               \n",
              " has_superstructure_rc_engineered has_superstructure_other\n",
              " Min.   :0.00000                  Min.   :0.00000         \n",
              " 1st Qu.:0.00000                  1st Qu.:0.00000         \n",
              " Median :0.00000                  Median :0.00000         \n",
              " Mean   :0.01586                  Mean   :0.01498         \n",
              " 3rd Qu.:0.00000                  3rd Qu.:0.00000         \n",
              " Max.   :1.00000                  Max.   :1.00000         \n",
              "                                                          \n",
              " legal_ownership_status count_families   has_secondary_use\n",
              " a:  5512               Min.   :0.0000   Min.   :0.0000   \n",
              " r:  1473               1st Qu.:1.0000   1st Qu.:0.0000   \n",
              " v:250939               Median :1.0000   Median :0.0000   \n",
              " w:  2677               Mean   :0.9839   Mean   :0.1119   \n",
              "                        3rd Qu.:1.0000   3rd Qu.:0.0000   \n",
              "                        Max.   :9.0000   Max.   :1.0000   \n",
              "                                                          \n",
              " has_secondary_use_agriculture has_secondary_use_hotel has_secondary_use_rental\n",
              " Min.   :0.00000               Min.   :0.00000         Min.   :0.000000        \n",
              " 1st Qu.:0.00000               1st Qu.:0.00000         1st Qu.:0.000000        \n",
              " Median :0.00000               Median :0.00000         Median :0.000000        \n",
              " Mean   :0.06438               Mean   :0.03363         Mean   :0.008101        \n",
              " 3rd Qu.:0.00000               3rd Qu.:0.00000         3rd Qu.:0.000000        \n",
              " Max.   :1.00000               Max.   :1.00000         Max.   :1.000000        \n",
              "                                                                               \n",
              " has_secondary_use_institution has_secondary_use_school\n",
              " Min.   :0.0000000             Min.   :0.0000000       \n",
              " 1st Qu.:0.0000000             1st Qu.:0.0000000       \n",
              " Median :0.0000000             Median :0.0000000       \n",
              " Mean   :0.0009401             Mean   :0.0003607       \n",
              " 3rd Qu.:0.0000000             3rd Qu.:0.0000000       \n",
              " Max.   :1.0000000             Max.   :1.0000000       \n",
              "                                                       \n",
              " has_secondary_use_industry has_secondary_use_health_post\n",
              " Min.   :0.000000           Min.   :0.000000             \n",
              " 1st Qu.:0.000000           1st Qu.:0.000000             \n",
              " Median :0.000000           Median :0.000000             \n",
              " Mean   :0.001071           Mean   :0.000188             \n",
              " 3rd Qu.:0.000000           3rd Qu.:0.000000             \n",
              " Max.   :1.000000           Max.   :1.000000             \n",
              "                                                         \n",
              " has_secondary_use_gov_office has_secondary_use_use_police\n",
              " Min.   :0.0000000            Min.   :0.00e+00            \n",
              " 1st Qu.:0.0000000            1st Qu.:0.00e+00            \n",
              " Median :0.0000000            Median :0.00e+00            \n",
              " Mean   :0.0001458            Mean   :8.83e-05            \n",
              " 3rd Qu.:0.0000000            3rd Qu.:0.00e+00            \n",
              " Max.   :1.0000000            Max.   :1.00e+00            \n",
              "                                                          \n",
              " has_secondary_use_other\n",
              " Min.   :0.000000       \n",
              " 1st Qu.:0.000000       \n",
              " Median :0.000000       \n",
              " Mean   :0.005119       \n",
              " 3rd Qu.:0.000000       \n",
              " Max.   :1.000000       \n",
              "                        "
            ]
          },
          "metadata": {}
        }
      ]
    },
    {
      "cell_type": "code",
      "source": [
        "summary(test.features)"
      ],
      "metadata": {
        "colab": {
          "base_uri": "https://localhost:8080/",
          "height": 1000
        },
        "id": "jXBDfi6K2Aag",
        "outputId": "aa8f6682-4037-4236-eb01-8de30a067fab"
      },
      "id": "jXBDfi6K2Aag",
      "execution_count": 46,
      "outputs": [
        {
          "output_type": "display_data",
          "data": {
            "text/plain": [
              "  building_id      geo_level_1_id  geo_level_2_id   geo_level_3_id \n",
              " Min.   :      7   Min.   : 0.00   Min.   :   0.0   Min.   :    0  \n",
              " 1st Qu.: 264422   1st Qu.: 7.00   1st Qu.: 350.0   1st Qu.: 3073  \n",
              " Median : 526984   Median :12.00   Median : 709.0   Median : 6276  \n",
              " Mean   : 526628   Mean   :13.89   Mean   : 704.1   Mean   : 6262  \n",
              " 3rd Qu.: 789084   3rd Qu.:21.00   3rd Qu.:1054.0   3rd Qu.: 9416  \n",
              " Max.   :1052923   Max.   :30.00   Max.   :1427.0   Max.   :12567  \n",
              "                                                                   \n",
              " count_floors_pre_eq      age         area_percentage  height_percentage\n",
              " Min.   :1.000       Min.   :  0.00   Min.   : 1.000   Min.   : 2.000   \n",
              " 1st Qu.:2.000       1st Qu.: 10.00   1st Qu.: 5.000   1st Qu.: 4.000   \n",
              " Median :2.000       Median : 15.00   Median : 7.000   Median : 5.000   \n",
              " Mean   :2.133       Mean   : 26.55   Mean   : 8.014   Mean   : 5.436   \n",
              " 3rd Qu.:2.000       3rd Qu.: 30.00   3rd Qu.: 9.000   3rd Qu.: 6.000   \n",
              " Max.   :8.000       Max.   :995.00   Max.   :92.000   Max.   :32.000   \n",
              "                                                                        \n",
              " land_surface_condition foundation_type roof_type ground_floor_type\n",
              " n:11885                h:  509         n:61133   f:69972          \n",
              " o: 2803                i: 3603         q:20329   m:  196          \n",
              " t:72180                r:73178         x: 5406   v: 8138          \n",
              "                        u: 4648                   x: 8232          \n",
              "                        w: 4930                   z:  330          \n",
              "                                                                   \n",
              "                                                                   \n",
              " other_floor_type position  plan_configuration has_superstructure_adobe_mud\n",
              " j:13069          j: 4365   d      :83255      Min.   :0.00000             \n",
              " q:55004          o:  768   q      : 1949      1st Qu.:0.00000             \n",
              " s: 4104          s:67373   u      : 1260      Median :0.00000             \n",
              " x:14691          t:14362   c      :  125      Mean   :0.08995             \n",
              "                            s      :  103      3rd Qu.:0.00000             \n",
              "                            a      :  101      Max.   :1.00000             \n",
              "                            (Other):   75                                  \n",
              " has_superstructure_mud_mortar_stone has_superstructure_stone_flag\n",
              " Min.   :0.0000                      Min.   :0.00000              \n",
              " 1st Qu.:1.0000                      1st Qu.:0.00000              \n",
              " Median :1.0000                      Median :0.00000              \n",
              " Mean   :0.7625                      Mean   :0.03447              \n",
              " 3rd Qu.:1.0000                      3rd Qu.:0.00000              \n",
              " Max.   :1.0000                      Max.   :1.00000              \n",
              "                                                                  \n",
              " has_superstructure_cement_mortar_stone has_superstructure_mud_mortar_brick\n",
              " Min.   :0.00000                        Min.   :0.00000                    \n",
              " 1st Qu.:0.00000                        1st Qu.:0.00000                    \n",
              " Median :0.00000                        Median :0.00000                    \n",
              " Mean   :0.01857                        Mean   :0.06746                    \n",
              " 3rd Qu.:0.00000                        3rd Qu.:0.00000                    \n",
              " Max.   :1.00000                        Max.   :1.00000                    \n",
              "                                                                           \n",
              " has_superstructure_cement_mortar_brick has_superstructure_timber\n",
              " Min.   :0.00000                        Min.   :0.0000           \n",
              " 1st Qu.:0.00000                        1st Qu.:0.0000           \n",
              " Median :0.00000                        Median :0.0000           \n",
              " Mean   :0.07384                        Mean   :0.2535           \n",
              " 3rd Qu.:0.00000                        3rd Qu.:1.0000           \n",
              " Max.   :1.00000                        Max.   :1.0000           \n",
              "                                                                 \n",
              " has_superstructure_bamboo has_superstructure_rc_non_engineered\n",
              " Min.   :0.00000           Min.   :0.0000                      \n",
              " 1st Qu.:0.00000           1st Qu.:0.0000                      \n",
              " Median :0.00000           Median :0.0000                      \n",
              " Mean   :0.08368           Mean   :0.0425                      \n",
              " 3rd Qu.:0.00000           3rd Qu.:0.0000                      \n",
              " Max.   :1.00000           Max.   :1.0000                      \n",
              "                                                               \n",
              " has_superstructure_rc_engineered has_superstructure_other\n",
              " Min.   :0.00000                  Min.   :0.00000         \n",
              " 1st Qu.:0.00000                  1st Qu.:0.00000         \n",
              " Median :0.00000                  Median :0.00000         \n",
              " Mean   :0.01579                  Mean   :0.01521         \n",
              " 3rd Qu.:0.00000                  3rd Qu.:0.00000         \n",
              " Max.   :1.00000                  Max.   :1.00000         \n",
              "                                                          \n",
              " legal_ownership_status count_families   has_secondary_use\n",
              " a: 1795                Min.   :0.0000   Min.   :0.0000   \n",
              " r:  517                1st Qu.:1.0000   1st Qu.:0.0000   \n",
              " v:83694                Median :1.0000   Median :0.0000   \n",
              " w:  862                Mean   :0.9831   Mean   :0.1115   \n",
              "                        3rd Qu.:1.0000   3rd Qu.:0.0000   \n",
              "                        Max.   :8.0000   Max.   :1.0000   \n",
              "                                                          \n",
              " has_secondary_use_agriculture has_secondary_use_hotel has_secondary_use_rental\n",
              " Min.   :0.0000                Min.   :0.00000         Min.   :0.000000        \n",
              " 1st Qu.:0.0000                1st Qu.:0.00000         1st Qu.:0.000000        \n",
              " Median :0.0000                Median :0.00000         Median :0.000000        \n",
              " Mean   :0.0641                Mean   :0.03387         Mean   :0.008242        \n",
              " 3rd Qu.:0.0000                3rd Qu.:0.00000         3rd Qu.:0.000000        \n",
              " Max.   :1.0000                Max.   :1.00000         Max.   :1.000000        \n",
              "                                                                               \n",
              " has_secondary_use_institution has_secondary_use_school\n",
              " Min.   :0.000000              Min.   :0.0000000       \n",
              " 1st Qu.:0.000000              1st Qu.:0.0000000       \n",
              " Median :0.000000              Median :0.0000000       \n",
              " Mean   :0.001013              Mean   :0.0003684       \n",
              " 3rd Qu.:0.000000              3rd Qu.:0.0000000       \n",
              " Max.   :1.000000              Max.   :1.0000000       \n",
              "                                                       \n",
              " has_secondary_use_industry has_secondary_use_health_post\n",
              " Min.   :0.000000           Min.   :0.0000000            \n",
              " 1st Qu.:0.000000           1st Qu.:0.0000000            \n",
              " Median :0.000000           Median :0.0000000            \n",
              " Mean   :0.001002           Mean   :0.0001036            \n",
              " 3rd Qu.:0.000000           3rd Qu.:0.0000000            \n",
              " Max.   :1.000000           Max.   :1.0000000            \n",
              "                                                         \n",
              " has_secondary_use_gov_office has_secondary_use_use_police\n",
              " Min.   :0.0000000            Min.   :0.0e+00             \n",
              " 1st Qu.:0.0000000            1st Qu.:0.0e+00             \n",
              " Median :0.0000000            Median :0.0e+00             \n",
              " Mean   :0.0001151            Mean   :4.6e-05             \n",
              " 3rd Qu.:0.0000000            3rd Qu.:0.0e+00             \n",
              " Max.   :1.0000000            Max.   :1.0e+00             \n",
              "                                                          \n",
              " has_secondary_use_other\n",
              " Min.   :0.000000       \n",
              " 1st Qu.:0.000000       \n",
              " Median :0.000000       \n",
              " Mean   :0.004904       \n",
              " 3rd Qu.:0.000000       \n",
              " Max.   :1.000000       \n",
              "                        "
            ]
          },
          "metadata": {}
        }
      ]
    },
    {
      "cell_type": "code",
      "execution_count": null,
      "id": "fd301ef2",
      "metadata": {
        "id": "fd301ef2"
      },
      "outputs": [],
      "source": []
    },
    {
      "cell_type": "code",
      "execution_count": null,
      "id": "1583fcd4",
      "metadata": {
        "id": "1583fcd4"
      },
      "outputs": [],
      "source": [
        "int_variables<-which(sapply(train.features[1,],class)==\"integer\")\n",
        "head(train.features[,-int_variables])"
      ]
    }
  ],
  "metadata": {
    "kernelspec": {
      "display_name": "R",
      "language": "R",
      "name": "ir"
    },
    "language_info": {
      "codemirror_mode": "r",
      "file_extension": ".r",
      "mimetype": "text/x-r-source",
      "name": "R",
      "pygments_lexer": "r",
      "version": "4.1.3"
    },
    "colab": {
      "provenance": [],
      "include_colab_link": true
    }
  },
  "nbformat": 4,
  "nbformat_minor": 5
}