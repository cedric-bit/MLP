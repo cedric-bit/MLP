{
  "cells": [
    {
      "cell_type": "markdown",
      "metadata": {
        "id": "view-in-github",
        "colab_type": "text"
      },
      "source": [
        "<a href=\"https://colab.research.google.com/github/cedric-bit/MLP/blob/main/LEDKDC.ipynb\" target=\"_parent\"><img src=\"https://colab.research.google.com/assets/colab-badge.svg\" alt=\"Open In Colab\"/></a>"
      ]
    },
    {
      "cell_type": "markdown",
      "id": "508981c3",
      "metadata": {
        "id": "508981c3"
      },
      "source": [
        "# INFO-F-422 - Statistical Foundations of Machine Learning\n",
        "## Project: Modeling Earthquake Damage\n",
        "# INTRODUCTION\n",
        "DrivenData competition Richter's Predictor: Modeling Earthquake Damage \n",
        "\n",
        "The main objective of this project is to develop a prediction model capable of estimating the level of damage to buildings during the 2015 Nepal earthquake, based on various structural and geographical characteristics.\n",
        "\n",
        "For this project, we have a dataset comprised of train_features, test_features, and train_labels. Both train_features and test_features include information on buildings, their structure, geographical location, and legal status, collected after the Gorkha earthquake. These datasets have 39 columns each, with the building_id column serving as a unique and random identifier. The remaining 38 features provide information about the building, its structure, construction materials, location, etc., which are useful for predicting damage. The train_labels dataset contains the known output values (damage_grade) for the training data in train_features"
      ]
    },
    {
      "cell_type": "code",
      "execution_count": null,
      "id": "6635f64a",
      "metadata": {
        "id": "6635f64a",
        "colab": {
          "base_uri": "https://localhost:8080/"
        },
        "outputId": "0795d0b9-4143-45e6-f204-80ea1587b09e"
      },
      "outputs": [
        {
          "output_type": "stream",
          "name": "stderr",
          "text": [
            "Installing package into ‘/usr/local/lib/R/site-library’\n",
            "(as ‘lib’ is unspecified)\n",
            "\n",
            "Installing package into ‘/usr/local/lib/R/site-library’\n",
            "(as ‘lib’ is unspecified)\n",
            "\n",
            "Installing package into ‘/usr/local/lib/R/site-library’\n",
            "(as ‘lib’ is unspecified)\n",
            "\n",
            "Installing package into ‘/usr/local/lib/R/site-library’\n",
            "(as ‘lib’ is unspecified)\n",
            "\n",
            "Installing package into ‘/usr/local/lib/R/site-library’\n",
            "(as ‘lib’ is unspecified)\n",
            "\n",
            "randomForest 4.7-1.1\n",
            "\n",
            "Type rfNews() to see new features/changes/bug fixes.\n",
            "\n",
            "\n",
            "Attaching package: ‘randomForest’\n",
            "\n",
            "\n",
            "The following object is masked from ‘package:ggplot2’:\n",
            "\n",
            "    margin\n",
            "\n",
            "\n"
          ]
        }
      ],
      "source": [
        "install.packages(\"ggplot2\")\n",
        "install.packages(\"rpart\")\n",
        "install.packages(\"rpart.plot\")\n",
        "install.packages(\"nnet\")\n",
        "install.packages(\"randomForest\")\n",
        "\n",
        "library(ggplot2)\n",
        "library(rpart)\n",
        "library(rpart.plot)\n",
        "library(nnet)\n",
        "library(randomForest)\n"
      ]
    },
    {
      "cell_type": "code",
      "execution_count": null,
      "id": "99a6d98f",
      "metadata": {
        "id": "99a6d98f"
      },
      "outputs": [],
      "source": [
        "set.seed(5)"
      ]
    },
    {
      "cell_type": "markdown",
      "source": [
        "# Data preprocessing\n",
        "Data pre-processing is an important step in the analysis of our data. This involves cleaning, transforming and normalising the data to make it ready to be used to train machine learning models.\n",
        "\n",
        "As I mentioned earlier, we have three CSV files of data that can be downloaded from the competition site :\n",
        "\n",
        "* train_features: file contains the training data that will be used to \n",
        "train machine learning models. The data in this file includes input features and known the target variable).\n",
        "\n",
        "* train_labels: This file contains the known output values for the training data in train_features. These known output values will be used to train and evaluate the performance of machine learning models.\n",
        "\n",
        "* test_features: This file contains new data that the trained machine learning models will be used to make predictions on. This file contains input features for which the target variable (i.e., the output) is not known."
      ],
      "metadata": {
        "id": "hgTA1yG1TeZ2"
      },
      "id": "hgTA1yG1TeZ2"
    },
    {
      "cell_type": "code",
      "execution_count": null,
      "id": "4c25ae12",
      "metadata": {
        "id": "4c25ae12"
      },
      "outputs": [],
      "source": [
        "train_features <- read.csv(file=\"train_values.csv\",stringsAsFactors = T)\n",
        "train_labels <- read.csv(file=\"train_labels.csv\",stringsAsFactors = T)\n",
        "test_features <- read.csv(file=\"test_values.csv\",stringsAsFactors = T)"
      ]
    },
    {
      "cell_type": "code",
      "execution_count": null,
      "id": "5cf0a4a6",
      "metadata": {
        "id": "5cf0a4a6",
        "colab": {
          "base_uri": "https://localhost:8080/",
          "height": 52
        },
        "outputId": "851dadaf-efeb-46da-9755-0d4a033f7025"
      },
      "outputs": [
        {
          "output_type": "display_data",
          "data": {
            "text/html": [
              "<style>\n",
              ".list-inline {list-style: none; margin:0; padding: 0}\n",
              ".list-inline>li {display: inline-block}\n",
              ".list-inline>li:not(:last-child)::after {content: \"\\00b7\"; padding: 0 .5ex}\n",
              "</style>\n",
              "<ol class=list-inline><li>260601</li><li>39</li></ol>\n"
            ],
            "text/markdown": "1. 260601\n2. 39\n\n\n",
            "text/latex": "\\begin{enumerate*}\n\\item 260601\n\\item 39\n\\end{enumerate*}\n",
            "text/plain": [
              "[1] 260601     39"
            ]
          },
          "metadata": {}
        },
        {
          "output_type": "display_data",
          "data": {
            "text/html": [
              "<style>\n",
              ".list-inline {list-style: none; margin:0; padding: 0}\n",
              ".list-inline>li {display: inline-block}\n",
              ".list-inline>li:not(:last-child)::after {content: \"\\00b7\"; padding: 0 .5ex}\n",
              "</style>\n",
              "<ol class=list-inline><li>86868</li><li>39</li></ol>\n"
            ],
            "text/markdown": "1. 86868\n2. 39\n\n\n",
            "text/latex": "\\begin{enumerate*}\n\\item 86868\n\\item 39\n\\end{enumerate*}\n",
            "text/plain": [
              "[1] 86868    39"
            ]
          },
          "metadata": {}
        }
      ],
      "source": [
        "dim(train_features)\n",
        "dim(test_features) "
      ]
    },
    {
      "cell_type": "code",
      "source": [],
      "metadata": {
        "id": "fRV5wd98ocoA"
      },
      "id": "fRV5wd98ocoA",
      "execution_count": null,
      "outputs": []
    },
    {
      "cell_type": "markdown",
      "source": [
        "This means that our training set contains 260601 building observations and their 39 associated features and test set contains 86868 building observations and their 39 associated features. we can observe that we have l small data for test feature.the building identifier *building_id* has no more information on the prediction, we will remove this variable for the rest of the project.\n",
        "\n"
      ],
      "metadata": {
        "id": "AJmqyGaBskd1"
      },
      "id": "AJmqyGaBskd1"
    },
    {
      "cell_type": "code",
      "source": [
        "str(train_labels)\n",
        "dim(train_labels)"
      ],
      "metadata": {
        "id": "KpKv4G4zo6dn",
        "colab": {
          "base_uri": "https://localhost:8080/",
          "height": 89
        },
        "outputId": "9a2db3df-9155-4f49-b705-cc9badba2e68"
      },
      "id": "KpKv4G4zo6dn",
      "execution_count": null,
      "outputs": [
        {
          "output_type": "stream",
          "name": "stdout",
          "text": [
            "'data.frame':\t260601 obs. of  2 variables:\n",
            " $ building_id : int  802906 28830 94947 590882 201944 333020 728451 475515 441126 989500 ...\n",
            " $ damage_grade: int  3 2 3 2 3 2 3 1 2 1 ...\n"
          ]
        },
        {
          "output_type": "display_data",
          "data": {
            "text/html": [
              "<style>\n",
              ".list-inline {list-style: none; margin:0; padding: 0}\n",
              ".list-inline>li {display: inline-block}\n",
              ".list-inline>li:not(:last-child)::after {content: \"\\00b7\"; padding: 0 .5ex}\n",
              "</style>\n",
              "<ol class=list-inline><li>260601</li><li>2</li></ol>\n"
            ],
            "text/markdown": "1. 260601\n2. 2\n\n\n",
            "text/latex": "\\begin{enumerate*}\n\\item 260601\n\\item 2\n\\end{enumerate*}\n",
            "text/plain": [
              "[1] 260601      2"
            ]
          },
          "metadata": {}
        }
      ]
    },
    {
      "cell_type": "code",
      "source": [
        "ggplot(train_labels, aes(x = damage_grade)) +\n",
        "  geom_histogram(binwidth = 1, fill = \"steelblue\", color = \"black\", alpha = 0.7) +\n",
        "  labs(title = \"Distribution variable damage_grade\",\n",
        "       x = \"level of damage\",\n",
        "       y = \"Number of building\") +\n",
        "  theme_minimal()\n"
      ],
      "metadata": {
        "id": "Euyvdv2DdkkQ",
        "colab": {
          "base_uri": "https://localhost:8080/",
          "height": 437
        },
        "outputId": "592ff6e7-0580-4eda-a1c3-0551e526e1c1"
      },
      "id": "Euyvdv2DdkkQ",
      "execution_count": null,
      "outputs": [
        {
          "output_type": "display_data",
          "data": {
            "text/plain": [
              "plot without title"
            ],
            "image/png": "[encoded data removed]"
          },
          "metadata": {
            "image/png": {
              "width": 420,
              "height": 420
            }
          }
        }
      ]
    },
    {
      "cell_type": "markdown",
      "source": [
        "We can see that the damage_grade variable is a categorical variable. It represents the level of damage suffered by the building affected by the earthquake. \n",
        "\n",
        "There are three levels of damage:\n",
        "\n",
        "* 1 = represents a low level of damage\n",
        "* 2 = represents a medium level of damage\n",
        "* 3 = represents almost complete destruction"
      ],
      "metadata": {
        "id": "Am1JVarep4so"
      },
      "id": "Am1JVarep4so"
    },
    {
      "cell_type": "code",
      "execution_count": null,
      "id": "e17f16dc",
      "metadata": {
        "id": "e17f16dc",
        "colab": {
          "base_uri": "https://localhost:8080/"
        },
        "outputId": "98eed08d-7f7f-4c4b-f9ea-01b503e0b6dd"
      },
      "outputs": [
        {
          "output_type": "stream",
          "name": "stdout",
          "text": [
            "'data.frame':\t260601 obs. of  39 variables:\n",
            " $ building_id                           : int  802906 28830 94947 590882 201944 333020 728451 475515 441126 989500 ...\n",
            " $ geo_level_1_id                        : int  6 8 21 22 11 8 9 20 0 26 ...\n",
            " $ geo_level_2_id                        : int  487 900 363 418 131 558 475 323 757 886 ...\n",
            " $ geo_level_3_id                        : int  12198 2812 8973 10694 1488 6089 12066 12236 7219 994 ...\n",
            " $ count_floors_pre_eq                   : int  2 2 2 2 3 2 2 2 2 1 ...\n",
            " $ age                                   : int  30 10 10 10 30 10 25 0 15 0 ...\n",
            " $ area_percentage                       : int  6 8 5 6 8 9 3 8 8 13 ...\n",
            " $ height_percentage                     : int  5 7 5 5 9 5 4 6 6 4 ...\n",
            " $ land_surface_condition                : Factor w/ 3 levels \"n\",\"o\",\"t\": 3 2 3 3 3 3 1 3 3 3 ...\n",
            " $ foundation_type                       : Factor w/ 5 levels \"h\",\"i\",\"r\",\"u\",..: 3 3 3 3 3 3 3 5 3 2 ...\n",
            " $ roof_type                             : Factor w/ 3 levels \"n\",\"q\",\"x\": 1 1 1 1 1 1 1 2 2 1 ...\n",
            " $ ground_floor_type                     : Factor w/ 5 levels \"f\",\"m\",\"v\",\"x\",..: 1 4 1 1 1 1 4 3 1 3 ...\n",
            " $ other_floor_type                      : Factor w/ 4 levels \"j\",\"q\",\"s\",\"x\": 2 2 4 4 4 2 2 4 2 1 ...\n",
            " $ position                              : Factor w/ 4 levels \"j\",\"o\",\"s\",\"t\": 4 3 4 3 3 3 3 3 3 3 ...\n",
            " $ plan_configuration                    : Factor w/ 10 levels \"a\",\"c\",\"d\",\"f\",..: 3 3 3 3 3 3 3 10 3 3 ...\n",
            " $ has_superstructure_adobe_mud          : int  1 0 0 0 1 0 0 0 0 0 ...\n",
            " $ has_superstructure_mud_mortar_stone   : int  1 1 1 1 0 1 1 0 1 0 ...\n",
            " $ has_superstructure_stone_flag         : int  0 0 0 0 0 0 0 0 0 0 ...\n",
            " $ has_superstructure_cement_mortar_stone: int  0 0 0 0 0 0 0 0 0 0 ...\n",
            " $ has_superstructure_mud_mortar_brick   : int  0 0 0 0 0 0 0 0 0 0 ...\n",
            " $ has_superstructure_cement_mortar_brick: int  0 0 0 0 0 0 0 1 0 1 ...\n",
            " $ has_superstructure_timber             : int  0 0 0 1 0 0 0 1 1 0 ...\n",
            " $ has_superstructure_bamboo             : int  0 0 0 1 0 0 0 0 0 0 ...\n",
            " $ has_superstructure_rc_non_engineered  : int  0 0 0 0 0 0 0 0 0 0 ...\n",
            " $ has_superstructure_rc_engineered      : int  0 0 0 0 0 0 0 0 0 0 ...\n",
            " $ has_superstructure_other              : int  0 0 0 0 0 0 0 0 0 0 ...\n",
            " $ legal_ownership_status                : Factor w/ 4 levels \"a\",\"r\",\"v\",\"w\": 3 3 3 3 3 3 3 3 3 3 ...\n",
            " $ count_families                        : int  1 1 1 1 1 1 1 1 1 1 ...\n",
            " $ has_secondary_use                     : int  0 0 0 0 0 1 0 0 0 0 ...\n",
            " $ has_secondary_use_agriculture         : int  0 0 0 0 0 1 0 0 0 0 ...\n",
            " $ has_secondary_use_hotel               : int  0 0 0 0 0 0 0 0 0 0 ...\n",
            " $ has_secondary_use_rental              : int  0 0 0 0 0 0 0 0 0 0 ...\n",
            " $ has_secondary_use_institution         : int  0 0 0 0 0 0 0 0 0 0 ...\n",
            " $ has_secondary_use_school              : int  0 0 0 0 0 0 0 0 0 0 ...\n",
            " $ has_secondary_use_industry            : int  0 0 0 0 0 0 0 0 0 0 ...\n",
            " $ has_secondary_use_health_post         : int  0 0 0 0 0 0 0 0 0 0 ...\n",
            " $ has_secondary_use_gov_office          : int  0 0 0 0 0 0 0 0 0 0 ...\n",
            " $ has_secondary_use_use_police          : int  0 0 0 0 0 0 0 0 0 0 ...\n",
            " $ has_secondary_use_other               : int  0 0 0 0 0 0 0 0 0 0 ...\n"
          ]
        }
      ],
      "source": [
        "str(train_features)"
      ]
    },
    {
      "cell_type": "code",
      "execution_count": null,
      "id": "e1525f32",
      "metadata": {
        "id": "e1525f32",
        "colab": {
          "base_uri": "https://localhost:8080/"
        },
        "outputId": "f1bec4dd-8a5e-4d31-90b9-92ee19a38ff9"
      },
      "outputs": [
        {
          "output_type": "stream",
          "name": "stdout",
          "text": [
            "'data.frame':\t86868 obs. of  39 variables:\n",
            " $ building_id                           : int  300051 99355 890251 745817 421793 871976 691228 896100 343471 766647 ...\n",
            " $ geo_level_1_id                        : int  17 6 22 26 17 22 26 8 16 26 ...\n",
            " $ geo_level_2_id                        : int  596 141 19 39 289 170 432 1373 244 761 ...\n",
            " $ geo_level_3_id                        : int  11307 11987 10044 633 7970 4029 6794 958 3521 3137 ...\n",
            " $ count_floors_pre_eq                   : int  3 2 2 1 3 1 2 2 2 2 ...\n",
            " $ age                                   : int  20 25 5 0 15 55 0 35 30 5 ...\n",
            " $ area_percentage                       : int  7 13 4 19 8 4 6 2 6 6 ...\n",
            " $ height_percentage                     : int  6 5 5 3 7 3 7 8 5 7 ...\n",
            " $ land_surface_condition                : Factor w/ 3 levels \"n\",\"o\",\"t\": 3 3 3 3 3 3 1 3 3 1 ...\n",
            " $ foundation_type                       : Factor w/ 5 levels \"h\",\"i\",\"r\",\"u\",..: 3 3 3 3 3 3 3 3 3 3 ...\n",
            " $ roof_type                             : Factor w/ 3 levels \"n\",\"q\",\"x\": 1 1 1 3 2 2 1 1 1 1 ...\n",
            " $ ground_floor_type                     : Factor w/ 5 levels \"f\",\"m\",\"v\",\"x\",..: 1 1 1 3 1 1 3 1 1 1 ...\n",
            " $ other_floor_type                      : Factor w/ 4 levels \"j\",\"q\",\"s\",\"x\": 2 2 2 1 2 1 4 2 4 4 ...\n",
            " $ position                              : Factor w/ 4 levels \"j\",\"o\",\"s\",\"t\": 3 3 3 4 4 3 3 3 3 3 ...\n",
            " $ plan_configuration                    : Factor w/ 10 levels \"a\",\"c\",\"d\",\"f\",..: 3 3 3 3 3 3 3 3 3 3 ...\n",
            " $ has_superstructure_adobe_mud          : int  0 0 0 0 0 0 0 0 0 0 ...\n",
            " $ has_superstructure_mud_mortar_stone   : int  1 1 1 0 1 1 0 1 1 1 ...\n",
            " $ has_superstructure_stone_flag         : int  0 0 0 0 0 0 0 0 0 0 ...\n",
            " $ has_superstructure_cement_mortar_stone: int  0 0 0 0 0 0 0 0 0 0 ...\n",
            " $ has_superstructure_mud_mortar_brick   : int  0 0 0 0 0 0 0 0 0 0 ...\n",
            " $ has_superstructure_cement_mortar_brick: int  0 0 0 1 0 0 1 0 0 0 ...\n",
            " $ has_superstructure_timber             : int  0 0 0 0 0 0 0 0 0 1 ...\n",
            " $ has_superstructure_bamboo             : int  0 0 0 0 0 0 0 0 0 1 ...\n",
            " $ has_superstructure_rc_non_engineered  : int  0 0 0 0 0 0 0 0 0 0 ...\n",
            " $ has_superstructure_rc_engineered      : int  0 0 0 0 0 0 0 0 0 0 ...\n",
            " $ has_superstructure_other              : int  0 0 0 0 0 0 1 0 0 0 ...\n",
            " $ legal_ownership_status                : Factor w/ 4 levels \"a\",\"r\",\"v\",\"w\": 3 3 3 3 3 3 3 3 3 3 ...\n",
            " $ count_families                        : int  1 1 1 2 1 1 1 0 1 1 ...\n",
            " $ has_secondary_use                     : int  0 1 0 1 0 0 0 0 0 0 ...\n",
            " $ has_secondary_use_agriculture         : int  0 1 0 0 0 0 0 0 0 0 ...\n",
            " $ has_secondary_use_hotel               : int  0 0 0 0 0 0 0 0 0 0 ...\n",
            " $ has_secondary_use_rental              : int  0 0 0 1 0 0 0 0 0 0 ...\n",
            " $ has_secondary_use_institution         : int  0 0 0 0 0 0 0 0 0 0 ...\n",
            " $ has_secondary_use_school              : int  0 0 0 0 0 0 0 0 0 0 ...\n",
            " $ has_secondary_use_industry            : int  0 0 0 0 0 0 0 0 0 0 ...\n",
            " $ has_secondary_use_health_post         : int  0 0 0 0 0 0 0 0 0 0 ...\n",
            " $ has_secondary_use_gov_office          : int  0 0 0 0 0 0 0 0 0 0 ...\n",
            " $ has_secondary_use_use_police          : int  0 0 0 0 0 0 0 0 0 0 ...\n",
            " $ has_secondary_use_other               : int  0 0 0 0 0 0 0 0 0 0 ...\n"
          ]
        }
      ],
      "source": [
        "str(test_features)"
      ]
    },
    {
      "cell_type": "markdown",
      "source": [
        "To process this data, we need to know what types of data we have. The get_var_type function allows us to check the existence of categorical, numerical and binary variables in our datasets. We can observe that we have \n",
        "* 8 categorical variables in total, which can take several characteristic values, \n",
        "* 22 binary variables (0 and 1), and finally \n",
        "* 9 numerical variables which represent integers."
      ],
      "metadata": {
        "id": "W6NdiM2HvNOV"
      },
      "id": "W6NdiM2HvNOV"
    },
    {
      "cell_type": "code",
      "execution_count": null,
      "id": "fbeb5f53",
      "metadata": {
        "id": "fbeb5f53",
        "colab": {
          "base_uri": "https://localhost:8080/",
          "height": 127
        },
        "outputId": "8f3bc9c2-ffc8-45bf-8efb-c86932e2c970"
      },
      "outputs": [
        {
          "output_type": "display_data",
          "data": {
            "text/plain": [
              "var_types\n",
              "     Binary Categorical   Numerical \n",
              "         22           8           9 "
            ]
          },
          "metadata": {}
        },
        {
          "output_type": "display_data",
          "data": {
            "text/plain": [
              "var_types_test\n",
              "     Binary Categorical   Numerical \n",
              "         22           8           9 "
            ]
          },
          "metadata": {}
        }
      ],
      "source": [
        "get_var_type <- function(x) {\n",
        "  if (is.factor(x)) {\n",
        "    return(\"Categorical\")\n",
        "  } else if (length(unique(x)) == 2) {\n",
        "    return(\"Binary\")\n",
        "  } else {\n",
        "    return(\"Numerical\")\n",
        "  }\n",
        "}\n",
        "\n",
        "var_info <- data.frame(variable = names(train_features),\n",
        "                       var_type = sapply(train_features, get_var_type),\n",
        "                       count = sapply(train_features, function(x) length(unique(x))))\n",
        "\n",
        "var_types <- sapply(train_features, get_var_type)\n",
        "type_counts <- table(var_types)\n",
        "type_counts\n",
        "\n",
        "var_info_test <- data.frame(variable = names(test_features),\n",
        "                       var_type = sapply(test_features, get_var_type),\n",
        "                       count = sapply(test_features, function(x) length(unique(x))))\n",
        "\n",
        "var_types_test <- sapply(test_features, get_var_type)\n",
        "type_counts_test <- table(var_types_test)\n",
        "type_counts_test\n"
      ]
    },
    {
      "cell_type": "code",
      "source": [
        "get_var_type <- function(x) {\n",
        "  if (is.factor(x)) {\n",
        "    return(\"Categorical\")\n",
        "  } else if (length(unique(x)) == 2) {\n",
        "    return(\"Binary\")\n",
        "  } else {\n",
        "    return(\"Numerical\")\n",
        "  }\n",
        "}\n",
        "\n",
        "var_types <- sapply(train_features, get_var_type)\n",
        "\n",
        "categorical_indices <- which(var_types == \"Categorical\")\n",
        "binary_indices <- which(var_types == \"Binary\")\n",
        "numeric_indices <- which(var_types == \"Numerical\")\n",
        "categorical_variables <- names(train_features)[categorical_indices]\n",
        "binary_variables <- names(train_features)[binary_indices]\n",
        "numeric_variables <- names(train_features)[numeric_indices]\n",
        "cat(\"Categorical variables:\\n\")\n",
        "print(categorical_variables)\n",
        "\n",
        "cat(\"Binary variables:\\n\")\n",
        "print(binary_variables)\n",
        "\n",
        "cat(\"Numeric variables:\\n\")\n",
        "print(numeric_variables)"
      ],
      "metadata": {
        "id": "tOB9YCVEutYv",
        "colab": {
          "base_uri": "https://localhost:8080/"
        },
        "outputId": "1fa8308a-c6ac-4390-9647-6707de993d85"
      },
      "id": "tOB9YCVEutYv",
      "execution_count": null,
      "outputs": [
        {
          "output_type": "stream",
          "name": "stdout",
          "text": [
            "Categorical variables:\n",
            "[1] \"land_surface_condition\" \"foundation_type\"        \"roof_type\"             \n",
            "[4] \"ground_floor_type\"      \"other_floor_type\"       \"position\"              \n",
            "[7] \"plan_configuration\"     \"legal_ownership_status\"\n",
            "Binary variables:\n",
            " [1] \"has_superstructure_adobe_mud\"          \n",
            " [2] \"has_superstructure_mud_mortar_stone\"   \n",
            " [3] \"has_superstructure_stone_flag\"         \n",
            " [4] \"has_superstructure_cement_mortar_stone\"\n",
            " [5] \"has_superstructure_mud_mortar_brick\"   \n",
            " [6] \"has_superstructure_cement_mortar_brick\"\n",
            " [7] \"has_superstructure_timber\"             \n",
            " [8] \"has_superstructure_bamboo\"             \n",
            " [9] \"has_superstructure_rc_non_engineered\"  \n",
            "[10] \"has_superstructure_rc_engineered\"      \n",
            "[11] \"has_superstructure_other\"              \n",
            "[12] \"has_secondary_use\"                     \n",
            "[13] \"has_secondary_use_agriculture\"         \n",
            "[14] \"has_secondary_use_hotel\"               \n",
            "[15] \"has_secondary_use_rental\"              \n",
            "[16] \"has_secondary_use_institution\"         \n",
            "[17] \"has_secondary_use_school\"              \n",
            "[18] \"has_secondary_use_industry\"            \n",
            "[19] \"has_secondary_use_health_post\"         \n",
            "[20] \"has_secondary_use_gov_office\"          \n",
            "[21] \"has_secondary_use_use_police\"          \n",
            "[22] \"has_secondary_use_other\"               \n",
            "Numeric variables:\n",
            "[1] \"building_id\"         \"geo_level_1_id\"      \"geo_level_2_id\"     \n",
            "[4] \"geo_level_3_id\"      \"count_floors_pre_eq\" \"age\"                \n",
            "[7] \"area_percentage\"     \"height_percentage\"   \"count_families\"     \n"
          ]
        }
      ]
    },
    {
      "cell_type": "code",
      "source": [
        "var_types_df <- data.frame(\n",
        "  Type = c(\"Binary\", \"Categorical\", \"Numerical\"),\n",
        "  Count = c(22, 8, 9)\n",
        ")\n",
        "\n",
        "ggplot(var_types_df, aes(x = Type, y = Count, fill = Type)) +\n",
        "  geom_bar(stat = \"identity\", width = 0.5) +\n",
        "  theme_minimal() +\n",
        "  labs(title = \"Number of variables per type\", x = \"Type of variable\", y = \"Number of variables\") +\n",
        "  scale_fill_discrete(name = \"Types of variables\") +\n",
        "  theme(legend.position = \"bottom\")"
      ],
      "metadata": {
        "id": "RmmN-UEyxYpO",
        "colab": {
          "base_uri": "https://localhost:8080/",
          "height": 437
        },
        "outputId": "06a1f2fd-7b29-46a4-9021-634ca6509b56"
      },
      "id": "RmmN-UEyxYpO",
      "execution_count": null,
      "outputs": [
        {
          "output_type": "display_data",
          "data": {
            "text/plain": [
              "plot without title"
            ],
            "image/png": "[encoded data removed]"
          },
          "metadata": {
            "image/png": {
              "width": 420,
              "height": 420
            }
          }
        }
      ]
    },
    {
      "cell_type": "markdown",
      "source": [
        "## Missing value imputation\n",
        "\n",
        "Our analysis and observations allow us to conclude that the data set contains no missing (MV) or unattributed (NA) values for the variables present. This means that the data are complete and that no imputation or method of handling missing values is necessary for our analysis. The absence of missing values is an advantage for our project, as it reduces the risk of introducing errors in the analysis and the predictive model. It also facilitates the data preparation process, as we can focus on other aspects such as feature selection, feature engineering and model building without having to worry about missing values."
      ],
      "metadata": {
        "id": "pC3cyomtyEst"
      },
      "id": "pC3cyomtyEst"
    },
    {
      "cell_type": "code",
      "source": [
        "missing_values <- sapply(train_features, function(x) sum(is.na(x)))\n",
        "print(missing_values)\n"
      ],
      "metadata": {
        "id": "TCPpPxMY0rGB",
        "colab": {
          "base_uri": "https://localhost:8080/"
        },
        "outputId": "343e6f18-ae80-4e9f-eef0-58f26768eb34"
      },
      "id": "TCPpPxMY0rGB",
      "execution_count": null,
      "outputs": [
        {
          "output_type": "stream",
          "name": "stdout",
          "text": [
            "                           building_id                         geo_level_1_id \n",
            "                                     0                                      0 \n",
            "                        geo_level_2_id                         geo_level_3_id \n",
            "                                     0                                      0 \n",
            "                   count_floors_pre_eq                                    age \n",
            "                                     0                                      0 \n",
            "                       area_percentage                      height_percentage \n",
            "                                     0                                      0 \n",
            "                land_surface_condition                        foundation_type \n",
            "                                     0                                      0 \n",
            "                             roof_type                      ground_floor_type \n",
            "                                     0                                      0 \n",
            "                      other_floor_type                               position \n",
            "                                     0                                      0 \n",
            "                    plan_configuration           has_superstructure_adobe_mud \n",
            "                                     0                                      0 \n",
            "   has_superstructure_mud_mortar_stone          has_superstructure_stone_flag \n",
            "                                     0                                      0 \n",
            "has_superstructure_cement_mortar_stone    has_superstructure_mud_mortar_brick \n",
            "                                     0                                      0 \n",
            "has_superstructure_cement_mortar_brick              has_superstructure_timber \n",
            "                                     0                                      0 \n",
            "             has_superstructure_bamboo   has_superstructure_rc_non_engineered \n",
            "                                     0                                      0 \n",
            "      has_superstructure_rc_engineered               has_superstructure_other \n",
            "                                     0                                      0 \n",
            "                legal_ownership_status                         count_families \n",
            "                                     0                                      0 \n",
            "                     has_secondary_use          has_secondary_use_agriculture \n",
            "                                     0                                      0 \n",
            "               has_secondary_use_hotel               has_secondary_use_rental \n",
            "                                     0                                      0 \n",
            "         has_secondary_use_institution               has_secondary_use_school \n",
            "                                     0                                      0 \n",
            "            has_secondary_use_industry          has_secondary_use_health_post \n",
            "                                     0                                      0 \n",
            "          has_secondary_use_gov_office           has_secondary_use_use_police \n",
            "                                     0                                      0 \n",
            "               has_secondary_use_other \n",
            "                                     0 \n"
          ]
        }
      ]
    },
    {
      "cell_type": "code",
      "source": [
        "dim(test_features) \n",
        "dim(na.omit(test_features))"
      ],
      "metadata": {
        "id": "fbtFpfhR1o30",
        "colab": {
          "base_uri": "https://localhost:8080/",
          "height": 52
        },
        "outputId": "f14d6fd3-1045-4f91-b5a1-db0964bee148"
      },
      "id": "fbtFpfhR1o30",
      "execution_count": null,
      "outputs": [
        {
          "output_type": "display_data",
          "data": {
            "text/html": [
              "<style>\n",
              ".list-inline {list-style: none; margin:0; padding: 0}\n",
              ".list-inline>li {display: inline-block}\n",
              ".list-inline>li:not(:last-child)::after {content: \"\\00b7\"; padding: 0 .5ex}\n",
              "</style>\n",
              "<ol class=list-inline><li>86868</li><li>39</li></ol>\n"
            ],
            "text/markdown": "1. 86868\n2. 39\n\n\n",
            "text/latex": "\\begin{enumerate*}\n\\item 86868\n\\item 39\n\\end{enumerate*}\n",
            "text/plain": [
              "[1] 86868    39"
            ]
          },
          "metadata": {}
        },
        {
          "output_type": "display_data",
          "data": {
            "text/html": [
              "<style>\n",
              ".list-inline {list-style: none; margin:0; padding: 0}\n",
              ".list-inline>li {display: inline-block}\n",
              ".list-inline>li:not(:last-child)::after {content: \"\\00b7\"; padding: 0 .5ex}\n",
              "</style>\n",
              "<ol class=list-inline><li>86868</li><li>39</li></ol>\n"
            ],
            "text/markdown": "1. 86868\n2. 39\n\n\n",
            "text/latex": "\\begin{enumerate*}\n\\item 86868\n\\item 39\n\\end{enumerate*}\n",
            "text/plain": [
              "[1] 86868    39"
            ]
          },
          "metadata": {}
        }
      ]
    },
    {
      "cell_type": "code",
      "source": [
        "dim(train_features) \n",
        "dim(na.omit(train_features))"
      ],
      "metadata": {
        "id": "N5JrZG651xto",
        "colab": {
          "base_uri": "https://localhost:8080/",
          "height": 52
        },
        "outputId": "2e9d6546-08cc-4e04-f84e-6e3dd01690ad"
      },
      "id": "N5JrZG651xto",
      "execution_count": null,
      "outputs": [
        {
          "output_type": "display_data",
          "data": {
            "text/html": [
              "<style>\n",
              ".list-inline {list-style: none; margin:0; padding: 0}\n",
              ".list-inline>li {display: inline-block}\n",
              ".list-inline>li:not(:last-child)::after {content: \"\\00b7\"; padding: 0 .5ex}\n",
              "</style>\n",
              "<ol class=list-inline><li>260601</li><li>39</li></ol>\n"
            ],
            "text/markdown": "1. 260601\n2. 39\n\n\n",
            "text/latex": "\\begin{enumerate*}\n\\item 260601\n\\item 39\n\\end{enumerate*}\n",
            "text/plain": [
              "[1] 260601     39"
            ]
          },
          "metadata": {}
        },
        {
          "output_type": "display_data",
          "data": {
            "text/html": [
              "<style>\n",
              ".list-inline {list-style: none; margin:0; padding: 0}\n",
              ".list-inline>li {display: inline-block}\n",
              ".list-inline>li:not(:last-child)::after {content: \"\\00b7\"; padding: 0 .5ex}\n",
              "</style>\n",
              "<ol class=list-inline><li>260601</li><li>39</li></ol>\n"
            ],
            "text/markdown": "1. 260601\n2. 39\n\n\n",
            "text/latex": "\\begin{enumerate*}\n\\item 260601\n\\item 39\n\\end{enumerate*}\n",
            "text/plain": [
              "[1] 260601     39"
            ]
          },
          "metadata": {}
        }
      ]
    },
    {
      "cell_type": "code",
      "source": [],
      "metadata": {
        "id": "A4b3wtXJw_Ym"
      },
      "id": "A4b3wtXJw_Ym",
      "execution_count": null,
      "outputs": []
    },
    {
      "cell_type": "markdown",
      "source": [
        "## feature engineering\n",
        "\n",
        "Feature engineering is the process of creating new features (variables) from existing data to improve the performance of machine learning models. This process can include transforming data, combining multiple features, extracting new information from existing data, or converting categorical data into numerical data or binary data. \n",
        "\n",
        "To improve the accuracy of the model we have created a new binary variable fragile_building to group the buildings that we consider as fragile according to the characteristics of the superstructure. \n",
        "\n",
        "For example, we consider fragile buildings as those with adobe/mud, mud mortar/stone or mud mortar/brick superstructures and the rest as non-fragile. \n",
        "\n",
        "\n",
        "*   if fragile_building == 1 then the buildings \n",
        "considered as fragile and 0 for the others"
      ],
      "metadata": {
        "id": "uVcJQaKKz25M"
      },
      "id": "uVcJQaKKz25M"
    },
    {
      "cell_type": "code",
      "source": [
        "test_features$solid_building <- ifelse(\n",
        "  ((test_features$has_superstructure_rc_engineered == 1 | \n",
        "     test_features$has_superstructure_rc_non_engineered == 1) & \n",
        "   (test_features$foundation_type %in% c('r', 'w')) & \n",
        "   (test_features$age < 10)), \n",
        "  1, \n",
        "  0\n",
        ")\n",
        "\n",
        "train_features$solid_building <- ifelse(\n",
        "  ((train_features$has_superstructure_rc_engineered == 1 | \n",
        "    train_features$has_superstructure_rc_non_engineered == 1) & \n",
        "   (train_features$foundation_type %in% c('r', 'w')) & \n",
        "   (train_features$age < 10)), \n",
        "  1, \n",
        "  0\n",
        ")"
      ],
      "metadata": {
        "id": "os16_ftOMbXY"
      },
      "id": "os16_ftOMbXY",
      "execution_count": null,
      "outputs": []
    },
    {
      "cell_type": "code",
      "source": [
        "\n"
      ],
      "metadata": {
        "id": "HSKZ-AJl7xjd"
      },
      "id": "HSKZ-AJl7xjd",
      "execution_count": null,
      "outputs": []
    },
    {
      "cell_type": "code",
      "source": [],
      "metadata": {
        "id": "UHLwEGNS8dji"
      },
      "id": "UHLwEGNS8dji",
      "execution_count": null,
      "outputs": []
    },
    {
      "cell_type": "code",
      "source": [],
      "metadata": {
        "id": "e0XoDYnbT7kf"
      },
      "id": "e0XoDYnbT7kf",
      "execution_count": null,
      "outputs": []
    },
    {
      "cell_type": "code",
      "source": [
        "# Rove building_id in train_data and test_data\n",
        "train_data <- subset(train_features, select = -building_id)\n",
        "test_data <- subset(test_features, select = -building_id)\n",
        "train_labels<- subset(train_labels, select = -building_id)\n",
        "dim(train_data)\n",
        "dim(test_data)\n",
        "dim(train_labels)"
      ],
      "metadata": {
        "id": "q1D8tiup9Z3L",
        "colab": {
          "base_uri": "https://localhost:8080/",
          "height": 69
        },
        "outputId": "6d47a6c1-9d02-4776-a9d6-1aaec1bcc1cd"
      },
      "id": "q1D8tiup9Z3L",
      "execution_count": null,
      "outputs": [
        {
          "output_type": "display_data",
          "data": {
            "text/html": [
              "<style>\n",
              ".list-inline {list-style: none; margin:0; padding: 0}\n",
              ".list-inline>li {display: inline-block}\n",
              ".list-inline>li:not(:last-child)::after {content: \"\\00b7\"; padding: 0 .5ex}\n",
              "</style>\n",
              "<ol class=list-inline><li>260601</li><li>39</li></ol>\n"
            ],
            "text/markdown": "1. 260601\n2. 39\n\n\n",
            "text/latex": "\\begin{enumerate*}\n\\item 260601\n\\item 39\n\\end{enumerate*}\n",
            "text/plain": [
              "[1] 260601     39"
            ]
          },
          "metadata": {}
        },
        {
          "output_type": "display_data",
          "data": {
            "text/html": [
              "<style>\n",
              ".list-inline {list-style: none; margin:0; padding: 0}\n",
              ".list-inline>li {display: inline-block}\n",
              ".list-inline>li:not(:last-child)::after {content: \"\\00b7\"; padding: 0 .5ex}\n",
              "</style>\n",
              "<ol class=list-inline><li>86868</li><li>39</li></ol>\n"
            ],
            "text/markdown": "1. 86868\n2. 39\n\n\n",
            "text/latex": "\\begin{enumerate*}\n\\item 86868\n\\item 39\n\\end{enumerate*}\n",
            "text/plain": [
              "[1] 86868    39"
            ]
          },
          "metadata": {}
        },
        {
          "output_type": "display_data",
          "data": {
            "text/html": [
              "<style>\n",
              ".list-inline {list-style: none; margin:0; padding: 0}\n",
              ".list-inline>li {display: inline-block}\n",
              ".list-inline>li:not(:last-child)::after {content: \"\\00b7\"; padding: 0 .5ex}\n",
              "</style>\n",
              "<ol class=list-inline><li>260601</li><li>1</li></ol>\n"
            ],
            "text/markdown": "1. 260601\n2. 1\n\n\n",
            "text/latex": "\\begin{enumerate*}\n\\item 260601\n\\item 1\n\\end{enumerate*}\n",
            "text/plain": [
              "[1] 260601      1"
            ]
          },
          "metadata": {}
        }
      ]
    },
    {
      "cell_type": "code",
      "source": [
        "head(test_data)"
      ],
      "metadata": {
        "id": "DWZWaDu99aD6",
        "colab": {
          "base_uri": "https://localhost:8080/",
          "height": 306
        },
        "outputId": "845a2049-600f-45ae-8d5d-94aa708a4997"
      },
      "id": "DWZWaDu99aD6",
      "execution_count": null,
      "outputs": [
        {
          "output_type": "display_data",
          "data": {
            "text/html": [
              "<table class=\"dataframe\">\n",
              "<caption>A data.frame: 6 × 39</caption>\n",
              "<thead>\n",
              "\t<tr><th></th><th scope=col>geo_level_1_id</th><th scope=col>geo_level_2_id</th><th scope=col>geo_level_3_id</th><th scope=col>count_floors_pre_eq</th><th scope=col>age</th><th scope=col>area_percentage</th><th scope=col>height_percentage</th><th scope=col>land_surface_condition</th><th scope=col>foundation_type</th><th scope=col>roof_type</th><th scope=col>⋯</th><th scope=col>has_secondary_use_hotel</th><th scope=col>has_secondary_use_rental</th><th scope=col>has_secondary_use_institution</th><th scope=col>has_secondary_use_school</th><th scope=col>has_secondary_use_industry</th><th scope=col>has_secondary_use_health_post</th><th scope=col>has_secondary_use_gov_office</th><th scope=col>has_secondary_use_use_police</th><th scope=col>has_secondary_use_other</th><th scope=col>solid_building</th></tr>\n",
              "\t<tr><th></th><th scope=col>&lt;int&gt;</th><th scope=col>&lt;int&gt;</th><th scope=col>&lt;int&gt;</th><th scope=col>&lt;int&gt;</th><th scope=col>&lt;int&gt;</th><th scope=col>&lt;int&gt;</th><th scope=col>&lt;int&gt;</th><th scope=col>&lt;fct&gt;</th><th scope=col>&lt;fct&gt;</th><th scope=col>&lt;fct&gt;</th><th scope=col>⋯</th><th scope=col>&lt;int&gt;</th><th scope=col>&lt;int&gt;</th><th scope=col>&lt;int&gt;</th><th scope=col>&lt;int&gt;</th><th scope=col>&lt;int&gt;</th><th scope=col>&lt;int&gt;</th><th scope=col>&lt;int&gt;</th><th scope=col>&lt;int&gt;</th><th scope=col>&lt;int&gt;</th><th scope=col>&lt;dbl&gt;</th></tr>\n",
              "</thead>\n",
              "<tbody>\n",
              "\t<tr><th scope=row>1</th><td>17</td><td>596</td><td>11307</td><td>3</td><td>20</td><td> 7</td><td>6</td><td>t</td><td>r</td><td>n</td><td>⋯</td><td>0</td><td>0</td><td>0</td><td>0</td><td>0</td><td>0</td><td>0</td><td>0</td><td>0</td><td>0</td></tr>\n",
              "\t<tr><th scope=row>2</th><td> 6</td><td>141</td><td>11987</td><td>2</td><td>25</td><td>13</td><td>5</td><td>t</td><td>r</td><td>n</td><td>⋯</td><td>0</td><td>0</td><td>0</td><td>0</td><td>0</td><td>0</td><td>0</td><td>0</td><td>0</td><td>0</td></tr>\n",
              "\t<tr><th scope=row>3</th><td>22</td><td> 19</td><td>10044</td><td>2</td><td> 5</td><td> 4</td><td>5</td><td>t</td><td>r</td><td>n</td><td>⋯</td><td>0</td><td>0</td><td>0</td><td>0</td><td>0</td><td>0</td><td>0</td><td>0</td><td>0</td><td>0</td></tr>\n",
              "\t<tr><th scope=row>4</th><td>26</td><td> 39</td><td>  633</td><td>1</td><td> 0</td><td>19</td><td>3</td><td>t</td><td>r</td><td>x</td><td>⋯</td><td>0</td><td>1</td><td>0</td><td>0</td><td>0</td><td>0</td><td>0</td><td>0</td><td>0</td><td>0</td></tr>\n",
              "\t<tr><th scope=row>5</th><td>17</td><td>289</td><td> 7970</td><td>3</td><td>15</td><td> 8</td><td>7</td><td>t</td><td>r</td><td>q</td><td>⋯</td><td>0</td><td>0</td><td>0</td><td>0</td><td>0</td><td>0</td><td>0</td><td>0</td><td>0</td><td>0</td></tr>\n",
              "\t<tr><th scope=row>6</th><td>22</td><td>170</td><td> 4029</td><td>1</td><td>55</td><td> 4</td><td>3</td><td>t</td><td>r</td><td>q</td><td>⋯</td><td>0</td><td>0</td><td>0</td><td>0</td><td>0</td><td>0</td><td>0</td><td>0</td><td>0</td><td>0</td></tr>\n",
              "</tbody>\n",
              "</table>\n"
            ],
            "text/markdown": "\nA data.frame: 6 × 39\n\n| <!--/--> | geo_level_1_id &lt;int&gt; | geo_level_2_id &lt;int&gt; | geo_level_3_id &lt;int&gt; | count_floors_pre_eq &lt;int&gt; | age &lt;int&gt; | area_percentage &lt;int&gt; | height_percentage &lt;int&gt; | land_surface_condition &lt;fct&gt; | foundation_type &lt;fct&gt; | roof_type &lt;fct&gt; | ⋯ ⋯ | has_secondary_use_hotel &lt;int&gt; | has_secondary_use_rental &lt;int&gt; | has_secondary_use_institution &lt;int&gt; | has_secondary_use_school &lt;int&gt; | has_secondary_use_industry &lt;int&gt; | has_secondary_use_health_post &lt;int&gt; | has_secondary_use_gov_office &lt;int&gt; | has_secondary_use_use_police &lt;int&gt; | has_secondary_use_other &lt;int&gt; | solid_building &lt;dbl&gt; |\n|---|---|---|---|---|---|---|---|---|---|---|---|---|---|---|---|---|---|---|---|---|---|\n| 1 | 17 | 596 | 11307 | 3 | 20 |  7 | 6 | t | r | n | ⋯ | 0 | 0 | 0 | 0 | 0 | 0 | 0 | 0 | 0 | 0 |\n| 2 |  6 | 141 | 11987 | 2 | 25 | 13 | 5 | t | r | n | ⋯ | 0 | 0 | 0 | 0 | 0 | 0 | 0 | 0 | 0 | 0 |\n| 3 | 22 |  19 | 10044 | 2 |  5 |  4 | 5 | t | r | n | ⋯ | 0 | 0 | 0 | 0 | 0 | 0 | 0 | 0 | 0 | 0 |\n| 4 | 26 |  39 |   633 | 1 |  0 | 19 | 3 | t | r | x | ⋯ | 0 | 1 | 0 | 0 | 0 | 0 | 0 | 0 | 0 | 0 |\n| 5 | 17 | 289 |  7970 | 3 | 15 |  8 | 7 | t | r | q | ⋯ | 0 | 0 | 0 | 0 | 0 | 0 | 0 | 0 | 0 | 0 |\n| 6 | 22 | 170 |  4029 | 1 | 55 |  4 | 3 | t | r | q | ⋯ | 0 | 0 | 0 | 0 | 0 | 0 | 0 | 0 | 0 | 0 |\n\n",
            "text/latex": "A data.frame: 6 × 39\n\\begin{tabular}{r|lllllllllllllllllllll}\n  & geo\\_level\\_1\\_id & geo\\_level\\_2\\_id & geo\\_level\\_3\\_id & count\\_floors\\_pre\\_eq & age & area\\_percentage & height\\_percentage & land\\_surface\\_condition & foundation\\_type & roof\\_type & ⋯ & has\\_secondary\\_use\\_hotel & has\\_secondary\\_use\\_rental & has\\_secondary\\_use\\_institution & has\\_secondary\\_use\\_school & has\\_secondary\\_use\\_industry & has\\_secondary\\_use\\_health\\_post & has\\_secondary\\_use\\_gov\\_office & has\\_secondary\\_use\\_use\\_police & has\\_secondary\\_use\\_other & solid\\_building\\\\\n  & <int> & <int> & <int> & <int> & <int> & <int> & <int> & <fct> & <fct> & <fct> & ⋯ & <int> & <int> & <int> & <int> & <int> & <int> & <int> & <int> & <int> & <dbl>\\\\\n\\hline\n\t1 & 17 & 596 & 11307 & 3 & 20 &  7 & 6 & t & r & n & ⋯ & 0 & 0 & 0 & 0 & 0 & 0 & 0 & 0 & 0 & 0\\\\\n\t2 &  6 & 141 & 11987 & 2 & 25 & 13 & 5 & t & r & n & ⋯ & 0 & 0 & 0 & 0 & 0 & 0 & 0 & 0 & 0 & 0\\\\\n\t3 & 22 &  19 & 10044 & 2 &  5 &  4 & 5 & t & r & n & ⋯ & 0 & 0 & 0 & 0 & 0 & 0 & 0 & 0 & 0 & 0\\\\\n\t4 & 26 &  39 &   633 & 1 &  0 & 19 & 3 & t & r & x & ⋯ & 0 & 1 & 0 & 0 & 0 & 0 & 0 & 0 & 0 & 0\\\\\n\t5 & 17 & 289 &  7970 & 3 & 15 &  8 & 7 & t & r & q & ⋯ & 0 & 0 & 0 & 0 & 0 & 0 & 0 & 0 & 0 & 0\\\\\n\t6 & 22 & 170 &  4029 & 1 & 55 &  4 & 3 & t & r & q & ⋯ & 0 & 0 & 0 & 0 & 0 & 0 & 0 & 0 & 0 & 0\\\\\n\\end{tabular}\n",
            "text/plain": [
              "  geo_level_1_id geo_level_2_id geo_level_3_id count_floors_pre_eq age\n",
              "1 17             596            11307          3                   20 \n",
              "2  6             141            11987          2                   25 \n",
              "3 22              19            10044          2                    5 \n",
              "4 26              39              633          1                    0 \n",
              "5 17             289             7970          3                   15 \n",
              "6 22             170             4029          1                   55 \n",
              "  area_percentage height_percentage land_surface_condition foundation_type\n",
              "1  7              6                 t                      r              \n",
              "2 13              5                 t                      r              \n",
              "3  4              5                 t                      r              \n",
              "4 19              3                 t                      r              \n",
              "5  8              7                 t                      r              \n",
              "6  4              3                 t                      r              \n",
              "  roof_type ⋯ has_secondary_use_hotel has_secondary_use_rental\n",
              "1 n         ⋯ 0                       0                       \n",
              "2 n         ⋯ 0                       0                       \n",
              "3 n         ⋯ 0                       0                       \n",
              "4 x         ⋯ 0                       1                       \n",
              "5 q         ⋯ 0                       0                       \n",
              "6 q         ⋯ 0                       0                       \n",
              "  has_secondary_use_institution has_secondary_use_school\n",
              "1 0                             0                       \n",
              "2 0                             0                       \n",
              "3 0                             0                       \n",
              "4 0                             0                       \n",
              "5 0                             0                       \n",
              "6 0                             0                       \n",
              "  has_secondary_use_industry has_secondary_use_health_post\n",
              "1 0                          0                            \n",
              "2 0                          0                            \n",
              "3 0                          0                            \n",
              "4 0                          0                            \n",
              "5 0                          0                            \n",
              "6 0                          0                            \n",
              "  has_secondary_use_gov_office has_secondary_use_use_police\n",
              "1 0                            0                           \n",
              "2 0                            0                           \n",
              "3 0                            0                           \n",
              "4 0                            0                           \n",
              "5 0                            0                           \n",
              "6 0                            0                           \n",
              "  has_secondary_use_other solid_building\n",
              "1 0                       0             \n",
              "2 0                       0             \n",
              "3 0                       0             \n",
              "4 0                       0             \n",
              "5 0                       0             \n",
              "6 0                       0             "
            ]
          },
          "metadata": {}
        }
      ]
    },
    {
      "cell_type": "markdown",
      "source": [
        "## Encoding data \n",
        "The goal of converting categorical values to numeric values is to make them compatible with machine learning algorithms, which typically work with numerical data. Two common strategies for doing so are integer encoding and one-hot encoding.\n",
        "\n",
        "*  Integer encoding: In integer encoding, each unique category within a categorical variable is assigned a unique integer.This method is straightforward, but it implies an ordinal relationship between categories, which may not always be appropriate.\n",
        "\n",
        "*  One-hot encoding: One-hot encoding creates binary (0 or 1) features for each unique category within a categorical variable. Each category is represented by a separate feature (or column) in the dataset.One-hot encoding does not imply any ordinal relationship between categories, which can be advantageous when working with categorical variables without a natural order.One of the main drawbacks of one-hot encoding is that it can greatly increase the number of variables in the dataset, which can become problematic when dealing with large or high-dimensional datasets.\n",
        "\n",
        "Our datasets have 8 categorical variables and on average 5 categories each. Although one hot encoding increases the dimensionality of the variables its use in this project is quite reasonable as the number of categories in each variable is not too high. One-hot encoding will create a new binary variable for each possible category, which should not result in an excessive number of new variables (40 variables in total as each categorical variable has 5 categories on average). "
      ],
      "metadata": {
        "id": "jKVMkfzmCMdP"
      },
      "id": "jKVMkfzmCMdP"
    },
    {
      "cell_type": "code",
      "source": [
        "# function to encoding\n",
        "onehot_encoding <- function(df) {\n",
        "  for (colname in colnames(df)) {\n",
        "    if (class(df[[colname]]) == \"factor\") {\n",
        "      #cat(\"Encodage one-hot pour la colonne\", colname, \"\\n\")\n",
        "      dummy_cols <- model.matrix(~ df[[colname]] - 1) # \n",
        "      colnames(dummy_cols) <- paste(colname, levels(df[[colname]]), sep=\"_\") \n",
        "      df <- cbind(df, dummy_cols) # Add the binary coluim dataframe\n",
        "      df[[colname]] <- NULL # delete the last categ\n",
        "    }\n",
        "  }\n",
        "  return(df)\n",
        "}"
      ],
      "metadata": {
        "id": "OB6BKANtJCBK"
      },
      "id": "OB6BKANtJCBK",
      "execution_count": null,
      "outputs": []
    },
    {
      "cell_type": "code",
      "source": [
        "encoded_train_data <- onehot_encoding(train_data)\n",
        "encoded_test_features <- onehot_encoding(test_data)\n",
        "\n",
        "dim(encoded_train_data)\n",
        "dim(encoded_test_features)\n",
        "N<-nrow(encoded_train_data)\n",
        "n<-ncol(encoded_test_features)\n",
        "n"
      ],
      "metadata": {
        "id": "VaiLAyK0Je58",
        "colab": {
          "base_uri": "https://localhost:8080/",
          "height": 69
        },
        "outputId": "7f7f7cbd-8d37-4283-9954-fbf0e4b86830"
      },
      "id": "VaiLAyK0Je58",
      "execution_count": null,
      "outputs": [
        {
          "output_type": "display_data",
          "data": {
            "text/html": [
              "<style>\n",
              ".list-inline {list-style: none; margin:0; padding: 0}\n",
              ".list-inline>li {display: inline-block}\n",
              ".list-inline>li:not(:last-child)::after {content: \"\\00b7\"; padding: 0 .5ex}\n",
              "</style>\n",
              "<ol class=list-inline><li>260601</li><li>69</li></ol>\n"
            ],
            "text/markdown": "1. 260601\n2. 69\n\n\n",
            "text/latex": "\\begin{enumerate*}\n\\item 260601\n\\item 69\n\\end{enumerate*}\n",
            "text/plain": [
              "[1] 260601     69"
            ]
          },
          "metadata": {}
        },
        {
          "output_type": "display_data",
          "data": {
            "text/html": [
              "<style>\n",
              ".list-inline {list-style: none; margin:0; padding: 0}\n",
              ".list-inline>li {display: inline-block}\n",
              ".list-inline>li:not(:last-child)::after {content: \"\\00b7\"; padding: 0 .5ex}\n",
              "</style>\n",
              "<ol class=list-inline><li>86868</li><li>69</li></ol>\n"
            ],
            "text/markdown": "1. 86868\n2. 69\n\n\n",
            "text/latex": "\\begin{enumerate*}\n\\item 86868\n\\item 69\n\\end{enumerate*}\n",
            "text/plain": [
              "[1] 86868    69"
            ]
          },
          "metadata": {}
        },
        {
          "output_type": "display_data",
          "data": {
            "text/html": [
              "69"
            ],
            "text/markdown": "69",
            "text/latex": "69",
            "text/plain": [
              "[1] 69"
            ]
          },
          "metadata": {}
        }
      ]
    },
    {
      "cell_type": "code",
      "source": [
        "head(encoded_test_features)"
      ],
      "metadata": {
        "id": "76DWU0ZHLMoy",
        "colab": {
          "base_uri": "https://localhost:8080/",
          "height": 306
        },
        "outputId": "12de2250-379a-4a10-9c83-df009fbd37fd"
      },
      "id": "76DWU0ZHLMoy",
      "execution_count": null,
      "outputs": [
        {
          "output_type": "display_data",
          "data": {
            "text/html": [
              "<table class=\"dataframe\">\n",
              "<caption>A data.frame: 6 × 69</caption>\n",
              "<thead>\n",
              "\t<tr><th></th><th scope=col>geo_level_1_id</th><th scope=col>geo_level_2_id</th><th scope=col>geo_level_3_id</th><th scope=col>count_floors_pre_eq</th><th scope=col>age</th><th scope=col>area_percentage</th><th scope=col>height_percentage</th><th scope=col>has_superstructure_adobe_mud</th><th scope=col>has_superstructure_mud_mortar_stone</th><th scope=col>has_superstructure_stone_flag</th><th scope=col>⋯</th><th scope=col>plan_configuration_m</th><th scope=col>plan_configuration_n</th><th scope=col>plan_configuration_o</th><th scope=col>plan_configuration_q</th><th scope=col>plan_configuration_s</th><th scope=col>plan_configuration_u</th><th scope=col>legal_ownership_status_a</th><th scope=col>legal_ownership_status_r</th><th scope=col>legal_ownership_status_v</th><th scope=col>legal_ownership_status_w</th></tr>\n",
              "\t<tr><th></th><th scope=col>&lt;int&gt;</th><th scope=col>&lt;int&gt;</th><th scope=col>&lt;int&gt;</th><th scope=col>&lt;int&gt;</th><th scope=col>&lt;int&gt;</th><th scope=col>&lt;int&gt;</th><th scope=col>&lt;int&gt;</th><th scope=col>&lt;int&gt;</th><th scope=col>&lt;int&gt;</th><th scope=col>&lt;int&gt;</th><th scope=col>⋯</th><th scope=col>&lt;dbl&gt;</th><th scope=col>&lt;dbl&gt;</th><th scope=col>&lt;dbl&gt;</th><th scope=col>&lt;dbl&gt;</th><th scope=col>&lt;dbl&gt;</th><th scope=col>&lt;dbl&gt;</th><th scope=col>&lt;dbl&gt;</th><th scope=col>&lt;dbl&gt;</th><th scope=col>&lt;dbl&gt;</th><th scope=col>&lt;dbl&gt;</th></tr>\n",
              "</thead>\n",
              "<tbody>\n",
              "\t<tr><th scope=row>1</th><td>17</td><td>596</td><td>11307</td><td>3</td><td>20</td><td> 7</td><td>6</td><td>0</td><td>1</td><td>0</td><td>⋯</td><td>0</td><td>0</td><td>0</td><td>0</td><td>0</td><td>0</td><td>0</td><td>0</td><td>1</td><td>0</td></tr>\n",
              "\t<tr><th scope=row>2</th><td> 6</td><td>141</td><td>11987</td><td>2</td><td>25</td><td>13</td><td>5</td><td>0</td><td>1</td><td>0</td><td>⋯</td><td>0</td><td>0</td><td>0</td><td>0</td><td>0</td><td>0</td><td>0</td><td>0</td><td>1</td><td>0</td></tr>\n",
              "\t<tr><th scope=row>3</th><td>22</td><td> 19</td><td>10044</td><td>2</td><td> 5</td><td> 4</td><td>5</td><td>0</td><td>1</td><td>0</td><td>⋯</td><td>0</td><td>0</td><td>0</td><td>0</td><td>0</td><td>0</td><td>0</td><td>0</td><td>1</td><td>0</td></tr>\n",
              "\t<tr><th scope=row>4</th><td>26</td><td> 39</td><td>  633</td><td>1</td><td> 0</td><td>19</td><td>3</td><td>0</td><td>0</td><td>0</td><td>⋯</td><td>0</td><td>0</td><td>0</td><td>0</td><td>0</td><td>0</td><td>0</td><td>0</td><td>1</td><td>0</td></tr>\n",
              "\t<tr><th scope=row>5</th><td>17</td><td>289</td><td> 7970</td><td>3</td><td>15</td><td> 8</td><td>7</td><td>0</td><td>1</td><td>0</td><td>⋯</td><td>0</td><td>0</td><td>0</td><td>0</td><td>0</td><td>0</td><td>0</td><td>0</td><td>1</td><td>0</td></tr>\n",
              "\t<tr><th scope=row>6</th><td>22</td><td>170</td><td> 4029</td><td>1</td><td>55</td><td> 4</td><td>3</td><td>0</td><td>1</td><td>0</td><td>⋯</td><td>0</td><td>0</td><td>0</td><td>0</td><td>0</td><td>0</td><td>0</td><td>0</td><td>1</td><td>0</td></tr>\n",
              "</tbody>\n",
              "</table>\n"
            ],
            "text/markdown": "\nA data.frame: 6 × 69\n\n| <!--/--> | geo_level_1_id &lt;int&gt; | geo_level_2_id &lt;int&gt; | geo_level_3_id &lt;int&gt; | count_floors_pre_eq &lt;int&gt; | age &lt;int&gt; | area_percentage &lt;int&gt; | height_percentage &lt;int&gt; | has_superstructure_adobe_mud &lt;int&gt; | has_superstructure_mud_mortar_stone &lt;int&gt; | has_superstructure_stone_flag &lt;int&gt; | ⋯ ⋯ | plan_configuration_m &lt;dbl&gt; | plan_configuration_n &lt;dbl&gt; | plan_configuration_o &lt;dbl&gt; | plan_configuration_q &lt;dbl&gt; | plan_configuration_s &lt;dbl&gt; | plan_configuration_u &lt;dbl&gt; | legal_ownership_status_a &lt;dbl&gt; | legal_ownership_status_r &lt;dbl&gt; | legal_ownership_status_v &lt;dbl&gt; | legal_ownership_status_w &lt;dbl&gt; |\n|---|---|---|---|---|---|---|---|---|---|---|---|---|---|---|---|---|---|---|---|---|---|\n| 1 | 17 | 596 | 11307 | 3 | 20 |  7 | 6 | 0 | 1 | 0 | ⋯ | 0 | 0 | 0 | 0 | 0 | 0 | 0 | 0 | 1 | 0 |\n| 2 |  6 | 141 | 11987 | 2 | 25 | 13 | 5 | 0 | 1 | 0 | ⋯ | 0 | 0 | 0 | 0 | 0 | 0 | 0 | 0 | 1 | 0 |\n| 3 | 22 |  19 | 10044 | 2 |  5 |  4 | 5 | 0 | 1 | 0 | ⋯ | 0 | 0 | 0 | 0 | 0 | 0 | 0 | 0 | 1 | 0 |\n| 4 | 26 |  39 |   633 | 1 |  0 | 19 | 3 | 0 | 0 | 0 | ⋯ | 0 | 0 | 0 | 0 | 0 | 0 | 0 | 0 | 1 | 0 |\n| 5 | 17 | 289 |  7970 | 3 | 15 |  8 | 7 | 0 | 1 | 0 | ⋯ | 0 | 0 | 0 | 0 | 0 | 0 | 0 | 0 | 1 | 0 |\n| 6 | 22 | 170 |  4029 | 1 | 55 |  4 | 3 | 0 | 1 | 0 | ⋯ | 0 | 0 | 0 | 0 | 0 | 0 | 0 | 0 | 1 | 0 |\n\n",
            "text/latex": "A data.frame: 6 × 69\n\\begin{tabular}{r|lllllllllllllllllllll}\n  & geo\\_level\\_1\\_id & geo\\_level\\_2\\_id & geo\\_level\\_3\\_id & count\\_floors\\_pre\\_eq & age & area\\_percentage & height\\_percentage & has\\_superstructure\\_adobe\\_mud & has\\_superstructure\\_mud\\_mortar\\_stone & has\\_superstructure\\_stone\\_flag & ⋯ & plan\\_configuration\\_m & plan\\_configuration\\_n & plan\\_configuration\\_o & plan\\_configuration\\_q & plan\\_configuration\\_s & plan\\_configuration\\_u & legal\\_ownership\\_status\\_a & legal\\_ownership\\_status\\_r & legal\\_ownership\\_status\\_v & legal\\_ownership\\_status\\_w\\\\\n  & <int> & <int> & <int> & <int> & <int> & <int> & <int> & <int> & <int> & <int> & ⋯ & <dbl> & <dbl> & <dbl> & <dbl> & <dbl> & <dbl> & <dbl> & <dbl> & <dbl> & <dbl>\\\\\n\\hline\n\t1 & 17 & 596 & 11307 & 3 & 20 &  7 & 6 & 0 & 1 & 0 & ⋯ & 0 & 0 & 0 & 0 & 0 & 0 & 0 & 0 & 1 & 0\\\\\n\t2 &  6 & 141 & 11987 & 2 & 25 & 13 & 5 & 0 & 1 & 0 & ⋯ & 0 & 0 & 0 & 0 & 0 & 0 & 0 & 0 & 1 & 0\\\\\n\t3 & 22 &  19 & 10044 & 2 &  5 &  4 & 5 & 0 & 1 & 0 & ⋯ & 0 & 0 & 0 & 0 & 0 & 0 & 0 & 0 & 1 & 0\\\\\n\t4 & 26 &  39 &   633 & 1 &  0 & 19 & 3 & 0 & 0 & 0 & ⋯ & 0 & 0 & 0 & 0 & 0 & 0 & 0 & 0 & 1 & 0\\\\\n\t5 & 17 & 289 &  7970 & 3 & 15 &  8 & 7 & 0 & 1 & 0 & ⋯ & 0 & 0 & 0 & 0 & 0 & 0 & 0 & 0 & 1 & 0\\\\\n\t6 & 22 & 170 &  4029 & 1 & 55 &  4 & 3 & 0 & 1 & 0 & ⋯ & 0 & 0 & 0 & 0 & 0 & 0 & 0 & 0 & 1 & 0\\\\\n\\end{tabular}\n",
            "text/plain": [
              "  geo_level_1_id geo_level_2_id geo_level_3_id count_floors_pre_eq age\n",
              "1 17             596            11307          3                   20 \n",
              "2  6             141            11987          2                   25 \n",
              "3 22              19            10044          2                    5 \n",
              "4 26              39              633          1                    0 \n",
              "5 17             289             7970          3                   15 \n",
              "6 22             170             4029          1                   55 \n",
              "  area_percentage height_percentage has_superstructure_adobe_mud\n",
              "1  7              6                 0                           \n",
              "2 13              5                 0                           \n",
              "3  4              5                 0                           \n",
              "4 19              3                 0                           \n",
              "5  8              7                 0                           \n",
              "6  4              3                 0                           \n",
              "  has_superstructure_mud_mortar_stone has_superstructure_stone_flag ⋯\n",
              "1 1                                   0                             ⋯\n",
              "2 1                                   0                             ⋯\n",
              "3 1                                   0                             ⋯\n",
              "4 0                                   0                             ⋯\n",
              "5 1                                   0                             ⋯\n",
              "6 1                                   0                             ⋯\n",
              "  plan_configuration_m plan_configuration_n plan_configuration_o\n",
              "1 0                    0                    0                   \n",
              "2 0                    0                    0                   \n",
              "3 0                    0                    0                   \n",
              "4 0                    0                    0                   \n",
              "5 0                    0                    0                   \n",
              "6 0                    0                    0                   \n",
              "  plan_configuration_q plan_configuration_s plan_configuration_u\n",
              "1 0                    0                    0                   \n",
              "2 0                    0                    0                   \n",
              "3 0                    0                    0                   \n",
              "4 0                    0                    0                   \n",
              "5 0                    0                    0                   \n",
              "6 0                    0                    0                   \n",
              "  legal_ownership_status_a legal_ownership_status_r legal_ownership_status_v\n",
              "1 0                        0                        1                       \n",
              "2 0                        0                        1                       \n",
              "3 0                        0                        1                       \n",
              "4 0                        0                        1                       \n",
              "5 0                        0                        1                       \n",
              "6 0                        0                        1                       \n",
              "  legal_ownership_status_w\n",
              "1 0                       \n",
              "2 0                       \n",
              "3 0                       \n",
              "4 0                       \n",
              "5 0                       \n",
              "6 0                       "
            ]
          },
          "metadata": {}
        }
      ]
    },
    {
      "cell_type": "code",
      "source": [
        "summary(encoded_test_features)"
      ],
      "metadata": {
        "id": "19EXFuYJ8oNC",
        "colab": {
          "base_uri": "https://localhost:8080/",
          "height": 1000
        },
        "outputId": "1c88d5a5-2087-4973-f223-6aa5af3da8c1"
      },
      "id": "19EXFuYJ8oNC",
      "execution_count": null,
      "outputs": [
        {
          "output_type": "display_data",
          "data": {
            "text/plain": [
              " geo_level_1_id  geo_level_2_id   geo_level_3_id  count_floors_pre_eq\n",
              " Min.   : 0.00   Min.   :   0.0   Min.   :    0   Min.   :1.000      \n",
              " 1st Qu.: 7.00   1st Qu.: 350.0   1st Qu.: 3073   1st Qu.:2.000      \n",
              " Median :12.00   Median : 709.0   Median : 6276   Median :2.000      \n",
              " Mean   :13.89   Mean   : 704.1   Mean   : 6262   Mean   :2.133      \n",
              " 3rd Qu.:21.00   3rd Qu.:1054.0   3rd Qu.: 9416   3rd Qu.:2.000      \n",
              " Max.   :30.00   Max.   :1427.0   Max.   :12567   Max.   :8.000      \n",
              "      age         area_percentage  height_percentage\n",
              " Min.   :  0.00   Min.   : 1.000   Min.   : 2.000   \n",
              " 1st Qu.: 10.00   1st Qu.: 5.000   1st Qu.: 4.000   \n",
              " Median : 15.00   Median : 7.000   Median : 5.000   \n",
              " Mean   : 26.55   Mean   : 8.014   Mean   : 5.436   \n",
              " 3rd Qu.: 30.00   3rd Qu.: 9.000   3rd Qu.: 6.000   \n",
              " Max.   :995.00   Max.   :92.000   Max.   :32.000   \n",
              " has_superstructure_adobe_mud has_superstructure_mud_mortar_stone\n",
              " Min.   :0.00000              Min.   :0.0000                     \n",
              " 1st Qu.:0.00000              1st Qu.:1.0000                     \n",
              " Median :0.00000              Median :1.0000                     \n",
              " Mean   :0.08995              Mean   :0.7625                     \n",
              " 3rd Qu.:0.00000              3rd Qu.:1.0000                     \n",
              " Max.   :1.00000              Max.   :1.0000                     \n",
              " has_superstructure_stone_flag has_superstructure_cement_mortar_stone\n",
              " Min.   :0.00000               Min.   :0.00000                       \n",
              " 1st Qu.:0.00000               1st Qu.:0.00000                       \n",
              " Median :0.00000               Median :0.00000                       \n",
              " Mean   :0.03447               Mean   :0.01857                       \n",
              " 3rd Qu.:0.00000               3rd Qu.:0.00000                       \n",
              " Max.   :1.00000               Max.   :1.00000                       \n",
              " has_superstructure_mud_mortar_brick has_superstructure_cement_mortar_brick\n",
              " Min.   :0.00000                     Min.   :0.00000                       \n",
              " 1st Qu.:0.00000                     1st Qu.:0.00000                       \n",
              " Median :0.00000                     Median :0.00000                       \n",
              " Mean   :0.06746                     Mean   :0.07384                       \n",
              " 3rd Qu.:0.00000                     3rd Qu.:0.00000                       \n",
              " Max.   :1.00000                     Max.   :1.00000                       \n",
              " has_superstructure_timber has_superstructure_bamboo\n",
              " Min.   :0.0000            Min.   :0.00000          \n",
              " 1st Qu.:0.0000            1st Qu.:0.00000          \n",
              " Median :0.0000            Median :0.00000          \n",
              " Mean   :0.2535            Mean   :0.08368          \n",
              " 3rd Qu.:1.0000            3rd Qu.:0.00000          \n",
              " Max.   :1.0000            Max.   :1.00000          \n",
              " has_superstructure_rc_non_engineered has_superstructure_rc_engineered\n",
              " Min.   :0.0000                       Min.   :0.00000                 \n",
              " 1st Qu.:0.0000                       1st Qu.:0.00000                 \n",
              " Median :0.0000                       Median :0.00000                 \n",
              " Mean   :0.0425                       Mean   :0.01579                 \n",
              " 3rd Qu.:0.0000                       3rd Qu.:0.00000                 \n",
              " Max.   :1.0000                       Max.   :1.00000                 \n",
              " has_superstructure_other count_families   has_secondary_use\n",
              " Min.   :0.00000          Min.   :0.0000   Min.   :0.0000   \n",
              " 1st Qu.:0.00000          1st Qu.:1.0000   1st Qu.:0.0000   \n",
              " Median :0.00000          Median :1.0000   Median :0.0000   \n",
              " Mean   :0.01521          Mean   :0.9831   Mean   :0.1115   \n",
              " 3rd Qu.:0.00000          3rd Qu.:1.0000   3rd Qu.:0.0000   \n",
              " Max.   :1.00000          Max.   :8.0000   Max.   :1.0000   \n",
              " has_secondary_use_agriculture has_secondary_use_hotel has_secondary_use_rental\n",
              " Min.   :0.0000                Min.   :0.00000         Min.   :0.000000        \n",
              " 1st Qu.:0.0000                1st Qu.:0.00000         1st Qu.:0.000000        \n",
              " Median :0.0000                Median :0.00000         Median :0.000000        \n",
              " Mean   :0.0641                Mean   :0.03387         Mean   :0.008242        \n",
              " 3rd Qu.:0.0000                3rd Qu.:0.00000         3rd Qu.:0.000000        \n",
              " Max.   :1.0000                Max.   :1.00000         Max.   :1.000000        \n",
              " has_secondary_use_institution has_secondary_use_school\n",
              " Min.   :0.000000              Min.   :0.0000000       \n",
              " 1st Qu.:0.000000              1st Qu.:0.0000000       \n",
              " Median :0.000000              Median :0.0000000       \n",
              " Mean   :0.001013              Mean   :0.0003684       \n",
              " 3rd Qu.:0.000000              3rd Qu.:0.0000000       \n",
              " Max.   :1.000000              Max.   :1.0000000       \n",
              " has_secondary_use_industry has_secondary_use_health_post\n",
              " Min.   :0.000000           Min.   :0.0000000            \n",
              " 1st Qu.:0.000000           1st Qu.:0.0000000            \n",
              " Median :0.000000           Median :0.0000000            \n",
              " Mean   :0.001002           Mean   :0.0001036            \n",
              " 3rd Qu.:0.000000           3rd Qu.:0.0000000            \n",
              " Max.   :1.000000           Max.   :1.0000000            \n",
              " has_secondary_use_gov_office has_secondary_use_use_police\n",
              " Min.   :0.0000000            Min.   :0.0e+00             \n",
              " 1st Qu.:0.0000000            1st Qu.:0.0e+00             \n",
              " Median :0.0000000            Median :0.0e+00             \n",
              " Mean   :0.0001151            Mean   :4.6e-05             \n",
              " 3rd Qu.:0.0000000            3rd Qu.:0.0e+00             \n",
              " Max.   :1.0000000            Max.   :1.0e+00             \n",
              " has_secondary_use_other solid_building     land_surface_condition_n\n",
              " Min.   :0.000000        Min.   :0.000000   Min.   :0.0000          \n",
              " 1st Qu.:0.000000        1st Qu.:0.000000   1st Qu.:0.0000          \n",
              " Median :0.000000        Median :0.000000   Median :0.0000          \n",
              " Mean   :0.004904        Mean   :0.003177   Mean   :0.1368          \n",
              " 3rd Qu.:0.000000        3rd Qu.:0.000000   3rd Qu.:0.0000          \n",
              " Max.   :1.000000        Max.   :1.000000   Max.   :1.0000          \n",
              " land_surface_condition_o land_surface_condition_t foundation_type_h\n",
              " Min.   :0.00000          Min.   :0.0000           Min.   :0.00000  \n",
              " 1st Qu.:0.00000          1st Qu.:1.0000           1st Qu.:0.00000  \n",
              " Median :0.00000          Median :1.0000           Median :0.00000  \n",
              " Mean   :0.03227          Mean   :0.8309           Mean   :0.00586  \n",
              " 3rd Qu.:0.00000          3rd Qu.:1.0000           3rd Qu.:0.00000  \n",
              " Max.   :1.00000          Max.   :1.0000           Max.   :1.00000  \n",
              " foundation_type_i foundation_type_r foundation_type_u foundation_type_w\n",
              " Min.   :0.00000   Min.   :0.0000    Min.   :0.00000   Min.   :0.00000  \n",
              " 1st Qu.:0.00000   1st Qu.:1.0000    1st Qu.:0.00000   1st Qu.:0.00000  \n",
              " Median :0.00000   Median :1.0000    Median :0.00000   Median :0.00000  \n",
              " Mean   :0.04148   Mean   :0.8424    Mean   :0.05351   Mean   :0.05675  \n",
              " 3rd Qu.:0.00000   3rd Qu.:1.0000    3rd Qu.:0.00000   3rd Qu.:0.00000  \n",
              " Max.   :1.00000   Max.   :1.0000    Max.   :1.00000   Max.   :1.00000  \n",
              "  roof_type_n      roof_type_q     roof_type_x      ground_floor_type_f\n",
              " Min.   :0.0000   Min.   :0.000   Min.   :0.00000   Min.   :0.0000     \n",
              " 1st Qu.:0.0000   1st Qu.:0.000   1st Qu.:0.00000   1st Qu.:1.0000     \n",
              " Median :1.0000   Median :0.000   Median :0.00000   Median :1.0000     \n",
              " Mean   :0.7037   Mean   :0.234   Mean   :0.06223   Mean   :0.8055     \n",
              " 3rd Qu.:1.0000   3rd Qu.:0.000   3rd Qu.:0.00000   3rd Qu.:1.0000     \n",
              " Max.   :1.0000   Max.   :1.000   Max.   :1.00000   Max.   :1.0000     \n",
              " ground_floor_type_m ground_floor_type_v ground_floor_type_x\n",
              " Min.   :0.000000    Min.   :0.00000     Min.   :0.00000    \n",
              " 1st Qu.:0.000000    1st Qu.:0.00000     1st Qu.:0.00000    \n",
              " Median :0.000000    Median :0.00000     Median :0.00000    \n",
              " Mean   :0.002256    Mean   :0.09368     Mean   :0.09476    \n",
              " 3rd Qu.:0.000000    3rd Qu.:0.00000     3rd Qu.:0.00000    \n",
              " Max.   :1.000000    Max.   :1.00000     Max.   :1.00000    \n",
              " ground_floor_type_z other_floor_type_j other_floor_type_q other_floor_type_s\n",
              " Min.   :0.000000    Min.   :0.0000     Min.   :0.0000     Min.   :0.00000   \n",
              " 1st Qu.:0.000000    1st Qu.:0.0000     1st Qu.:0.0000     1st Qu.:0.00000   \n",
              " Median :0.000000    Median :0.0000     Median :1.0000     Median :0.00000   \n",
              " Mean   :0.003799    Mean   :0.1504     Mean   :0.6332     Mean   :0.04724   \n",
              " 3rd Qu.:0.000000    3rd Qu.:0.0000     3rd Qu.:1.0000     3rd Qu.:0.00000   \n",
              " Max.   :1.000000    Max.   :1.0000     Max.   :1.0000     Max.   :1.00000   \n",
              " other_floor_type_x   position_j        position_o         position_s    \n",
              " Min.   :0.0000     Min.   :0.00000   Min.   :0.000000   Min.   :0.0000  \n",
              " 1st Qu.:0.0000     1st Qu.:0.00000   1st Qu.:0.000000   1st Qu.:1.0000  \n",
              " Median :0.0000     Median :0.00000   Median :0.000000   Median :1.0000  \n",
              " Mean   :0.1691     Mean   :0.05025   Mean   :0.008841   Mean   :0.7756  \n",
              " 3rd Qu.:0.0000     3rd Qu.:0.00000   3rd Qu.:0.000000   3rd Qu.:1.0000  \n",
              " Max.   :1.0000     Max.   :1.00000   Max.   :1.000000   Max.   :1.0000  \n",
              "   position_t     plan_configuration_a plan_configuration_c\n",
              " Min.   :0.0000   Min.   :0.000000     Min.   :0.000000    \n",
              " 1st Qu.:0.0000   1st Qu.:0.000000     1st Qu.:0.000000    \n",
              " Median :0.0000   Median :0.000000     Median :0.000000    \n",
              " Mean   :0.1653   Mean   :0.001163     Mean   :0.001439    \n",
              " 3rd Qu.:0.0000   3rd Qu.:0.000000     3rd Qu.:0.000000    \n",
              " Max.   :1.0000   Max.   :1.000000     Max.   :1.000000    \n",
              " plan_configuration_d plan_configuration_f plan_configuration_m\n",
              " Min.   :0.0000       Min.   :0.00e+00     Min.   :0.0000000   \n",
              " 1st Qu.:1.0000       1st Qu.:0.00e+00     1st Qu.:0.0000000   \n",
              " Median :1.0000       Median :0.00e+00     Median :0.0000000   \n",
              " Mean   :0.9584       Mean   :5.76e-05     Mean   :0.0002072   \n",
              " 3rd Qu.:1.0000       3rd Qu.:0.00e+00     3rd Qu.:0.0000000   \n",
              " Max.   :1.0000       Max.   :1.00e+00     Max.   :1.0000000   \n",
              " plan_configuration_n plan_configuration_o plan_configuration_q\n",
              " Min.   :0.0000000    Min.   :0.0000000    Min.   :0.00000     \n",
              " 1st Qu.:0.0000000    1st Qu.:0.0000000    1st Qu.:0.00000     \n",
              " Median :0.0000000    Median :0.0000000    Median :0.00000     \n",
              " Mean   :0.0001842    Mean   :0.0004144    Mean   :0.02244     \n",
              " 3rd Qu.:0.0000000    3rd Qu.:0.0000000    3rd Qu.:0.00000     \n",
              " Max.   :1.0000000    Max.   :1.0000000    Max.   :1.00000     \n",
              " plan_configuration_s plan_configuration_u legal_ownership_status_a\n",
              " Min.   :0.000000     Min.   :0.0000       Min.   :0.00000         \n",
              " 1st Qu.:0.000000     1st Qu.:0.0000       1st Qu.:0.00000         \n",
              " Median :0.000000     Median :0.0000       Median :0.00000         \n",
              " Mean   :0.001186     Mean   :0.0145       Mean   :0.02066         \n",
              " 3rd Qu.:0.000000     3rd Qu.:0.0000       3rd Qu.:0.00000         \n",
              " Max.   :1.000000     Max.   :1.0000       Max.   :1.00000         \n",
              " legal_ownership_status_r legal_ownership_status_v legal_ownership_status_w\n",
              " Min.   :0.000000         Min.   :0.0000           Min.   :0.000000        \n",
              " 1st Qu.:0.000000         1st Qu.:1.0000           1st Qu.:0.000000        \n",
              " Median :0.000000         Median :1.0000           Median :0.000000        \n",
              " Mean   :0.005952         Mean   :0.9635           Mean   :0.009923        \n",
              " 3rd Qu.:0.000000         3rd Qu.:1.0000           3rd Qu.:0.000000        \n",
              " Max.   :1.000000         Max.   :1.0000           Max.   :1.000000        "
            ]
          },
          "metadata": {}
        }
      ]
    },
    {
      "cell_type": "code",
      "source": [],
      "metadata": {
        "id": "wWuQNM2mIFm8"
      },
      "id": "wWuQNM2mIFm8",
      "execution_count": null,
      "outputs": []
    },
    {
      "cell_type": "markdown",
      "source": [
        "## Feature selection \n",
        "\n",
        "Feature selection is the process of selecting the most relevant or useful variables for building a predictive model from an initial set of variables or features.This can reduce overfitting, improve accuracy, and reduce training time.\n",
        "\n",
        "The goal of feature selection is to reduce the complexity of the model and improve its performance by eliminating redundant or irrelevant features, and focusing on the features that are most important for the prediction task. At present our dataset contains 69 variables that are not large enough for our observations because it is recommended to perform feature selection when the number of variables is high so we would like to keep all of them. \n",
        "However we will apply some technique to observe the most relevant variables for the prediction task.\n",
        "\n",
        "Two main approaches to feature selection are:\n",
        "\n",
        "* Filter methods:are a type of feature selection methods that select features based on their individual characteristics. The main idea behind filter methods is to evaluate each feature independently in terms of its predictive power and relevance to the output variable.\n",
        "\n",
        "   Examples:  PCA,  correlation, minimum redundancy maximum relevance (mRMR) \n",
        "* Wrapper methods: are a type of method that considers the selection of a set of features as a search problem. These methods evaluate subsets of features, meaning that they take into account the interactions between features. Examples of wrapper methods include recursive feature elimination, forward selection\n",
        "\n",
        "# Correlation \n",
        "Variables that have a high correlation with the target variable can be considered the most relevant for the prediction of our datasets. In addition, variables that have a low correlation with the target variable may be considered less relevant or even irrelevant for prediction.\n",
        "\n",
        "The Pearson correlation coefficient formula is:\n",
        "\n",
        "$r = \\frac{\\sum\\limits_{i=1}^n (x_i - \\bar{x})(y_i - \\bar{y})}{\\sqrt{\\sum\\limits_{i=1}^n (x_i - \\bar{x})^2 \\sum\\limits_{i=1}^n (y_i - \\bar{y})^2}}$\n",
        "\n",
        "where:\n",
        "\n",
        "* r is the correlation coefficient,\n",
        "* xi, yi are the individual sample points indexed with i,\n",
        "* x̄, ȳ are the mean values of x and y."
      ],
      "metadata": {
        "id": "1VB8a0enxbRg"
      },
      "id": "1VB8a0enxbRg"
    },
    {
      "cell_type": "code",
      "source": [
        "CV_folds <- 10\n",
        "\n",
        "size_CV <-floor(N/CV_folds)\n",
        "#selected_nb_features <- 69\n",
        "CV_err<-matrix(0,nrow=n,ncol=CV_folds)\n",
        "\n",
        "for (i in 1:CV_folds) {\n",
        "    \n",
        "    idx_ts<-(((i-1)*size_CV+1):(i*size_CV))  ### idx_ts represents the indices of the test set the i-th fold\n",
        "    X_ts<-encoded_train_data[idx_ts,]\n",
        "    Y_ts<-train_labels$damage_grade[idx_ts]\n",
        "     \n",
        "    idx_tr<-setdiff(1:N,idx_ts) ### idx_tr represents  indices of the training sefor the i-th fold\n",
        "    X_tr<-encoded_train_data[idx_tr,]\n",
        "    Y_tr<-train_labels$damage_grade[idx_tr]                          \n",
        "    \n",
        "    # Compute correlation across all the input variables and the target variable\n",
        "    correlation_vector <-abs(cor(X_tr,Y_tr))\n",
        "    # Rank variables according to correlation with the output\n",
        "    correlation_ranking_idx <-sort(correlation_vector,dec=T,index.return=T)$ix\n",
        "     \n",
        "    for (nb_features in 1:n) {\n",
        "        # Create a dataset including only the nb_features most correlated variables with the output\n",
        "        DS<-cbind(X_tr[,correlation_ranking_idx[1:nb_features],drop=F],damage_grade=Y_tr)\n",
        "        # Model fit (using lm function)\n",
        "        model<- lm(damage_grade~.,DS)\n",
        "        \n",
        "        # Model prediction\n",
        "        Y_hat_ts<- predict(model,X_ts[,correlation_ranking_idx[1:nb_features],drop=F])\n",
        "        \n",
        "        # Cross validation error = MSE\n",
        "        CV_err[nb_features,i] <- mean((Y_hat_ts-Y_ts)^2)\n",
        "    }\n",
        "}  \n",
        "\n",
        "print(paste(\"#Features: \",c(1:n),\" ; CV error=\",round(apply(CV_err,1,mean),digits=4), \" ; std dev=\",round(apply(CV_err,1,sd),digits=4)))\n",
        "\n",
        "variable_names <- names(X_tr)[correlation_ranking_idx[1:nb_features]]\n",
        "print(paste(variable_names))\n",
        "correlation_ranking_idx"
      ],
      "metadata": {
        "id": "7WlxeqrdCUJ4",
        "colab": {
          "base_uri": "https://localhost:8080/",
          "height": 1000
        },
        "outputId": "c97fc124-c801-4c83-fc5d-0327fcd9e4cb"
      },
      "id": "7WlxeqrdCUJ4",
      "execution_count": null,
      "outputs": [
        {
          "output_type": "stream",
          "name": "stdout",
          "text": [
            " [1] \"#Features:  1  ; CV error= 0.3302  ; std dev= 0.0022\" \n",
            " [2] \"#Features:  2  ; CV error= 0.3199  ; std dev= 0.0019\" \n",
            " [3] \"#Features:  3  ; CV error= 0.3174  ; std dev= 0.0019\" \n",
            " [4] \"#Features:  4  ; CV error= 0.3169  ; std dev= 0.0018\" \n",
            " [5] \"#Features:  5  ; CV error= 0.3166  ; std dev= 0.0018\" \n",
            " [6] \"#Features:  6  ; CV error= 0.3158  ; std dev= 0.0018\" \n",
            " [7] \"#Features:  7  ; CV error= 0.3158  ; std dev= 0.0018\" \n",
            " [8] \"#Features:  8  ; CV error= 0.3158  ; std dev= 0.0018\" \n",
            " [9] \"#Features:  9  ; CV error= 0.3155  ; std dev= 0.0018\" \n",
            "[10] \"#Features:  10  ; CV error= 0.3131  ; std dev= 0.0018\"\n",
            "[11] \"#Features:  11  ; CV error= 0.3131  ; std dev= 0.0018\"\n",
            "[12] \"#Features:  12  ; CV error= 0.313  ; std dev= 0.0018\" \n",
            "[13] \"#Features:  13  ; CV error= 0.313  ; std dev= 0.0018\" \n",
            "[14] \"#Features:  14  ; CV error= 0.3122  ; std dev= 0.0019\"\n",
            "[15] \"#Features:  15  ; CV error= 0.3122  ; std dev= 0.0019\"\n",
            "[16] \"#Features:  16  ; CV error= 0.3094  ; std dev= 0.0018\"\n",
            "[17] \"#Features:  17  ; CV error= 0.3093  ; std dev= 0.0018\"\n",
            "[18] \"#Features:  18  ; CV error= 0.3092  ; std dev= 0.0018\"\n",
            "[19] \"#Features:  19  ; CV error= 0.3091  ; std dev= 0.0018\"\n",
            "[20] \"#Features:  20  ; CV error= 0.3087  ; std dev= 0.0015\"\n",
            "[21] \"#Features:  21  ; CV error= 0.3082  ; std dev= 0.0016\"\n",
            "[22] \"#Features:  22  ; CV error= 0.3082  ; std dev= 0.0016\"\n",
            "[23] \"#Features:  23  ; CV error= 0.3082  ; std dev= 0.0016\"\n",
            "[24] \"#Features:  24  ; CV error= 0.3071  ; std dev= 0.0016\"\n",
            "[25] \"#Features:  25  ; CV error= 0.3057  ; std dev= 0.0015\"\n",
            "[26] \"#Features:  26  ; CV error= 0.3056  ; std dev= 0.0015\"\n",
            "[27] \"#Features:  27  ; CV error= 0.3054  ; std dev= 0.0016\"\n",
            "[28] \"#Features:  28  ; CV error= 0.3054  ; std dev= 0.0016\"\n",
            "[29] \"#Features:  29  ; CV error= 0.3049  ; std dev= 0.0016\"\n",
            "[30] \"#Features:  30  ; CV error= 0.3042  ; std dev= 0.0016\"\n",
            "[31] \"#Features:  31  ; CV error= 0.3029  ; std dev= 0.0016\"\n",
            "[32] \"#Features:  32  ; CV error= 0.3028  ; std dev= 0.0016\"\n",
            "[33] \"#Features:  33  ; CV error= 0.3027  ; std dev= 0.0016\"\n",
            "[34] \"#Features:  34  ; CV error= 0.3027  ; std dev= 0.0016\"\n",
            "[35] \"#Features:  35  ; CV error= 0.3027  ; std dev= 0.0016\"\n",
            "[36] \"#Features:  36  ; CV error= 0.3026  ; std dev= 0.0016\"\n",
            "[37] \"#Features:  37  ; CV error= 0.3026  ; std dev= 0.0016\"\n",
            "[38] \"#Features:  38  ; CV error= 0.3025  ; std dev= 0.0015\"\n",
            "[39] \"#Features:  39  ; CV error= 0.3024  ; std dev= 0.0016\"\n",
            "[40] \"#Features:  40  ; CV error= 0.3024  ; std dev= 0.0015\"\n",
            "[41] \"#Features:  41  ; CV error= 0.3024  ; std dev= 0.0015\"\n",
            "[42] \"#Features:  42  ; CV error= 0.3024  ; std dev= 0.0015\"\n",
            "[43] \"#Features:  43  ; CV error= 0.3024  ; std dev= 0.0015\"\n",
            "[44] \"#Features:  44  ; CV error= 0.3023  ; std dev= 0.0015\"\n",
            "[45] \"#Features:  45  ; CV error= 0.3023  ; std dev= 0.0015\"\n",
            "[46] \"#Features:  46  ; CV error= 0.3022  ; std dev= 0.0015\"\n",
            "[47] \"#Features:  47  ; CV error= 0.3022  ; std dev= 0.0015\"\n",
            "[48] \"#Features:  48  ; CV error= 0.3022  ; std dev= 0.0015\"\n",
            "[49] \"#Features:  49  ; CV error= 0.3022  ; std dev= 0.0015\"\n",
            "[50] \"#Features:  50  ; CV error= 0.3021  ; std dev= 0.0015\"\n",
            "[51] \"#Features:  51  ; CV error= 0.3021  ; std dev= 0.0015\"\n",
            "[52] \"#Features:  52  ; CV error= 0.302  ; std dev= 0.0015\" \n",
            "[53] \"#Features:  53  ; CV error= 0.302  ; std dev= 0.0015\" \n",
            "[54] \"#Features:  54  ; CV error= 0.302  ; std dev= 0.0015\" \n",
            "[55] \"#Features:  55  ; CV error= 0.3019  ; std dev= 0.0015\"\n",
            "[56] \"#Features:  56  ; CV error= 0.3019  ; std dev= 0.0015\"\n",
            "[57] \"#Features:  57  ; CV error= 0.3019  ; std dev= 0.0015\"\n",
            "[58] \"#Features:  58  ; CV error= 0.3019  ; std dev= 0.0015\"\n",
            "[59] \"#Features:  59  ; CV error= 0.3019  ; std dev= 0.0015\"\n",
            "[60] \"#Features:  60  ; CV error= 0.3019  ; std dev= 0.0015\"\n",
            "[61] \"#Features:  61  ; CV error= 0.3019  ; std dev= 0.0015\"\n",
            "[62] \"#Features:  62  ; CV error= 0.3019  ; std dev= 0.0015\"\n",
            "[63] \"#Features:  63  ; CV error= 0.3019  ; std dev= 0.0015\"\n",
            "[64] \"#Features:  64  ; CV error= 0.3019  ; std dev= 0.0015\"\n",
            "[65] \"#Features:  65  ; CV error= 0.3019  ; std dev= 0.0015\"\n",
            "[66] \"#Features:  66  ; CV error= 0.3019  ; std dev= 0.0015\"\n",
            "[67] \"#Features:  67  ; CV error= 0.3019  ; std dev= 0.0015\"\n",
            "[68] \"#Features:  68  ; CV error= 0.3019  ; std dev= 0.0015\"\n",
            "[69] \"#Features:  69  ; CV error= 0.3019  ; std dev= 0.0015\"\n",
            " [1] \"foundation_type_r\"                     \n",
            " [2] \"ground_floor_type_v\"                   \n",
            " [3] \"has_superstructure_mud_mortar_stone\"   \n",
            " [4] \"roof_type_x\"                           \n",
            " [5] \"foundation_type_i\"                     \n",
            " [6] \"has_superstructure_cement_mortar_brick\"\n",
            " [7] \"ground_floor_type_f\"                   \n",
            " [8] \"other_floor_type_s\"                    \n",
            " [9] \"has_superstructure_rc_engineered\"      \n",
            "[10] \"foundation_type_w\"                     \n",
            "[11] \"other_floor_type_q\"                    \n",
            "[12] \"has_superstructure_rc_non_engineered\"  \n",
            "[13] \"foundation_type_u\"                     \n",
            "[14] \"other_floor_type_j\"                    \n",
            "[15] \"area_percentage\"                       \n",
            "[16] \"count_floors_pre_eq\"                   \n",
            "[17] \"has_secondary_use_hotel\"               \n",
            "[18] \"has_secondary_use_rental\"              \n",
            "[19] \"legal_ownership_status_a\"              \n",
            "[20] \"roof_type_n\"                           \n",
            "[21] \"has_secondary_use\"                     \n",
            "[22] \"roof_type_q\"                           \n",
            "[23] \"geo_level_1_id\"                        \n",
            "[24] \"has_superstructure_timber\"             \n",
            "[25] \"has_superstructure_stone_flag\"         \n",
            "[26] \"has_superstructure_bamboo\"             \n",
            "[27] \"plan_configuration_u\"                  \n",
            "[28] \"has_superstructure_cement_mortar_stone\"\n",
            "[29] \"count_families\"                        \n",
            "[30] \"has_superstructure_adobe_mud\"          \n",
            "[31] \"position_t\"                            \n",
            "[32] \"height_percentage\"                     \n",
            "[33] \"legal_ownership_status_v\"              \n",
            "[34] \"other_floor_type_x\"                    \n",
            "[35] \"plan_configuration_d\"                  \n",
            "[36] \"geo_level_2_id\"                        \n",
            "[37] \"position_j\"                            \n",
            "[38] \"has_superstructure_other\"              \n",
            "[39] \"legal_ownership_status_w\"              \n",
            "[40] \"age\"                                   \n",
            "[41] \"has_secondary_use_institution\"         \n",
            "[42] \"position_s\"                            \n",
            "[43] \"solid_building\"                        \n",
            "[44] \"plan_configuration_c\"                  \n",
            "[45] \"plan_configuration_a\"                  \n",
            "[46] \"ground_floor_type_m\"                   \n",
            "[47] \"ground_floor_type_z\"                   \n",
            "[48] \"has_secondary_use_other\"               \n",
            "[49] \"land_surface_condition_t\"              \n",
            "[50] \"land_surface_condition_o\"              \n",
            "[51] \"foundation_type_h\"                     \n",
            "[52] \"has_superstructure_mud_mortar_brick\"   \n",
            "[53] \"plan_configuration_o\"                  \n",
            "[54] \"has_secondary_use_agriculture\"         \n",
            "[55] \"has_secondary_use_industry\"            \n",
            "[56] \"plan_configuration_s\"                  \n",
            "[57] \"has_secondary_use_school\"              \n",
            "[58] \"land_surface_condition_n\"              \n",
            "[59] \"has_secondary_use_gov_office\"          \n",
            "[60] \"plan_configuration_q\"                  \n",
            "[61] \"has_secondary_use_health_post\"         \n",
            "[62] \"geo_level_3_id\"                        \n",
            "[63] \"plan_configuration_m\"                  \n",
            "[64] \"ground_floor_type_x\"                   \n",
            "[65] \"position_o\"                            \n",
            "[66] \"legal_ownership_status_r\"              \n",
            "[67] \"plan_configuration_n\"                  \n",
            "[68] \"has_secondary_use_use_police\"          \n",
            "[69] \"plan_configuration_f\"                  \n"
          ]
        },
        {
          "output_type": "display_data",
          "data": {
            "text/html": [
              "<style>\n",
              ".list-inline {list-style: none; margin:0; padding: 0}\n",
              ".list-inline>li {display: inline-block}\n",
              ".list-inline>li:not(:last-child)::after {content: \"\\00b7\"; padding: 0 .5ex}\n",
              "</style>\n",
              "<ol class=list-inline><li>37</li><li>45</li><li>9</li><li>42</li><li>36</li><li>13</li><li>43</li><li>50</li><li>17</li><li>39</li><li>49</li><li>16</li><li>38</li><li>48</li><li>6</li><li>4</li><li>22</li><li>23</li><li>66</li><li>40</li><li>20</li><li>41</li><li>1</li><li>14</li><li>10</li><li>15</li><li>65</li><li>11</li><li>19</li><li>8</li><li>55</li><li>7</li><li>68</li><li>51</li><li>58</li><li>2</li><li>52</li><li>18</li><li>69</li><li>5</li><li>24</li><li>54</li><li>31</li><li>57</li><li>56</li><li>44</li><li>47</li><li>30</li><li>34</li><li>33</li><li>35</li><li>12</li><li>62</li><li>21</li><li>26</li><li>64</li><li>25</li><li>32</li><li>28</li><li>63</li><li>27</li><li>3</li><li>60</li><li>46</li><li>53</li><li>67</li><li>61</li><li>29</li><li>59</li></ol>\n"
            ],
            "text/markdown": "1. 37\n2. 45\n3. 9\n4. 42\n5. 36\n6. 13\n7. 43\n8. 50\n9. 17\n10. 39\n11. 49\n12. 16\n13. 38\n14. 48\n15. 6\n16. 4\n17. 22\n18. 23\n19. 66\n20. 40\n21. 20\n22. 41\n23. 1\n24. 14\n25. 10\n26. 15\n27. 65\n28. 11\n29. 19\n30. 8\n31. 55\n32. 7\n33. 68\n34. 51\n35. 58\n36. 2\n37. 52\n38. 18\n39. 69\n40. 5\n41. 24\n42. 54\n43. 31\n44. 57\n45. 56\n46. 44\n47. 47\n48. 30\n49. 34\n50. 33\n51. 35\n52. 12\n53. 62\n54. 21\n55. 26\n56. 64\n57. 25\n58. 32\n59. 28\n60. 63\n61. 27\n62. 3\n63. 60\n64. 46\n65. 53\n66. 67\n67. 61\n68. 29\n69. 59\n\n\n",
            "text/latex": "\\begin{enumerate*}\n\\item 37\n\\item 45\n\\item 9\n\\item 42\n\\item 36\n\\item 13\n\\item 43\n\\item 50\n\\item 17\n\\item 39\n\\item 49\n\\item 16\n\\item 38\n\\item 48\n\\item 6\n\\item 4\n\\item 22\n\\item 23\n\\item 66\n\\item 40\n\\item 20\n\\item 41\n\\item 1\n\\item 14\n\\item 10\n\\item 15\n\\item 65\n\\item 11\n\\item 19\n\\item 8\n\\item 55\n\\item 7\n\\item 68\n\\item 51\n\\item 58\n\\item 2\n\\item 52\n\\item 18\n\\item 69\n\\item 5\n\\item 24\n\\item 54\n\\item 31\n\\item 57\n\\item 56\n\\item 44\n\\item 47\n\\item 30\n\\item 34\n\\item 33\n\\item 35\n\\item 12\n\\item 62\n\\item 21\n\\item 26\n\\item 64\n\\item 25\n\\item 32\n\\item 28\n\\item 63\n\\item 27\n\\item 3\n\\item 60\n\\item 46\n\\item 53\n\\item 67\n\\item 61\n\\item 29\n\\item 59\n\\end{enumerate*}\n",
            "text/plain": [
              " [1] 37 45  9 42 36 13 43 50 17 39 49 16 38 48  6  4 22 23 66 40 20 41  1 14 10\n",
              "[26] 15 65 11 19  8 55  7 68 51 58  2 52 18 69  5 24 54 31 57 56 44 47 30 34 33\n",
              "[51] 35 12 62 21 26 64 25 32 28 63 27  3 60 46 53 67 61 29 59"
            ]
          },
          "metadata": {}
        }
      ]
    },
    {
      "cell_type": "code",
      "source": [
        "\n",
        "variable_names <- names(X_tr)[correlation_ranking_idx[1:nb_features]]\n",
        "print(paste(variable_names))\n",
        "correlation_ranking_idx"
      ],
      "metadata": {
        "id": "scHzD_NyDjv3",
        "colab": {
          "base_uri": "https://localhost:8080/",
          "height": 1000
        },
        "outputId": "e32adc08-4581-4571-e4ec-723796411f9b"
      },
      "id": "scHzD_NyDjv3",
      "execution_count": null,
      "outputs": [
        {
          "output_type": "stream",
          "name": "stdout",
          "text": [
            " [1] \"foundation_type_r\"                     \n",
            " [2] \"ground_floor_type_v\"                   \n",
            " [3] \"has_superstructure_mud_mortar_stone\"   \n",
            " [4] \"roof_type_x\"                           \n",
            " [5] \"foundation_type_i\"                     \n",
            " [6] \"has_superstructure_cement_mortar_brick\"\n",
            " [7] \"ground_floor_type_f\"                   \n",
            " [8] \"other_floor_type_s\"                    \n",
            " [9] \"has_superstructure_rc_engineered\"      \n",
            "[10] \"foundation_type_w\"                     \n",
            "[11] \"other_floor_type_q\"                    \n",
            "[12] \"has_superstructure_rc_non_engineered\"  \n",
            "[13] \"foundation_type_u\"                     \n",
            "[14] \"other_floor_type_j\"                    \n",
            "[15] \"area_percentage\"                       \n",
            "[16] \"count_floors_pre_eq\"                   \n",
            "[17] \"has_secondary_use_hotel\"               \n",
            "[18] \"has_secondary_use_rental\"              \n",
            "[19] \"legal_ownership_status_a\"              \n",
            "[20] \"roof_type_n\"                           \n",
            "[21] \"has_secondary_use\"                     \n",
            "[22] \"roof_type_q\"                           \n",
            "[23] \"geo_level_1_id\"                        \n",
            "[24] \"has_superstructure_timber\"             \n",
            "[25] \"has_superstructure_stone_flag\"         \n",
            "[26] \"has_superstructure_bamboo\"             \n",
            "[27] \"plan_configuration_u\"                  \n",
            "[28] \"has_superstructure_cement_mortar_stone\"\n",
            "[29] \"count_families\"                        \n",
            "[30] \"has_superstructure_adobe_mud\"          \n",
            "[31] \"position_t\"                            \n",
            "[32] \"height_percentage\"                     \n",
            "[33] \"legal_ownership_status_v\"              \n",
            "[34] \"other_floor_type_x\"                    \n",
            "[35] \"plan_configuration_d\"                  \n",
            "[36] \"geo_level_2_id\"                        \n",
            "[37] \"position_j\"                            \n",
            "[38] \"has_superstructure_other\"              \n",
            "[39] \"legal_ownership_status_w\"              \n",
            "[40] \"age\"                                   \n",
            "[41] \"has_secondary_use_institution\"         \n",
            "[42] \"position_s\"                            \n",
            "[43] \"solid_building\"                        \n",
            "[44] \"plan_configuration_c\"                  \n",
            "[45] \"plan_configuration_a\"                  \n",
            "[46] \"ground_floor_type_m\"                   \n",
            "[47] \"ground_floor_type_z\"                   \n",
            "[48] \"has_secondary_use_other\"               \n",
            "[49] \"land_surface_condition_t\"              \n",
            "[50] \"land_surface_condition_o\"              \n",
            "[51] \"foundation_type_h\"                     \n",
            "[52] \"has_superstructure_mud_mortar_brick\"   \n",
            "[53] \"plan_configuration_o\"                  \n",
            "[54] \"has_secondary_use_agriculture\"         \n",
            "[55] \"has_secondary_use_industry\"            \n",
            "[56] \"plan_configuration_s\"                  \n",
            "[57] \"has_secondary_use_school\"              \n",
            "[58] \"land_surface_condition_n\"              \n",
            "[59] \"has_secondary_use_gov_office\"          \n",
            "[60] \"plan_configuration_q\"                  \n",
            "[61] \"has_secondary_use_health_post\"         \n",
            "[62] \"geo_level_3_id\"                        \n",
            "[63] \"plan_configuration_m\"                  \n",
            "[64] \"ground_floor_type_x\"                   \n",
            "[65] \"position_o\"                            \n",
            "[66] \"legal_ownership_status_r\"              \n",
            "[67] \"plan_configuration_n\"                  \n",
            "[68] \"has_secondary_use_use_police\"          \n",
            "[69] \"plan_configuration_f\"                  \n"
          ]
        },
        {
          "output_type": "display_data",
          "data": {
            "text/html": [
              "<style>\n",
              ".list-inline {list-style: none; margin:0; padding: 0}\n",
              ".list-inline>li {display: inline-block}\n",
              ".list-inline>li:not(:last-child)::after {content: \"\\00b7\"; padding: 0 .5ex}\n",
              "</style>\n",
              "<ol class=list-inline><li>37</li><li>45</li><li>9</li><li>42</li><li>36</li><li>13</li><li>43</li><li>50</li><li>17</li><li>39</li><li>49</li><li>16</li><li>38</li><li>48</li><li>6</li><li>4</li><li>22</li><li>23</li><li>66</li><li>40</li><li>20</li><li>41</li><li>1</li><li>14</li><li>10</li><li>15</li><li>65</li><li>11</li><li>19</li><li>8</li><li>55</li><li>7</li><li>68</li><li>51</li><li>58</li><li>2</li><li>52</li><li>18</li><li>69</li><li>5</li><li>24</li><li>54</li><li>31</li><li>57</li><li>56</li><li>44</li><li>47</li><li>30</li><li>34</li><li>33</li><li>35</li><li>12</li><li>62</li><li>21</li><li>26</li><li>64</li><li>25</li><li>32</li><li>28</li><li>63</li><li>27</li><li>3</li><li>60</li><li>46</li><li>53</li><li>67</li><li>61</li><li>29</li><li>59</li></ol>\n"
            ],
            "text/markdown": "1. 37\n2. 45\n3. 9\n4. 42\n5. 36\n6. 13\n7. 43\n8. 50\n9. 17\n10. 39\n11. 49\n12. 16\n13. 38\n14. 48\n15. 6\n16. 4\n17. 22\n18. 23\n19. 66\n20. 40\n21. 20\n22. 41\n23. 1\n24. 14\n25. 10\n26. 15\n27. 65\n28. 11\n29. 19\n30. 8\n31. 55\n32. 7\n33. 68\n34. 51\n35. 58\n36. 2\n37. 52\n38. 18\n39. 69\n40. 5\n41. 24\n42. 54\n43. 31\n44. 57\n45. 56\n46. 44\n47. 47\n48. 30\n49. 34\n50. 33\n51. 35\n52. 12\n53. 62\n54. 21\n55. 26\n56. 64\n57. 25\n58. 32\n59. 28\n60. 63\n61. 27\n62. 3\n63. 60\n64. 46\n65. 53\n66. 67\n67. 61\n68. 29\n69. 59\n\n\n",
            "text/latex": "\\begin{enumerate*}\n\\item 37\n\\item 45\n\\item 9\n\\item 42\n\\item 36\n\\item 13\n\\item 43\n\\item 50\n\\item 17\n\\item 39\n\\item 49\n\\item 16\n\\item 38\n\\item 48\n\\item 6\n\\item 4\n\\item 22\n\\item 23\n\\item 66\n\\item 40\n\\item 20\n\\item 41\n\\item 1\n\\item 14\n\\item 10\n\\item 15\n\\item 65\n\\item 11\n\\item 19\n\\item 8\n\\item 55\n\\item 7\n\\item 68\n\\item 51\n\\item 58\n\\item 2\n\\item 52\n\\item 18\n\\item 69\n\\item 5\n\\item 24\n\\item 54\n\\item 31\n\\item 57\n\\item 56\n\\item 44\n\\item 47\n\\item 30\n\\item 34\n\\item 33\n\\item 35\n\\item 12\n\\item 62\n\\item 21\n\\item 26\n\\item 64\n\\item 25\n\\item 32\n\\item 28\n\\item 63\n\\item 27\n\\item 3\n\\item 60\n\\item 46\n\\item 53\n\\item 67\n\\item 61\n\\item 29\n\\item 59\n\\end{enumerate*}\n",
            "text/plain": [
              " [1] 37 45  9 42 36 13 43 50 17 39 49 16 38 48  6  4 22 23 66 40 20 41  1 14 10\n",
              "[26] 15 65 11 19  8 55  7 68 51 58  2 52 18 69  5 24 54 31 57 56 44 47 30 34 33\n",
              "[51] 35 12 62 21 26 64 25 32 28 63 27  3 60 46 53 67 61 29 59"
            ]
          },
          "metadata": {}
        }
      ]
    },
    {
      "cell_type": "markdown",
      "source": [
        "## Minimum Redundancy Maximum Relevance (mRMR)\n",
        "\n",
        "The mRMR method is a feature selection approach that tries to select features that are highly correlated with the class (maximum relevance) but uncorrelated with each other (minimum redundancy). The goal is to select features that individually have high predictive power and collectively provide as much non-overlapping information as possible.\n",
        "For the relevance of a feature set S with respect to the target variable Y\n",
        "\n",
        "MaxRelevance(S) is defined as follows:\n",
        "\n",
        "MaxRelevance(S) = $\\frac{1}{|S|} \\sum_{i} I(x_i; Y)$\n",
        "\n",
        "\n",
        "where $|S|$ is the number of features in the set, $x_i$ is the i-th feature, and $I(x_i; Y)$ is the mutual information between $x_i$ and $Y$.\n",
        "\n",
        "The redundancy of a feature set $S$ can be defined as follows:\n",
        "\n",
        "\n",
        "MinRedundancy(S) =$\\frac{1}{|S|^2} \\sum_{i} \\sum_{j} I(x_i; x_j)$\n",
        "\n",
        "\n",
        "where $|S|$ is the number of features in the set, $x_i$ and $x_j$ are features in the set, and $I(x_i; x_j)$ is the mutual information between $x_i$ and $x_j$.\n",
        "\n",
        "The mRMR criterion can be defined as a combination of MaxRelevance and MinRedundancy:\n",
        "\n",
        "\n",
        "\n",
        "\n",
        "mRMR = MaxRelevance(S) - MinRedundancy(S)\n",
        "\n",
        "The goal of mRMR is to maximize this criterion.\n"
      ],
      "metadata": {
        "id": "Ewpv1-tYF2Gm"
      },
      "id": "Ewpv1-tYF2Gm"
    },
    {
      "cell_type": "code",
      "source": [
        "\n",
        "CV_folds <- 10\n",
        "#n_variables <- 20\n",
        "\n",
        "\n",
        "size_CV <- floor(N / CV_folds)\n",
        "\n",
        "CV_err <- matrix(0, nrow = n, ncol = CV_folds)\n",
        "\n",
        "for (i in 1:CV_folds) {\n",
        "    \n",
        "    idx_ts <- (((i - 1) * size_CV + 1):(i * size_CV))\n",
        "    X_ts <- encoded_train_data[idx_ts,]\n",
        "    Y_ts <- train_labels$damage_grade[idx_ts]\n",
        "    \n",
        "    idx_tr <- setdiff(1:N, idx_ts)\n",
        "    X_tr <- encoded_train_data[idx_tr,]\n",
        "    Y_tr <- train_labels$damage_grade[idx_tr]\n",
        "    \n",
        "    correlation <- abs(cor(X_tr, Y_tr))\n",
        "    \n",
        "    selected <- c()\n",
        "    candidates <- 1:n\n",
        "    \n",
        "    for (j in 1:n) {\n",
        "        redundancy_score <- numeric(length(candidates))\n",
        "        \n",
        "        if (length(selected) > 0) {\n",
        "            cor_selected_candidates <- cor(X_tr[, selected, drop = F], X_tr[, candidates, drop = F])\n",
        "            redundancy_score <- apply(cor_selected_candidates, 2, mean)\n",
        "        }\n",
        "        \n",
        "        mRMR_score <- correlation[candidates] - redundancy_score\n",
        "        selected_current <- candidates[which.max(mRMR_score)]\n",
        "        selected <- c(selected, selected_current)\n",
        "        candidates <- setdiff(candidates, selected_current)\n",
        "    }\n",
        "    \n",
        "    ranking <- selected\n",
        "     \n",
        "    for (nb_features in 1:n) {\n",
        "        DS <- cbind(X_tr[, ranking[1:nb_features], drop = F], damage_grade = Y_tr)\n",
        "       # Model fit (using lm function)\n",
        "        model<- lm(damage_grade~.,DS)\n",
        "        Y_hat_ts<- predict(model,X_ts[,ranking[1:nb_features],drop=F])\n",
        "        \n",
        "        # Cross-validation error = MSE\n",
        "        CV_err[nb_features,i]<-mean((Y_hat_ts-Y_ts)^2)\n",
        "    }\n",
        "}  \n",
        "\n",
        "print(paste(\"#Features: \", c(1:n), \" ; CV error=\", round(apply(CV_err, 1, mean), digits = 4), \" ; std dev=\", round(apply(CV_err, 1, sd), digits = 4)))\n",
        "\n",
        "CV_err_svm_single_model_fs <- CV_err\n"
      ],
      "metadata": {
        "id": "zH0hQxPzKjtr",
        "colab": {
          "base_uri": "https://localhost:8080/"
        },
        "outputId": "2220e369-2f67-4f6a-ea09-b22b8781f2bf"
      },
      "id": "zH0hQxPzKjtr",
      "execution_count": null,
      "outputs": [
        {
          "output_type": "stream",
          "name": "stdout",
          "text": [
            " [1] \"#Features:  1  ; CV error= 0.3302  ; std dev= 0.0022\" \n",
            " [2] \"#Features:  2  ; CV error= 0.3199  ; std dev= 0.0019\" \n",
            " [3] \"#Features:  3  ; CV error= 0.3189  ; std dev= 0.002\"  \n",
            " [4] \"#Features:  4  ; CV error= 0.3166  ; std dev= 0.0019\" \n",
            " [5] \"#Features:  5  ; CV error= 0.3154  ; std dev= 0.0019\" \n",
            " [6] \"#Features:  6  ; CV error= 0.3153  ; std dev= 0.0019\" \n",
            " [7] \"#Features:  7  ; CV error= 0.3146  ; std dev= 0.0019\" \n",
            " [8] \"#Features:  8  ; CV error= 0.3135  ; std dev= 0.0018\" \n",
            " [9] \"#Features:  9  ; CV error= 0.3135  ; std dev= 0.0018\" \n",
            "[10] \"#Features:  10  ; CV error= 0.3135  ; std dev= 0.0018\"\n",
            "[11] \"#Features:  11  ; CV error= 0.3127  ; std dev= 0.0019\"\n",
            "[12] \"#Features:  12  ; CV error= 0.31  ; std dev= 0.0018\"  \n",
            "[13] \"#Features:  13  ; CV error= 0.3099  ; std dev= 0.0018\"\n",
            "[14] \"#Features:  14  ; CV error= 0.3091  ; std dev= 0.0017\"\n",
            "[15] \"#Features:  15  ; CV error= 0.3091  ; std dev= 0.0017\"\n",
            "[16] \"#Features:  16  ; CV error= 0.3087  ; std dev= 0.0017\"\n",
            "[17] \"#Features:  17  ; CV error= 0.3086  ; std dev= 0.0017\"\n",
            "[18] \"#Features:  18  ; CV error= 0.3086  ; std dev= 0.0017\"\n",
            "[19] \"#Features:  19  ; CV error= 0.3075  ; std dev= 0.0016\"\n",
            "[20] \"#Features:  20  ; CV error= 0.3074  ; std dev= 0.0016\"\n",
            "[21] \"#Features:  21  ; CV error= 0.3072  ; std dev= 0.0016\"\n",
            "[22] \"#Features:  22  ; CV error= 0.3071  ; std dev= 0.0018\"\n",
            "[23] \"#Features:  23  ; CV error= 0.3066  ; std dev= 0.0016\"\n",
            "[24] \"#Features:  24  ; CV error= 0.3051  ; std dev= 0.0016\"\n",
            "[25] \"#Features:  25  ; CV error= 0.305  ; std dev= 0.0016\" \n",
            "[26] \"#Features:  26  ; CV error= 0.305  ; std dev= 0.0015\" \n",
            "[27] \"#Features:  27  ; CV error= 0.3043  ; std dev= 0.0017\"\n",
            "[28] \"#Features:  28  ; CV error= 0.3041  ; std dev= 0.0017\"\n",
            "[29] \"#Features:  29  ; CV error= 0.304  ; std dev= 0.0017\" \n",
            "[30] \"#Features:  30  ; CV error= 0.3037  ; std dev= 0.0015\"\n",
            "[31] \"#Features:  31  ; CV error= 0.3033  ; std dev= 0.0016\"\n",
            "[32] \"#Features:  32  ; CV error= 0.3032  ; std dev= 0.0017\"\n",
            "[33] \"#Features:  33  ; CV error= 0.303  ; std dev= 0.0016\" \n",
            "[34] \"#Features:  34  ; CV error= 0.3027  ; std dev= 0.0016\"\n",
            "[35] \"#Features:  35  ; CV error= 0.3027  ; std dev= 0.0016\"\n",
            "[36] \"#Features:  36  ; CV error= 0.3027  ; std dev= 0.0016\"\n",
            "[37] \"#Features:  37  ; CV error= 0.3026  ; std dev= 0.0016\"\n",
            "[38] \"#Features:  38  ; CV error= 0.3026  ; std dev= 0.0016\"\n",
            "[39] \"#Features:  39  ; CV error= 0.3026  ; std dev= 0.0016\"\n",
            "[40] \"#Features:  40  ; CV error= 0.3024  ; std dev= 0.0015\"\n",
            "[41] \"#Features:  41  ; CV error= 0.3022  ; std dev= 0.0015\"\n",
            "[42] \"#Features:  42  ; CV error= 0.3022  ; std dev= 0.0015\"\n",
            "[43] \"#Features:  43  ; CV error= 0.3022  ; std dev= 0.0015\"\n",
            "[44] \"#Features:  44  ; CV error= 0.3022  ; std dev= 0.0015\"\n",
            "[45] \"#Features:  45  ; CV error= 0.3022  ; std dev= 0.0015\"\n",
            "[46] \"#Features:  46  ; CV error= 0.3022  ; std dev= 0.0015\"\n",
            "[47] \"#Features:  47  ; CV error= 0.3022  ; std dev= 0.0015\"\n",
            "[48] \"#Features:  48  ; CV error= 0.3022  ; std dev= 0.0015\"\n",
            "[49] \"#Features:  49  ; CV error= 0.3022  ; std dev= 0.0015\"\n",
            "[50] \"#Features:  50  ; CV error= 0.3022  ; std dev= 0.0015\"\n",
            "[51] \"#Features:  51  ; CV error= 0.3021  ; std dev= 0.0015\"\n",
            "[52] \"#Features:  52  ; CV error= 0.3021  ; std dev= 0.0015\"\n",
            "[53] \"#Features:  53  ; CV error= 0.3021  ; std dev= 0.0015\"\n",
            "[54] \"#Features:  54  ; CV error= 0.3021  ; std dev= 0.0015\"\n",
            "[55] \"#Features:  55  ; CV error= 0.3021  ; std dev= 0.0015\"\n",
            "[56] \"#Features:  56  ; CV error= 0.302  ; std dev= 0.0015\" \n",
            "[57] \"#Features:  57  ; CV error= 0.302  ; std dev= 0.0015\" \n",
            "[58] \"#Features:  58  ; CV error= 0.302  ; std dev= 0.0015\" \n",
            "[59] \"#Features:  59  ; CV error= 0.302  ; std dev= 0.0015\" \n",
            "[60] \"#Features:  60  ; CV error= 0.302  ; std dev= 0.0015\" \n",
            "[61] \"#Features:  61  ; CV error= 0.302  ; std dev= 0.0015\" \n",
            "[62] \"#Features:  62  ; CV error= 0.302  ; std dev= 0.0015\" \n",
            "[63] \"#Features:  63  ; CV error= 0.302  ; std dev= 0.0015\" \n",
            "[64] \"#Features:  64  ; CV error= 0.3019  ; std dev= 0.0015\"\n",
            "[65] \"#Features:  65  ; CV error= 0.3019  ; std dev= 0.0015\"\n",
            "[66] \"#Features:  66  ; CV error= 0.3019  ; std dev= 0.0015\"\n",
            "[67] \"#Features:  67  ; CV error= 0.3019  ; std dev= 0.0015\"\n",
            "[68] \"#Features:  68  ; CV error= 0.3019  ; std dev= 0.0015\"\n",
            "[69] \"#Features:  69  ; CV error= 0.3019  ; std dev= 0.0015\"\n"
          ]
        }
      ]
    },
    {
      "cell_type": "code",
      "source": [
        "selected_variable_names <- colnames(encoded_train_data)[ranking]\n",
        "\n",
        "selected_variable_names\n",
        "ranking"
      ],
      "metadata": {
        "colab": {
          "base_uri": "https://localhost:8080/",
          "height": 329
        },
        "id": "iMoRnb2ov_gu",
        "outputId": "e475320e-5414-4816-cba6-1cfbb1f3afd8"
      },
      "id": "iMoRnb2ov_gu",
      "execution_count": null,
      "outputs": [
        {
          "output_type": "display_data",
          "data": {
            "text/html": [
              "<style>\n",
              ".list-inline {list-style: none; margin:0; padding: 0}\n",
              ".list-inline>li {display: inline-block}\n",
              ".list-inline>li:not(:last-child)::after {content: \"\\00b7\"; padding: 0 .5ex}\n",
              "</style>\n",
              "<ol class=list-inline><li>'foundation_type_r'</li><li>'ground_floor_type_v'</li><li>'foundation_type_w'</li><li>'has_superstructure_mud_mortar_stone'</li><li>'roof_type_x'</li><li>'ground_floor_type_f'</li><li>'has_superstructure_cement_mortar_brick'</li><li>'foundation_type_i'</li><li>'other_floor_type_q'</li><li>'foundation_type_u'</li><li>'other_floor_type_j'</li><li>'count_floors_pre_eq'</li><li>'other_floor_type_s'</li><li>'roof_type_n'</li><li>'roof_type_q'</li><li>'has_superstructure_rc_engineered'</li><li>'has_superstructure_rc_non_engineered'</li><li>'other_floor_type_x'</li><li>'has_superstructure_timber'</li><li>'legal_ownership_status_a'</li><li>'legal_ownership_status_v'</li><li>'area_percentage'</li><li>'has_superstructure_adobe_mud'</li><li>'has_superstructure_stone_flag'</li><li>'has_secondary_use_hotel'</li><li>'geo_level_1_id'</li><li>'has_secondary_use_rental'</li><li>'plan_configuration_d'</li><li>'plan_configuration_u'</li><li>'position_s'</li><li>'position_t'</li><li>'geo_level_2_id'</li><li>'has_superstructure_bamboo'</li><li>'count_families'</li><li>'has_superstructure_cement_mortar_stone'</li><li>'legal_ownership_status_w'</li><li>'has_secondary_use'</li><li>'age'</li><li>'ground_floor_type_x'</li><li>'plan_configuration_q'</li><li>'has_superstructure_other'</li><li>'plan_configuration_a'</li><li>'plan_configuration_c'</li><li>'has_secondary_use_institution'</li><li>'ground_floor_type_z'</li><li>'position_j'</li><li>'ground_floor_type_m'</li><li>'solid_building'</li><li>'land_surface_condition_t'</li><li>'land_surface_condition_n'</li><li>'land_surface_condition_o'</li><li>'height_percentage'</li><li>'foundation_type_h'</li><li>'plan_configuration_o'</li><li>'plan_configuration_s'</li><li>'has_secondary_use_other'</li><li>'legal_ownership_status_r'</li><li>'geo_level_3_id'</li><li>'has_secondary_use_industry'</li><li>'has_secondary_use_health_post'</li><li>'has_secondary_use_gov_office'</li><li>'has_secondary_use_school'</li><li>'plan_configuration_m'</li><li>'has_superstructure_mud_mortar_brick'</li><li>'has_secondary_use_agriculture'</li><li>'plan_configuration_n'</li><li>'has_secondary_use_use_police'</li><li>'plan_configuration_f'</li><li>'position_o'</li></ol>\n"
            ],
            "text/markdown": "1. 'foundation_type_r'\n2. 'ground_floor_type_v'\n3. 'foundation_type_w'\n4. 'has_superstructure_mud_mortar_stone'\n5. 'roof_type_x'\n6. 'ground_floor_type_f'\n7. 'has_superstructure_cement_mortar_brick'\n8. 'foundation_type_i'\n9. 'other_floor_type_q'\n10. 'foundation_type_u'\n11. 'other_floor_type_j'\n12. 'count_floors_pre_eq'\n13. 'other_floor_type_s'\n14. 'roof_type_n'\n15. 'roof_type_q'\n16. 'has_superstructure_rc_engineered'\n17. 'has_superstructure_rc_non_engineered'\n18. 'other_floor_type_x'\n19. 'has_superstructure_timber'\n20. 'legal_ownership_status_a'\n21. 'legal_ownership_status_v'\n22. 'area_percentage'\n23. 'has_superstructure_adobe_mud'\n24. 'has_superstructure_stone_flag'\n25. 'has_secondary_use_hotel'\n26. 'geo_level_1_id'\n27. 'has_secondary_use_rental'\n28. 'plan_configuration_d'\n29. 'plan_configuration_u'\n30. 'position_s'\n31. 'position_t'\n32. 'geo_level_2_id'\n33. 'has_superstructure_bamboo'\n34. 'count_families'\n35. 'has_superstructure_cement_mortar_stone'\n36. 'legal_ownership_status_w'\n37. 'has_secondary_use'\n38. 'age'\n39. 'ground_floor_type_x'\n40. 'plan_configuration_q'\n41. 'has_superstructure_other'\n42. 'plan_configuration_a'\n43. 'plan_configuration_c'\n44. 'has_secondary_use_institution'\n45. 'ground_floor_type_z'\n46. 'position_j'\n47. 'ground_floor_type_m'\n48. 'solid_building'\n49. 'land_surface_condition_t'\n50. 'land_surface_condition_n'\n51. 'land_surface_condition_o'\n52. 'height_percentage'\n53. 'foundation_type_h'\n54. 'plan_configuration_o'\n55. 'plan_configuration_s'\n56. 'has_secondary_use_other'\n57. 'legal_ownership_status_r'\n58. 'geo_level_3_id'\n59. 'has_secondary_use_industry'\n60. 'has_secondary_use_health_post'\n61. 'has_secondary_use_gov_office'\n62. 'has_secondary_use_school'\n63. 'plan_configuration_m'\n64. 'has_superstructure_mud_mortar_brick'\n65. 'has_secondary_use_agriculture'\n66. 'plan_configuration_n'\n67. 'has_secondary_use_use_police'\n68. 'plan_configuration_f'\n69. 'position_o'\n\n\n",
            "text/latex": "\\begin{enumerate*}\n\\item 'foundation\\_type\\_r'\n\\item 'ground\\_floor\\_type\\_v'\n\\item 'foundation\\_type\\_w'\n\\item 'has\\_superstructure\\_mud\\_mortar\\_stone'\n\\item 'roof\\_type\\_x'\n\\item 'ground\\_floor\\_type\\_f'\n\\item 'has\\_superstructure\\_cement\\_mortar\\_brick'\n\\item 'foundation\\_type\\_i'\n\\item 'other\\_floor\\_type\\_q'\n\\item 'foundation\\_type\\_u'\n\\item 'other\\_floor\\_type\\_j'\n\\item 'count\\_floors\\_pre\\_eq'\n\\item 'other\\_floor\\_type\\_s'\n\\item 'roof\\_type\\_n'\n\\item 'roof\\_type\\_q'\n\\item 'has\\_superstructure\\_rc\\_engineered'\n\\item 'has\\_superstructure\\_rc\\_non\\_engineered'\n\\item 'other\\_floor\\_type\\_x'\n\\item 'has\\_superstructure\\_timber'\n\\item 'legal\\_ownership\\_status\\_a'\n\\item 'legal\\_ownership\\_status\\_v'\n\\item 'area\\_percentage'\n\\item 'has\\_superstructure\\_adobe\\_mud'\n\\item 'has\\_superstructure\\_stone\\_flag'\n\\item 'has\\_secondary\\_use\\_hotel'\n\\item 'geo\\_level\\_1\\_id'\n\\item 'has\\_secondary\\_use\\_rental'\n\\item 'plan\\_configuration\\_d'\n\\item 'plan\\_configuration\\_u'\n\\item 'position\\_s'\n\\item 'position\\_t'\n\\item 'geo\\_level\\_2\\_id'\n\\item 'has\\_superstructure\\_bamboo'\n\\item 'count\\_families'\n\\item 'has\\_superstructure\\_cement\\_mortar\\_stone'\n\\item 'legal\\_ownership\\_status\\_w'\n\\item 'has\\_secondary\\_use'\n\\item 'age'\n\\item 'ground\\_floor\\_type\\_x'\n\\item 'plan\\_configuration\\_q'\n\\item 'has\\_superstructure\\_other'\n\\item 'plan\\_configuration\\_a'\n\\item 'plan\\_configuration\\_c'\n\\item 'has\\_secondary\\_use\\_institution'\n\\item 'ground\\_floor\\_type\\_z'\n\\item 'position\\_j'\n\\item 'ground\\_floor\\_type\\_m'\n\\item 'solid\\_building'\n\\item 'land\\_surface\\_condition\\_t'\n\\item 'land\\_surface\\_condition\\_n'\n\\item 'land\\_surface\\_condition\\_o'\n\\item 'height\\_percentage'\n\\item 'foundation\\_type\\_h'\n\\item 'plan\\_configuration\\_o'\n\\item 'plan\\_configuration\\_s'\n\\item 'has\\_secondary\\_use\\_other'\n\\item 'legal\\_ownership\\_status\\_r'\n\\item 'geo\\_level\\_3\\_id'\n\\item 'has\\_secondary\\_use\\_industry'\n\\item 'has\\_secondary\\_use\\_health\\_post'\n\\item 'has\\_secondary\\_use\\_gov\\_office'\n\\item 'has\\_secondary\\_use\\_school'\n\\item 'plan\\_configuration\\_m'\n\\item 'has\\_superstructure\\_mud\\_mortar\\_brick'\n\\item 'has\\_secondary\\_use\\_agriculture'\n\\item 'plan\\_configuration\\_n'\n\\item 'has\\_secondary\\_use\\_use\\_police'\n\\item 'plan\\_configuration\\_f'\n\\item 'position\\_o'\n\\end{enumerate*}\n",
            "text/plain": [
              " [1] \"foundation_type_r\"                     \n",
              " [2] \"ground_floor_type_v\"                   \n",
              " [3] \"foundation_type_w\"                     \n",
              " [4] \"has_superstructure_mud_mortar_stone\"   \n",
              " [5] \"roof_type_x\"                           \n",
              " [6] \"ground_floor_type_f\"                   \n",
              " [7] \"has_superstructure_cement_mortar_brick\"\n",
              " [8] \"foundation_type_i\"                     \n",
              " [9] \"other_floor_type_q\"                    \n",
              "[10] \"foundation_type_u\"                     \n",
              "[11] \"other_floor_type_j\"                    \n",
              "[12] \"count_floors_pre_eq\"                   \n",
              "[13] \"other_floor_type_s\"                    \n",
              "[14] \"roof_type_n\"                           \n",
              "[15] \"roof_type_q\"                           \n",
              "[16] \"has_superstructure_rc_engineered\"      \n",
              "[17] \"has_superstructure_rc_non_engineered\"  \n",
              "[18] \"other_floor_type_x\"                    \n",
              "[19] \"has_superstructure_timber\"             \n",
              "[20] \"legal_ownership_status_a\"              \n",
              "[21] \"legal_ownership_status_v\"              \n",
              "[22] \"area_percentage\"                       \n",
              "[23] \"has_superstructure_adobe_mud\"          \n",
              "[24] \"has_superstructure_stone_flag\"         \n",
              "[25] \"has_secondary_use_hotel\"               \n",
              "[26] \"geo_level_1_id\"                        \n",
              "[27] \"has_secondary_use_rental\"              \n",
              "[28] \"plan_configuration_d\"                  \n",
              "[29] \"plan_configuration_u\"                  \n",
              "[30] \"position_s\"                            \n",
              "[31] \"position_t\"                            \n",
              "[32] \"geo_level_2_id\"                        \n",
              "[33] \"has_superstructure_bamboo\"             \n",
              "[34] \"count_families\"                        \n",
              "[35] \"has_superstructure_cement_mortar_stone\"\n",
              "[36] \"legal_ownership_status_w\"              \n",
              "[37] \"has_secondary_use\"                     \n",
              "[38] \"age\"                                   \n",
              "[39] \"ground_floor_type_x\"                   \n",
              "[40] \"plan_configuration_q\"                  \n",
              "[41] \"has_superstructure_other\"              \n",
              "[42] \"plan_configuration_a\"                  \n",
              "[43] \"plan_configuration_c\"                  \n",
              "[44] \"has_secondary_use_institution\"         \n",
              "[45] \"ground_floor_type_z\"                   \n",
              "[46] \"position_j\"                            \n",
              "[47] \"ground_floor_type_m\"                   \n",
              "[48] \"solid_building\"                        \n",
              "[49] \"land_surface_condition_t\"              \n",
              "[50] \"land_surface_condition_n\"              \n",
              "[51] \"land_surface_condition_o\"              \n",
              "[52] \"height_percentage\"                     \n",
              "[53] \"foundation_type_h\"                     \n",
              "[54] \"plan_configuration_o\"                  \n",
              "[55] \"plan_configuration_s\"                  \n",
              "[56] \"has_secondary_use_other\"               \n",
              "[57] \"legal_ownership_status_r\"              \n",
              "[58] \"geo_level_3_id\"                        \n",
              "[59] \"has_secondary_use_industry\"            \n",
              "[60] \"has_secondary_use_health_post\"         \n",
              "[61] \"has_secondary_use_gov_office\"          \n",
              "[62] \"has_secondary_use_school\"              \n",
              "[63] \"plan_configuration_m\"                  \n",
              "[64] \"has_superstructure_mud_mortar_brick\"   \n",
              "[65] \"has_secondary_use_agriculture\"         \n",
              "[66] \"plan_configuration_n\"                  \n",
              "[67] \"has_secondary_use_use_police\"          \n",
              "[68] \"plan_configuration_f\"                  \n",
              "[69] \"position_o\"                            "
            ]
          },
          "metadata": {}
        },
        {
          "output_type": "display_data",
          "data": {
            "text/html": [
              "<style>\n",
              ".list-inline {list-style: none; margin:0; padding: 0}\n",
              ".list-inline>li {display: inline-block}\n",
              ".list-inline>li:not(:last-child)::after {content: \"\\00b7\"; padding: 0 .5ex}\n",
              "</style>\n",
              "<ol class=list-inline><li>37</li><li>45</li><li>39</li><li>9</li><li>42</li><li>43</li><li>13</li><li>36</li><li>49</li><li>38</li><li>48</li><li>4</li><li>50</li><li>40</li><li>41</li><li>17</li><li>16</li><li>51</li><li>14</li><li>66</li><li>68</li><li>6</li><li>8</li><li>10</li><li>22</li><li>1</li><li>23</li><li>58</li><li>65</li><li>54</li><li>55</li><li>2</li><li>15</li><li>19</li><li>11</li><li>69</li><li>20</li><li>5</li><li>46</li><li>63</li><li>18</li><li>56</li><li>57</li><li>24</li><li>47</li><li>52</li><li>44</li><li>31</li><li>34</li><li>32</li><li>33</li><li>7</li><li>35</li><li>62</li><li>64</li><li>30</li><li>67</li><li>3</li><li>26</li><li>27</li><li>28</li><li>25</li><li>60</li><li>12</li><li>21</li><li>61</li><li>29</li><li>59</li><li>53</li></ol>\n"
            ],
            "text/markdown": "1. 37\n2. 45\n3. 39\n4. 9\n5. 42\n6. 43\n7. 13\n8. 36\n9. 49\n10. 38\n11. 48\n12. 4\n13. 50\n14. 40\n15. 41\n16. 17\n17. 16\n18. 51\n19. 14\n20. 66\n21. 68\n22. 6\n23. 8\n24. 10\n25. 22\n26. 1\n27. 23\n28. 58\n29. 65\n30. 54\n31. 55\n32. 2\n33. 15\n34. 19\n35. 11\n36. 69\n37. 20\n38. 5\n39. 46\n40. 63\n41. 18\n42. 56\n43. 57\n44. 24\n45. 47\n46. 52\n47. 44\n48. 31\n49. 34\n50. 32\n51. 33\n52. 7\n53. 35\n54. 62\n55. 64\n56. 30\n57. 67\n58. 3\n59. 26\n60. 27\n61. 28\n62. 25\n63. 60\n64. 12\n65. 21\n66. 61\n67. 29\n68. 59\n69. 53\n\n\n",
            "text/latex": "\\begin{enumerate*}\n\\item 37\n\\item 45\n\\item 39\n\\item 9\n\\item 42\n\\item 43\n\\item 13\n\\item 36\n\\item 49\n\\item 38\n\\item 48\n\\item 4\n\\item 50\n\\item 40\n\\item 41\n\\item 17\n\\item 16\n\\item 51\n\\item 14\n\\item 66\n\\item 68\n\\item 6\n\\item 8\n\\item 10\n\\item 22\n\\item 1\n\\item 23\n\\item 58\n\\item 65\n\\item 54\n\\item 55\n\\item 2\n\\item 15\n\\item 19\n\\item 11\n\\item 69\n\\item 20\n\\item 5\n\\item 46\n\\item 63\n\\item 18\n\\item 56\n\\item 57\n\\item 24\n\\item 47\n\\item 52\n\\item 44\n\\item 31\n\\item 34\n\\item 32\n\\item 33\n\\item 7\n\\item 35\n\\item 62\n\\item 64\n\\item 30\n\\item 67\n\\item 3\n\\item 26\n\\item 27\n\\item 28\n\\item 25\n\\item 60\n\\item 12\n\\item 21\n\\item 61\n\\item 29\n\\item 59\n\\item 53\n\\end{enumerate*}\n",
            "text/plain": [
              " [1] 37 45 39  9 42 43 13 36 49 38 48  4 50 40 41 17 16 51 14 66 68  6  8 10 22\n",
              "[26]  1 23 58 65 54 55  2 15 19 11 69 20  5 46 63 18 56 57 24 47 52 44 31 34 32\n",
              "[51] 33  7 35 62 64 30 67  3 26 27 28 25 60 12 21 61 29 59 53"
            ]
          },
          "metadata": {}
        }
      ]
    },
    {
      "cell_type": "markdown",
      "source": [
        "## Principal Component Analysis (PCA):\n",
        "\n",
        "PCA is a dimensionality reduction technique that is often used to simplify the dataset with many interrelated variables, while retaining as much as possible of the variation present in the dataset.\n",
        "\n",
        "he  works by calculating a new set of variables, called principal components, each of which is a linear combination of the input variables. The principal components are orthogonal to each other, meaning they're uncorrelated."
      ],
      "metadata": {
        "id": "J7l5mQzpNr1x"
      },
      "id": "J7l5mQzpNr1x"
    },
    {
      "cell_type": "code",
      "source": [
        "#kept only 45 variable for the model \n",
        "r_data<-encoded_train_data[ranking[0:40]]\n",
        "dim(r_data)\n",
        "r_test<-encoded_test_features[ranking[0:40]]\n",
        "c_data<-encoded_train_data[correlation_ranking_idx[0:40]]\n",
        "c_test <-encoded_test_features[correlation_ranking_idx[0:40]]\n",
        "dim(c_data)\n",
        "dim(r_test)"
      ],
      "metadata": {
        "id": "oOTmWfxlOYoH",
        "colab": {
          "base_uri": "https://localhost:8080/",
          "height": 69
        },
        "outputId": "d25a90dd-da9a-4cc5-ab38-663e91baf2d9"
      },
      "id": "oOTmWfxlOYoH",
      "execution_count": null,
      "outputs": [
        {
          "output_type": "display_data",
          "data": {
            "text/html": [
              "<style>\n",
              ".list-inline {list-style: none; margin:0; padding: 0}\n",
              ".list-inline>li {display: inline-block}\n",
              ".list-inline>li:not(:last-child)::after {content: \"\\00b7\"; padding: 0 .5ex}\n",
              "</style>\n",
              "<ol class=list-inline><li>260601</li><li>40</li></ol>\n"
            ],
            "text/markdown": "1. 260601\n2. 40\n\n\n",
            "text/latex": "\\begin{enumerate*}\n\\item 260601\n\\item 40\n\\end{enumerate*}\n",
            "text/plain": [
              "[1] 260601     40"
            ]
          },
          "metadata": {}
        },
        {
          "output_type": "display_data",
          "data": {
            "text/html": [
              "<style>\n",
              ".list-inline {list-style: none; margin:0; padding: 0}\n",
              ".list-inline>li {display: inline-block}\n",
              ".list-inline>li:not(:last-child)::after {content: \"\\00b7\"; padding: 0 .5ex}\n",
              "</style>\n",
              "<ol class=list-inline><li>260601</li><li>40</li></ol>\n"
            ],
            "text/markdown": "1. 260601\n2. 40\n\n\n",
            "text/latex": "\\begin{enumerate*}\n\\item 260601\n\\item 40\n\\end{enumerate*}\n",
            "text/plain": [
              "[1] 260601     40"
            ]
          },
          "metadata": {}
        },
        {
          "output_type": "display_data",
          "data": {
            "text/html": [
              "<style>\n",
              ".list-inline {list-style: none; margin:0; padding: 0}\n",
              ".list-inline>li {display: inline-block}\n",
              ".list-inline>li:not(:last-child)::after {content: \"\\00b7\"; padding: 0 .5ex}\n",
              "</style>\n",
              "<ol class=list-inline><li>86868</li><li>40</li></ol>\n"
            ],
            "text/markdown": "1. 86868\n2. 40\n\n\n",
            "text/latex": "\\begin{enumerate*}\n\\item 86868\n\\item 40\n\\end{enumerate*}\n",
            "text/plain": [
              "[1] 86868    40"
            ]
          },
          "metadata": {}
        }
      ]
    },
    {
      "cell_type": "code",
      "source": [
        "# create data for training model \n",
        "dammage <- train_labels$damage_grade\n",
        "data_train<-cbind(r_data, dammage)\n",
        "unique(data_train$dammage)\n",
        "dim(train_labels)\n",
        "dim(train_labels)"
      ],
      "metadata": {
        "id": "2jbdxGcbZk0F",
        "colab": {
          "base_uri": "https://localhost:8080/",
          "height": 69
        },
        "outputId": "ff1bc8fe-0952-4b90-c045-7771cf6419c1"
      },
      "id": "2jbdxGcbZk0F",
      "execution_count": null,
      "outputs": [
        {
          "output_type": "display_data",
          "data": {
            "text/html": [
              "<style>\n",
              ".list-inline {list-style: none; margin:0; padding: 0}\n",
              ".list-inline>li {display: inline-block}\n",
              ".list-inline>li:not(:last-child)::after {content: \"\\00b7\"; padding: 0 .5ex}\n",
              "</style>\n",
              "<ol class=list-inline><li>3</li><li>2</li><li>1</li></ol>\n"
            ],
            "text/markdown": "1. 3\n2. 2\n3. 1\n\n\n",
            "text/latex": "\\begin{enumerate*}\n\\item 3\n\\item 2\n\\item 1\n\\end{enumerate*}\n",
            "text/plain": [
              "[1] 3 2 1"
            ]
          },
          "metadata": {}
        },
        {
          "output_type": "display_data",
          "data": {
            "text/html": [
              "<style>\n",
              ".list-inline {list-style: none; margin:0; padding: 0}\n",
              ".list-inline>li {display: inline-block}\n",
              ".list-inline>li:not(:last-child)::after {content: \"\\00b7\"; padding: 0 .5ex}\n",
              "</style>\n",
              "<ol class=list-inline><li>260601</li><li>1</li></ol>\n"
            ],
            "text/markdown": "1. 260601\n2. 1\n\n\n",
            "text/latex": "\\begin{enumerate*}\n\\item 260601\n\\item 1\n\\end{enumerate*}\n",
            "text/plain": [
              "[1] 260601      1"
            ]
          },
          "metadata": {}
        },
        {
          "output_type": "display_data",
          "data": {
            "text/html": [
              "<style>\n",
              ".list-inline {list-style: none; margin:0; padding: 0}\n",
              ".list-inline>li {display: inline-block}\n",
              ".list-inline>li:not(:last-child)::after {content: \"\\00b7\"; padding: 0 .5ex}\n",
              "</style>\n",
              "<ol class=list-inline><li>260601</li><li>1</li></ol>\n"
            ],
            "text/markdown": "1. 260601\n2. 1\n\n\n",
            "text/latex": "\\begin{enumerate*}\n\\item 260601\n\\item 1\n\\end{enumerate*}\n",
            "text/plain": [
              "[1] 260601      1"
            ]
          },
          "metadata": {}
        }
      ]
    },
    {
      "cell_type": "code",
      "source": [
        "# Créer une table de fréquence\n",
        "damage_freq <- table(dammage)\n",
        "\n",
        "# Créer un barplot\n",
        "barplot(damage_freq, main = \"Distribution of Damage Classes\", xlab = \"Damage\", ylab = \"Count\")\n",
        "\n",
        "\n",
        "\n"
      ],
      "metadata": {
        "id": "B01fqDN6Mk6i",
        "colab": {
          "base_uri": "https://localhost:8080/",
          "height": 437
        },
        "outputId": "9bf4b840-dcaf-420b-cc1f-93018fb8ac35"
      },
      "id": "B01fqDN6Mk6i",
      "execution_count": null,
      "outputs": [
        {
          "output_type": "display_data",
          "data": {
            "text/plain": [
              "Plot with title “Distribution of Damage Classes”"
            ],
            "image/png": "[encoded data removed]"
          },
          "metadata": {
            "image/png": {
              "width": 420,
              "height": 420
            }
          }
        }
      ]
    },
    {
      "cell_type": "code",
      "source": [],
      "metadata": {
        "id": "1NHrwuofZsR3"
      },
      "id": "1NHrwuofZsR3",
      "execution_count": null,
      "outputs": []
    },
    {
      "cell_type": "code",
      "source": [
        "\n"
      ],
      "metadata": {
        "id": "sV8KIJXteQUS"
      },
      "id": "sV8KIJXteQUS",
      "execution_count": null,
      "outputs": []
    },
    {
      "cell_type": "markdown",
      "source": [
        "## Performance metric\n",
        "\n",
        "We are predicting the level of damage from 1 to 3. The level of damage is an ordinal variable meaning that ordering is important. \n",
        "\n",
        "to measure the performance of our algorithms, we'll use the F1 score which balances the precision and recall of a classifier. Traditionally, the F1 score is used to evaluate performance on a binary classifier, but since we have three possible labels we will use a variant called the micro averaged F1 score.\n",
        "\n",
        "\\begin{equation}\n",
        "F_{micro} = 2 \\cdot \\frac{P_{micro} \\cdot R_{micro}}{P_{micro} + R_{micro}}\n",
        "\\end{equation}\n",
        "where \n",
        "\n",
        "$P_{micro} = \\frac{\\sum_{k=1}^{3} TP_{k}}{\\sum_{k=1}^{3} (TP_{k} + FP_{k})}$\n",
        "\n",
        "\n",
        "$R_{micro} = \\frac{\\sum_{k=1}^{3} TP_{k}}{\\sum_{k=1}^{3} (TP_{k} + FN_{k})}$\n",
        "\n",
        "and TP is True Positive, FP is False Positive, FN is False Negative, and k\n",
        " represents each class in 1,2,3"
      ],
      "metadata": {
        "id": "AkSzyUa6Tj3F"
      },
      "id": "AkSzyUa6Tj3F"
    },
    {
      "cell_type": "code",
      "source": [
        "# from https://pastebin.com/b6WufBNq\n",
        "\n",
        "ConfusionMatrix <- function(y_pred, y_true) {\n",
        "  Confusion_Mat <- table(y_true, y_pred)\n",
        "  return(Confusion_Mat)\n",
        "}\n",
        " \n",
        "ConfusionDF <- function(y_pred, y_true) {\n",
        "  Confusion_DF <- transform(as.data.frame(ConfusionMatrix(y_pred, y_true)),\n",
        "                            y_true = as.character(y_true),\n",
        "                            y_pred = as.character(y_pred),\n",
        "                            Freq = as.integer(Freq))\n",
        "  return(Confusion_DF)\n",
        "}\n",
        " \n",
        "Precision_micro <- function(y_true, y_pred, labels = NULL) {\n",
        "  Confusion_DF <- ConfusionDF(y_pred, y_true)\n",
        " \n",
        "  if (is.null(labels) == TRUE) labels <- unique(c(y_true, y_pred))\n",
        "  # this is not bulletproof since there might be labels missing (in strange cases)\n",
        "  # in strange cases where they existed in training set but are missing from test ground truth and predictions.\n",
        " \n",
        "  TP <- c()\n",
        "  FP <- c()\n",
        "  for (i in c(1:length(labels))) {\n",
        "    positive <- labels[i]\n",
        "   \n",
        "    # it may happen that a label is never predicted (missing from y_pred) but exists in y_true\n",
        "    # in this case ConfusionDF will not have these lines and thus the simplified code crashes\n",
        "    # TP[i] <- as.integer(Confusion_DF[which(Confusion_DF$y_true==positive & Confusion_DF$y_pred==positive), \"Freq\"])\n",
        "    # FP[i] <- as.integer(sum(Confusion_DF[which(Confusion_DF$y_true!=positive & Confusion_DF$y_pred==positive), \"Freq\"]))\n",
        "   \n",
        "    # workaround:\n",
        "    # i don't want to change ConfusionDF since i don't know if the current behaviour is a feature or a bug.\n",
        "    tmp <- Confusion_DF[which(Confusion_DF$y_true==positive & Confusion_DF$y_pred==positive), \"Freq\"]\n",
        "    TP[i] <- if (length(tmp)==0) 0 else as.integer(tmp)\n",
        "   \n",
        "    tmp <- Confusion_DF[which(Confusion_DF$y_true!=positive & Confusion_DF$y_pred==positive), \"Freq\"]\n",
        "    FP[i] <- if (length(tmp)==0) 0 else as.integer(sum(tmp))\n",
        "  }\n",
        "  Precision_micro <- sum(TP) / (sum(TP) + sum(FP))\n",
        "  return(Precision_micro)\n",
        "}\n",
        " \n",
        "Recall_micro <- function(y_true, y_pred, labels = NULL) {\n",
        "  Confusion_DF <- ConfusionDF(y_pred, y_true)\n",
        " \n",
        "  if (is.null(labels) == TRUE) labels <- unique(c(y_true, y_pred))\n",
        "  # this is not bulletproof since there might be labels missing (in strange cases)\n",
        "  # in strange cases where they existed in training set but are missing from test ground truth and predictions.\n",
        " \n",
        "  TP <- c()\n",
        "  FN <- c()\n",
        "  for (i in c(1:length(labels))) {\n",
        "    positive <- labels[i]\n",
        "   \n",
        "    # short version, comment out due to bug or feature of Confusion_DF\n",
        "    # TP[i] <- as.integer(Confusion_DF[which(Confusion_DF$y_true==positive & Confusion_DF$y_pred==positive), \"Freq\"])\n",
        "    # FP[i] <- as.integer(sum(Confusion_DF[which(Confusion_DF$y_true==positive & Confusion_DF$y_pred!=positive), \"Freq\"]))\n",
        "   \n",
        "    # workaround:\n",
        "    tmp <- Confusion_DF[which(Confusion_DF$y_true==positive & Confusion_DF$y_pred==positive), \"Freq\"]\n",
        "    TP[i] <- if (length(tmp)==0) 0 else as.integer(tmp)\n",
        " \n",
        "    tmp <- Confusion_DF[which(Confusion_DF$y_true==positive & Confusion_DF$y_pred!=positive), \"Freq\"]\n",
        "    FN[i] <- if (length(tmp)==0) 0 else as.integer(sum(tmp))\n",
        "  }\n",
        "  Recall_micro <- sum(TP) / (sum(TP) + sum(FN))\n",
        "  return(Recall_micro)\n",
        "}\n",
        " \n",
        "F1_Score_micro <- function(y_true, y_pred, labels = NULL) {\n",
        "  if (is.null(labels) == TRUE) labels <- unique(c(y_true, y_pred)) # possible problems if labels are missing from y_*\n",
        "  Precision <- Precision_micro(y_true, y_pred, labels)\n",
        "  Recall <- Recall_micro(y_true, y_pred, labels)\n",
        "  F1_Score_micro <- 2 * (Precision * Recall) / (Precision + Recall)\n",
        "  return(F1_Score_micro)\n",
        "}"
      ],
      "metadata": {
        "id": "o8xsfeqsXKML"
      },
      "id": "o8xsfeqsXKML",
      "execution_count": null,
      "outputs": []
    },
    {
      "cell_type": "code",
      "source": [
        "dim(data_train)"
      ],
      "metadata": {
        "id": "4VPPn-jiuMVl",
        "colab": {
          "base_uri": "https://localhost:8080/",
          "height": 34
        },
        "outputId": "4da58d10-231d-41c8-d65d-d72e0390af17"
      },
      "id": "4VPPn-jiuMVl",
      "execution_count": null,
      "outputs": [
        {
          "output_type": "display_data",
          "data": {
            "text/html": [
              "<style>\n",
              ".list-inline {list-style: none; margin:0; padding: 0}\n",
              ".list-inline>li {display: inline-block}\n",
              ".list-inline>li:not(:last-child)::after {content: \"\\00b7\"; padding: 0 .5ex}\n",
              "</style>\n",
              "<ol class=list-inline><li>260601</li><li>41</li></ol>\n"
            ],
            "text/markdown": "1. 260601\n2. 41\n\n\n",
            "text/latex": "\\begin{enumerate*}\n\\item 260601\n\\item 41\n\\end{enumerate*}\n",
            "text/plain": [
              "[1] 260601     41"
            ]
          },
          "metadata": {}
        }
      ]
    },
    {
      "cell_type": "markdown",
      "source": [
        "## model selection\n"
      ],
      "metadata": {
        "id": "yW-d7Yp7K3LU"
      },
      "id": "yW-d7Yp7K3LU"
    },
    {
      "cell_type": "code",
      "source": [],
      "metadata": {
        "id": "Z0Hv7Y8dLSDv"
      },
      "id": "Z0Hv7Y8dLSDv",
      "execution_count": null,
      "outputs": []
    },
    {
      "cell_type": "code",
      "source": [
        "\n"
      ],
      "metadata": {
        "id": "oF0eIB04wNX5"
      },
      "id": "oF0eIB04wNX5",
      "execution_count": null,
      "outputs": []
    },
    {
      "cell_type": "code",
      "source": [],
      "metadata": {
        "id": "cchXvYROd2c0"
      },
      "id": "cchXvYROd2c0",
      "execution_count": null,
      "outputs": []
    },
    {
      "cell_type": "code",
      "source": [
        "reg_Trees <- function(out_data, in_data, k){\n",
        "  out_data <- as.factor(out_data) # Convert target variable to factor\n",
        "  index <- sample(1:nrow(in_data)) #reshuffle the rows\n",
        "  max <- ceiling(nrow(in_data)/k) #get the size of each subset of the training set\n",
        "  splits <- split(index, ceiling(seq_along(index)/max)) #split the rows into subsets\n",
        "  accuracy_vec <- rep(NA,k) #vector that will contain the accuracies\n",
        "  misclassification_rate_vec <- rep(NA,k) #vector that will contain the misclassification rates\n",
        "  f1_score_vec <- rep(NA,k) #vector that will contain the F1 scores\n",
        "  for (i in 1:k){ #k-fold\n",
        "    train_data <- in_data[-splits[[i]],] #select everything but one subset\n",
        "    out_train <- out_data[-splits[[i]]] #select everything but one subset\n",
        "    combined_train <- cbind(out_train,train_data) #combine the input and output\n",
        "    test_data <- in_data[splits[[i]],] #select one subset\n",
        "    out_test <- out_data[splits[[i]]] #select one subset\n",
        "    tree_model <- rpart(out_train~., data = combined_train) #build the model\n",
        "    out_pred <- predict(tree_model,test_data, type=\"class\") #predict the output of training.features\n",
        "    conf_mat <- table(out_test,out_pred) #confusion matrix\n",
        "    accuracy_vec[i] <- sum(diag(conf_mat))/sum(conf_mat) #accuracy\n",
        "    misclassification_rate_vec[i] <- 1 - accuracy_vec[i] #misclassification rate\n",
        "    f1_score_vec[i] <- F1_Score_micro(out_test, out_pred) #F1 score\n",
        "  }\n",
        "  print(paste(\"Accuracy:\", round(mean(accuracy_vec),3))) #print the mean accuracy\n",
        "  print(paste(\"Misclassification Rate:\", round(mean(misclassification_rate_vec,na.rm=TRUE),3))) #print the mean misclassification rate\n",
        "  print(paste(\"F1 Score:\", round(mean(f1_score_vec,na.rm=TRUE),3))) #print the mean F1 score\n",
        "  combined <- cbind(out_data,in_data)\n",
        "  return(rpart(out_data~.,data = combined)) #return the model trained on the whole set\n",
        "}\n"
      ],
      "metadata": {
        "id": "KpnxX1ImZUV7"
      },
      "id": "KpnxX1ImZUV7",
      "execution_count": null,
      "outputs": []
    },
    {
      "cell_type": "code",
      "source": [
        "sapply(data_train, length)\n",
        "data_train_clean <- na.omit(data_train)\n",
        "\n"
      ],
      "metadata": {
        "id": "-95lUwdSFDnG"
      },
      "id": "-95lUwdSFDnG",
      "execution_count": null,
      "outputs": []
    },
    {
      "cell_type": "code",
      "source": [
        "# 1. Mélanger l'ensemble de données de manière aléatoire.\n",
        "shuffled_index <- sample(1:nrow(data_train))\n",
        "\n",
        "# 2. Obtenir l'indice pour la moitié de l'ensemble de données\n",
        "half_index <- floor(nrow(data_train)/2)\n",
        "\n",
        "# 3. Diviser les données d'entraînement en deux plus petits dataframes : l'ensemble d'entraînement et l'ensemble de test\n",
        "train_data <-  data_train[shuffled_index[1:half_index],]\n",
        "test_data <-  data_train[shuffled_index[(half_index+1):nrow(data_train)],]\n",
        "\n",
        "#4. Tailles de l'ensemble d'entraînement et de l'ensemble de test\n",
        "print(paste(\"Training Set Size : \",half_index ,\"Test set Size : \",nrow(data_train)-half_index ))\n",
        "\n",
        "#5. Entraîner le modèle d'arbre de décision avec rpart \n",
        "model <- rpart(dammage ~ . , method=\"class\", data=train_data)\n",
        "\n",
        "# Visualiser les variables les plus importantes\n",
        "data.frame(model$variable.importance)\n",
        "\n",
        "# Visualiser l'arbre de décision du modèle\n",
        "rpart.plot(model, type=1 , fallen.leaves = F ,cex =0.9)\n",
        "\n",
        "# Obtenir les prédictions de notre ensemble de test à partir de notre modèle entraîné\n",
        "Y_pred_probs <- predict(model, test_data[,-ncol(test_data)], type = \"prob\")\n",
        "\n",
        "#Y_pred <- predict(model,test_data[,-ncol(test_data)], type = \"class\")\n",
        "\n",
        "# Obtenir les résultats réels de l'ensemble de test\n",
        "Y <- test_data[,ncol(test_data)]\n",
        "# Matrice de confusion\n",
        "Y_pred <- ifelse(Y_pred_probs[,1] > 0.3, \"1\", \n",
        "            ifelse(Y_pred_probs[,2] > 0.5, \"2\", \"3\"))\n",
        "confusion_matrix <- table(Y_pred, Y)\n",
        "\n",
        "# Ajout du calcul du score F1\n",
        "Y_pred <- as.factor(Y_pred)\n",
        "Y <- as.factor(Y)\n",
        "f1_score <- F1_Score_micro(Y, Y_pred)\n",
        "print(paste(\"F1 Score:\", f1_score))\n",
        "accuracy = sum(diag(confusion_matrix))/sum(confusion_matrix)\n",
        "misclassification_rate = 1 - accuracy\n",
        "print(paste(\"Misclassification_rate On Damage Grade Prediction = \" , misclassification_rate))\n",
        "print(paste( \"Accuracy On Damage Grade Prediction = \" , accuracy))\n",
        "\n",
        "\n",
        "\n"
      ],
      "metadata": {
        "colab": {
          "base_uri": "https://localhost:8080/",
          "height": 1000
        },
        "id": "oI6tCNZ-h-Ll",
        "outputId": "9c6e7f0e-9484-46de-f12a-75625be6f0e6"
      },
      "id": "oI6tCNZ-h-Ll",
      "execution_count": null,
      "outputs": [
        {
          "output_type": "stream",
          "name": "stdout",
          "text": [
            "[1] \"Training Set Size :  130300 Test set Size :  130301\"\n"
          ]
        },
        {
          "output_type": "display_data",
          "data": {
            "text/html": [
              "<table class=\"dataframe\">\n",
              "<caption>A data.frame: 19 × 1</caption>\n",
              "<thead>\n",
              "\t<tr><th></th><th scope=col>model.variable.importance</th></tr>\n",
              "\t<tr><th></th><th scope=col>&lt;dbl&gt;</th></tr>\n",
              "</thead>\n",
              "<tbody>\n",
              "\t<tr><th scope=row>geo_level_1_id</th><td>6829.34032</td></tr>\n",
              "\t<tr><th scope=row>foundation_type_r</th><td>2864.33244</td></tr>\n",
              "\t<tr><th scope=row>foundation_type_w</th><td>1053.99319</td></tr>\n",
              "\t<tr><th scope=row>foundation_type_u</th><td> 980.62359</td></tr>\n",
              "\t<tr><th scope=row>ground_floor_type_v</th><td> 835.75550</td></tr>\n",
              "\t<tr><th scope=row>roof_type_x</th><td> 775.72638</td></tr>\n",
              "\t<tr><th scope=row>foundation_type_i</th><td> 725.08061</td></tr>\n",
              "\t<tr><th scope=row>geo_level_2_id</th><td> 294.55742</td></tr>\n",
              "\t<tr><th scope=row>has_superstructure_bamboo</th><td> 180.15408</td></tr>\n",
              "\t<tr><th scope=row>position_s</th><td> 155.30876</td></tr>\n",
              "\t<tr><th scope=row>has_superstructure_timber</th><td> 141.42937</td></tr>\n",
              "\t<tr><th scope=row>count_floors_pre_eq</th><td> 141.04935</td></tr>\n",
              "\t<tr><th scope=row>position_t</th><td> 118.34989</td></tr>\n",
              "\t<tr><th scope=row>roof_type_q</th><td> 110.19720</td></tr>\n",
              "\t<tr><th scope=row>roof_type_n</th><td> 109.78957</td></tr>\n",
              "\t<tr><th scope=row>has_superstructure_mud_mortar_stone</th><td>  90.76810</td></tr>\n",
              "\t<tr><th scope=row>count_families</th><td>  70.14124</td></tr>\n",
              "\t<tr><th scope=row>has_superstructure_cement_mortar_brick</th><td>  53.83820</td></tr>\n",
              "\t<tr><th scope=row>legal_ownership_status_w</th><td>  15.69915</td></tr>\n",
              "</tbody>\n",
              "</table>\n"
            ],
            "text/markdown": "\nA data.frame: 19 × 1\n\n| <!--/--> | model.variable.importance &lt;dbl&gt; |\n|---|---|\n| geo_level_1_id | 6829.34032 |\n| foundation_type_r | 2864.33244 |\n| foundation_type_w | 1053.99319 |\n| foundation_type_u |  980.62359 |\n| ground_floor_type_v |  835.75550 |\n| roof_type_x |  775.72638 |\n| foundation_type_i |  725.08061 |\n| geo_level_2_id |  294.55742 |\n| has_superstructure_bamboo |  180.15408 |\n| position_s |  155.30876 |\n| has_superstructure_timber |  141.42937 |\n| count_floors_pre_eq |  141.04935 |\n| position_t |  118.34989 |\n| roof_type_q |  110.19720 |\n| roof_type_n |  109.78957 |\n| has_superstructure_mud_mortar_stone |   90.76810 |\n| count_families |   70.14124 |\n| has_superstructure_cement_mortar_brick |   53.83820 |\n| legal_ownership_status_w |   15.69915 |\n\n",
            "text/latex": "A data.frame: 19 × 1\n\\begin{tabular}{r|l}\n  & model.variable.importance\\\\\n  & <dbl>\\\\\n\\hline\n\tgeo\\_level\\_1\\_id & 6829.34032\\\\\n\tfoundation\\_type\\_r & 2864.33244\\\\\n\tfoundation\\_type\\_w & 1053.99319\\\\\n\tfoundation\\_type\\_u &  980.62359\\\\\n\tground\\_floor\\_type\\_v &  835.75550\\\\\n\troof\\_type\\_x &  775.72638\\\\\n\tfoundation\\_type\\_i &  725.08061\\\\\n\tgeo\\_level\\_2\\_id &  294.55742\\\\\n\thas\\_superstructure\\_bamboo &  180.15408\\\\\n\tposition\\_s &  155.30876\\\\\n\thas\\_superstructure\\_timber &  141.42937\\\\\n\tcount\\_floors\\_pre\\_eq &  141.04935\\\\\n\tposition\\_t &  118.34989\\\\\n\troof\\_type\\_q &  110.19720\\\\\n\troof\\_type\\_n &  109.78957\\\\\n\thas\\_superstructure\\_mud\\_mortar\\_stone &   90.76810\\\\\n\tcount\\_families &   70.14124\\\\\n\thas\\_superstructure\\_cement\\_mortar\\_brick &   53.83820\\\\\n\tlegal\\_ownership\\_status\\_w &   15.69915\\\\\n\\end{tabular}\n",
            "text/plain": [
              "                                       model.variable.importance\n",
              "geo_level_1_id                         6829.34032               \n",
              "foundation_type_r                      2864.33244               \n",
              "foundation_type_w                      1053.99319               \n",
              "foundation_type_u                       980.62359               \n",
              "ground_floor_type_v                     835.75550               \n",
              "roof_type_x                             775.72638               \n",
              "foundation_type_i                       725.08061               \n",
              "geo_level_2_id                          294.55742               \n",
              "has_superstructure_bamboo               180.15408               \n",
              "position_s                              155.30876               \n",
              "has_superstructure_timber               141.42937               \n",
              "count_floors_pre_eq                     141.04935               \n",
              "position_t                              118.34989               \n",
              "roof_type_q                             110.19720               \n",
              "roof_type_n                             109.78957               \n",
              "has_superstructure_mud_mortar_stone      90.76810               \n",
              "count_families                           70.14124               \n",
              "has_superstructure_cement_mortar_brick   53.83820               \n",
              "legal_ownership_status_w                 15.69915               "
            ]
          },
          "metadata": {}
        },
        {
          "output_type": "stream",
          "name": "stdout",
          "text": [
            "[1] \"F1 Score: 0.606887130566918\"\n",
            "[1] \"Misclassification_rate On Damage Grade Prediction =  0.393112869433082\"\n",
            "[1] \"Accuracy On Damage Grade Prediction =  0.606887130566918\"\n"
          ]
        },
        {
          "output_type": "display_data",
          "data": {
            "text/plain": [
              "plot without title"
            ],
            "image/png": "[encoded data removed]"
          },
          "metadata": {
            "image/png": {
              "width": 420,
              "height": 420
            }
          }
        }
      ]
    },
    {
      "cell_type": "code",
      "source": [
        "dammage_tree <- reg_Trees(data_train$dammage, r_data, 10)\n",
        "\n",
        "\n",
        "treedammage_pred <- predict(dammage_tree, r_test, type = \"class\")\n",
        "\n"
      ],
      "metadata": {
        "id": "RXenMsDP_sAZ",
        "colab": {
          "base_uri": "https://localhost:8080/"
        },
        "outputId": "ca5f2aa3-c1af-44bb-8fe8-39e1a01e57ac"
      },
      "id": "RXenMsDP_sAZ",
      "execution_count": null,
      "outputs": [
        {
          "output_type": "stream",
          "name": "stdout",
          "text": [
            "[1] \"Accuracy: 0.642\"\n",
            "[1] \"Misclassification Rate: 0.358\"\n",
            "[1] \"F1 Score: 0.642\"\n"
          ]
        }
      ]
    },
    {
      "cell_type": "code",
      "source": [
        "\n"
      ],
      "metadata": {
        "id": "B-sudOPJqEH_"
      },
      "id": "B-sudOPJqEH_",
      "execution_count": null,
      "outputs": []
    },
    {
      "cell_type": "code",
      "source": [
        "printcp(dammage_tree )\n",
        "plot(dammage_tree , uniform=TRUE,\n",
        "    main=\"Regression Tree - dammage_tree \")\n",
        "    text(dammage_tree , use.n=TRUE, all=TRUE, cex=.8)\n",
        "\n"
      ],
      "metadata": {
        "id": "VtmBZ8a3T43f",
        "colab": {
          "base_uri": "https://localhost:8080/",
          "height": 697
        },
        "outputId": "8f2fd98b-b24c-4586-ec9f-bf2643638dc4"
      },
      "id": "VtmBZ8a3T43f",
      "execution_count": null,
      "outputs": [
        {
          "output_type": "stream",
          "name": "stdout",
          "text": [
            "\n",
            "Classification tree:\n",
            "rpart(formula = out_data ~ ., data = combined)\n",
            "\n",
            "Variables actually used in tree construction:\n",
            "[1] foundation_type_r geo_level_1_id   \n",
            "\n",
            "Root node error: 112342/260601 = 0.43109\n",
            "\n",
            "n= 260601 \n",
            "\n",
            "        CP nsplit rel error  xerror      xstd\n",
            "1 0.031693      0   1.00000 1.00000 0.0022504\n",
            "2 0.018951      4   0.87323 0.87323 0.0022016\n",
            "3 0.010000      6   0.83532 0.83208 0.0021794\n"
          ]
        },
        {
          "output_type": "display_data",
          "data": {
            "text/plain": [
              "Plot with title “Regression Tree - dammage_tree ”"
            ],
            "image/png": "[encoded data removed]"
          },
          "metadata": {
            "image/png": {
              "width": 420,
              "height": 420
            }
          }
        }
      ]
    },
    {
      "cell_type": "code",
      "source": [
        "#df_predictions <- as.data.frame(treedammage_pred)\n",
        "result_df  <- data.frame(building_id = test_features$building_id, damage_grade = treedammage_pred)\n",
        "\n",
        "write.csv(result_df, \"result_tree.csv\", row.names = FALSE)"
      ],
      "metadata": {
        "id": "mvJpReN9fkJH"
      },
      "id": "mvJpReN9fkJH",
      "execution_count": 161,
      "outputs": []
    }
  ],
  "metadata": {
    "kernelspec": {
      "display_name": "R",
      "language": "R",
      "name": "ir"
    },
    "language_info": {
      "codemirror_mode": "r",
      "file_extension": ".r",
      "mimetype": "text/x-r-source",
      "name": "R",
      "pygments_lexer": "r",
      "version": "4.1.3"
    },
    "colab": {
      "provenance": [],
      "include_colab_link": true
    }
  },
  "nbformat": 4,
  "nbformat_minor": 5
}