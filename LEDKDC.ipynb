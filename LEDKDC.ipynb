{
  "cells": [
    {
      "cell_type": "markdown",
      "metadata": {
        "id": "view-in-github",
        "colab_type": "text"
      },
      "source": [
        "<a href=\"https://colab.research.google.com/github/cedric-bit/MLP/blob/main/LEDKDC.ipynb\" target=\"_parent\"><img src=\"https://colab.research.google.com/assets/colab-badge.svg\" alt=\"Open In Colab\"/></a>"
      ]
    },
    {
      "cell_type": "markdown",
      "id": "508981c3",
      "metadata": {
        "id": "508981c3"
      },
      "source": [
        "# INFO-F-422 - Statistical Foundations of Machine Learning\n",
        "## Project: Modeling Earthquake Damage\n",
        "# INTRODUCTION\n",
        "DrivenData competition Richter's Predictor: Modeling Earthquake Damage \n",
        "\n",
        "The main objective of this project is to develop a prediction model capable of estimating the level of damage to buildings during the 2015 Nepal earthquake, based on various structural and geographical characteristics.\n",
        "\n",
        "For this project, we have a dataset comprised of train_features, test_features, and train_labels. Both train_features and test_features include information on buildings, their structure, geographical location, and legal status, collected after the Gorkha earthquake. These datasets have 39 columns each, with the building_id column serving as a unique and random identifier. The remaining 38 features provide information about the building, its structure, construction materials, location, etc., which are useful for predicting damage. The train_labels dataset contains the known output values (damage_grade) for the training data in train_features"
      ]
    },
    {
      "cell_type": "code",
      "execution_count": 1,
      "id": "6635f64a",
      "metadata": {
        "id": "6635f64a",
        "colab": {
          "base_uri": "https://localhost:8080/"
        },
        "outputId": "850490b1-d7ac-4ced-acb3-9a441fcc1285"
      },
      "outputs": [
        {
          "output_type": "stream",
          "name": "stderr",
          "text": [
            "Installing package into ‘/usr/local/lib/R/site-library’\n",
            "(as ‘lib’ is unspecified)\n",
            "\n",
            "Installing package into ‘/usr/local/lib/R/site-library’\n",
            "(as ‘lib’ is unspecified)\n",
            "\n",
            "Installing package into ‘/usr/local/lib/R/site-library’\n",
            "(as ‘lib’ is unspecified)\n",
            "\n",
            "Installing package into ‘/usr/local/lib/R/site-library’\n",
            "(as ‘lib’ is unspecified)\n",
            "\n",
            "Installing package into ‘/usr/local/lib/R/site-library’\n",
            "(as ‘lib’ is unspecified)\n",
            "\n",
            "randomForest 4.7-1.1\n",
            "\n",
            "Type rfNews() to see new features/changes/bug fixes.\n",
            "\n",
            "\n",
            "Attaching package: ‘randomForest’\n",
            "\n",
            "\n",
            "The following object is masked from ‘package:ggplot2’:\n",
            "\n",
            "    margin\n",
            "\n",
            "\n"
          ]
        }
      ],
      "source": [
        "install.packages(\"ggplot2\")\n",
        "install.packages(\"rpart\")\n",
        "install.packages(\"rpart.plot\")\n",
        "install.packages(\"nnet\")\n",
        "install.packages(\"randomForest\")\n",
        "\n",
        "library(ggplot2)\n",
        "library(rpart)\n",
        "library(rpart.plot)\n",
        "library(nnet)\n",
        "library(randomForest)\n"
      ]
    },
    {
      "cell_type": "code",
      "execution_count": 2,
      "id": "99a6d98f",
      "metadata": {
        "id": "99a6d98f"
      },
      "outputs": [],
      "source": [
        "set.seed(5)"
      ]
    },
    {
      "cell_type": "markdown",
      "source": [
        "# Data preprocessing\n",
        "Data pre-processing is an important step in the analysis of our data. This involves cleaning, transforming and normalising the data to make it ready to be used to train machine learning models.\n",
        "\n",
        "As I mentioned earlier, we have three CSV files of data that can be downloaded from the competition site :\n",
        "\n",
        "* train_features: file contains the training data that will be used to \n",
        "train machine learning models. The data in this file includes input features and known the target variable).\n",
        "\n",
        "* train_labels: This file contains the known output values for the training data in train_features. These known output values will be used to train and evaluate the performance of machine learning models.\n",
        "\n",
        "* test_features: This file contains new data that the trained machine learning models will be used to make predictions on. This file contains input features for which the target variable (i.e., the output) is not known."
      ],
      "metadata": {
        "id": "hgTA1yG1TeZ2"
      },
      "id": "hgTA1yG1TeZ2"
    },
    {
      "cell_type": "code",
      "execution_count": 3,
      "id": "4c25ae12",
      "metadata": {
        "id": "4c25ae12"
      },
      "outputs": [],
      "source": [
        "train_features <- read.csv(file=\"train_values.csv\",stringsAsFactors = T)\n",
        "train_labels <- read.csv(file=\"train_labels.csv\",stringsAsFactors = T)\n",
        "test_features <- read.csv(file=\"test_values.csv\",stringsAsFactors = T)"
      ]
    },
    {
      "cell_type": "code",
      "execution_count": 4,
      "id": "5cf0a4a6",
      "metadata": {
        "id": "5cf0a4a6",
        "colab": {
          "base_uri": "https://localhost:8080/",
          "height": 52
        },
        "outputId": "116610be-0290-4b6b-937d-fcb2fd417624"
      },
      "outputs": [
        {
          "output_type": "display_data",
          "data": {
            "text/html": [
              "<style>\n",
              ".list-inline {list-style: none; margin:0; padding: 0}\n",
              ".list-inline>li {display: inline-block}\n",
              ".list-inline>li:not(:last-child)::after {content: \"\\00b7\"; padding: 0 .5ex}\n",
              "</style>\n",
              "<ol class=list-inline><li>260601</li><li>39</li></ol>\n"
            ],
            "text/markdown": "1. 260601\n2. 39\n\n\n",
            "text/latex": "\\begin{enumerate*}\n\\item 260601\n\\item 39\n\\end{enumerate*}\n",
            "text/plain": [
              "[1] 260601     39"
            ]
          },
          "metadata": {}
        },
        {
          "output_type": "display_data",
          "data": {
            "text/html": [
              "<style>\n",
              ".list-inline {list-style: none; margin:0; padding: 0}\n",
              ".list-inline>li {display: inline-block}\n",
              ".list-inline>li:not(:last-child)::after {content: \"\\00b7\"; padding: 0 .5ex}\n",
              "</style>\n",
              "<ol class=list-inline><li>86868</li><li>39</li></ol>\n"
            ],
            "text/markdown": "1. 86868\n2. 39\n\n\n",
            "text/latex": "\\begin{enumerate*}\n\\item 86868\n\\item 39\n\\end{enumerate*}\n",
            "text/plain": [
              "[1] 86868    39"
            ]
          },
          "metadata": {}
        }
      ],
      "source": [
        "dim(train_features)\n",
        "dim(test_features) "
      ]
    },
    {
      "cell_type": "code",
      "source": [],
      "metadata": {
        "id": "fRV5wd98ocoA"
      },
      "id": "fRV5wd98ocoA",
      "execution_count": 5,
      "outputs": []
    },
    {
      "cell_type": "markdown",
      "source": [
        "This means that our training set contains 260601 building observations and their 39 associated features and test set contains 86868 building observations and their 39 associated features. we can observe that we have l small data for test feature.the building identifier *building_id* has no more information on the prediction, we will remove this variable for the rest of the project.\n",
        "\n"
      ],
      "metadata": {
        "id": "AJmqyGaBskd1"
      },
      "id": "AJmqyGaBskd1"
    },
    {
      "cell_type": "code",
      "source": [
        "str(train_labels)\n",
        "dim(train_labels)"
      ],
      "metadata": {
        "id": "KpKv4G4zo6dn",
        "colab": {
          "base_uri": "https://localhost:8080/",
          "height": 89
        },
        "outputId": "c5f1d74f-d5da-48fe-e672-9759fe57af45"
      },
      "id": "KpKv4G4zo6dn",
      "execution_count": 6,
      "outputs": [
        {
          "output_type": "stream",
          "name": "stdout",
          "text": [
            "'data.frame':\t260601 obs. of  2 variables:\n",
            " $ building_id : int  802906 28830 94947 590882 201944 333020 728451 475515 441126 989500 ...\n",
            " $ damage_grade: int  3 2 3 2 3 2 3 1 2 1 ...\n"
          ]
        },
        {
          "output_type": "display_data",
          "data": {
            "text/html": [
              "<style>\n",
              ".list-inline {list-style: none; margin:0; padding: 0}\n",
              ".list-inline>li {display: inline-block}\n",
              ".list-inline>li:not(:last-child)::after {content: \"\\00b7\"; padding: 0 .5ex}\n",
              "</style>\n",
              "<ol class=list-inline><li>260601</li><li>2</li></ol>\n"
            ],
            "text/markdown": "1. 260601\n2. 2\n\n\n",
            "text/latex": "\\begin{enumerate*}\n\\item 260601\n\\item 2\n\\end{enumerate*}\n",
            "text/plain": [
              "[1] 260601      2"
            ]
          },
          "metadata": {}
        }
      ]
    },
    {
      "cell_type": "code",
      "source": [
        "ggplot(train_labels, aes(x = damage_grade)) +\n",
        "  geom_histogram(binwidth = 1, fill = \"steelblue\", color = \"black\", alpha = 0.7) +\n",
        "  labs(title = \"Distribution variable damage_grade\",\n",
        "       x = \"level of damage\",\n",
        "       y = \"Number of building\") +\n",
        "  theme_minimal()\n"
      ],
      "metadata": {
        "id": "Euyvdv2DdkkQ",
        "colab": {
          "base_uri": "https://localhost:8080/",
          "height": 437
        },
        "outputId": "a4199021-d4e9-4891-ca44-117b873c0214"
      },
      "id": "Euyvdv2DdkkQ",
      "execution_count": 7,
      "outputs": [
        {
          "output_type": "display_data",
          "data": {
            "text/plain": [
              "plot without title"
            ],
            "image/png": "[encoded data removed]"
          },
          "metadata": {
            "image/png": {
              "width": 420,
              "height": 420
            }
          }
        }
      ]
    },
    {
      "cell_type": "markdown",
      "source": [
        "We can see that the damage_grade variable is a categorical variable. It represents the level of damage suffered by the building affected by the earthquake. \n",
        "\n",
        "There are three levels of damage:\n",
        "\n",
        "* 1 = represents a low level of damage\n",
        "* 2 = represents a medium level of damage\n",
        "* 3 = represents almost complete destruction"
      ],
      "metadata": {
        "id": "Am1JVarep4so"
      },
      "id": "Am1JVarep4so"
    },
    {
      "cell_type": "code",
      "execution_count": 8,
      "id": "e17f16dc",
      "metadata": {
        "id": "e17f16dc",
        "colab": {
          "base_uri": "https://localhost:8080/"
        },
        "outputId": "ed8b25b2-a5db-4ef5-e46d-256bd401736d"
      },
      "outputs": [
        {
          "output_type": "stream",
          "name": "stdout",
          "text": [
            "'data.frame':\t260601 obs. of  39 variables:\n",
            " $ building_id                           : int  802906 28830 94947 590882 201944 333020 728451 475515 441126 989500 ...\n",
            " $ geo_level_1_id                        : int  6 8 21 22 11 8 9 20 0 26 ...\n",
            " $ geo_level_2_id                        : int  487 900 363 418 131 558 475 323 757 886 ...\n",
            " $ geo_level_3_id                        : int  12198 2812 8973 10694 1488 6089 12066 12236 7219 994 ...\n",
            " $ count_floors_pre_eq                   : int  2 2 2 2 3 2 2 2 2 1 ...\n",
            " $ age                                   : int  30 10 10 10 30 10 25 0 15 0 ...\n",
            " $ area_percentage                       : int  6 8 5 6 8 9 3 8 8 13 ...\n",
            " $ height_percentage                     : int  5 7 5 5 9 5 4 6 6 4 ...\n",
            " $ land_surface_condition                : Factor w/ 3 levels \"n\",\"o\",\"t\": 3 2 3 3 3 3 1 3 3 3 ...\n",
            " $ foundation_type                       : Factor w/ 5 levels \"h\",\"i\",\"r\",\"u\",..: 3 3 3 3 3 3 3 5 3 2 ...\n",
            " $ roof_type                             : Factor w/ 3 levels \"n\",\"q\",\"x\": 1 1 1 1 1 1 1 2 2 1 ...\n",
            " $ ground_floor_type                     : Factor w/ 5 levels \"f\",\"m\",\"v\",\"x\",..: 1 4 1 1 1 1 4 3 1 3 ...\n",
            " $ other_floor_type                      : Factor w/ 4 levels \"j\",\"q\",\"s\",\"x\": 2 2 4 4 4 2 2 4 2 1 ...\n",
            " $ position                              : Factor w/ 4 levels \"j\",\"o\",\"s\",\"t\": 4 3 4 3 3 3 3 3 3 3 ...\n",
            " $ plan_configuration                    : Factor w/ 10 levels \"a\",\"c\",\"d\",\"f\",..: 3 3 3 3 3 3 3 10 3 3 ...\n",
            " $ has_superstructure_adobe_mud          : int  1 0 0 0 1 0 0 0 0 0 ...\n",
            " $ has_superstructure_mud_mortar_stone   : int  1 1 1 1 0 1 1 0 1 0 ...\n",
            " $ has_superstructure_stone_flag         : int  0 0 0 0 0 0 0 0 0 0 ...\n",
            " $ has_superstructure_cement_mortar_stone: int  0 0 0 0 0 0 0 0 0 0 ...\n",
            " $ has_superstructure_mud_mortar_brick   : int  0 0 0 0 0 0 0 0 0 0 ...\n",
            " $ has_superstructure_cement_mortar_brick: int  0 0 0 0 0 0 0 1 0 1 ...\n",
            " $ has_superstructure_timber             : int  0 0 0 1 0 0 0 1 1 0 ...\n",
            " $ has_superstructure_bamboo             : int  0 0 0 1 0 0 0 0 0 0 ...\n",
            " $ has_superstructure_rc_non_engineered  : int  0 0 0 0 0 0 0 0 0 0 ...\n",
            " $ has_superstructure_rc_engineered      : int  0 0 0 0 0 0 0 0 0 0 ...\n",
            " $ has_superstructure_other              : int  0 0 0 0 0 0 0 0 0 0 ...\n",
            " $ legal_ownership_status                : Factor w/ 4 levels \"a\",\"r\",\"v\",\"w\": 3 3 3 3 3 3 3 3 3 3 ...\n",
            " $ count_families                        : int  1 1 1 1 1 1 1 1 1 1 ...\n",
            " $ has_secondary_use                     : int  0 0 0 0 0 1 0 0 0 0 ...\n",
            " $ has_secondary_use_agriculture         : int  0 0 0 0 0 1 0 0 0 0 ...\n",
            " $ has_secondary_use_hotel               : int  0 0 0 0 0 0 0 0 0 0 ...\n",
            " $ has_secondary_use_rental              : int  0 0 0 0 0 0 0 0 0 0 ...\n",
            " $ has_secondary_use_institution         : int  0 0 0 0 0 0 0 0 0 0 ...\n",
            " $ has_secondary_use_school              : int  0 0 0 0 0 0 0 0 0 0 ...\n",
            " $ has_secondary_use_industry            : int  0 0 0 0 0 0 0 0 0 0 ...\n",
            " $ has_secondary_use_health_post         : int  0 0 0 0 0 0 0 0 0 0 ...\n",
            " $ has_secondary_use_gov_office          : int  0 0 0 0 0 0 0 0 0 0 ...\n",
            " $ has_secondary_use_use_police          : int  0 0 0 0 0 0 0 0 0 0 ...\n",
            " $ has_secondary_use_other               : int  0 0 0 0 0 0 0 0 0 0 ...\n"
          ]
        }
      ],
      "source": [
        "str(train_features)"
      ]
    },
    {
      "cell_type": "code",
      "execution_count": 9,
      "id": "e1525f32",
      "metadata": {
        "id": "e1525f32",
        "colab": {
          "base_uri": "https://localhost:8080/"
        },
        "outputId": "5ae68a06-ebb7-43ae-c312-e2f7a32fa965"
      },
      "outputs": [
        {
          "output_type": "stream",
          "name": "stdout",
          "text": [
            "'data.frame':\t86868 obs. of  39 variables:\n",
            " $ building_id                           : int  300051 99355 890251 745817 421793 871976 691228 896100 343471 766647 ...\n",
            " $ geo_level_1_id                        : int  17 6 22 26 17 22 26 8 16 26 ...\n",
            " $ geo_level_2_id                        : int  596 141 19 39 289 170 432 1373 244 761 ...\n",
            " $ geo_level_3_id                        : int  11307 11987 10044 633 7970 4029 6794 958 3521 3137 ...\n",
            " $ count_floors_pre_eq                   : int  3 2 2 1 3 1 2 2 2 2 ...\n",
            " $ age                                   : int  20 25 5 0 15 55 0 35 30 5 ...\n",
            " $ area_percentage                       : int  7 13 4 19 8 4 6 2 6 6 ...\n",
            " $ height_percentage                     : int  6 5 5 3 7 3 7 8 5 7 ...\n",
            " $ land_surface_condition                : Factor w/ 3 levels \"n\",\"o\",\"t\": 3 3 3 3 3 3 1 3 3 1 ...\n",
            " $ foundation_type                       : Factor w/ 5 levels \"h\",\"i\",\"r\",\"u\",..: 3 3 3 3 3 3 3 3 3 3 ...\n",
            " $ roof_type                             : Factor w/ 3 levels \"n\",\"q\",\"x\": 1 1 1 3 2 2 1 1 1 1 ...\n",
            " $ ground_floor_type                     : Factor w/ 5 levels \"f\",\"m\",\"v\",\"x\",..: 1 1 1 3 1 1 3 1 1 1 ...\n",
            " $ other_floor_type                      : Factor w/ 4 levels \"j\",\"q\",\"s\",\"x\": 2 2 2 1 2 1 4 2 4 4 ...\n",
            " $ position                              : Factor w/ 4 levels \"j\",\"o\",\"s\",\"t\": 3 3 3 4 4 3 3 3 3 3 ...\n",
            " $ plan_configuration                    : Factor w/ 10 levels \"a\",\"c\",\"d\",\"f\",..: 3 3 3 3 3 3 3 3 3 3 ...\n",
            " $ has_superstructure_adobe_mud          : int  0 0 0 0 0 0 0 0 0 0 ...\n",
            " $ has_superstructure_mud_mortar_stone   : int  1 1 1 0 1 1 0 1 1 1 ...\n",
            " $ has_superstructure_stone_flag         : int  0 0 0 0 0 0 0 0 0 0 ...\n",
            " $ has_superstructure_cement_mortar_stone: int  0 0 0 0 0 0 0 0 0 0 ...\n",
            " $ has_superstructure_mud_mortar_brick   : int  0 0 0 0 0 0 0 0 0 0 ...\n",
            " $ has_superstructure_cement_mortar_brick: int  0 0 0 1 0 0 1 0 0 0 ...\n",
            " $ has_superstructure_timber             : int  0 0 0 0 0 0 0 0 0 1 ...\n",
            " $ has_superstructure_bamboo             : int  0 0 0 0 0 0 0 0 0 1 ...\n",
            " $ has_superstructure_rc_non_engineered  : int  0 0 0 0 0 0 0 0 0 0 ...\n",
            " $ has_superstructure_rc_engineered      : int  0 0 0 0 0 0 0 0 0 0 ...\n",
            " $ has_superstructure_other              : int  0 0 0 0 0 0 1 0 0 0 ...\n",
            " $ legal_ownership_status                : Factor w/ 4 levels \"a\",\"r\",\"v\",\"w\": 3 3 3 3 3 3 3 3 3 3 ...\n",
            " $ count_families                        : int  1 1 1 2 1 1 1 0 1 1 ...\n",
            " $ has_secondary_use                     : int  0 1 0 1 0 0 0 0 0 0 ...\n",
            " $ has_secondary_use_agriculture         : int  0 1 0 0 0 0 0 0 0 0 ...\n",
            " $ has_secondary_use_hotel               : int  0 0 0 0 0 0 0 0 0 0 ...\n",
            " $ has_secondary_use_rental              : int  0 0 0 1 0 0 0 0 0 0 ...\n",
            " $ has_secondary_use_institution         : int  0 0 0 0 0 0 0 0 0 0 ...\n",
            " $ has_secondary_use_school              : int  0 0 0 0 0 0 0 0 0 0 ...\n",
            " $ has_secondary_use_industry            : int  0 0 0 0 0 0 0 0 0 0 ...\n",
            " $ has_secondary_use_health_post         : int  0 0 0 0 0 0 0 0 0 0 ...\n",
            " $ has_secondary_use_gov_office          : int  0 0 0 0 0 0 0 0 0 0 ...\n",
            " $ has_secondary_use_use_police          : int  0 0 0 0 0 0 0 0 0 0 ...\n",
            " $ has_secondary_use_other               : int  0 0 0 0 0 0 0 0 0 0 ...\n"
          ]
        }
      ],
      "source": [
        "str(test_features)"
      ]
    },
    {
      "cell_type": "markdown",
      "source": [
        "To process this data, we need to know what types of data we have. The get_var_type function allows us to check the existence of categorical, numerical and binary variables in our datasets. We can observe that we have \n",
        "* 8 categorical variables in total, which can take several characteristic values, \n",
        "* 22 binary variables (0 and 1), and finally \n",
        "* 9 numerical variables which represent integers."
      ],
      "metadata": {
        "id": "W6NdiM2HvNOV"
      },
      "id": "W6NdiM2HvNOV"
    },
    {
      "cell_type": "code",
      "execution_count": 10,
      "id": "fbeb5f53",
      "metadata": {
        "id": "fbeb5f53",
        "colab": {
          "base_uri": "https://localhost:8080/",
          "height": 127
        },
        "outputId": "69340d9a-bd63-4241-9506-beffa19e589e"
      },
      "outputs": [
        {
          "output_type": "display_data",
          "data": {
            "text/plain": [
              "var_types\n",
              "     Binary Categorical   Numerical \n",
              "         22           8           9 "
            ]
          },
          "metadata": {}
        },
        {
          "output_type": "display_data",
          "data": {
            "text/plain": [
              "var_types_test\n",
              "     Binary Categorical   Numerical \n",
              "         22           8           9 "
            ]
          },
          "metadata": {}
        }
      ],
      "source": [
        "get_var_type <- function(x) {\n",
        "  if (is.factor(x)) {\n",
        "    return(\"Categorical\")\n",
        "  } else if (length(unique(x)) == 2) {\n",
        "    return(\"Binary\")\n",
        "  } else {\n",
        "    return(\"Numerical\")\n",
        "  }\n",
        "}\n",
        "\n",
        "var_info <- data.frame(variable = names(train_features),\n",
        "                       var_type = sapply(train_features, get_var_type),\n",
        "                       count = sapply(train_features, function(x) length(unique(x))))\n",
        "\n",
        "var_types <- sapply(train_features, get_var_type)\n",
        "type_counts <- table(var_types)\n",
        "type_counts\n",
        "\n",
        "var_info_test <- data.frame(variable = names(test_features),\n",
        "                       var_type = sapply(test_features, get_var_type),\n",
        "                       count = sapply(test_features, function(x) length(unique(x))))\n",
        "\n",
        "var_types_test <- sapply(test_features, get_var_type)\n",
        "type_counts_test <- table(var_types_test)\n",
        "type_counts_test\n"
      ]
    },
    {
      "cell_type": "code",
      "source": [
        "get_var_type <- function(x) {\n",
        "  if (is.factor(x)) {\n",
        "    return(\"Categorical\")\n",
        "  } else if (length(unique(x)) == 2) {\n",
        "    return(\"Binary\")\n",
        "  } else {\n",
        "    return(\"Numerical\")\n",
        "  }\n",
        "}\n",
        "\n",
        "var_types <- sapply(train_features, get_var_type)\n",
        "\n",
        "categorical_indices <- which(var_types == \"Categorical\")\n",
        "binary_indices <- which(var_types == \"Binary\")\n",
        "numeric_indices <- which(var_types == \"Numerical\")\n",
        "categorical_variables <- names(train_features)[categorical_indices]\n",
        "binary_variables <- names(train_features)[binary_indices]\n",
        "numeric_variables <- names(train_features)[numeric_indices]\n",
        "cat(\"Categorical variables:\\n\")\n",
        "print(categorical_variables)\n",
        "\n",
        "cat(\"Binary variables:\\n\")\n",
        "print(binary_variables)\n",
        "\n",
        "cat(\"Numeric variables:\\n\")\n",
        "print(numeric_variables)"
      ],
      "metadata": {
        "id": "tOB9YCVEutYv",
        "colab": {
          "base_uri": "https://localhost:8080/"
        },
        "outputId": "d9a95a42-7667-4c6a-bc04-a1335420a5de"
      },
      "id": "tOB9YCVEutYv",
      "execution_count": 11,
      "outputs": [
        {
          "output_type": "stream",
          "name": "stdout",
          "text": [
            "Categorical variables:\n",
            "[1] \"land_surface_condition\" \"foundation_type\"        \"roof_type\"             \n",
            "[4] \"ground_floor_type\"      \"other_floor_type\"       \"position\"              \n",
            "[7] \"plan_configuration\"     \"legal_ownership_status\"\n",
            "Binary variables:\n",
            " [1] \"has_superstructure_adobe_mud\"          \n",
            " [2] \"has_superstructure_mud_mortar_stone\"   \n",
            " [3] \"has_superstructure_stone_flag\"         \n",
            " [4] \"has_superstructure_cement_mortar_stone\"\n",
            " [5] \"has_superstructure_mud_mortar_brick\"   \n",
            " [6] \"has_superstructure_cement_mortar_brick\"\n",
            " [7] \"has_superstructure_timber\"             \n",
            " [8] \"has_superstructure_bamboo\"             \n",
            " [9] \"has_superstructure_rc_non_engineered\"  \n",
            "[10] \"has_superstructure_rc_engineered\"      \n",
            "[11] \"has_superstructure_other\"              \n",
            "[12] \"has_secondary_use\"                     \n",
            "[13] \"has_secondary_use_agriculture\"         \n",
            "[14] \"has_secondary_use_hotel\"               \n",
            "[15] \"has_secondary_use_rental\"              \n",
            "[16] \"has_secondary_use_institution\"         \n",
            "[17] \"has_secondary_use_school\"              \n",
            "[18] \"has_secondary_use_industry\"            \n",
            "[19] \"has_secondary_use_health_post\"         \n",
            "[20] \"has_secondary_use_gov_office\"          \n",
            "[21] \"has_secondary_use_use_police\"          \n",
            "[22] \"has_secondary_use_other\"               \n",
            "Numeric variables:\n",
            "[1] \"building_id\"         \"geo_level_1_id\"      \"geo_level_2_id\"     \n",
            "[4] \"geo_level_3_id\"      \"count_floors_pre_eq\" \"age\"                \n",
            "[7] \"area_percentage\"     \"height_percentage\"   \"count_families\"     \n"
          ]
        }
      ]
    },
    {
      "cell_type": "code",
      "source": [
        "var_types_df <- data.frame(\n",
        "  Type = c(\"Binary\", \"Categorical\", \"Numerical\"),\n",
        "  Count = c(22, 8, 9)\n",
        ")\n",
        "\n",
        "ggplot(var_types_df, aes(x = Type, y = Count, fill = Type)) +\n",
        "  geom_bar(stat = \"identity\", width = 0.5) +\n",
        "  theme_minimal() +\n",
        "  labs(title = \"Number of variables per type\", x = \"Type of variable\", y = \"Number of variables\") +\n",
        "  scale_fill_discrete(name = \"Types of variables\") +\n",
        "  theme(legend.position = \"bottom\")"
      ],
      "metadata": {
        "id": "RmmN-UEyxYpO",
        "colab": {
          "base_uri": "https://localhost:8080/",
          "height": 437
        },
        "outputId": "8c295e35-11e1-45d3-cae1-6d5283d072be"
      },
      "id": "RmmN-UEyxYpO",
      "execution_count": 12,
      "outputs": [
        {
          "output_type": "display_data",
          "data": {
            "text/plain": [
              "plot without title"
            ],
            "image/png": "[encoded data removed]"
          },
          "metadata": {
            "image/png": {
              "width": 420,
              "height": 420
            }
          }
        }
      ]
    },
    {
      "cell_type": "markdown",
      "source": [
        "## Missing value imputation\n",
        "\n",
        "Our analysis and observations allow us to conclude that the data set contains no missing (MV) or unattributed (NA) values for the variables present. This means that the data are complete and that no imputation or method of handling missing values is necessary for our analysis. The absence of missing values is an advantage for our project, as it reduces the risk of introducing errors in the analysis and the predictive model. It also facilitates the data preparation process, as we can focus on other aspects such as feature selection, feature engineering and model building without having to worry about missing values."
      ],
      "metadata": {
        "id": "pC3cyomtyEst"
      },
      "id": "pC3cyomtyEst"
    },
    {
      "cell_type": "code",
      "source": [
        "missing_values <- sapply(train_features, function(x) sum(is.na(x)))\n",
        "print(missing_values)\n"
      ],
      "metadata": {
        "id": "TCPpPxMY0rGB",
        "colab": {
          "base_uri": "https://localhost:8080/"
        },
        "outputId": "4595e205-3348-4004-e484-26397af51f46"
      },
      "id": "TCPpPxMY0rGB",
      "execution_count": 13,
      "outputs": [
        {
          "output_type": "stream",
          "name": "stdout",
          "text": [
            "                           building_id                         geo_level_1_id \n",
            "                                     0                                      0 \n",
            "                        geo_level_2_id                         geo_level_3_id \n",
            "                                     0                                      0 \n",
            "                   count_floors_pre_eq                                    age \n",
            "                                     0                                      0 \n",
            "                       area_percentage                      height_percentage \n",
            "                                     0                                      0 \n",
            "                land_surface_condition                        foundation_type \n",
            "                                     0                                      0 \n",
            "                             roof_type                      ground_floor_type \n",
            "                                     0                                      0 \n",
            "                      other_floor_type                               position \n",
            "                                     0                                      0 \n",
            "                    plan_configuration           has_superstructure_adobe_mud \n",
            "                                     0                                      0 \n",
            "   has_superstructure_mud_mortar_stone          has_superstructure_stone_flag \n",
            "                                     0                                      0 \n",
            "has_superstructure_cement_mortar_stone    has_superstructure_mud_mortar_brick \n",
            "                                     0                                      0 \n",
            "has_superstructure_cement_mortar_brick              has_superstructure_timber \n",
            "                                     0                                      0 \n",
            "             has_superstructure_bamboo   has_superstructure_rc_non_engineered \n",
            "                                     0                                      0 \n",
            "      has_superstructure_rc_engineered               has_superstructure_other \n",
            "                                     0                                      0 \n",
            "                legal_ownership_status                         count_families \n",
            "                                     0                                      0 \n",
            "                     has_secondary_use          has_secondary_use_agriculture \n",
            "                                     0                                      0 \n",
            "               has_secondary_use_hotel               has_secondary_use_rental \n",
            "                                     0                                      0 \n",
            "         has_secondary_use_institution               has_secondary_use_school \n",
            "                                     0                                      0 \n",
            "            has_secondary_use_industry          has_secondary_use_health_post \n",
            "                                     0                                      0 \n",
            "          has_secondary_use_gov_office           has_secondary_use_use_police \n",
            "                                     0                                      0 \n",
            "               has_secondary_use_other \n",
            "                                     0 \n"
          ]
        }
      ]
    },
    {
      "cell_type": "code",
      "source": [
        "dim(test_features) \n",
        "dim(na.omit(test_features))"
      ],
      "metadata": {
        "id": "fbtFpfhR1o30",
        "colab": {
          "base_uri": "https://localhost:8080/",
          "height": 52
        },
        "outputId": "4f737e8c-1605-41c6-bc31-b964f9e20a8f"
      },
      "id": "fbtFpfhR1o30",
      "execution_count": 14,
      "outputs": [
        {
          "output_type": "display_data",
          "data": {
            "text/html": [
              "<style>\n",
              ".list-inline {list-style: none; margin:0; padding: 0}\n",
              ".list-inline>li {display: inline-block}\n",
              ".list-inline>li:not(:last-child)::after {content: \"\\00b7\"; padding: 0 .5ex}\n",
              "</style>\n",
              "<ol class=list-inline><li>86868</li><li>39</li></ol>\n"
            ],
            "text/markdown": "1. 86868\n2. 39\n\n\n",
            "text/latex": "\\begin{enumerate*}\n\\item 86868\n\\item 39\n\\end{enumerate*}\n",
            "text/plain": [
              "[1] 86868    39"
            ]
          },
          "metadata": {}
        },
        {
          "output_type": "display_data",
          "data": {
            "text/html": [
              "<style>\n",
              ".list-inline {list-style: none; margin:0; padding: 0}\n",
              ".list-inline>li {display: inline-block}\n",
              ".list-inline>li:not(:last-child)::after {content: \"\\00b7\"; padding: 0 .5ex}\n",
              "</style>\n",
              "<ol class=list-inline><li>86868</li><li>39</li></ol>\n"
            ],
            "text/markdown": "1. 86868\n2. 39\n\n\n",
            "text/latex": "\\begin{enumerate*}\n\\item 86868\n\\item 39\n\\end{enumerate*}\n",
            "text/plain": [
              "[1] 86868    39"
            ]
          },
          "metadata": {}
        }
      ]
    },
    {
      "cell_type": "code",
      "source": [
        "dim(train_features) \n",
        "dim(na.omit(train_features))"
      ],
      "metadata": {
        "id": "N5JrZG651xto",
        "colab": {
          "base_uri": "https://localhost:8080/",
          "height": 52
        },
        "outputId": "e060979c-fa39-41f4-d05a-e7a97c6595d8"
      },
      "id": "N5JrZG651xto",
      "execution_count": 15,
      "outputs": [
        {
          "output_type": "display_data",
          "data": {
            "text/html": [
              "<style>\n",
              ".list-inline {list-style: none; margin:0; padding: 0}\n",
              ".list-inline>li {display: inline-block}\n",
              ".list-inline>li:not(:last-child)::after {content: \"\\00b7\"; padding: 0 .5ex}\n",
              "</style>\n",
              "<ol class=list-inline><li>260601</li><li>39</li></ol>\n"
            ],
            "text/markdown": "1. 260601\n2. 39\n\n\n",
            "text/latex": "\\begin{enumerate*}\n\\item 260601\n\\item 39\n\\end{enumerate*}\n",
            "text/plain": [
              "[1] 260601     39"
            ]
          },
          "metadata": {}
        },
        {
          "output_type": "display_data",
          "data": {
            "text/html": [
              "<style>\n",
              ".list-inline {list-style: none; margin:0; padding: 0}\n",
              ".list-inline>li {display: inline-block}\n",
              ".list-inline>li:not(:last-child)::after {content: \"\\00b7\"; padding: 0 .5ex}\n",
              "</style>\n",
              "<ol class=list-inline><li>260601</li><li>39</li></ol>\n"
            ],
            "text/markdown": "1. 260601\n2. 39\n\n\n",
            "text/latex": "\\begin{enumerate*}\n\\item 260601\n\\item 39\n\\end{enumerate*}\n",
            "text/plain": [
              "[1] 260601     39"
            ]
          },
          "metadata": {}
        }
      ]
    },
    {
      "cell_type": "code",
      "source": [],
      "metadata": {
        "id": "A4b3wtXJw_Ym"
      },
      "id": "A4b3wtXJw_Ym",
      "execution_count": 16,
      "outputs": []
    },
    {
      "cell_type": "markdown",
      "source": [
        "## feature engineering\n",
        "\n",
        "Feature engineering is the process of creating new features (variables) from existing data to improve the performance of machine learning models. This process can include transforming data, combining multiple features, extracting new information from existing data, or converting categorical data into numerical data or binary data. \n",
        "\n",
        "To improve the accuracy of the model we have created a new binary variable fragile_building to group the buildings that we consider as fragile according to the characteristics of the superstructure. \n",
        "\n",
        "For example, we consider fragile buildings as those with adobe/mud, mud mortar/stone or mud mortar/brick superstructures and the rest as non-fragile. \n",
        "\n",
        "\n",
        "*   if fragile_building == 1 then the buildings \n",
        "considered as fragile and 0 for the others"
      ],
      "metadata": {
        "id": "uVcJQaKKz25M"
      },
      "id": "uVcJQaKKz25M"
    },
    {
      "cell_type": "code",
      "source": [
        "# Initialiser une nouvelle colonne 'fragile_building' avec des zéros\n",
        "# Créer une nouvelle variable pour les bâtiments fragiles\n",
        "train_features$fragile_building <- as.integer(\n",
        "  train_features$has_superstructure_adobe_mud == 1 | \n",
        "  train_features$has_superstructure_mud_mortar_stone == 1 | \n",
        "  train_features$has_superstructure_mud_mortar_brick == 1\n",
        ")\n",
        "\n",
        "# Créer une nouvelle variable pour les bâtiments fragiles\n",
        "test_features$fragile_building <- as.integer(\n",
        "  test_features$has_superstructure_adobe_mud == 1 | \n",
        "  test_features$has_superstructure_mud_mortar_stone == 1 | \n",
        "  test_features$has_superstructure_mud_mortar_brick == 1\n",
        ")\n"
      ],
      "metadata": {
        "id": "os16_ftOMbXY"
      },
      "id": "os16_ftOMbXY",
      "execution_count": 17,
      "outputs": []
    },
    {
      "cell_type": "code",
      "source": [
        "# Créez une nouvelle colonne nommée \"relative_volume\" en multipliant area_percentage et height_percentage\n",
        "train_features$relative_volume <- train_features$area_percentage * train_features$height_percentage\n",
        "\n",
        "# Appliquez la même transformation à l'ensemble de données de test\n",
        "test_features$relative_volume <- test_features$area_percentage * test_features$height_percentage\n"
      ],
      "metadata": {
        "id": "HSKZ-AJl7xjd"
      },
      "id": "HSKZ-AJl7xjd",
      "execution_count": 18,
      "outputs": []
    },
    {
      "cell_type": "code",
      "source": [],
      "metadata": {
        "id": "UHLwEGNS8dji"
      },
      "id": "UHLwEGNS8dji",
      "execution_count": 19,
      "outputs": []
    },
    {
      "cell_type": "code",
      "source": [],
      "metadata": {
        "id": "e0XoDYnbT7kf"
      },
      "id": "e0XoDYnbT7kf",
      "execution_count": 20,
      "outputs": []
    },
    {
      "cell_type": "code",
      "source": [
        "# Rove building_id in train_data and test_data\n",
        "train_data <- subset(train_features, select = -building_id)\n",
        "test_data <- subset(test_features, select = -building_id)\n",
        "train_labels<- subset(train_labels, select = -building_id)\n",
        "dim(train_data)\n",
        "dim(test_data)\n",
        "dim(train_labels)"
      ],
      "metadata": {
        "id": "q1D8tiup9Z3L",
        "colab": {
          "base_uri": "https://localhost:8080/",
          "height": 69
        },
        "outputId": "06bbe83d-1a7d-453f-f33a-de89d5645007"
      },
      "id": "q1D8tiup9Z3L",
      "execution_count": 21,
      "outputs": [
        {
          "output_type": "display_data",
          "data": {
            "text/html": [
              "<style>\n",
              ".list-inline {list-style: none; margin:0; padding: 0}\n",
              ".list-inline>li {display: inline-block}\n",
              ".list-inline>li:not(:last-child)::after {content: \"\\00b7\"; padding: 0 .5ex}\n",
              "</style>\n",
              "<ol class=list-inline><li>260601</li><li>40</li></ol>\n"
            ],
            "text/markdown": "1. 260601\n2. 40\n\n\n",
            "text/latex": "\\begin{enumerate*}\n\\item 260601\n\\item 40\n\\end{enumerate*}\n",
            "text/plain": [
              "[1] 260601     40"
            ]
          },
          "metadata": {}
        },
        {
          "output_type": "display_data",
          "data": {
            "text/html": [
              "<style>\n",
              ".list-inline {list-style: none; margin:0; padding: 0}\n",
              ".list-inline>li {display: inline-block}\n",
              ".list-inline>li:not(:last-child)::after {content: \"\\00b7\"; padding: 0 .5ex}\n",
              "</style>\n",
              "<ol class=list-inline><li>86868</li><li>40</li></ol>\n"
            ],
            "text/markdown": "1. 86868\n2. 40\n\n\n",
            "text/latex": "\\begin{enumerate*}\n\\item 86868\n\\item 40\n\\end{enumerate*}\n",
            "text/plain": [
              "[1] 86868    40"
            ]
          },
          "metadata": {}
        },
        {
          "output_type": "display_data",
          "data": {
            "text/html": [
              "<style>\n",
              ".list-inline {list-style: none; margin:0; padding: 0}\n",
              ".list-inline>li {display: inline-block}\n",
              ".list-inline>li:not(:last-child)::after {content: \"\\00b7\"; padding: 0 .5ex}\n",
              "</style>\n",
              "<ol class=list-inline><li>260601</li><li>1</li></ol>\n"
            ],
            "text/markdown": "1. 260601\n2. 1\n\n\n",
            "text/latex": "\\begin{enumerate*}\n\\item 260601\n\\item 1\n\\end{enumerate*}\n",
            "text/plain": [
              "[1] 260601      1"
            ]
          },
          "metadata": {}
        }
      ]
    },
    {
      "cell_type": "code",
      "source": [],
      "metadata": {
        "id": "pfLdj-w5AD6Y"
      },
      "id": "pfLdj-w5AD6Y",
      "execution_count": 22,
      "outputs": []
    },
    {
      "cell_type": "code",
      "source": [
        "head(test_data)"
      ],
      "metadata": {
        "id": "DWZWaDu99aD6",
        "colab": {
          "base_uri": "https://localhost:8080/",
          "height": 306
        },
        "outputId": "e5bb04c2-38cf-495b-dac6-a9b936e59b03"
      },
      "id": "DWZWaDu99aD6",
      "execution_count": 23,
      "outputs": [
        {
          "output_type": "display_data",
          "data": {
            "text/html": [
              "<table class=\"dataframe\">\n",
              "<caption>A data.frame: 6 × 40</caption>\n",
              "<thead>\n",
              "\t<tr><th></th><th scope=col>geo_level_1_id</th><th scope=col>geo_level_2_id</th><th scope=col>geo_level_3_id</th><th scope=col>count_floors_pre_eq</th><th scope=col>age</th><th scope=col>area_percentage</th><th scope=col>height_percentage</th><th scope=col>land_surface_condition</th><th scope=col>foundation_type</th><th scope=col>roof_type</th><th scope=col>⋯</th><th scope=col>has_secondary_use_rental</th><th scope=col>has_secondary_use_institution</th><th scope=col>has_secondary_use_school</th><th scope=col>has_secondary_use_industry</th><th scope=col>has_secondary_use_health_post</th><th scope=col>has_secondary_use_gov_office</th><th scope=col>has_secondary_use_use_police</th><th scope=col>has_secondary_use_other</th><th scope=col>fragile_building</th><th scope=col>relative_volume</th></tr>\n",
              "\t<tr><th></th><th scope=col>&lt;int&gt;</th><th scope=col>&lt;int&gt;</th><th scope=col>&lt;int&gt;</th><th scope=col>&lt;int&gt;</th><th scope=col>&lt;int&gt;</th><th scope=col>&lt;int&gt;</th><th scope=col>&lt;int&gt;</th><th scope=col>&lt;fct&gt;</th><th scope=col>&lt;fct&gt;</th><th scope=col>&lt;fct&gt;</th><th scope=col>⋯</th><th scope=col>&lt;int&gt;</th><th scope=col>&lt;int&gt;</th><th scope=col>&lt;int&gt;</th><th scope=col>&lt;int&gt;</th><th scope=col>&lt;int&gt;</th><th scope=col>&lt;int&gt;</th><th scope=col>&lt;int&gt;</th><th scope=col>&lt;int&gt;</th><th scope=col>&lt;int&gt;</th><th scope=col>&lt;int&gt;</th></tr>\n",
              "</thead>\n",
              "<tbody>\n",
              "\t<tr><th scope=row>1</th><td>17</td><td>596</td><td>11307</td><td>3</td><td>20</td><td> 7</td><td>6</td><td>t</td><td>r</td><td>n</td><td>⋯</td><td>0</td><td>0</td><td>0</td><td>0</td><td>0</td><td>0</td><td>0</td><td>0</td><td>1</td><td>42</td></tr>\n",
              "\t<tr><th scope=row>2</th><td> 6</td><td>141</td><td>11987</td><td>2</td><td>25</td><td>13</td><td>5</td><td>t</td><td>r</td><td>n</td><td>⋯</td><td>0</td><td>0</td><td>0</td><td>0</td><td>0</td><td>0</td><td>0</td><td>0</td><td>1</td><td>65</td></tr>\n",
              "\t<tr><th scope=row>3</th><td>22</td><td> 19</td><td>10044</td><td>2</td><td> 5</td><td> 4</td><td>5</td><td>t</td><td>r</td><td>n</td><td>⋯</td><td>0</td><td>0</td><td>0</td><td>0</td><td>0</td><td>0</td><td>0</td><td>0</td><td>1</td><td>20</td></tr>\n",
              "\t<tr><th scope=row>4</th><td>26</td><td> 39</td><td>  633</td><td>1</td><td> 0</td><td>19</td><td>3</td><td>t</td><td>r</td><td>x</td><td>⋯</td><td>1</td><td>0</td><td>0</td><td>0</td><td>0</td><td>0</td><td>0</td><td>0</td><td>0</td><td>57</td></tr>\n",
              "\t<tr><th scope=row>5</th><td>17</td><td>289</td><td> 7970</td><td>3</td><td>15</td><td> 8</td><td>7</td><td>t</td><td>r</td><td>q</td><td>⋯</td><td>0</td><td>0</td><td>0</td><td>0</td><td>0</td><td>0</td><td>0</td><td>0</td><td>1</td><td>56</td></tr>\n",
              "\t<tr><th scope=row>6</th><td>22</td><td>170</td><td> 4029</td><td>1</td><td>55</td><td> 4</td><td>3</td><td>t</td><td>r</td><td>q</td><td>⋯</td><td>0</td><td>0</td><td>0</td><td>0</td><td>0</td><td>0</td><td>0</td><td>0</td><td>1</td><td>12</td></tr>\n",
              "</tbody>\n",
              "</table>\n"
            ],
            "text/markdown": "\nA data.frame: 6 × 40\n\n| <!--/--> | geo_level_1_id &lt;int&gt; | geo_level_2_id &lt;int&gt; | geo_level_3_id &lt;int&gt; | count_floors_pre_eq &lt;int&gt; | age &lt;int&gt; | area_percentage &lt;int&gt; | height_percentage &lt;int&gt; | land_surface_condition &lt;fct&gt; | foundation_type &lt;fct&gt; | roof_type &lt;fct&gt; | ⋯ ⋯ | has_secondary_use_rental &lt;int&gt; | has_secondary_use_institution &lt;int&gt; | has_secondary_use_school &lt;int&gt; | has_secondary_use_industry &lt;int&gt; | has_secondary_use_health_post &lt;int&gt; | has_secondary_use_gov_office &lt;int&gt; | has_secondary_use_use_police &lt;int&gt; | has_secondary_use_other &lt;int&gt; | fragile_building &lt;int&gt; | relative_volume &lt;int&gt; |\n|---|---|---|---|---|---|---|---|---|---|---|---|---|---|---|---|---|---|---|---|---|---|\n| 1 | 17 | 596 | 11307 | 3 | 20 |  7 | 6 | t | r | n | ⋯ | 0 | 0 | 0 | 0 | 0 | 0 | 0 | 0 | 1 | 42 |\n| 2 |  6 | 141 | 11987 | 2 | 25 | 13 | 5 | t | r | n | ⋯ | 0 | 0 | 0 | 0 | 0 | 0 | 0 | 0 | 1 | 65 |\n| 3 | 22 |  19 | 10044 | 2 |  5 |  4 | 5 | t | r | n | ⋯ | 0 | 0 | 0 | 0 | 0 | 0 | 0 | 0 | 1 | 20 |\n| 4 | 26 |  39 |   633 | 1 |  0 | 19 | 3 | t | r | x | ⋯ | 1 | 0 | 0 | 0 | 0 | 0 | 0 | 0 | 0 | 57 |\n| 5 | 17 | 289 |  7970 | 3 | 15 |  8 | 7 | t | r | q | ⋯ | 0 | 0 | 0 | 0 | 0 | 0 | 0 | 0 | 1 | 56 |\n| 6 | 22 | 170 |  4029 | 1 | 55 |  4 | 3 | t | r | q | ⋯ | 0 | 0 | 0 | 0 | 0 | 0 | 0 | 0 | 1 | 12 |\n\n",
            "text/latex": "A data.frame: 6 × 40\n\\begin{tabular}{r|lllllllllllllllllllll}\n  & geo\\_level\\_1\\_id & geo\\_level\\_2\\_id & geo\\_level\\_3\\_id & count\\_floors\\_pre\\_eq & age & area\\_percentage & height\\_percentage & land\\_surface\\_condition & foundation\\_type & roof\\_type & ⋯ & has\\_secondary\\_use\\_rental & has\\_secondary\\_use\\_institution & has\\_secondary\\_use\\_school & has\\_secondary\\_use\\_industry & has\\_secondary\\_use\\_health\\_post & has\\_secondary\\_use\\_gov\\_office & has\\_secondary\\_use\\_use\\_police & has\\_secondary\\_use\\_other & fragile\\_building & relative\\_volume\\\\\n  & <int> & <int> & <int> & <int> & <int> & <int> & <int> & <fct> & <fct> & <fct> & ⋯ & <int> & <int> & <int> & <int> & <int> & <int> & <int> & <int> & <int> & <int>\\\\\n\\hline\n\t1 & 17 & 596 & 11307 & 3 & 20 &  7 & 6 & t & r & n & ⋯ & 0 & 0 & 0 & 0 & 0 & 0 & 0 & 0 & 1 & 42\\\\\n\t2 &  6 & 141 & 11987 & 2 & 25 & 13 & 5 & t & r & n & ⋯ & 0 & 0 & 0 & 0 & 0 & 0 & 0 & 0 & 1 & 65\\\\\n\t3 & 22 &  19 & 10044 & 2 &  5 &  4 & 5 & t & r & n & ⋯ & 0 & 0 & 0 & 0 & 0 & 0 & 0 & 0 & 1 & 20\\\\\n\t4 & 26 &  39 &   633 & 1 &  0 & 19 & 3 & t & r & x & ⋯ & 1 & 0 & 0 & 0 & 0 & 0 & 0 & 0 & 0 & 57\\\\\n\t5 & 17 & 289 &  7970 & 3 & 15 &  8 & 7 & t & r & q & ⋯ & 0 & 0 & 0 & 0 & 0 & 0 & 0 & 0 & 1 & 56\\\\\n\t6 & 22 & 170 &  4029 & 1 & 55 &  4 & 3 & t & r & q & ⋯ & 0 & 0 & 0 & 0 & 0 & 0 & 0 & 0 & 1 & 12\\\\\n\\end{tabular}\n",
            "text/plain": [
              "  geo_level_1_id geo_level_2_id geo_level_3_id count_floors_pre_eq age\n",
              "1 17             596            11307          3                   20 \n",
              "2  6             141            11987          2                   25 \n",
              "3 22              19            10044          2                    5 \n",
              "4 26              39              633          1                    0 \n",
              "5 17             289             7970          3                   15 \n",
              "6 22             170             4029          1                   55 \n",
              "  area_percentage height_percentage land_surface_condition foundation_type\n",
              "1  7              6                 t                      r              \n",
              "2 13              5                 t                      r              \n",
              "3  4              5                 t                      r              \n",
              "4 19              3                 t                      r              \n",
              "5  8              7                 t                      r              \n",
              "6  4              3                 t                      r              \n",
              "  roof_type ⋯ has_secondary_use_rental has_secondary_use_institution\n",
              "1 n         ⋯ 0                        0                            \n",
              "2 n         ⋯ 0                        0                            \n",
              "3 n         ⋯ 0                        0                            \n",
              "4 x         ⋯ 1                        0                            \n",
              "5 q         ⋯ 0                        0                            \n",
              "6 q         ⋯ 0                        0                            \n",
              "  has_secondary_use_school has_secondary_use_industry\n",
              "1 0                        0                         \n",
              "2 0                        0                         \n",
              "3 0                        0                         \n",
              "4 0                        0                         \n",
              "5 0                        0                         \n",
              "6 0                        0                         \n",
              "  has_secondary_use_health_post has_secondary_use_gov_office\n",
              "1 0                             0                           \n",
              "2 0                             0                           \n",
              "3 0                             0                           \n",
              "4 0                             0                           \n",
              "5 0                             0                           \n",
              "6 0                             0                           \n",
              "  has_secondary_use_use_police has_secondary_use_other fragile_building\n",
              "1 0                            0                       1               \n",
              "2 0                            0                       1               \n",
              "3 0                            0                       1               \n",
              "4 0                            0                       0               \n",
              "5 0                            0                       1               \n",
              "6 0                            0                       1               \n",
              "  relative_volume\n",
              "1 42             \n",
              "2 65             \n",
              "3 20             \n",
              "4 57             \n",
              "5 56             \n",
              "6 12             "
            ]
          },
          "metadata": {}
        }
      ]
    },
    {
      "cell_type": "markdown",
      "source": [
        "## Encoding data \n",
        "The goal of converting categorical values to numeric values is to make them compatible with machine learning algorithms, which typically work with numerical data. Two common strategies for doing so are integer encoding and one-hot encoding.\n",
        "\n",
        "*  Integer encoding: In integer encoding, each unique category within a categorical variable is assigned a unique integer.This method is straightforward, but it implies an ordinal relationship between categories, which may not always be appropriate.\n",
        "\n",
        "*  One-hot encoding: One-hot encoding creates binary (0 or 1) features for each unique category within a categorical variable. Each category is represented by a separate feature (or column) in the dataset.One-hot encoding does not imply any ordinal relationship between categories, which can be advantageous when working with categorical variables without a natural order.One of the main drawbacks of one-hot encoding is that it can greatly increase the number of variables in the dataset, which can become problematic when dealing with large or high-dimensional datasets.\n",
        "\n",
        "Our datasets have 8 categorical variables and on average 5 categories each. Although one hot encoding increases the dimensionality of the variables its use in this project is quite reasonable as the number of categories in each variable is not too high. One-hot encoding will create a new binary variable for each possible category, which should not result in an excessive number of new variables (40 variables in total as each categorical variable has 5 categories on average). "
      ],
      "metadata": {
        "id": "jKVMkfzmCMdP"
      },
      "id": "jKVMkfzmCMdP"
    },
    {
      "cell_type": "code",
      "source": [
        "# function to encoding\n",
        "onehot_encoding <- function(df) {\n",
        "  for (colname in colnames(df)) {\n",
        "    if (class(df[[colname]]) == \"factor\") {\n",
        "      #cat(\"Encodage one-hot pour la colonne\", colname, \"\\n\")\n",
        "      dummy_cols <- model.matrix(~ df[[colname]] - 1) # \n",
        "      colnames(dummy_cols) <- paste(colname, levels(df[[colname]]), sep=\"_\") \n",
        "      df <- cbind(df, dummy_cols) # Add the binary coluim dataframe\n",
        "      df[[colname]] <- NULL # delete the last categ\n",
        "    }\n",
        "  }\n",
        "  return(df)\n",
        "}"
      ],
      "metadata": {
        "id": "OB6BKANtJCBK"
      },
      "id": "OB6BKANtJCBK",
      "execution_count": 24,
      "outputs": []
    },
    {
      "cell_type": "code",
      "source": [
        "encoded_train_data <- onehot_encoding(train_data)\n",
        "encoded_test_features <- onehot_encoding(test_data)\n",
        "\n",
        "dim(encoded_train_data)\n",
        "dim(encoded_test_features)\n",
        "N<-nrow(encoded_train_data)\n",
        "n<-ncol(encoded_test_features)\n",
        "n"
      ],
      "metadata": {
        "id": "VaiLAyK0Je58",
        "colab": {
          "base_uri": "https://localhost:8080/",
          "height": 69
        },
        "outputId": "640ae149-cceb-46d1-ccba-3f3702a429bb"
      },
      "id": "VaiLAyK0Je58",
      "execution_count": 25,
      "outputs": [
        {
          "output_type": "display_data",
          "data": {
            "text/html": [
              "<style>\n",
              ".list-inline {list-style: none; margin:0; padding: 0}\n",
              ".list-inline>li {display: inline-block}\n",
              ".list-inline>li:not(:last-child)::after {content: \"\\00b7\"; padding: 0 .5ex}\n",
              "</style>\n",
              "<ol class=list-inline><li>260601</li><li>70</li></ol>\n"
            ],
            "text/markdown": "1. 260601\n2. 70\n\n\n",
            "text/latex": "\\begin{enumerate*}\n\\item 260601\n\\item 70\n\\end{enumerate*}\n",
            "text/plain": [
              "[1] 260601     70"
            ]
          },
          "metadata": {}
        },
        {
          "output_type": "display_data",
          "data": {
            "text/html": [
              "<style>\n",
              ".list-inline {list-style: none; margin:0; padding: 0}\n",
              ".list-inline>li {display: inline-block}\n",
              ".list-inline>li:not(:last-child)::after {content: \"\\00b7\"; padding: 0 .5ex}\n",
              "</style>\n",
              "<ol class=list-inline><li>86868</li><li>70</li></ol>\n"
            ],
            "text/markdown": "1. 86868\n2. 70\n\n\n",
            "text/latex": "\\begin{enumerate*}\n\\item 86868\n\\item 70\n\\end{enumerate*}\n",
            "text/plain": [
              "[1] 86868    70"
            ]
          },
          "metadata": {}
        },
        {
          "output_type": "display_data",
          "data": {
            "text/html": [
              "70"
            ],
            "text/markdown": "70",
            "text/latex": "70",
            "text/plain": [
              "[1] 70"
            ]
          },
          "metadata": {}
        }
      ]
    },
    {
      "cell_type": "code",
      "source": [
        "head(encoded_test_features)"
      ],
      "metadata": {
        "id": "76DWU0ZHLMoy",
        "colab": {
          "base_uri": "https://localhost:8080/",
          "height": 306
        },
        "outputId": "5e6eae3d-200e-44bc-8222-c7cff9be08b5"
      },
      "id": "76DWU0ZHLMoy",
      "execution_count": 26,
      "outputs": [
        {
          "output_type": "display_data",
          "data": {
            "text/html": [
              "<table class=\"dataframe\">\n",
              "<caption>A data.frame: 6 × 70</caption>\n",
              "<thead>\n",
              "\t<tr><th></th><th scope=col>geo_level_1_id</th><th scope=col>geo_level_2_id</th><th scope=col>geo_level_3_id</th><th scope=col>count_floors_pre_eq</th><th scope=col>age</th><th scope=col>area_percentage</th><th scope=col>height_percentage</th><th scope=col>has_superstructure_adobe_mud</th><th scope=col>has_superstructure_mud_mortar_stone</th><th scope=col>has_superstructure_stone_flag</th><th scope=col>⋯</th><th scope=col>plan_configuration_m</th><th scope=col>plan_configuration_n</th><th scope=col>plan_configuration_o</th><th scope=col>plan_configuration_q</th><th scope=col>plan_configuration_s</th><th scope=col>plan_configuration_u</th><th scope=col>legal_ownership_status_a</th><th scope=col>legal_ownership_status_r</th><th scope=col>legal_ownership_status_v</th><th scope=col>legal_ownership_status_w</th></tr>\n",
              "\t<tr><th></th><th scope=col>&lt;int&gt;</th><th scope=col>&lt;int&gt;</th><th scope=col>&lt;int&gt;</th><th scope=col>&lt;int&gt;</th><th scope=col>&lt;int&gt;</th><th scope=col>&lt;int&gt;</th><th scope=col>&lt;int&gt;</th><th scope=col>&lt;int&gt;</th><th scope=col>&lt;int&gt;</th><th scope=col>&lt;int&gt;</th><th scope=col>⋯</th><th scope=col>&lt;dbl&gt;</th><th scope=col>&lt;dbl&gt;</th><th scope=col>&lt;dbl&gt;</th><th scope=col>&lt;dbl&gt;</th><th scope=col>&lt;dbl&gt;</th><th scope=col>&lt;dbl&gt;</th><th scope=col>&lt;dbl&gt;</th><th scope=col>&lt;dbl&gt;</th><th scope=col>&lt;dbl&gt;</th><th scope=col>&lt;dbl&gt;</th></tr>\n",
              "</thead>\n",
              "<tbody>\n",
              "\t<tr><th scope=row>1</th><td>17</td><td>596</td><td>11307</td><td>3</td><td>20</td><td> 7</td><td>6</td><td>0</td><td>1</td><td>0</td><td>⋯</td><td>0</td><td>0</td><td>0</td><td>0</td><td>0</td><td>0</td><td>0</td><td>0</td><td>1</td><td>0</td></tr>\n",
              "\t<tr><th scope=row>2</th><td> 6</td><td>141</td><td>11987</td><td>2</td><td>25</td><td>13</td><td>5</td><td>0</td><td>1</td><td>0</td><td>⋯</td><td>0</td><td>0</td><td>0</td><td>0</td><td>0</td><td>0</td><td>0</td><td>0</td><td>1</td><td>0</td></tr>\n",
              "\t<tr><th scope=row>3</th><td>22</td><td> 19</td><td>10044</td><td>2</td><td> 5</td><td> 4</td><td>5</td><td>0</td><td>1</td><td>0</td><td>⋯</td><td>0</td><td>0</td><td>0</td><td>0</td><td>0</td><td>0</td><td>0</td><td>0</td><td>1</td><td>0</td></tr>\n",
              "\t<tr><th scope=row>4</th><td>26</td><td> 39</td><td>  633</td><td>1</td><td> 0</td><td>19</td><td>3</td><td>0</td><td>0</td><td>0</td><td>⋯</td><td>0</td><td>0</td><td>0</td><td>0</td><td>0</td><td>0</td><td>0</td><td>0</td><td>1</td><td>0</td></tr>\n",
              "\t<tr><th scope=row>5</th><td>17</td><td>289</td><td> 7970</td><td>3</td><td>15</td><td> 8</td><td>7</td><td>0</td><td>1</td><td>0</td><td>⋯</td><td>0</td><td>0</td><td>0</td><td>0</td><td>0</td><td>0</td><td>0</td><td>0</td><td>1</td><td>0</td></tr>\n",
              "\t<tr><th scope=row>6</th><td>22</td><td>170</td><td> 4029</td><td>1</td><td>55</td><td> 4</td><td>3</td><td>0</td><td>1</td><td>0</td><td>⋯</td><td>0</td><td>0</td><td>0</td><td>0</td><td>0</td><td>0</td><td>0</td><td>0</td><td>1</td><td>0</td></tr>\n",
              "</tbody>\n",
              "</table>\n"
            ],
            "text/markdown": "\nA data.frame: 6 × 70\n\n| <!--/--> | geo_level_1_id &lt;int&gt; | geo_level_2_id &lt;int&gt; | geo_level_3_id &lt;int&gt; | count_floors_pre_eq &lt;int&gt; | age &lt;int&gt; | area_percentage &lt;int&gt; | height_percentage &lt;int&gt; | has_superstructure_adobe_mud &lt;int&gt; | has_superstructure_mud_mortar_stone &lt;int&gt; | has_superstructure_stone_flag &lt;int&gt; | ⋯ ⋯ | plan_configuration_m &lt;dbl&gt; | plan_configuration_n &lt;dbl&gt; | plan_configuration_o &lt;dbl&gt; | plan_configuration_q &lt;dbl&gt; | plan_configuration_s &lt;dbl&gt; | plan_configuration_u &lt;dbl&gt; | legal_ownership_status_a &lt;dbl&gt; | legal_ownership_status_r &lt;dbl&gt; | legal_ownership_status_v &lt;dbl&gt; | legal_ownership_status_w &lt;dbl&gt; |\n|---|---|---|---|---|---|---|---|---|---|---|---|---|---|---|---|---|---|---|---|---|---|\n| 1 | 17 | 596 | 11307 | 3 | 20 |  7 | 6 | 0 | 1 | 0 | ⋯ | 0 | 0 | 0 | 0 | 0 | 0 | 0 | 0 | 1 | 0 |\n| 2 |  6 | 141 | 11987 | 2 | 25 | 13 | 5 | 0 | 1 | 0 | ⋯ | 0 | 0 | 0 | 0 | 0 | 0 | 0 | 0 | 1 | 0 |\n| 3 | 22 |  19 | 10044 | 2 |  5 |  4 | 5 | 0 | 1 | 0 | ⋯ | 0 | 0 | 0 | 0 | 0 | 0 | 0 | 0 | 1 | 0 |\n| 4 | 26 |  39 |   633 | 1 |  0 | 19 | 3 | 0 | 0 | 0 | ⋯ | 0 | 0 | 0 | 0 | 0 | 0 | 0 | 0 | 1 | 0 |\n| 5 | 17 | 289 |  7970 | 3 | 15 |  8 | 7 | 0 | 1 | 0 | ⋯ | 0 | 0 | 0 | 0 | 0 | 0 | 0 | 0 | 1 | 0 |\n| 6 | 22 | 170 |  4029 | 1 | 55 |  4 | 3 | 0 | 1 | 0 | ⋯ | 0 | 0 | 0 | 0 | 0 | 0 | 0 | 0 | 1 | 0 |\n\n",
            "text/latex": "A data.frame: 6 × 70\n\\begin{tabular}{r|lllllllllllllllllllll}\n  & geo\\_level\\_1\\_id & geo\\_level\\_2\\_id & geo\\_level\\_3\\_id & count\\_floors\\_pre\\_eq & age & area\\_percentage & height\\_percentage & has\\_superstructure\\_adobe\\_mud & has\\_superstructure\\_mud\\_mortar\\_stone & has\\_superstructure\\_stone\\_flag & ⋯ & plan\\_configuration\\_m & plan\\_configuration\\_n & plan\\_configuration\\_o & plan\\_configuration\\_q & plan\\_configuration\\_s & plan\\_configuration\\_u & legal\\_ownership\\_status\\_a & legal\\_ownership\\_status\\_r & legal\\_ownership\\_status\\_v & legal\\_ownership\\_status\\_w\\\\\n  & <int> & <int> & <int> & <int> & <int> & <int> & <int> & <int> & <int> & <int> & ⋯ & <dbl> & <dbl> & <dbl> & <dbl> & <dbl> & <dbl> & <dbl> & <dbl> & <dbl> & <dbl>\\\\\n\\hline\n\t1 & 17 & 596 & 11307 & 3 & 20 &  7 & 6 & 0 & 1 & 0 & ⋯ & 0 & 0 & 0 & 0 & 0 & 0 & 0 & 0 & 1 & 0\\\\\n\t2 &  6 & 141 & 11987 & 2 & 25 & 13 & 5 & 0 & 1 & 0 & ⋯ & 0 & 0 & 0 & 0 & 0 & 0 & 0 & 0 & 1 & 0\\\\\n\t3 & 22 &  19 & 10044 & 2 &  5 &  4 & 5 & 0 & 1 & 0 & ⋯ & 0 & 0 & 0 & 0 & 0 & 0 & 0 & 0 & 1 & 0\\\\\n\t4 & 26 &  39 &   633 & 1 &  0 & 19 & 3 & 0 & 0 & 0 & ⋯ & 0 & 0 & 0 & 0 & 0 & 0 & 0 & 0 & 1 & 0\\\\\n\t5 & 17 & 289 &  7970 & 3 & 15 &  8 & 7 & 0 & 1 & 0 & ⋯ & 0 & 0 & 0 & 0 & 0 & 0 & 0 & 0 & 1 & 0\\\\\n\t6 & 22 & 170 &  4029 & 1 & 55 &  4 & 3 & 0 & 1 & 0 & ⋯ & 0 & 0 & 0 & 0 & 0 & 0 & 0 & 0 & 1 & 0\\\\\n\\end{tabular}\n",
            "text/plain": [
              "  geo_level_1_id geo_level_2_id geo_level_3_id count_floors_pre_eq age\n",
              "1 17             596            11307          3                   20 \n",
              "2  6             141            11987          2                   25 \n",
              "3 22              19            10044          2                    5 \n",
              "4 26              39              633          1                    0 \n",
              "5 17             289             7970          3                   15 \n",
              "6 22             170             4029          1                   55 \n",
              "  area_percentage height_percentage has_superstructure_adobe_mud\n",
              "1  7              6                 0                           \n",
              "2 13              5                 0                           \n",
              "3  4              5                 0                           \n",
              "4 19              3                 0                           \n",
              "5  8              7                 0                           \n",
              "6  4              3                 0                           \n",
              "  has_superstructure_mud_mortar_stone has_superstructure_stone_flag ⋯\n",
              "1 1                                   0                             ⋯\n",
              "2 1                                   0                             ⋯\n",
              "3 1                                   0                             ⋯\n",
              "4 0                                   0                             ⋯\n",
              "5 1                                   0                             ⋯\n",
              "6 1                                   0                             ⋯\n",
              "  plan_configuration_m plan_configuration_n plan_configuration_o\n",
              "1 0                    0                    0                   \n",
              "2 0                    0                    0                   \n",
              "3 0                    0                    0                   \n",
              "4 0                    0                    0                   \n",
              "5 0                    0                    0                   \n",
              "6 0                    0                    0                   \n",
              "  plan_configuration_q plan_configuration_s plan_configuration_u\n",
              "1 0                    0                    0                   \n",
              "2 0                    0                    0                   \n",
              "3 0                    0                    0                   \n",
              "4 0                    0                    0                   \n",
              "5 0                    0                    0                   \n",
              "6 0                    0                    0                   \n",
              "  legal_ownership_status_a legal_ownership_status_r legal_ownership_status_v\n",
              "1 0                        0                        1                       \n",
              "2 0                        0                        1                       \n",
              "3 0                        0                        1                       \n",
              "4 0                        0                        1                       \n",
              "5 0                        0                        1                       \n",
              "6 0                        0                        1                       \n",
              "  legal_ownership_status_w\n",
              "1 0                       \n",
              "2 0                       \n",
              "3 0                       \n",
              "4 0                       \n",
              "5 0                       \n",
              "6 0                       "
            ]
          },
          "metadata": {}
        }
      ]
    },
    {
      "cell_type": "code",
      "source": [
        "summary(encoded_test_features)"
      ],
      "metadata": {
        "id": "19EXFuYJ8oNC",
        "colab": {
          "base_uri": "https://localhost:8080/",
          "height": 1000
        },
        "outputId": "ca612f3a-0cbd-4a43-c7ae-cf6800608cc0"
      },
      "id": "19EXFuYJ8oNC",
      "execution_count": 27,
      "outputs": [
        {
          "output_type": "display_data",
          "data": {
            "text/plain": [
              " geo_level_1_id  geo_level_2_id   geo_level_3_id  count_floors_pre_eq\n",
              " Min.   : 0.00   Min.   :   0.0   Min.   :    0   Min.   :1.000      \n",
              " 1st Qu.: 7.00   1st Qu.: 350.0   1st Qu.: 3073   1st Qu.:2.000      \n",
              " Median :12.00   Median : 709.0   Median : 6276   Median :2.000      \n",
              " Mean   :13.89   Mean   : 704.1   Mean   : 6262   Mean   :2.133      \n",
              " 3rd Qu.:21.00   3rd Qu.:1054.0   3rd Qu.: 9416   3rd Qu.:2.000      \n",
              " Max.   :30.00   Max.   :1427.0   Max.   :12567   Max.   :8.000      \n",
              "      age         area_percentage  height_percentage\n",
              " Min.   :  0.00   Min.   : 1.000   Min.   : 2.000   \n",
              " 1st Qu.: 10.00   1st Qu.: 5.000   1st Qu.: 4.000   \n",
              " Median : 15.00   Median : 7.000   Median : 5.000   \n",
              " Mean   : 26.55   Mean   : 8.014   Mean   : 5.436   \n",
              " 3rd Qu.: 30.00   3rd Qu.: 9.000   3rd Qu.: 6.000   \n",
              " Max.   :995.00   Max.   :92.000   Max.   :32.000   \n",
              " has_superstructure_adobe_mud has_superstructure_mud_mortar_stone\n",
              " Min.   :0.00000              Min.   :0.0000                     \n",
              " 1st Qu.:0.00000              1st Qu.:1.0000                     \n",
              " Median :0.00000              Median :1.0000                     \n",
              " Mean   :0.08995              Mean   :0.7625                     \n",
              " 3rd Qu.:0.00000              3rd Qu.:1.0000                     \n",
              " Max.   :1.00000              Max.   :1.0000                     \n",
              " has_superstructure_stone_flag has_superstructure_cement_mortar_stone\n",
              " Min.   :0.00000               Min.   :0.00000                       \n",
              " 1st Qu.:0.00000               1st Qu.:0.00000                       \n",
              " Median :0.00000               Median :0.00000                       \n",
              " Mean   :0.03447               Mean   :0.01857                       \n",
              " 3rd Qu.:0.00000               3rd Qu.:0.00000                       \n",
              " Max.   :1.00000               Max.   :1.00000                       \n",
              " has_superstructure_mud_mortar_brick has_superstructure_cement_mortar_brick\n",
              " Min.   :0.00000                     Min.   :0.00000                       \n",
              " 1st Qu.:0.00000                     1st Qu.:0.00000                       \n",
              " Median :0.00000                     Median :0.00000                       \n",
              " Mean   :0.06746                     Mean   :0.07384                       \n",
              " 3rd Qu.:0.00000                     3rd Qu.:0.00000                       \n",
              " Max.   :1.00000                     Max.   :1.00000                       \n",
              " has_superstructure_timber has_superstructure_bamboo\n",
              " Min.   :0.0000            Min.   :0.00000          \n",
              " 1st Qu.:0.0000            1st Qu.:0.00000          \n",
              " Median :0.0000            Median :0.00000          \n",
              " Mean   :0.2535            Mean   :0.08368          \n",
              " 3rd Qu.:1.0000            3rd Qu.:0.00000          \n",
              " Max.   :1.0000            Max.   :1.00000          \n",
              " has_superstructure_rc_non_engineered has_superstructure_rc_engineered\n",
              " Min.   :0.0000                       Min.   :0.00000                 \n",
              " 1st Qu.:0.0000                       1st Qu.:0.00000                 \n",
              " Median :0.0000                       Median :0.00000                 \n",
              " Mean   :0.0425                       Mean   :0.01579                 \n",
              " 3rd Qu.:0.0000                       3rd Qu.:0.00000                 \n",
              " Max.   :1.0000                       Max.   :1.00000                 \n",
              " has_superstructure_other count_families   has_secondary_use\n",
              " Min.   :0.00000          Min.   :0.0000   Min.   :0.0000   \n",
              " 1st Qu.:0.00000          1st Qu.:1.0000   1st Qu.:0.0000   \n",
              " Median :0.00000          Median :1.0000   Median :0.0000   \n",
              " Mean   :0.01521          Mean   :0.9831   Mean   :0.1115   \n",
              " 3rd Qu.:0.00000          3rd Qu.:1.0000   3rd Qu.:0.0000   \n",
              " Max.   :1.00000          Max.   :8.0000   Max.   :1.0000   \n",
              " has_secondary_use_agriculture has_secondary_use_hotel has_secondary_use_rental\n",
              " Min.   :0.0000                Min.   :0.00000         Min.   :0.000000        \n",
              " 1st Qu.:0.0000                1st Qu.:0.00000         1st Qu.:0.000000        \n",
              " Median :0.0000                Median :0.00000         Median :0.000000        \n",
              " Mean   :0.0641                Mean   :0.03387         Mean   :0.008242        \n",
              " 3rd Qu.:0.0000                3rd Qu.:0.00000         3rd Qu.:0.000000        \n",
              " Max.   :1.0000                Max.   :1.00000         Max.   :1.000000        \n",
              " has_secondary_use_institution has_secondary_use_school\n",
              " Min.   :0.000000              Min.   :0.0000000       \n",
              " 1st Qu.:0.000000              1st Qu.:0.0000000       \n",
              " Median :0.000000              Median :0.0000000       \n",
              " Mean   :0.001013              Mean   :0.0003684       \n",
              " 3rd Qu.:0.000000              3rd Qu.:0.0000000       \n",
              " Max.   :1.000000              Max.   :1.0000000       \n",
              " has_secondary_use_industry has_secondary_use_health_post\n",
              " Min.   :0.000000           Min.   :0.0000000            \n",
              " 1st Qu.:0.000000           1st Qu.:0.0000000            \n",
              " Median :0.000000           Median :0.0000000            \n",
              " Mean   :0.001002           Mean   :0.0001036            \n",
              " 3rd Qu.:0.000000           3rd Qu.:0.0000000            \n",
              " Max.   :1.000000           Max.   :1.0000000            \n",
              " has_secondary_use_gov_office has_secondary_use_use_police\n",
              " Min.   :0.0000000            Min.   :0.0e+00             \n",
              " 1st Qu.:0.0000000            1st Qu.:0.0e+00             \n",
              " Median :0.0000000            Median :0.0e+00             \n",
              " Mean   :0.0001151            Mean   :4.6e-05             \n",
              " 3rd Qu.:0.0000000            3rd Qu.:0.0e+00             \n",
              " Max.   :1.0000000            Max.   :1.0e+00             \n",
              " has_secondary_use_other fragile_building relative_volume  \n",
              " Min.   :0.000000        Min.   :0.000    Min.   :   2.00  \n",
              " 1st Qu.:0.000000        1st Qu.:1.000    1st Qu.:  25.00  \n",
              " Median :0.000000        Median :1.000    Median :  36.00  \n",
              " Mean   :0.004904        Mean   :0.854    Mean   :  45.28  \n",
              " 3rd Qu.:0.000000        3rd Qu.:1.000    3rd Qu.:  55.00  \n",
              " Max.   :1.000000        Max.   :1.000    Max.   :1408.00  \n",
              " land_surface_condition_n land_surface_condition_o land_surface_condition_t\n",
              " Min.   :0.0000           Min.   :0.00000          Min.   :0.0000          \n",
              " 1st Qu.:0.0000           1st Qu.:0.00000          1st Qu.:1.0000          \n",
              " Median :0.0000           Median :0.00000          Median :1.0000          \n",
              " Mean   :0.1368           Mean   :0.03227          Mean   :0.8309          \n",
              " 3rd Qu.:0.0000           3rd Qu.:0.00000          3rd Qu.:1.0000          \n",
              " Max.   :1.0000           Max.   :1.00000          Max.   :1.0000          \n",
              " foundation_type_h foundation_type_i foundation_type_r foundation_type_u\n",
              " Min.   :0.00000   Min.   :0.00000   Min.   :0.0000    Min.   :0.00000  \n",
              " 1st Qu.:0.00000   1st Qu.:0.00000   1st Qu.:1.0000    1st Qu.:0.00000  \n",
              " Median :0.00000   Median :0.00000   Median :1.0000    Median :0.00000  \n",
              " Mean   :0.00586   Mean   :0.04148   Mean   :0.8424    Mean   :0.05351  \n",
              " 3rd Qu.:0.00000   3rd Qu.:0.00000   3rd Qu.:1.0000    3rd Qu.:0.00000  \n",
              " Max.   :1.00000   Max.   :1.00000   Max.   :1.0000    Max.   :1.00000  \n",
              " foundation_type_w  roof_type_n      roof_type_q     roof_type_x     \n",
              " Min.   :0.00000   Min.   :0.0000   Min.   :0.000   Min.   :0.00000  \n",
              " 1st Qu.:0.00000   1st Qu.:0.0000   1st Qu.:0.000   1st Qu.:0.00000  \n",
              " Median :0.00000   Median :1.0000   Median :0.000   Median :0.00000  \n",
              " Mean   :0.05675   Mean   :0.7037   Mean   :0.234   Mean   :0.06223  \n",
              " 3rd Qu.:0.00000   3rd Qu.:1.0000   3rd Qu.:0.000   3rd Qu.:0.00000  \n",
              " Max.   :1.00000   Max.   :1.0000   Max.   :1.000   Max.   :1.00000  \n",
              " ground_floor_type_f ground_floor_type_m ground_floor_type_v\n",
              " Min.   :0.0000      Min.   :0.000000    Min.   :0.00000    \n",
              " 1st Qu.:1.0000      1st Qu.:0.000000    1st Qu.:0.00000    \n",
              " Median :1.0000      Median :0.000000    Median :0.00000    \n",
              " Mean   :0.8055      Mean   :0.002256    Mean   :0.09368    \n",
              " 3rd Qu.:1.0000      3rd Qu.:0.000000    3rd Qu.:0.00000    \n",
              " Max.   :1.0000      Max.   :1.000000    Max.   :1.00000    \n",
              " ground_floor_type_x ground_floor_type_z other_floor_type_j other_floor_type_q\n",
              " Min.   :0.00000     Min.   :0.000000    Min.   :0.0000     Min.   :0.0000    \n",
              " 1st Qu.:0.00000     1st Qu.:0.000000    1st Qu.:0.0000     1st Qu.:0.0000    \n",
              " Median :0.00000     Median :0.000000    Median :0.0000     Median :1.0000    \n",
              " Mean   :0.09476     Mean   :0.003799    Mean   :0.1504     Mean   :0.6332    \n",
              " 3rd Qu.:0.00000     3rd Qu.:0.000000    3rd Qu.:0.0000     3rd Qu.:1.0000    \n",
              " Max.   :1.00000     Max.   :1.000000    Max.   :1.0000     Max.   :1.0000    \n",
              " other_floor_type_s other_floor_type_x   position_j        position_o      \n",
              " Min.   :0.00000    Min.   :0.0000     Min.   :0.00000   Min.   :0.000000  \n",
              " 1st Qu.:0.00000    1st Qu.:0.0000     1st Qu.:0.00000   1st Qu.:0.000000  \n",
              " Median :0.00000    Median :0.0000     Median :0.00000   Median :0.000000  \n",
              " Mean   :0.04724    Mean   :0.1691     Mean   :0.05025   Mean   :0.008841  \n",
              " 3rd Qu.:0.00000    3rd Qu.:0.0000     3rd Qu.:0.00000   3rd Qu.:0.000000  \n",
              " Max.   :1.00000    Max.   :1.0000     Max.   :1.00000   Max.   :1.000000  \n",
              "   position_s       position_t     plan_configuration_a plan_configuration_c\n",
              " Min.   :0.0000   Min.   :0.0000   Min.   :0.000000     Min.   :0.000000    \n",
              " 1st Qu.:1.0000   1st Qu.:0.0000   1st Qu.:0.000000     1st Qu.:0.000000    \n",
              " Median :1.0000   Median :0.0000   Median :0.000000     Median :0.000000    \n",
              " Mean   :0.7756   Mean   :0.1653   Mean   :0.001163     Mean   :0.001439    \n",
              " 3rd Qu.:1.0000   3rd Qu.:0.0000   3rd Qu.:0.000000     3rd Qu.:0.000000    \n",
              " Max.   :1.0000   Max.   :1.0000   Max.   :1.000000     Max.   :1.000000    \n",
              " plan_configuration_d plan_configuration_f plan_configuration_m\n",
              " Min.   :0.0000       Min.   :0.00e+00     Min.   :0.0000000   \n",
              " 1st Qu.:1.0000       1st Qu.:0.00e+00     1st Qu.:0.0000000   \n",
              " Median :1.0000       Median :0.00e+00     Median :0.0000000   \n",
              " Mean   :0.9584       Mean   :5.76e-05     Mean   :0.0002072   \n",
              " 3rd Qu.:1.0000       3rd Qu.:0.00e+00     3rd Qu.:0.0000000   \n",
              " Max.   :1.0000       Max.   :1.00e+00     Max.   :1.0000000   \n",
              " plan_configuration_n plan_configuration_o plan_configuration_q\n",
              " Min.   :0.0000000    Min.   :0.0000000    Min.   :0.00000     \n",
              " 1st Qu.:0.0000000    1st Qu.:0.0000000    1st Qu.:0.00000     \n",
              " Median :0.0000000    Median :0.0000000    Median :0.00000     \n",
              " Mean   :0.0001842    Mean   :0.0004144    Mean   :0.02244     \n",
              " 3rd Qu.:0.0000000    3rd Qu.:0.0000000    3rd Qu.:0.00000     \n",
              " Max.   :1.0000000    Max.   :1.0000000    Max.   :1.00000     \n",
              " plan_configuration_s plan_configuration_u legal_ownership_status_a\n",
              " Min.   :0.000000     Min.   :0.0000       Min.   :0.00000         \n",
              " 1st Qu.:0.000000     1st Qu.:0.0000       1st Qu.:0.00000         \n",
              " Median :0.000000     Median :0.0000       Median :0.00000         \n",
              " Mean   :0.001186     Mean   :0.0145       Mean   :0.02066         \n",
              " 3rd Qu.:0.000000     3rd Qu.:0.0000       3rd Qu.:0.00000         \n",
              " Max.   :1.000000     Max.   :1.0000       Max.   :1.00000         \n",
              " legal_ownership_status_r legal_ownership_status_v legal_ownership_status_w\n",
              " Min.   :0.000000         Min.   :0.0000           Min.   :0.000000        \n",
              " 1st Qu.:0.000000         1st Qu.:1.0000           1st Qu.:0.000000        \n",
              " Median :0.000000         Median :1.0000           Median :0.000000        \n",
              " Mean   :0.005952         Mean   :0.9635           Mean   :0.009923        \n",
              " 3rd Qu.:0.000000         3rd Qu.:1.0000           3rd Qu.:0.000000        \n",
              " Max.   :1.000000         Max.   :1.0000           Max.   :1.000000        "
            ]
          },
          "metadata": {}
        }
      ]
    },
    {
      "cell_type": "code",
      "source": [],
      "metadata": {
        "id": "wWuQNM2mIFm8"
      },
      "id": "wWuQNM2mIFm8",
      "execution_count": 28,
      "outputs": []
    },
    {
      "cell_type": "markdown",
      "source": [
        "## Feature selection \n",
        "\n",
        "Feature selection is the process of selecting the most relevant or useful variables for building a predictive model from an initial set of variables or features.This can reduce overfitting, improve accuracy, and reduce training time.\n",
        "\n",
        "The goal of feature selection is to reduce the complexity of the model and improve its performance by eliminating redundant or irrelevant features, and focusing on the features that are most important for the prediction task. At present our dataset contains 69 variables that are not large enough for our observations because it is recommended to perform feature selection when the number of variables is high so we would like to keep all of them. \n",
        "However we will apply some technique to observe the most relevant variables for the prediction task.\n",
        "\n",
        "Two main approaches to feature selection are:\n",
        "\n",
        "* Filter methods:are a type of feature selection methods that select features based on their individual characteristics. The main idea behind filter methods is to evaluate each feature independently in terms of its predictive power and relevance to the output variable.\n",
        "\n",
        "   Examples:  PCA,  correlation, minimum redundancy maximum relevance (mRMR) \n",
        "* Wrapper methods: are a type of method that considers the selection of a set of features as a search problem. These methods evaluate subsets of features, meaning that they take into account the interactions between features. Examples of wrapper methods include recursive feature elimination, forward selection\n",
        "\n",
        "# Correlation \n",
        "Variables that have a high correlation with the target variable can be considered the most relevant for the prediction of our datasets. In addition, variables that have a low correlation with the target variable may be considered less relevant or even irrelevant for prediction.\n",
        "\n",
        "The Pearson correlation coefficient formula is:\n",
        "\n",
        "$r = \\frac{\\sum\\limits_{i=1}^n (x_i - \\bar{x})(y_i - \\bar{y})}{\\sqrt{\\sum\\limits_{i=1}^n (x_i - \\bar{x})^2 \\sum\\limits_{i=1}^n (y_i - \\bar{y})^2}}$\n",
        "\n",
        "where:\n",
        "\n",
        "* r is the correlation coefficient,\n",
        "* xi, yi are the individual sample points indexed with i,\n",
        "* x̄, ȳ are the mean values of x and y."
      ],
      "metadata": {
        "id": "1VB8a0enxbRg"
      },
      "id": "1VB8a0enxbRg"
    },
    {
      "cell_type": "code",
      "source": [
        "CV_folds <- 10\n",
        "\n",
        "size_CV <-floor(N/CV_folds)\n",
        "#selected_nb_features <- 69\n",
        "CV_err<-matrix(0,nrow=n,ncol=CV_folds)\n",
        "\n",
        "for (i in 1:CV_folds) {\n",
        "    \n",
        "    idx_ts<-(((i-1)*size_CV+1):(i*size_CV))  ### idx_ts represents the indices of the test set the i-th fold\n",
        "    X_ts<-encoded_train_data[idx_ts,]\n",
        "    Y_ts<-train_labels$damage_grade[idx_ts]\n",
        "     \n",
        "    idx_tr<-setdiff(1:N,idx_ts) ### idx_tr represents  indices of the training sefor the i-th fold\n",
        "    X_tr<-encoded_train_data[idx_tr,]\n",
        "    Y_tr<-train_labels$damage_grade[idx_tr]                          \n",
        "    \n",
        "    # Compute correlation across all the input variables and the target variable\n",
        "    correlation_vector <-abs(cor(X_tr,Y_tr))\n",
        "    # Rank variables according to correlation with the output\n",
        "    correlation_ranking_idx <-sort(correlation_vector,dec=T,index.return=T)$ix\n",
        "     \n",
        "    for (nb_features in 1:n) {\n",
        "        # Create a dataset including only the nb_features most correlated variables with the output\n",
        "        DS<-cbind(X_tr[,correlation_ranking_idx[1:nb_features],drop=F],damage_grade=Y_tr)\n",
        "        # Model fit (using lm function)\n",
        "        model<- lm(damage_grade~.,DS)\n",
        "        \n",
        "        # Model prediction\n",
        "        Y_hat_ts<- predict(model,X_ts[,correlation_ranking_idx[1:nb_features],drop=F])\n",
        "        \n",
        "        # Cross validation error = MSE\n",
        "        CV_err[nb_features,i] <- mean((Y_hat_ts-Y_ts)^2)\n",
        "    }\n",
        "}  \n",
        "\n",
        "print(paste(\"#Features: \",c(1:n),\" ; CV error=\",round(apply(CV_err,1,mean),digits=4), \" ; std dev=\",round(apply(CV_err,1,sd),digits=4)))\n",
        "\n",
        "variable_names <- names(X_tr)[correlation_ranking_idx[1:nb_features]]\n",
        "print(paste(variable_names))\n",
        "correlation_ranking_idx"
      ],
      "metadata": {
        "id": "7WlxeqrdCUJ4",
        "colab": {
          "base_uri": "https://localhost:8080/",
          "height": 1000
        },
        "outputId": "13ec2978-ea08-4d3e-da2e-07e339efe14e"
      },
      "id": "7WlxeqrdCUJ4",
      "execution_count": 29,
      "outputs": [
        {
          "output_type": "stream",
          "name": "stdout",
          "text": [
            " [1] \"#Features:  1  ; CV error= 0.3215  ; std dev= 0.0019\" \n",
            " [2] \"#Features:  2  ; CV error= 0.3171  ; std dev= 0.0019\" \n",
            " [3] \"#Features:  3  ; CV error= 0.3136  ; std dev= 0.0019\" \n",
            " [4] \"#Features:  4  ; CV error= 0.3135  ; std dev= 0.0019\" \n",
            " [5] \"#Features:  5  ; CV error= 0.3132  ; std dev= 0.0018\" \n",
            " [6] \"#Features:  6  ; CV error= 0.3129  ; std dev= 0.0018\" \n",
            " [7] \"#Features:  7  ; CV error= 0.3127  ; std dev= 0.0018\" \n",
            " [8] \"#Features:  8  ; CV error= 0.3127  ; std dev= 0.0018\" \n",
            " [9] \"#Features:  9  ; CV error= 0.3126  ; std dev= 0.0018\" \n",
            "[10] \"#Features:  10  ; CV error= 0.3124  ; std dev= 0.0018\"\n",
            "[11] \"#Features:  11  ; CV error= 0.3108  ; std dev= 0.0018\"\n",
            "[12] \"#Features:  12  ; CV error= 0.3108  ; std dev= 0.0018\"\n",
            "[13] \"#Features:  13  ; CV error= 0.3107  ; std dev= 0.0018\"\n",
            "[14] \"#Features:  14  ; CV error= 0.3107  ; std dev= 0.0018\"\n",
            "[15] \"#Features:  15  ; CV error= 0.31  ; std dev= 0.0019\"  \n",
            "[16] \"#Features:  16  ; CV error= 0.31  ; std dev= 0.0019\"  \n",
            "[17] \"#Features:  17  ; CV error= 0.308  ; std dev= 0.0019\" \n",
            "[18] \"#Features:  18  ; CV error= 0.308  ; std dev= 0.0019\" \n",
            "[19] \"#Features:  19  ; CV error= 0.3079  ; std dev= 0.0018\"\n",
            "[20] \"#Features:  20  ; CV error= 0.3079  ; std dev= 0.0018\"\n",
            "[21] \"#Features:  21  ; CV error= 0.3078  ; std dev= 0.0019\"\n",
            "[22] \"#Features:  22  ; CV error= 0.3073  ; std dev= 0.0015\"\n",
            "[23] \"#Features:  23  ; CV error= 0.3068  ; std dev= 0.0017\"\n",
            "[24] \"#Features:  24  ; CV error= 0.3068  ; std dev= 0.0017\"\n",
            "[25] \"#Features:  25  ; CV error= 0.3067  ; std dev= 0.0017\"\n",
            "[26] \"#Features:  26  ; CV error= 0.3058  ; std dev= 0.0016\"\n",
            "[27] \"#Features:  27  ; CV error= 0.3039  ; std dev= 0.0016\"\n",
            "[28] \"#Features:  28  ; CV error= 0.3038  ; std dev= 0.0016\"\n",
            "[29] \"#Features:  29  ; CV error= 0.3036  ; std dev= 0.0017\"\n",
            "[30] \"#Features:  30  ; CV error= 0.3036  ; std dev= 0.0017\"\n",
            "[31] \"#Features:  31  ; CV error= 0.3032  ; std dev= 0.0017\"\n",
            "[32] \"#Features:  32  ; CV error= 0.3031  ; std dev= 0.0017\"\n",
            "[33] \"#Features:  33  ; CV error= 0.3018  ; std dev= 0.0017\"\n",
            "[34] \"#Features:  34  ; CV error= 0.3017  ; std dev= 0.0017\"\n",
            "[35] \"#Features:  35  ; CV error= 0.3015  ; std dev= 0.0017\"\n",
            "[36] \"#Features:  36  ; CV error= 0.3015  ; std dev= 0.0017\"\n",
            "[37] \"#Features:  37  ; CV error= 0.3015  ; std dev= 0.0016\"\n",
            "[38] \"#Features:  38  ; CV error= 0.3014  ; std dev= 0.0017\"\n",
            "[39] \"#Features:  39  ; CV error= 0.3014  ; std dev= 0.0017\"\n",
            "[40] \"#Features:  40  ; CV error= 0.3014  ; std dev= 0.0016\"\n",
            "[41] \"#Features:  41  ; CV error= 0.3013  ; std dev= 0.0017\"\n",
            "[42] \"#Features:  42  ; CV error= 0.3013  ; std dev= 0.0016\"\n",
            "[43] \"#Features:  43  ; CV error= 0.3012  ; std dev= 0.0016\"\n",
            "[44] \"#Features:  44  ; CV error= 0.3012  ; std dev= 0.0016\"\n",
            "[45] \"#Features:  45  ; CV error= 0.3012  ; std dev= 0.0016\"\n",
            "[46] \"#Features:  46  ; CV error= 0.3011  ; std dev= 0.0016\"\n",
            "[47] \"#Features:  47  ; CV error= 0.3011  ; std dev= 0.0016\"\n",
            "[48] \"#Features:  48  ; CV error= 0.3011  ; std dev= 0.0016\"\n",
            "[49] \"#Features:  49  ; CV error= 0.3011  ; std dev= 0.0016\"\n",
            "[50] \"#Features:  50  ; CV error= 0.301  ; std dev= 0.0016\" \n",
            "[51] \"#Features:  51  ; CV error= 0.301  ; std dev= 0.0016\" \n",
            "[52] \"#Features:  52  ; CV error= 0.3009  ; std dev= 0.0016\"\n",
            "[53] \"#Features:  53  ; CV error= 0.3008  ; std dev= 0.0015\"\n",
            "[54] \"#Features:  54  ; CV error= 0.3008  ; std dev= 0.0015\"\n",
            "[55] \"#Features:  55  ; CV error= 0.3008  ; std dev= 0.0015\"\n",
            "[56] \"#Features:  56  ; CV error= 0.3008  ; std dev= 0.0015\"\n",
            "[57] \"#Features:  57  ; CV error= 0.3008  ; std dev= 0.0015\"\n",
            "[58] \"#Features:  58  ; CV error= 0.3008  ; std dev= 0.0015\"\n",
            "[59] \"#Features:  59  ; CV error= 0.3008  ; std dev= 0.0015\"\n",
            "[60] \"#Features:  60  ; CV error= 0.3008  ; std dev= 0.0015\"\n",
            "[61] \"#Features:  61  ; CV error= 0.3008  ; std dev= 0.0016\"\n",
            "[62] \"#Features:  62  ; CV error= 0.3008  ; std dev= 0.0015\"\n",
            "[63] \"#Features:  63  ; CV error= 0.3008  ; std dev= 0.0016\"\n",
            "[64] \"#Features:  64  ; CV error= 0.3008  ; std dev= 0.0015\"\n",
            "[65] \"#Features:  65  ; CV error= 0.3008  ; std dev= 0.0015\"\n",
            "[66] \"#Features:  66  ; CV error= 0.3008  ; std dev= 0.0015\"\n",
            "[67] \"#Features:  67  ; CV error= 0.3008  ; std dev= 0.0015\"\n",
            "[68] \"#Features:  68  ; CV error= 0.3008  ; std dev= 0.0015\"\n",
            "[69] \"#Features:  69  ; CV error= 0.3008  ; std dev= 0.0015\"\n",
            "[70] \"#Features:  70  ; CV error= 0.3008  ; std dev= 0.0015\"\n",
            " [1] \"fragile_building\"                      \n",
            " [2] \"foundation_type_r\"                     \n",
            " [3] \"ground_floor_type_v\"                   \n",
            " [4] \"has_superstructure_mud_mortar_stone\"   \n",
            " [5] \"roof_type_x\"                           \n",
            " [6] \"foundation_type_i\"                     \n",
            " [7] \"has_superstructure_cement_mortar_brick\"\n",
            " [8] \"ground_floor_type_f\"                   \n",
            " [9] \"other_floor_type_s\"                    \n",
            "[10] \"has_superstructure_rc_engineered\"      \n",
            "[11] \"foundation_type_w\"                     \n",
            "[12] \"other_floor_type_q\"                    \n",
            "[13] \"has_superstructure_rc_non_engineered\"  \n",
            "[14] \"foundation_type_u\"                     \n",
            "[15] \"other_floor_type_j\"                    \n",
            "[16] \"area_percentage\"                       \n",
            "[17] \"count_floors_pre_eq\"                   \n",
            "[18] \"has_secondary_use_hotel\"               \n",
            "[19] \"has_secondary_use_rental\"              \n",
            "[20] \"relative_volume\"                       \n",
            "[21] \"legal_ownership_status_a\"              \n",
            "[22] \"roof_type_n\"                           \n",
            "[23] \"has_secondary_use\"                     \n",
            "[24] \"roof_type_q\"                           \n",
            "[25] \"geo_level_1_id\"                        \n",
            "[26] \"has_superstructure_timber\"             \n",
            "[27] \"has_superstructure_stone_flag\"         \n",
            "[28] \"has_superstructure_bamboo\"             \n",
            "[29] \"plan_configuration_u\"                  \n",
            "[30] \"has_superstructure_cement_mortar_stone\"\n",
            "[31] \"count_families\"                        \n",
            "[32] \"has_superstructure_adobe_mud\"          \n",
            "[33] \"position_t\"                            \n",
            "[34] \"height_percentage\"                     \n",
            "[35] \"legal_ownership_status_v\"              \n",
            "[36] \"other_floor_type_x\"                    \n",
            "[37] \"plan_configuration_d\"                  \n",
            "[38] \"geo_level_2_id\"                        \n",
            "[39] \"position_j\"                            \n",
            "[40] \"has_superstructure_other\"              \n",
            "[41] \"legal_ownership_status_w\"              \n",
            "[42] \"age\"                                   \n",
            "[43] \"has_secondary_use_institution\"         \n",
            "[44] \"position_s\"                            \n",
            "[45] \"plan_configuration_c\"                  \n",
            "[46] \"plan_configuration_a\"                  \n",
            "[47] \"ground_floor_type_m\"                   \n",
            "[48] \"ground_floor_type_z\"                   \n",
            "[49] \"has_secondary_use_other\"               \n",
            "[50] \"land_surface_condition_t\"              \n",
            "[51] \"land_surface_condition_o\"              \n",
            "[52] \"foundation_type_h\"                     \n",
            "[53] \"has_superstructure_mud_mortar_brick\"   \n",
            "[54] \"plan_configuration_o\"                  \n",
            "[55] \"has_secondary_use_agriculture\"         \n",
            "[56] \"has_secondary_use_industry\"            \n",
            "[57] \"plan_configuration_s\"                  \n",
            "[58] \"has_secondary_use_school\"              \n",
            "[59] \"land_surface_condition_n\"              \n",
            "[60] \"has_secondary_use_gov_office\"          \n",
            "[61] \"plan_configuration_q\"                  \n",
            "[62] \"has_secondary_use_health_post\"         \n",
            "[63] \"geo_level_3_id\"                        \n",
            "[64] \"plan_configuration_m\"                  \n",
            "[65] \"ground_floor_type_x\"                   \n",
            "[66] \"position_o\"                            \n",
            "[67] \"legal_ownership_status_r\"              \n",
            "[68] \"plan_configuration_n\"                  \n",
            "[69] \"has_secondary_use_use_police\"          \n",
            "[70] \"plan_configuration_f\"                  \n"
          ]
        },
        {
          "output_type": "display_data",
          "data": {
            "text/html": [
              "<style>\n",
              ".list-inline {list-style: none; margin:0; padding: 0}\n",
              ".list-inline>li {display: inline-block}\n",
              ".list-inline>li:not(:last-child)::after {content: \"\\00b7\"; padding: 0 .5ex}\n",
              "</style>\n",
              "<ol class=list-inline><li>31</li><li>38</li><li>46</li><li>9</li><li>43</li><li>37</li><li>13</li><li>44</li><li>51</li><li>17</li><li>40</li><li>50</li><li>16</li><li>39</li><li>49</li><li>6</li><li>4</li><li>22</li><li>23</li><li>32</li><li>67</li><li>41</li><li>20</li><li>42</li><li>1</li><li>14</li><li>10</li><li>15</li><li>66</li><li>11</li><li>19</li><li>8</li><li>56</li><li>7</li><li>69</li><li>52</li><li>59</li><li>2</li><li>53</li><li>18</li><li>70</li><li>5</li><li>24</li><li>55</li><li>58</li><li>57</li><li>45</li><li>48</li><li>30</li><li>35</li><li>34</li><li>36</li><li>12</li><li>63</li><li>21</li><li>26</li><li>65</li><li>25</li><li>33</li><li>28</li><li>64</li><li>27</li><li>3</li><li>61</li><li>47</li><li>54</li><li>68</li><li>62</li><li>29</li><li>60</li></ol>\n"
            ],
            "text/markdown": "1. 31\n2. 38\n3. 46\n4. 9\n5. 43\n6. 37\n7. 13\n8. 44\n9. 51\n10. 17\n11. 40\n12. 50\n13. 16\n14. 39\n15. 49\n16. 6\n17. 4\n18. 22\n19. 23\n20. 32\n21. 67\n22. 41\n23. 20\n24. 42\n25. 1\n26. 14\n27. 10\n28. 15\n29. 66\n30. 11\n31. 19\n32. 8\n33. 56\n34. 7\n35. 69\n36. 52\n37. 59\n38. 2\n39. 53\n40. 18\n41. 70\n42. 5\n43. 24\n44. 55\n45. 58\n46. 57\n47. 45\n48. 48\n49. 30\n50. 35\n51. 34\n52. 36\n53. 12\n54. 63\n55. 21\n56. 26\n57. 65\n58. 25\n59. 33\n60. 28\n61. 64\n62. 27\n63. 3\n64. 61\n65. 47\n66. 54\n67. 68\n68. 62\n69. 29\n70. 60\n\n\n",
            "text/latex": "\\begin{enumerate*}\n\\item 31\n\\item 38\n\\item 46\n\\item 9\n\\item 43\n\\item 37\n\\item 13\n\\item 44\n\\item 51\n\\item 17\n\\item 40\n\\item 50\n\\item 16\n\\item 39\n\\item 49\n\\item 6\n\\item 4\n\\item 22\n\\item 23\n\\item 32\n\\item 67\n\\item 41\n\\item 20\n\\item 42\n\\item 1\n\\item 14\n\\item 10\n\\item 15\n\\item 66\n\\item 11\n\\item 19\n\\item 8\n\\item 56\n\\item 7\n\\item 69\n\\item 52\n\\item 59\n\\item 2\n\\item 53\n\\item 18\n\\item 70\n\\item 5\n\\item 24\n\\item 55\n\\item 58\n\\item 57\n\\item 45\n\\item 48\n\\item 30\n\\item 35\n\\item 34\n\\item 36\n\\item 12\n\\item 63\n\\item 21\n\\item 26\n\\item 65\n\\item 25\n\\item 33\n\\item 28\n\\item 64\n\\item 27\n\\item 3\n\\item 61\n\\item 47\n\\item 54\n\\item 68\n\\item 62\n\\item 29\n\\item 60\n\\end{enumerate*}\n",
            "text/plain": [
              " [1] 31 38 46  9 43 37 13 44 51 17 40 50 16 39 49  6  4 22 23 32 67 41 20 42  1\n",
              "[26] 14 10 15 66 11 19  8 56  7 69 52 59  2 53 18 70  5 24 55 58 57 45 48 30 35\n",
              "[51] 34 36 12 63 21 26 65 25 33 28 64 27  3 61 47 54 68 62 29 60"
            ]
          },
          "metadata": {}
        }
      ]
    },
    {
      "cell_type": "code",
      "source": [
        "\n",
        "variable_names <- names(X_tr)[correlation_ranking_idx[1:nb_features]]\n",
        "print(paste(variable_names))\n",
        "correlation_ranking_idx"
      ],
      "metadata": {
        "id": "scHzD_NyDjv3",
        "colab": {
          "base_uri": "https://localhost:8080/",
          "height": 1000
        },
        "outputId": "cc73c851-9b3f-41fe-a61c-7f7eafb02b38"
      },
      "id": "scHzD_NyDjv3",
      "execution_count": 30,
      "outputs": [
        {
          "output_type": "stream",
          "name": "stdout",
          "text": [
            " [1] \"fragile_building\"                      \n",
            " [2] \"foundation_type_r\"                     \n",
            " [3] \"ground_floor_type_v\"                   \n",
            " [4] \"has_superstructure_mud_mortar_stone\"   \n",
            " [5] \"roof_type_x\"                           \n",
            " [6] \"foundation_type_i\"                     \n",
            " [7] \"has_superstructure_cement_mortar_brick\"\n",
            " [8] \"ground_floor_type_f\"                   \n",
            " [9] \"other_floor_type_s\"                    \n",
            "[10] \"has_superstructure_rc_engineered\"      \n",
            "[11] \"foundation_type_w\"                     \n",
            "[12] \"other_floor_type_q\"                    \n",
            "[13] \"has_superstructure_rc_non_engineered\"  \n",
            "[14] \"foundation_type_u\"                     \n",
            "[15] \"other_floor_type_j\"                    \n",
            "[16] \"area_percentage\"                       \n",
            "[17] \"count_floors_pre_eq\"                   \n",
            "[18] \"has_secondary_use_hotel\"               \n",
            "[19] \"has_secondary_use_rental\"              \n",
            "[20] \"relative_volume\"                       \n",
            "[21] \"legal_ownership_status_a\"              \n",
            "[22] \"roof_type_n\"                           \n",
            "[23] \"has_secondary_use\"                     \n",
            "[24] \"roof_type_q\"                           \n",
            "[25] \"geo_level_1_id\"                        \n",
            "[26] \"has_superstructure_timber\"             \n",
            "[27] \"has_superstructure_stone_flag\"         \n",
            "[28] \"has_superstructure_bamboo\"             \n",
            "[29] \"plan_configuration_u\"                  \n",
            "[30] \"has_superstructure_cement_mortar_stone\"\n",
            "[31] \"count_families\"                        \n",
            "[32] \"has_superstructure_adobe_mud\"          \n",
            "[33] \"position_t\"                            \n",
            "[34] \"height_percentage\"                     \n",
            "[35] \"legal_ownership_status_v\"              \n",
            "[36] \"other_floor_type_x\"                    \n",
            "[37] \"plan_configuration_d\"                  \n",
            "[38] \"geo_level_2_id\"                        \n",
            "[39] \"position_j\"                            \n",
            "[40] \"has_superstructure_other\"              \n",
            "[41] \"legal_ownership_status_w\"              \n",
            "[42] \"age\"                                   \n",
            "[43] \"has_secondary_use_institution\"         \n",
            "[44] \"position_s\"                            \n",
            "[45] \"plan_configuration_c\"                  \n",
            "[46] \"plan_configuration_a\"                  \n",
            "[47] \"ground_floor_type_m\"                   \n",
            "[48] \"ground_floor_type_z\"                   \n",
            "[49] \"has_secondary_use_other\"               \n",
            "[50] \"land_surface_condition_t\"              \n",
            "[51] \"land_surface_condition_o\"              \n",
            "[52] \"foundation_type_h\"                     \n",
            "[53] \"has_superstructure_mud_mortar_brick\"   \n",
            "[54] \"plan_configuration_o\"                  \n",
            "[55] \"has_secondary_use_agriculture\"         \n",
            "[56] \"has_secondary_use_industry\"            \n",
            "[57] \"plan_configuration_s\"                  \n",
            "[58] \"has_secondary_use_school\"              \n",
            "[59] \"land_surface_condition_n\"              \n",
            "[60] \"has_secondary_use_gov_office\"          \n",
            "[61] \"plan_configuration_q\"                  \n",
            "[62] \"has_secondary_use_health_post\"         \n",
            "[63] \"geo_level_3_id\"                        \n",
            "[64] \"plan_configuration_m\"                  \n",
            "[65] \"ground_floor_type_x\"                   \n",
            "[66] \"position_o\"                            \n",
            "[67] \"legal_ownership_status_r\"              \n",
            "[68] \"plan_configuration_n\"                  \n",
            "[69] \"has_secondary_use_use_police\"          \n",
            "[70] \"plan_configuration_f\"                  \n"
          ]
        },
        {
          "output_type": "display_data",
          "data": {
            "text/html": [
              "<style>\n",
              ".list-inline {list-style: none; margin:0; padding: 0}\n",
              ".list-inline>li {display: inline-block}\n",
              ".list-inline>li:not(:last-child)::after {content: \"\\00b7\"; padding: 0 .5ex}\n",
              "</style>\n",
              "<ol class=list-inline><li>31</li><li>38</li><li>46</li><li>9</li><li>43</li><li>37</li><li>13</li><li>44</li><li>51</li><li>17</li><li>40</li><li>50</li><li>16</li><li>39</li><li>49</li><li>6</li><li>4</li><li>22</li><li>23</li><li>32</li><li>67</li><li>41</li><li>20</li><li>42</li><li>1</li><li>14</li><li>10</li><li>15</li><li>66</li><li>11</li><li>19</li><li>8</li><li>56</li><li>7</li><li>69</li><li>52</li><li>59</li><li>2</li><li>53</li><li>18</li><li>70</li><li>5</li><li>24</li><li>55</li><li>58</li><li>57</li><li>45</li><li>48</li><li>30</li><li>35</li><li>34</li><li>36</li><li>12</li><li>63</li><li>21</li><li>26</li><li>65</li><li>25</li><li>33</li><li>28</li><li>64</li><li>27</li><li>3</li><li>61</li><li>47</li><li>54</li><li>68</li><li>62</li><li>29</li><li>60</li></ol>\n"
            ],
            "text/markdown": "1. 31\n2. 38\n3. 46\n4. 9\n5. 43\n6. 37\n7. 13\n8. 44\n9. 51\n10. 17\n11. 40\n12. 50\n13. 16\n14. 39\n15. 49\n16. 6\n17. 4\n18. 22\n19. 23\n20. 32\n21. 67\n22. 41\n23. 20\n24. 42\n25. 1\n26. 14\n27. 10\n28. 15\n29. 66\n30. 11\n31. 19\n32. 8\n33. 56\n34. 7\n35. 69\n36. 52\n37. 59\n38. 2\n39. 53\n40. 18\n41. 70\n42. 5\n43. 24\n44. 55\n45. 58\n46. 57\n47. 45\n48. 48\n49. 30\n50. 35\n51. 34\n52. 36\n53. 12\n54. 63\n55. 21\n56. 26\n57. 65\n58. 25\n59. 33\n60. 28\n61. 64\n62. 27\n63. 3\n64. 61\n65. 47\n66. 54\n67. 68\n68. 62\n69. 29\n70. 60\n\n\n",
            "text/latex": "\\begin{enumerate*}\n\\item 31\n\\item 38\n\\item 46\n\\item 9\n\\item 43\n\\item 37\n\\item 13\n\\item 44\n\\item 51\n\\item 17\n\\item 40\n\\item 50\n\\item 16\n\\item 39\n\\item 49\n\\item 6\n\\item 4\n\\item 22\n\\item 23\n\\item 32\n\\item 67\n\\item 41\n\\item 20\n\\item 42\n\\item 1\n\\item 14\n\\item 10\n\\item 15\n\\item 66\n\\item 11\n\\item 19\n\\item 8\n\\item 56\n\\item 7\n\\item 69\n\\item 52\n\\item 59\n\\item 2\n\\item 53\n\\item 18\n\\item 70\n\\item 5\n\\item 24\n\\item 55\n\\item 58\n\\item 57\n\\item 45\n\\item 48\n\\item 30\n\\item 35\n\\item 34\n\\item 36\n\\item 12\n\\item 63\n\\item 21\n\\item 26\n\\item 65\n\\item 25\n\\item 33\n\\item 28\n\\item 64\n\\item 27\n\\item 3\n\\item 61\n\\item 47\n\\item 54\n\\item 68\n\\item 62\n\\item 29\n\\item 60\n\\end{enumerate*}\n",
            "text/plain": [
              " [1] 31 38 46  9 43 37 13 44 51 17 40 50 16 39 49  6  4 22 23 32 67 41 20 42  1\n",
              "[26] 14 10 15 66 11 19  8 56  7 69 52 59  2 53 18 70  5 24 55 58 57 45 48 30 35\n",
              "[51] 34 36 12 63 21 26 65 25 33 28 64 27  3 61 47 54 68 62 29 60"
            ]
          },
          "metadata": {}
        }
      ]
    },
    {
      "cell_type": "markdown",
      "source": [
        "## Minimum Redundancy Maximum Relevance (mRMR)\n",
        "\n",
        "The mRMR method is a feature selection approach that tries to select features that are highly correlated with the class (maximum relevance) but uncorrelated with each other (minimum redundancy). The goal is to select features that individually have high predictive power and collectively provide as much non-overlapping information as possible.\n",
        "For the relevance of a feature set S with respect to the target variable Y\n",
        "\n",
        "MaxRelevance(S) is defined as follows:\n",
        "\n",
        "MaxRelevance(S) = $\\frac{1}{|S|} \\sum_{i} I(x_i; Y)$\n",
        "\n",
        "\n",
        "where $|S|$ is the number of features in the set, $x_i$ is the i-th feature, and $I(x_i; Y)$ is the mutual information between $x_i$ and $Y$.\n",
        "\n",
        "The redundancy of a feature set $S$ can be defined as follows:\n",
        "\n",
        "\n",
        "MinRedundancy(S) =$\\frac{1}{|S|^2} \\sum_{i} \\sum_{j} I(x_i; x_j)$\n",
        "\n",
        "\n",
        "where $|S|$ is the number of features in the set, $x_i$ and $x_j$ are features in the set, and $I(x_i; x_j)$ is the mutual information between $x_i$ and $x_j$.\n",
        "\n",
        "The mRMR criterion can be defined as a combination of MaxRelevance and MinRedundancy:\n",
        "\n",
        "\n",
        "\n",
        "\n",
        "mRMR = MaxRelevance(S) - MinRedundancy(S)\n",
        "\n",
        "The goal of mRMR is to maximize this criterion.\n"
      ],
      "metadata": {
        "id": "Ewpv1-tYF2Gm"
      },
      "id": "Ewpv1-tYF2Gm"
    },
    {
      "cell_type": "code",
      "source": [
        "\n",
        "CV_folds <- 10\n",
        "#n_variables <- 20\n",
        "\n",
        "\n",
        "size_CV <- floor(N / CV_folds)\n",
        "\n",
        "CV_err <- matrix(0, nrow = n, ncol = CV_folds)\n",
        "\n",
        "for (i in 1:CV_folds) {\n",
        "    \n",
        "    idx_ts <- (((i - 1) * size_CV + 1):(i * size_CV))\n",
        "    X_ts <- encoded_train_data[idx_ts,]\n",
        "    Y_ts <- train_labels$damage_grade[idx_ts]\n",
        "    \n",
        "    idx_tr <- setdiff(1:N, idx_ts)\n",
        "    X_tr <- encoded_train_data[idx_tr,]\n",
        "    Y_tr <- train_labels$damage_grade[idx_tr]\n",
        "    \n",
        "    correlation <- abs(cor(X_tr, Y_tr))\n",
        "    \n",
        "    selected <- c()\n",
        "    candidates <- 1:n\n",
        "    \n",
        "    for (j in 1:n) {\n",
        "        redundancy_score <- numeric(length(candidates))\n",
        "        \n",
        "        if (length(selected) > 0) {\n",
        "            cor_selected_candidates <- cor(X_tr[, selected, drop = F], X_tr[, candidates, drop = F])\n",
        "            redundancy_score <- apply(cor_selected_candidates, 2, mean)\n",
        "        }\n",
        "        \n",
        "        mRMR_score <- correlation[candidates] - redundancy_score\n",
        "        selected_current <- candidates[which.max(mRMR_score)]\n",
        "        selected <- c(selected, selected_current)\n",
        "        candidates <- setdiff(candidates, selected_current)\n",
        "    }\n",
        "    \n",
        "    ranking <- selected\n",
        "     \n",
        "    for (nb_features in 1:n) {\n",
        "        DS <- cbind(X_tr[, ranking[1:nb_features], drop = F], damage_grade = Y_tr)\n",
        "       # Model fit (using lm function)\n",
        "        model<- lm(damage_grade~.,DS)\n",
        "        Y_hat_ts<- predict(model,X_ts[,ranking[1:nb_features],drop=F])\n",
        "        \n",
        "        # Cross-validation error = MSE\n",
        "        CV_err[nb_features,i]<-mean((Y_hat_ts-Y_ts)^2)\n",
        "    }\n",
        "}  \n",
        "\n",
        "print(paste(\"#Features: \", c(1:n), \" ; CV error=\", round(apply(CV_err, 1, mean), digits = 4), \" ; std dev=\", round(apply(CV_err, 1, sd), digits = 4)))\n",
        "\n",
        "CV_err_svm_single_model_fs <- CV_err\n"
      ],
      "metadata": {
        "id": "zH0hQxPzKjtr",
        "colab": {
          "base_uri": "https://localhost:8080/"
        },
        "outputId": "8f38b6cf-eefa-4a5c-a40e-c9087b4949d1"
      },
      "id": "zH0hQxPzKjtr",
      "execution_count": 31,
      "outputs": [
        {
          "output_type": "stream",
          "name": "stdout",
          "text": [
            " [1] \"#Features:  1  ; CV error= 0.3215  ; std dev= 0.0019\" \n",
            " [2] \"#Features:  2  ; CV error= 0.3169  ; std dev= 0.0019\" \n",
            " [3] \"#Features:  3  ; CV error= 0.3141  ; std dev= 0.0019\" \n",
            " [4] \"#Features:  4  ; CV error= 0.313  ; std dev= 0.0019\"  \n",
            " [5] \"#Features:  5  ; CV error= 0.3121  ; std dev= 0.0019\" \n",
            " [6] \"#Features:  6  ; CV error= 0.3121  ; std dev= 0.0019\" \n",
            " [7] \"#Features:  7  ; CV error= 0.3118  ; std dev= 0.0019\" \n",
            " [8] \"#Features:  8  ; CV error= 0.3118  ; std dev= 0.0019\" \n",
            " [9] \"#Features:  9  ; CV error= 0.3111  ; std dev= 0.0018\" \n",
            "[10] \"#Features:  10  ; CV error= 0.3111  ; std dev= 0.0019\"\n",
            "[11] \"#Features:  11  ; CV error= 0.311  ; std dev= 0.0019\" \n",
            "[12] \"#Features:  12  ; CV error= 0.3107  ; std dev= 0.0019\"\n",
            "[13] \"#Features:  13  ; CV error= 0.3104  ; std dev= 0.0019\"\n",
            "[14] \"#Features:  14  ; CV error= 0.3093  ; std dev= 0.0021\"\n",
            "[15] \"#Features:  15  ; CV error= 0.3089  ; std dev= 0.0021\"\n",
            "[16] \"#Features:  16  ; CV error= 0.308  ; std dev= 0.0019\" \n",
            "[17] \"#Features:  17  ; CV error= 0.3079  ; std dev= 0.0019\"\n",
            "[18] \"#Features:  18  ; CV error= 0.3078  ; std dev= 0.0019\"\n",
            "[19] \"#Features:  19  ; CV error= 0.307  ; std dev= 0.0017\" \n",
            "[20] \"#Features:  20  ; CV error= 0.307  ; std dev= 0.0017\" \n",
            "[21] \"#Features:  21  ; CV error= 0.3063  ; std dev= 0.0017\"\n",
            "[22] \"#Features:  22  ; CV error= 0.3061  ; std dev= 0.0017\"\n",
            "[23] \"#Features:  23  ; CV error= 0.3045  ; std dev= 0.0015\"\n",
            "[24] \"#Features:  24  ; CV error= 0.304  ; std dev= 0.0016\" \n",
            "[25] \"#Features:  25  ; CV error= 0.3039  ; std dev= 0.0016\"\n",
            "[26] \"#Features:  26  ; CV error= 0.3039  ; std dev= 0.0016\"\n",
            "[27] \"#Features:  27  ; CV error= 0.3037  ; std dev= 0.0016\"\n",
            "[28] \"#Features:  28  ; CV error= 0.3036  ; std dev= 0.0016\"\n",
            "[29] \"#Features:  29  ; CV error= 0.3033  ; std dev= 0.0016\"\n",
            "[30] \"#Features:  30  ; CV error= 0.3032  ; std dev= 0.0016\"\n",
            "[31] \"#Features:  31  ; CV error= 0.303  ; std dev= 0.0017\" \n",
            "[32] \"#Features:  32  ; CV error= 0.3028  ; std dev= 0.0016\"\n",
            "[33] \"#Features:  33  ; CV error= 0.3026  ; std dev= 0.0017\"\n",
            "[34] \"#Features:  34  ; CV error= 0.3025  ; std dev= 0.0017\"\n",
            "[35] \"#Features:  35  ; CV error= 0.3018  ; std dev= 0.0017\"\n",
            "[36] \"#Features:  36  ; CV error= 0.3015  ; std dev= 0.0017\"\n",
            "[37] \"#Features:  37  ; CV error= 0.3015  ; std dev= 0.0017\"\n",
            "[38] \"#Features:  38  ; CV error= 0.3015  ; std dev= 0.0017\"\n",
            "[39] \"#Features:  39  ; CV error= 0.3015  ; std dev= 0.0016\"\n",
            "[40] \"#Features:  40  ; CV error= 0.3014  ; std dev= 0.0016\"\n",
            "[41] \"#Features:  41  ; CV error= 0.3013  ; std dev= 0.0016\"\n",
            "[42] \"#Features:  42  ; CV error= 0.3012  ; std dev= 0.0016\"\n",
            "[43] \"#Features:  43  ; CV error= 0.3012  ; std dev= 0.0016\"\n",
            "[44] \"#Features:  44  ; CV error= 0.3011  ; std dev= 0.0016\"\n",
            "[45] \"#Features:  45  ; CV error= 0.3011  ; std dev= 0.0016\"\n",
            "[46] \"#Features:  46  ; CV error= 0.3011  ; std dev= 0.0016\"\n",
            "[47] \"#Features:  47  ; CV error= 0.3011  ; std dev= 0.0016\"\n",
            "[48] \"#Features:  48  ; CV error= 0.3011  ; std dev= 0.0016\"\n",
            "[49] \"#Features:  49  ; CV error= 0.3011  ; std dev= 0.0016\"\n",
            "[50] \"#Features:  50  ; CV error= 0.3011  ; std dev= 0.0016\"\n",
            "[51] \"#Features:  51  ; CV error= 0.3011  ; std dev= 0.0016\"\n",
            "[52] \"#Features:  52  ; CV error= 0.301  ; std dev= 0.0016\" \n",
            "[53] \"#Features:  53  ; CV error= 0.301  ; std dev= 0.0016\" \n",
            "[54] \"#Features:  54  ; CV error= 0.301  ; std dev= 0.0016\" \n",
            "[55] \"#Features:  55  ; CV error= 0.301  ; std dev= 0.0016\" \n",
            "[56] \"#Features:  56  ; CV error= 0.3009  ; std dev= 0.0016\"\n",
            "[57] \"#Features:  57  ; CV error= 0.3009  ; std dev= 0.0016\"\n",
            "[58] \"#Features:  58  ; CV error= 0.3009  ; std dev= 0.0016\"\n",
            "[59] \"#Features:  59  ; CV error= 0.3009  ; std dev= 0.0016\"\n",
            "[60] \"#Features:  60  ; CV error= 0.3009  ; std dev= 0.0016\"\n",
            "[61] \"#Features:  61  ; CV error= 0.3009  ; std dev= 0.0016\"\n",
            "[62] \"#Features:  62  ; CV error= 0.3009  ; std dev= 0.0016\"\n",
            "[63] \"#Features:  63  ; CV error= 0.3009  ; std dev= 0.0016\"\n",
            "[64] \"#Features:  64  ; CV error= 0.3009  ; std dev= 0.0016\"\n",
            "[65] \"#Features:  65  ; CV error= 0.3008  ; std dev= 0.0016\"\n",
            "[66] \"#Features:  66  ; CV error= 0.3008  ; std dev= 0.0015\"\n",
            "[67] \"#Features:  67  ; CV error= 0.3008  ; std dev= 0.0015\"\n",
            "[68] \"#Features:  68  ; CV error= 0.3008  ; std dev= 0.0015\"\n",
            "[69] \"#Features:  69  ; CV error= 0.3008  ; std dev= 0.0015\"\n",
            "[70] \"#Features:  70  ; CV error= 0.3008  ; std dev= 0.0015\"\n"
          ]
        }
      ]
    },
    {
      "cell_type": "code",
      "source": [
        "selected_variable_names <- colnames(encoded_train_data)[ranking]\n",
        "\n",
        "selected_variable_names\n",
        "ranking"
      ],
      "metadata": {
        "id": "iMoRnb2ov_gu",
        "colab": {
          "base_uri": "https://localhost:8080/",
          "height": 329
        },
        "outputId": "8def6ee6-a97b-4bd5-a145-c27893c78b5c"
      },
      "id": "iMoRnb2ov_gu",
      "execution_count": 32,
      "outputs": [
        {
          "output_type": "display_data",
          "data": {
            "text/html": [
              "<style>\n",
              ".list-inline {list-style: none; margin:0; padding: 0}\n",
              ".list-inline>li {display: inline-block}\n",
              ".list-inline>li:not(:last-child)::after {content: \"\\00b7\"; padding: 0 .5ex}\n",
              "</style>\n",
              "<ol class=list-inline><li>'fragile_building'</li><li>'ground_floor_type_v'</li><li>'foundation_type_w'</li><li>'foundation_type_r'</li><li>'roof_type_x'</li><li>'ground_floor_type_f'</li><li>'has_superstructure_cement_mortar_brick'</li><li>'has_superstructure_mud_mortar_stone'</li><li>'foundation_type_i'</li><li>'foundation_type_u'</li><li>'other_floor_type_q'</li><li>'other_floor_type_j'</li><li>'other_floor_type_s'</li><li>'count_floors_pre_eq'</li><li>'has_superstructure_rc_engineered'</li><li>'roof_type_n'</li><li>'roof_type_q'</li><li>'has_superstructure_rc_non_engineered'</li><li>'has_superstructure_timber'</li><li>'other_floor_type_x'</li><li>'legal_ownership_status_a'</li><li>'area_percentage'</li><li>'has_superstructure_stone_flag'</li><li>'legal_ownership_status_v'</li><li>'has_secondary_use_hotel'</li><li>'has_superstructure_adobe_mud'</li><li>'geo_level_1_id'</li><li>'has_secondary_use_rental'</li><li>'has_superstructure_bamboo'</li><li>'plan_configuration_u'</li><li>'plan_configuration_d'</li><li>'count_families'</li><li>'geo_level_2_id'</li><li>'has_superstructure_cement_mortar_stone'</li><li>'position_s'</li><li>'position_t'</li><li>'has_secondary_use'</li><li>'legal_ownership_status_w'</li><li>'age'</li><li>'ground_floor_type_x'</li><li>'plan_configuration_q'</li><li>'has_superstructure_other'</li><li>'has_secondary_use_institution'</li><li>'plan_configuration_a'</li><li>'plan_configuration_c'</li><li>'relative_volume'</li><li>'ground_floor_type_z'</li><li>'ground_floor_type_m'</li><li>'position_j'</li><li>'foundation_type_h'</li><li>'land_surface_condition_t'</li><li>'land_surface_condition_n'</li><li>'land_surface_condition_o'</li><li>'plan_configuration_o'</li><li>'plan_configuration_s'</li><li>'has_secondary_use_other'</li><li>'legal_ownership_status_r'</li><li>'has_secondary_use_industry'</li><li>'geo_level_3_id'</li><li>'height_percentage'</li><li>'has_secondary_use_health_post'</li><li>'has_secondary_use_gov_office'</li><li>'has_secondary_use_school'</li><li>'plan_configuration_m'</li><li>'plan_configuration_n'</li><li>'has_secondary_use_agriculture'</li><li>'has_superstructure_mud_mortar_brick'</li><li>'has_secondary_use_use_police'</li><li>'plan_configuration_f'</li><li>'position_o'</li></ol>\n"
            ],
            "text/markdown": "1. 'fragile_building'\n2. 'ground_floor_type_v'\n3. 'foundation_type_w'\n4. 'foundation_type_r'\n5. 'roof_type_x'\n6. 'ground_floor_type_f'\n7. 'has_superstructure_cement_mortar_brick'\n8. 'has_superstructure_mud_mortar_stone'\n9. 'foundation_type_i'\n10. 'foundation_type_u'\n11. 'other_floor_type_q'\n12. 'other_floor_type_j'\n13. 'other_floor_type_s'\n14. 'count_floors_pre_eq'\n15. 'has_superstructure_rc_engineered'\n16. 'roof_type_n'\n17. 'roof_type_q'\n18. 'has_superstructure_rc_non_engineered'\n19. 'has_superstructure_timber'\n20. 'other_floor_type_x'\n21. 'legal_ownership_status_a'\n22. 'area_percentage'\n23. 'has_superstructure_stone_flag'\n24. 'legal_ownership_status_v'\n25. 'has_secondary_use_hotel'\n26. 'has_superstructure_adobe_mud'\n27. 'geo_level_1_id'\n28. 'has_secondary_use_rental'\n29. 'has_superstructure_bamboo'\n30. 'plan_configuration_u'\n31. 'plan_configuration_d'\n32. 'count_families'\n33. 'geo_level_2_id'\n34. 'has_superstructure_cement_mortar_stone'\n35. 'position_s'\n36. 'position_t'\n37. 'has_secondary_use'\n38. 'legal_ownership_status_w'\n39. 'age'\n40. 'ground_floor_type_x'\n41. 'plan_configuration_q'\n42. 'has_superstructure_other'\n43. 'has_secondary_use_institution'\n44. 'plan_configuration_a'\n45. 'plan_configuration_c'\n46. 'relative_volume'\n47. 'ground_floor_type_z'\n48. 'ground_floor_type_m'\n49. 'position_j'\n50. 'foundation_type_h'\n51. 'land_surface_condition_t'\n52. 'land_surface_condition_n'\n53. 'land_surface_condition_o'\n54. 'plan_configuration_o'\n55. 'plan_configuration_s'\n56. 'has_secondary_use_other'\n57. 'legal_ownership_status_r'\n58. 'has_secondary_use_industry'\n59. 'geo_level_3_id'\n60. 'height_percentage'\n61. 'has_secondary_use_health_post'\n62. 'has_secondary_use_gov_office'\n63. 'has_secondary_use_school'\n64. 'plan_configuration_m'\n65. 'plan_configuration_n'\n66. 'has_secondary_use_agriculture'\n67. 'has_superstructure_mud_mortar_brick'\n68. 'has_secondary_use_use_police'\n69. 'plan_configuration_f'\n70. 'position_o'\n\n\n",
            "text/latex": "\\begin{enumerate*}\n\\item 'fragile\\_building'\n\\item 'ground\\_floor\\_type\\_v'\n\\item 'foundation\\_type\\_w'\n\\item 'foundation\\_type\\_r'\n\\item 'roof\\_type\\_x'\n\\item 'ground\\_floor\\_type\\_f'\n\\item 'has\\_superstructure\\_cement\\_mortar\\_brick'\n\\item 'has\\_superstructure\\_mud\\_mortar\\_stone'\n\\item 'foundation\\_type\\_i'\n\\item 'foundation\\_type\\_u'\n\\item 'other\\_floor\\_type\\_q'\n\\item 'other\\_floor\\_type\\_j'\n\\item 'other\\_floor\\_type\\_s'\n\\item 'count\\_floors\\_pre\\_eq'\n\\item 'has\\_superstructure\\_rc\\_engineered'\n\\item 'roof\\_type\\_n'\n\\item 'roof\\_type\\_q'\n\\item 'has\\_superstructure\\_rc\\_non\\_engineered'\n\\item 'has\\_superstructure\\_timber'\n\\item 'other\\_floor\\_type\\_x'\n\\item 'legal\\_ownership\\_status\\_a'\n\\item 'area\\_percentage'\n\\item 'has\\_superstructure\\_stone\\_flag'\n\\item 'legal\\_ownership\\_status\\_v'\n\\item 'has\\_secondary\\_use\\_hotel'\n\\item 'has\\_superstructure\\_adobe\\_mud'\n\\item 'geo\\_level\\_1\\_id'\n\\item 'has\\_secondary\\_use\\_rental'\n\\item 'has\\_superstructure\\_bamboo'\n\\item 'plan\\_configuration\\_u'\n\\item 'plan\\_configuration\\_d'\n\\item 'count\\_families'\n\\item 'geo\\_level\\_2\\_id'\n\\item 'has\\_superstructure\\_cement\\_mortar\\_stone'\n\\item 'position\\_s'\n\\item 'position\\_t'\n\\item 'has\\_secondary\\_use'\n\\item 'legal\\_ownership\\_status\\_w'\n\\item 'age'\n\\item 'ground\\_floor\\_type\\_x'\n\\item 'plan\\_configuration\\_q'\n\\item 'has\\_superstructure\\_other'\n\\item 'has\\_secondary\\_use\\_institution'\n\\item 'plan\\_configuration\\_a'\n\\item 'plan\\_configuration\\_c'\n\\item 'relative\\_volume'\n\\item 'ground\\_floor\\_type\\_z'\n\\item 'ground\\_floor\\_type\\_m'\n\\item 'position\\_j'\n\\item 'foundation\\_type\\_h'\n\\item 'land\\_surface\\_condition\\_t'\n\\item 'land\\_surface\\_condition\\_n'\n\\item 'land\\_surface\\_condition\\_o'\n\\item 'plan\\_configuration\\_o'\n\\item 'plan\\_configuration\\_s'\n\\item 'has\\_secondary\\_use\\_other'\n\\item 'legal\\_ownership\\_status\\_r'\n\\item 'has\\_secondary\\_use\\_industry'\n\\item 'geo\\_level\\_3\\_id'\n\\item 'height\\_percentage'\n\\item 'has\\_secondary\\_use\\_health\\_post'\n\\item 'has\\_secondary\\_use\\_gov\\_office'\n\\item 'has\\_secondary\\_use\\_school'\n\\item 'plan\\_configuration\\_m'\n\\item 'plan\\_configuration\\_n'\n\\item 'has\\_secondary\\_use\\_agriculture'\n\\item 'has\\_superstructure\\_mud\\_mortar\\_brick'\n\\item 'has\\_secondary\\_use\\_use\\_police'\n\\item 'plan\\_configuration\\_f'\n\\item 'position\\_o'\n\\end{enumerate*}\n",
            "text/plain": [
              " [1] \"fragile_building\"                      \n",
              " [2] \"ground_floor_type_v\"                   \n",
              " [3] \"foundation_type_w\"                     \n",
              " [4] \"foundation_type_r\"                     \n",
              " [5] \"roof_type_x\"                           \n",
              " [6] \"ground_floor_type_f\"                   \n",
              " [7] \"has_superstructure_cement_mortar_brick\"\n",
              " [8] \"has_superstructure_mud_mortar_stone\"   \n",
              " [9] \"foundation_type_i\"                     \n",
              "[10] \"foundation_type_u\"                     \n",
              "[11] \"other_floor_type_q\"                    \n",
              "[12] \"other_floor_type_j\"                    \n",
              "[13] \"other_floor_type_s\"                    \n",
              "[14] \"count_floors_pre_eq\"                   \n",
              "[15] \"has_superstructure_rc_engineered\"      \n",
              "[16] \"roof_type_n\"                           \n",
              "[17] \"roof_type_q\"                           \n",
              "[18] \"has_superstructure_rc_non_engineered\"  \n",
              "[19] \"has_superstructure_timber\"             \n",
              "[20] \"other_floor_type_x\"                    \n",
              "[21] \"legal_ownership_status_a\"              \n",
              "[22] \"area_percentage\"                       \n",
              "[23] \"has_superstructure_stone_flag\"         \n",
              "[24] \"legal_ownership_status_v\"              \n",
              "[25] \"has_secondary_use_hotel\"               \n",
              "[26] \"has_superstructure_adobe_mud\"          \n",
              "[27] \"geo_level_1_id\"                        \n",
              "[28] \"has_secondary_use_rental\"              \n",
              "[29] \"has_superstructure_bamboo\"             \n",
              "[30] \"plan_configuration_u\"                  \n",
              "[31] \"plan_configuration_d\"                  \n",
              "[32] \"count_families\"                        \n",
              "[33] \"geo_level_2_id\"                        \n",
              "[34] \"has_superstructure_cement_mortar_stone\"\n",
              "[35] \"position_s\"                            \n",
              "[36] \"position_t\"                            \n",
              "[37] \"has_secondary_use\"                     \n",
              "[38] \"legal_ownership_status_w\"              \n",
              "[39] \"age\"                                   \n",
              "[40] \"ground_floor_type_x\"                   \n",
              "[41] \"plan_configuration_q\"                  \n",
              "[42] \"has_superstructure_other\"              \n",
              "[43] \"has_secondary_use_institution\"         \n",
              "[44] \"plan_configuration_a\"                  \n",
              "[45] \"plan_configuration_c\"                  \n",
              "[46] \"relative_volume\"                       \n",
              "[47] \"ground_floor_type_z\"                   \n",
              "[48] \"ground_floor_type_m\"                   \n",
              "[49] \"position_j\"                            \n",
              "[50] \"foundation_type_h\"                     \n",
              "[51] \"land_surface_condition_t\"              \n",
              "[52] \"land_surface_condition_n\"              \n",
              "[53] \"land_surface_condition_o\"              \n",
              "[54] \"plan_configuration_o\"                  \n",
              "[55] \"plan_configuration_s\"                  \n",
              "[56] \"has_secondary_use_other\"               \n",
              "[57] \"legal_ownership_status_r\"              \n",
              "[58] \"has_secondary_use_industry\"            \n",
              "[59] \"geo_level_3_id\"                        \n",
              "[60] \"height_percentage\"                     \n",
              "[61] \"has_secondary_use_health_post\"         \n",
              "[62] \"has_secondary_use_gov_office\"          \n",
              "[63] \"has_secondary_use_school\"              \n",
              "[64] \"plan_configuration_m\"                  \n",
              "[65] \"plan_configuration_n\"                  \n",
              "[66] \"has_secondary_use_agriculture\"         \n",
              "[67] \"has_superstructure_mud_mortar_brick\"   \n",
              "[68] \"has_secondary_use_use_police\"          \n",
              "[69] \"plan_configuration_f\"                  \n",
              "[70] \"position_o\"                            "
            ]
          },
          "metadata": {}
        },
        {
          "output_type": "display_data",
          "data": {
            "text/html": [
              "<style>\n",
              ".list-inline {list-style: none; margin:0; padding: 0}\n",
              ".list-inline>li {display: inline-block}\n",
              ".list-inline>li:not(:last-child)::after {content: \"\\00b7\"; padding: 0 .5ex}\n",
              "</style>\n",
              "<ol class=list-inline><li>31</li><li>46</li><li>40</li><li>38</li><li>43</li><li>44</li><li>13</li><li>9</li><li>37</li><li>39</li><li>50</li><li>49</li><li>51</li><li>4</li><li>17</li><li>41</li><li>42</li><li>16</li><li>14</li><li>52</li><li>67</li><li>6</li><li>10</li><li>69</li><li>22</li><li>8</li><li>1</li><li>23</li><li>15</li><li>66</li><li>59</li><li>19</li><li>2</li><li>11</li><li>55</li><li>56</li><li>20</li><li>70</li><li>5</li><li>47</li><li>64</li><li>18</li><li>24</li><li>57</li><li>58</li><li>32</li><li>48</li><li>45</li><li>53</li><li>36</li><li>35</li><li>33</li><li>34</li><li>63</li><li>65</li><li>30</li><li>68</li><li>26</li><li>3</li><li>7</li><li>27</li><li>28</li><li>25</li><li>61</li><li>62</li><li>21</li><li>12</li><li>29</li><li>60</li><li>54</li></ol>\n"
            ],
            "text/markdown": "1. 31\n2. 46\n3. 40\n4. 38\n5. 43\n6. 44\n7. 13\n8. 9\n9. 37\n10. 39\n11. 50\n12. 49\n13. 51\n14. 4\n15. 17\n16. 41\n17. 42\n18. 16\n19. 14\n20. 52\n21. 67\n22. 6\n23. 10\n24. 69\n25. 22\n26. 8\n27. 1\n28. 23\n29. 15\n30. 66\n31. 59\n32. 19\n33. 2\n34. 11\n35. 55\n36. 56\n37. 20\n38. 70\n39. 5\n40. 47\n41. 64\n42. 18\n43. 24\n44. 57\n45. 58\n46. 32\n47. 48\n48. 45\n49. 53\n50. 36\n51. 35\n52. 33\n53. 34\n54. 63\n55. 65\n56. 30\n57. 68\n58. 26\n59. 3\n60. 7\n61. 27\n62. 28\n63. 25\n64. 61\n65. 62\n66. 21\n67. 12\n68. 29\n69. 60\n70. 54\n\n\n",
            "text/latex": "\\begin{enumerate*}\n\\item 31\n\\item 46\n\\item 40\n\\item 38\n\\item 43\n\\item 44\n\\item 13\n\\item 9\n\\item 37\n\\item 39\n\\item 50\n\\item 49\n\\item 51\n\\item 4\n\\item 17\n\\item 41\n\\item 42\n\\item 16\n\\item 14\n\\item 52\n\\item 67\n\\item 6\n\\item 10\n\\item 69\n\\item 22\n\\item 8\n\\item 1\n\\item 23\n\\item 15\n\\item 66\n\\item 59\n\\item 19\n\\item 2\n\\item 11\n\\item 55\n\\item 56\n\\item 20\n\\item 70\n\\item 5\n\\item 47\n\\item 64\n\\item 18\n\\item 24\n\\item 57\n\\item 58\n\\item 32\n\\item 48\n\\item 45\n\\item 53\n\\item 36\n\\item 35\n\\item 33\n\\item 34\n\\item 63\n\\item 65\n\\item 30\n\\item 68\n\\item 26\n\\item 3\n\\item 7\n\\item 27\n\\item 28\n\\item 25\n\\item 61\n\\item 62\n\\item 21\n\\item 12\n\\item 29\n\\item 60\n\\item 54\n\\end{enumerate*}\n",
            "text/plain": [
              " [1] 31 46 40 38 43 44 13  9 37 39 50 49 51  4 17 41 42 16 14 52 67  6 10 69 22\n",
              "[26]  8  1 23 15 66 59 19  2 11 55 56 20 70  5 47 64 18 24 57 58 32 48 45 53 36\n",
              "[51] 35 33 34 63 65 30 68 26  3  7 27 28 25 61 62 21 12 29 60 54"
            ]
          },
          "metadata": {}
        }
      ]
    },
    {
      "cell_type": "markdown",
      "source": [
        "## Principal Component Analysis (PCA):\n",
        "\n",
        "PCA is a dimensionality reduction technique that is often used to simplify the dataset with many interrelated variables, while retaining as much as possible of the variation present in the dataset.\n",
        "\n",
        "he  works by calculating a new set of variables, called principal components, each of which is a linear combination of the input variables. The principal components are orthogonal to each other, meaning they're uncorrelated."
      ],
      "metadata": {
        "id": "J7l5mQzpNr1x"
      },
      "id": "J7l5mQzpNr1x"
    },
    {
      "cell_type": "code",
      "source": [
        "#kept only 45 variable for the model \n",
        "r_data<-encoded_train_data[ranking[0:40]]\n",
        "dim(r_data)\n",
        "r_test<-encoded_test_features[ranking[0:40]]\n",
        "c_data<-encoded_train_data[correlation_ranking_idx[0:40]]\n",
        "c_test <-encoded_test_features[correlation_ranking_idx[0:40]]\n",
        "dim(c_data)\n",
        "dim(r_test)"
      ],
      "metadata": {
        "id": "oOTmWfxlOYoH",
        "colab": {
          "base_uri": "https://localhost:8080/",
          "height": 69
        },
        "outputId": "7e1914af-7aa1-49c4-9f7b-03049bd4d722"
      },
      "id": "oOTmWfxlOYoH",
      "execution_count": 75,
      "outputs": [
        {
          "output_type": "display_data",
          "data": {
            "text/html": [
              "<style>\n",
              ".list-inline {list-style: none; margin:0; padding: 0}\n",
              ".list-inline>li {display: inline-block}\n",
              ".list-inline>li:not(:last-child)::after {content: \"\\00b7\"; padding: 0 .5ex}\n",
              "</style>\n",
              "<ol class=list-inline><li>260601</li><li>40</li></ol>\n"
            ],
            "text/markdown": "1. 260601\n2. 40\n\n\n",
            "text/latex": "\\begin{enumerate*}\n\\item 260601\n\\item 40\n\\end{enumerate*}\n",
            "text/plain": [
              "[1] 260601     40"
            ]
          },
          "metadata": {}
        },
        {
          "output_type": "display_data",
          "data": {
            "text/html": [
              "<style>\n",
              ".list-inline {list-style: none; margin:0; padding: 0}\n",
              ".list-inline>li {display: inline-block}\n",
              ".list-inline>li:not(:last-child)::after {content: \"\\00b7\"; padding: 0 .5ex}\n",
              "</style>\n",
              "<ol class=list-inline><li>260601</li><li>40</li></ol>\n"
            ],
            "text/markdown": "1. 260601\n2. 40\n\n\n",
            "text/latex": "\\begin{enumerate*}\n\\item 260601\n\\item 40\n\\end{enumerate*}\n",
            "text/plain": [
              "[1] 260601     40"
            ]
          },
          "metadata": {}
        },
        {
          "output_type": "display_data",
          "data": {
            "text/html": [
              "<style>\n",
              ".list-inline {list-style: none; margin:0; padding: 0}\n",
              ".list-inline>li {display: inline-block}\n",
              ".list-inline>li:not(:last-child)::after {content: \"\\00b7\"; padding: 0 .5ex}\n",
              "</style>\n",
              "<ol class=list-inline><li>86868</li><li>40</li></ol>\n"
            ],
            "text/markdown": "1. 86868\n2. 40\n\n\n",
            "text/latex": "\\begin{enumerate*}\n\\item 86868\n\\item 40\n\\end{enumerate*}\n",
            "text/plain": [
              "[1] 86868    40"
            ]
          },
          "metadata": {}
        }
      ]
    },
    {
      "cell_type": "code",
      "source": [
        "# create data for training model \n",
        "dammage <- train_labels$damage_grade\n",
        "data_train<-cbind(r_data, dammage)\n",
        "unique(data_train$dammage)\n",
        "dim(data_train)\n",
        "dim(train_labels)\n",
        "\n",
        "# create for nnn\n"
      ],
      "metadata": {
        "id": "2jbdxGcbZk0F",
        "colab": {
          "base_uri": "https://localhost:8080/",
          "height": 69
        },
        "outputId": "5d532cc3-deea-4df1-e989-46fa6ce3c902"
      },
      "id": "2jbdxGcbZk0F",
      "execution_count": 76,
      "outputs": [
        {
          "output_type": "display_data",
          "data": {
            "text/html": [
              "<style>\n",
              ".list-inline {list-style: none; margin:0; padding: 0}\n",
              ".list-inline>li {display: inline-block}\n",
              ".list-inline>li:not(:last-child)::after {content: \"\\00b7\"; padding: 0 .5ex}\n",
              "</style>\n",
              "<ol class=list-inline><li>3</li><li>2</li><li>1</li></ol>\n"
            ],
            "text/markdown": "1. 3\n2. 2\n3. 1\n\n\n",
            "text/latex": "\\begin{enumerate*}\n\\item 3\n\\item 2\n\\item 1\n\\end{enumerate*}\n",
            "text/plain": [
              "[1] 3 2 1"
            ]
          },
          "metadata": {}
        },
        {
          "output_type": "display_data",
          "data": {
            "text/html": [
              "<style>\n",
              ".list-inline {list-style: none; margin:0; padding: 0}\n",
              ".list-inline>li {display: inline-block}\n",
              ".list-inline>li:not(:last-child)::after {content: \"\\00b7\"; padding: 0 .5ex}\n",
              "</style>\n",
              "<ol class=list-inline><li>260601</li><li>41</li></ol>\n"
            ],
            "text/markdown": "1. 260601\n2. 41\n\n\n",
            "text/latex": "\\begin{enumerate*}\n\\item 260601\n\\item 41\n\\end{enumerate*}\n",
            "text/plain": [
              "[1] 260601     41"
            ]
          },
          "metadata": {}
        },
        {
          "output_type": "display_data",
          "data": {
            "text/html": [
              "<style>\n",
              ".list-inline {list-style: none; margin:0; padding: 0}\n",
              ".list-inline>li {display: inline-block}\n",
              ".list-inline>li:not(:last-child)::after {content: \"\\00b7\"; padding: 0 .5ex}\n",
              "</style>\n",
              "<ol class=list-inline><li>260601</li><li>1</li></ol>\n"
            ],
            "text/markdown": "1. 260601\n2. 1\n\n\n",
            "text/latex": "\\begin{enumerate*}\n\\item 260601\n\\item 1\n\\end{enumerate*}\n",
            "text/plain": [
              "[1] 260601      1"
            ]
          },
          "metadata": {}
        }
      ]
    },
    {
      "cell_type": "code",
      "source": [
        "normalize_function <- function(df){\n",
        "  #function to normalise numeric features\n",
        "  integer_variables <- which(sapply(df[1,],class) %in% c(\"integer\", \"numeric\")) #select numeric variables\n",
        "  colnames(df)[integer_variables]\n",
        "\n",
        "  normalized_features <- df \n",
        "  for (i in integer_variables){\n",
        "    if (max(df[,i]) != 0){ #if the max value of the variable is different from 1\n",
        "      normalized_features[,i] <- df[,i]/max(df[,i]) #divide all values of the column by the maximum value\n",
        "   }\n",
        "  }\n",
        "  return(normalized_features)\n",
        "}"
      ],
      "metadata": {
        "id": "NXqiHnp3audt"
      },
      "id": "NXqiHnp3audt",
      "execution_count": 83,
      "outputs": []
    },
    {
      "cell_type": "code",
      "source": [
        "nn_new <-normalize_function(train_features)\n",
        "nn_news <- cbind(nn_new, dammage)\n",
        "dim(nn_new)"
      ],
      "metadata": {
        "colab": {
          "base_uri": "https://localhost:8080/",
          "height": 34
        },
        "id": "V6sGu27na_tL",
        "outputId": "38dd4563-87a8-40f3-e221-0a44041303ca"
      },
      "id": "V6sGu27na_tL",
      "execution_count": 86,
      "outputs": [
        {
          "output_type": "display_data",
          "data": {
            "text/html": [
              "<style>\n",
              ".list-inline {list-style: none; margin:0; padding: 0}\n",
              ".list-inline>li {display: inline-block}\n",
              ".list-inline>li:not(:last-child)::after {content: \"\\00b7\"; padding: 0 .5ex}\n",
              "</style>\n",
              "<ol class=list-inline><li>260601</li><li>41</li></ol>\n"
            ],
            "text/markdown": "1. 260601\n2. 41\n\n\n",
            "text/latex": "\\begin{enumerate*}\n\\item 260601\n\\item 41\n\\end{enumerate*}\n",
            "text/plain": [
              "[1] 260601     41"
            ]
          },
          "metadata": {}
        }
      ]
    },
    {
      "cell_type": "code",
      "source": [
        "# Créer une table de fréquence\n",
        "damage_freq <- table(dammage)\n",
        "\n",
        "# Créer un barplot\n",
        "barplot(damage_freq, main = \"Distribution of Damage Classes\", xlab = \"Damage\", ylab = \"Count\")\n",
        "\n",
        "\n",
        "\n"
      ],
      "metadata": {
        "id": "B01fqDN6Mk6i",
        "colab": {
          "base_uri": "https://localhost:8080/",
          "height": 437
        },
        "outputId": "b319b3c7-c828-42fb-94f1-770da4cc727e"
      },
      "id": "B01fqDN6Mk6i",
      "execution_count": 35,
      "outputs": [
        {
          "output_type": "display_data",
          "data": {
            "text/plain": [
              "Plot with title “Distribution of Damage Classes”"
            ],
            "image/png": "[encoded data removed]"
          },
          "metadata": {
            "image/png": {
              "width": 420,
              "height": 420
            }
          }
        }
      ]
    },
    {
      "cell_type": "code",
      "source": [],
      "metadata": {
        "id": "1NHrwuofZsR3"
      },
      "id": "1NHrwuofZsR3",
      "execution_count": 36,
      "outputs": []
    },
    {
      "cell_type": "code",
      "source": [
        "\n"
      ],
      "metadata": {
        "id": "sV8KIJXteQUS"
      },
      "id": "sV8KIJXteQUS",
      "execution_count": 37,
      "outputs": []
    },
    {
      "cell_type": "markdown",
      "source": [
        "## Performance metric\n",
        "\n",
        "We are predicting the level of damage from 1 to 3. The level of damage is an ordinal variable meaning that ordering is important. \n",
        "\n",
        "to measure the performance of our algorithms, we'll use the F1 score which balances the precision and recall of a classifier. Traditionally, the F1 score is used to evaluate performance on a binary classifier, but since we have three possible labels we will use a variant called the micro averaged F1 score.\n",
        "\n",
        "\\begin{equation}\n",
        "F_{micro} = 2 \\cdot \\frac{P_{micro} \\cdot R_{micro}}{P_{micro} + R_{micro}}\n",
        "\\end{equation}\n",
        "where \n",
        "\n",
        "$P_{micro} = \\frac{\\sum_{k=1}^{3} TP_{k}}{\\sum_{k=1}^{3} (TP_{k} + FP_{k})}$\n",
        "\n",
        "\n",
        "$R_{micro} = \\frac{\\sum_{k=1}^{3} TP_{k}}{\\sum_{k=1}^{3} (TP_{k} + FN_{k})}$\n",
        "\n",
        "and TP is True Positive, FP is False Positive, FN is False Negative, and k\n",
        " represents each class in 1,2,3"
      ],
      "metadata": {
        "id": "AkSzyUa6Tj3F"
      },
      "id": "AkSzyUa6Tj3F"
    },
    {
      "cell_type": "code",
      "source": [
        "# from https://pastebin.com/b6WufBNq\n",
        "\n",
        "ConfusionMatrix <- function(y_pred, y_true) {\n",
        "  Confusion_Mat <- table(y_true, y_pred)\n",
        "  return(Confusion_Mat)\n",
        "}\n",
        " \n",
        "ConfusionDF <- function(y_pred, y_true) {\n",
        "  Confusion_DF <- transform(as.data.frame(ConfusionMatrix(y_pred, y_true)),\n",
        "                            y_true = as.character(y_true),\n",
        "                            y_pred = as.character(y_pred),\n",
        "                            Freq = as.integer(Freq))\n",
        "  return(Confusion_DF)\n",
        "}\n",
        " \n",
        "Precision_micro <- function(y_true, y_pred, labels = NULL) {\n",
        "  Confusion_DF <- ConfusionDF(y_pred, y_true)\n",
        " \n",
        "  if (is.null(labels) == TRUE) labels <- unique(c(y_true, y_pred))\n",
        "  # this is not bulletproof since there might be labels missing (in strange cases)\n",
        "  # in strange cases where they existed in training set but are missing from test ground truth and predictions.\n",
        " \n",
        "  TP <- c()\n",
        "  FP <- c()\n",
        "  for (i in c(1:length(labels))) {\n",
        "    positive <- labels[i]\n",
        "   \n",
        "    # it may happen that a label is never predicted (missing from y_pred) but exists in y_true\n",
        "    # in this case ConfusionDF will not have these lines and thus the simplified code crashes\n",
        "    # TP[i] <- as.integer(Confusion_DF[which(Confusion_DF$y_true==positive & Confusion_DF$y_pred==positive), \"Freq\"])\n",
        "    # FP[i] <- as.integer(sum(Confusion_DF[which(Confusion_DF$y_true!=positive & Confusion_DF$y_pred==positive), \"Freq\"]))\n",
        "   \n",
        "    # workaround:\n",
        "    # i don't want to change ConfusionDF since i don't know if the current behaviour is a feature or a bug.\n",
        "    tmp <- Confusion_DF[which(Confusion_DF$y_true==positive & Confusion_DF$y_pred==positive), \"Freq\"]\n",
        "    TP[i] <- if (length(tmp)==0) 0 else as.integer(tmp)\n",
        "   \n",
        "    tmp <- Confusion_DF[which(Confusion_DF$y_true!=positive & Confusion_DF$y_pred==positive), \"Freq\"]\n",
        "    FP[i] <- if (length(tmp)==0) 0 else as.integer(sum(tmp))\n",
        "  }\n",
        "  Precision_micro <- sum(TP) / (sum(TP) + sum(FP))\n",
        "  return(Precision_micro)\n",
        "}\n",
        " \n",
        "Recall_micro <- function(y_true, y_pred, labels = NULL) {\n",
        "  Confusion_DF <- ConfusionDF(y_pred, y_true)\n",
        " \n",
        "  if (is.null(labels) == TRUE) labels <- unique(c(y_true, y_pred))\n",
        "  # this is not bulletproof since there might be labels missing (in strange cases)\n",
        "  # in strange cases where they existed in training set but are missing from test ground truth and predictions.\n",
        " \n",
        "  TP <- c()\n",
        "  FN <- c()\n",
        "  for (i in c(1:length(labels))) {\n",
        "    positive <- labels[i]\n",
        "   \n",
        "    # short version, comment out due to bug or feature of Confusion_DF\n",
        "    # TP[i] <- as.integer(Confusion_DF[which(Confusion_DF$y_true==positive & Confusion_DF$y_pred==positive), \"Freq\"])\n",
        "    # FP[i] <- as.integer(sum(Confusion_DF[which(Confusion_DF$y_true==positive & Confusion_DF$y_pred!=positive), \"Freq\"]))\n",
        "   \n",
        "    # workaround:\n",
        "    tmp <- Confusion_DF[which(Confusion_DF$y_true==positive & Confusion_DF$y_pred==positive), \"Freq\"]\n",
        "    TP[i] <- if (length(tmp)==0) 0 else as.integer(tmp)\n",
        " \n",
        "    tmp <- Confusion_DF[which(Confusion_DF$y_true==positive & Confusion_DF$y_pred!=positive), \"Freq\"]\n",
        "    FN[i] <- if (length(tmp)==0) 0 else as.integer(sum(tmp))\n",
        "  }\n",
        "  Recall_micro <- sum(TP) / (sum(TP) + sum(FN))\n",
        "  return(Recall_micro)\n",
        "}\n",
        " \n",
        "F1_Score_micro <- function(y_true, y_pred, labels = NULL) {\n",
        "  if (is.null(labels) == TRUE) labels <- unique(c(y_true, y_pred)) # possible problems if labels are missing from y_*\n",
        "  Precision <- Precision_micro(y_true, y_pred, labels)\n",
        "  Recall <- Recall_micro(y_true, y_pred, labels)\n",
        "  F1_Score_micro <- 2 * (Precision * Recall) / (Precision + Recall)\n",
        "  return(F1_Score_micro)\n",
        "}"
      ],
      "metadata": {
        "id": "o8xsfeqsXKML"
      },
      "id": "o8xsfeqsXKML",
      "execution_count": 38,
      "outputs": []
    },
    {
      "cell_type": "code",
      "source": [
        "dim(data_train)"
      ],
      "metadata": {
        "id": "4VPPn-jiuMVl",
        "colab": {
          "base_uri": "https://localhost:8080/",
          "height": 34
        },
        "outputId": "eb518848-be63-43f0-d4bc-aea9bb950724"
      },
      "id": "4VPPn-jiuMVl",
      "execution_count": 39,
      "outputs": [
        {
          "output_type": "display_data",
          "data": {
            "text/html": [
              "<style>\n",
              ".list-inline {list-style: none; margin:0; padding: 0}\n",
              ".list-inline>li {display: inline-block}\n",
              ".list-inline>li:not(:last-child)::after {content: \"\\00b7\"; padding: 0 .5ex}\n",
              "</style>\n",
              "<ol class=list-inline><li>260601</li><li>41</li></ol>\n"
            ],
            "text/markdown": "1. 260601\n2. 41\n\n\n",
            "text/latex": "\\begin{enumerate*}\n\\item 260601\n\\item 41\n\\end{enumerate*}\n",
            "text/plain": [
              "[1] 260601     41"
            ]
          },
          "metadata": {}
        }
      ]
    },
    {
      "cell_type": "markdown",
      "source": [
        "## model selection\n"
      ],
      "metadata": {
        "id": "yW-d7Yp7K3LU"
      },
      "id": "yW-d7Yp7K3LU"
    },
    {
      "cell_type": "markdown",
      "source": [
        "# Neutral network"
      ],
      "metadata": {
        "id": "kDgpLwcG17HU"
      },
      "id": "kDgpLwcG17HU"
    },
    {
      "cell_type": "code",
      "source": [
        "accuracyFromConfusionMatrix <- function(confusion_matrix) {\n",
        "  expected_classes <- c(\"1\", \"2\", \"3\")\n",
        "  \n",
        "  for (class in expected_classes) {\n",
        "    if (!(class %in% rownames(confusion_matrix))) {\n",
        "      confusion_matrix <- rbind(confusion_matrix, rep(0, ncol(confusion_matrix)))\n",
        "      rownames(confusion_matrix)[length(rownames(confusion_matrix))] <- class\n",
        "    }\n",
        "  }\n",
        "  \n",
        "  correct_predictions <- sum(diag(confusion_matrix))\n",
        "  total_predictions <- sum(confusion_matrix)\n",
        "  accuracy <- correct_predictions / total_predictions\n",
        "  \n",
        "  return(accuracy)\n",
        "}\n",
        "\n",
        "\n",
        "computeResults <- function(Y, Y_hat, explanatory_string = \"\", verbose = TRUE){\n",
        "    confusion_matrix <- table(Y_hat, Y)\n",
        "    accuracy <- accuracyFromConfusionMatrix(confusion_matrix)\n",
        "    misclassification_rate <- 1 - accuracy\n",
        "    f1_score <- F1_Score_micro(Y, Y_hat)\n",
        "    \n",
        "    if(verbose){\n",
        "        print(paste(\"[INFO] - Accuracy\", explanatory_string, \":\", accuracy))\n",
        "        print(paste(\"[INFO] - Misclassification rate\", explanatory_string, \":\", misclassification_rate))\n",
        "        print(paste(\"[INFO] - F1 Score\", explanatory_string, \":\", f1_score))\n",
        "    }\n",
        "    \n",
        "    return(list(accuracy = accuracy, misclassification_rate = misclassification_rate, f1_score = f1_score))\n",
        "}\n"
      ],
      "metadata": {
        "id": "Z0Hv7Y8dLSDv"
      },
      "id": "Z0Hv7Y8dLSDv",
      "execution_count": 90,
      "outputs": []
    },
    {
      "cell_type": "code",
      "source": [
        "\n",
        "crossValidationInOutSample <- function(data_train, hidden_nodes=5,k=10,threshold1=0.3, threshold2=0.5, r=0.4){\n",
        "    target_variable <- ncol(data_train)\n",
        "    accuracy_vec <- c()\n",
        "    \n",
        "    # 1. Shuffle the dataset randomly.\n",
        "    data_idx <- sample(1:nrow(data_train)-1)\n",
        "    half_split <- ceiling((nrow(data_train)-1)/2)\n",
        "    \n",
        "    # 2. Split the dataset into k groups\n",
        "    max <- ceiling(nrow(data_train)/k)\n",
        "    splits <- split(data_idx, ceiling(seq_along(data_idx)/max))\n",
        "\n",
        "    # 3. For each unique group:\n",
        "    for (i in 1:k){\n",
        "        #3.1 Take the group as a hold out or test data set\n",
        "        train_data_cv <- data_train[-splits[[i]],]\n",
        "\n",
        "        #3.2 Take the remaining groups as a training data set\n",
        "        test_data <- data_train[splits[[i]],]\n",
        "        print(paste(\"Training set size:\",dim(train_data_cv)[1],\"- Testing set size\",dim(test_data)[1]))\n",
        "\n",
        "        #3.3 Fit a model on the training set and evaluate it on the test set\n",
        "        model_single_out <- nnet(train_data_cv$dammage ~ ., data=train_data_cv,size=hidden_nodes,\n",
        "                                 skip=TRUE, maxit=300,MaxNWts=50000,rang=r,trace=FALSE)\n",
        "\n",
        "        Y_pred_probs <- predict(model_single_out,test_data[,-target_variable])\n",
        "        Y <- test_data[,target_variable]\n",
        "        Y_hat <- ifelse(Y_pred_probs[, 1] > threshold1, \"1\", ifelse(Y_pred_probs[, 2] > threshold2, \"2\", \"3\"))\n",
        "\n",
        "        confusion_matrix <- table(Y_hat,Y)\n",
        "        \n",
        "        #3.4 Retain the evaluation score and discard the model\n",
        "        accuracy_vec[i] = sum(diag(confusion_matrix))/sum(confusion_matrix)\n",
        "        misclassification_rate = 1 - accuracy_vec[i]\n",
        "        print(paste(\"Misclassification rate -\",i,\"fold:\",misclassification_rate))\n",
        "    }\n",
        "\n",
        "    # 4.1 Summarize the skill of the model using the sample of model evaluation scores\n",
        "    print(paste(\"CV - Mean misclassification rate:\",1-mean(accuracy_vec)))\n",
        "    \n",
        "    # 4.2 Split training-test for in/out of sample predictions\n",
        "    train_data <- data_train[data_idx[1:half_split],]\n",
        "    test_data <- data_train[data_idx[(half_split+1):nrow(data_train)],]\n",
        "    Y <- test_data[,target_variable]\n",
        "\n",
        "    model_single_out <- nnet(train_data$dammage ~ ., data=train_data,size=hidden_nodes,trace=F,skip=FALSE,maxit=300,MaxNWts=50000,rang=r)\n",
        "    model_single_out\n",
        "  #Y_hat <- ifelse(Y_pred_probs[, 1] > threshold1, \"1\", ifelse(Y_pred_probs[, 2] > threshold2, \"2\", \"3\"))\n",
        "\n",
        "    # 4.2 - In sample evaluation error computation\n",
        "    Y_pred_probs<-predict(model_single_out,train_data[,-target_variable])\n",
        "    Y_hat_single_out_in_sample <- ifelse(Y_pred_probs[,1] > threshold1, \"1\", \n",
        "                                         ifelse(Y_pred_probs[,2] > threshold2, \"2\", \"3\"))\n",
        "\n",
        "    # 4.2 - Out of sample evaluation error computation\n",
        "    Y_pred_probs<-predict(model_single_out,test_data[,-target_variable])\n",
        "    Y_hat_single_out_out_sample <- ifelse(Y_pred_probs[,1] > threshold1, \"1\", \n",
        "                                          ifelse(Y_predY_pred_probs[,2] > threshold2, \"2\", \"3\"))\n",
        "\n",
        "    confusion_matrix_in_sample <- table(Y_hat_single_out_in_sample, train_data[,target_variable])\n",
        "    confusion_matrix_out_sample <- table(Y_hat_single_out_out_sample, Y)\n",
        "\n",
        "    accuracy_in_sample <- sum(diag(confusion_matrix_in_sample))/sum(confusion_matrix_in_sample)\n",
        "    accuracy_out_sample <- sum(diag(confusion_matrix_out_sample))/sum(confusion_matrix_out_sample)\n",
        "\n",
        "    misclassification_rate_in_sample = 1 - accuracy_in_sample\n",
        "    misclassification_rate_out_sample = 1 - accuracy_out_sample\n",
        "    \n",
        "    accuracy_in_sample <- computeResults(train_data[,target_variable],Y_hat_single_out_in_sample,\"In sample\")\n",
        "    accuracy_out_sample <- computeResults(Y,Y_hat_single_out_out_sample,\"Out sample\")\n",
        "    \n",
        "    return(list(in_sample=accuracy_in_sample,out_sample=accuracy_out_sample,cv=mean(accuracy_vec)))\n",
        "\n",
        "}\n"
      ],
      "metadata": {
        "id": "oF0eIB04wNX5"
      },
      "id": "oF0eIB04wNX5",
      "execution_count": 79,
      "outputs": []
    },
    {
      "cell_type": "code",
      "source": [],
      "metadata": {
        "id": "iD60M4CTUlTt"
      },
      "id": "iD60M4CTUlTt",
      "execution_count": null,
      "outputs": []
    },
    {
      "cell_type": "code",
      "source": [
        "set.seed(5)\n",
        "hidden_nodes_vec <- c(3,5,7,10)\n",
        "\n",
        "error_in_sample_vec <- numeric()\n",
        "error_out_sample_vec <- numeric()\n",
        "error_cv_vec <- numeric()\n",
        "\n",
        "k = 10 # nombre de plis pour la validation croisée\n",
        "threshold1 = 0.3 # premier seuil pour la prédiction\n",
        "threshold2 = 0.5 # second seuil pour la prédiction\n",
        "r = 0.4 # rayon pour l'initialisation des poids du réseau\n",
        "\n",
        "\n",
        "  for(hidden_nodes in hidden_nodes_vec){\n",
        "  results = crossValidationInOutSample(nn_news, hidden_nodes=hidden_nodes, k=k, threshold1=threshold1, threshold2=threshold2, r=r)\n",
        "  \n",
        "  if(is.list(results)){\n",
        "      error_in_sample_vec <- c(error_in_sample_vec, results$in_sample$misclassification_rate)\n",
        "      error_out_sample_vec <- c(error_out_sample_vec, results$out_sample$misclassification_rate)\n",
        "      error_cv_vec <- c(error_cv_vec, results$cv)\n",
        "  } else {\n",
        "      print(\"Error: crossValidationInOutSample did not return a list\")\n",
        "  }\n",
        "}\n",
        "\n",
        "\n",
        "\n",
        "# Print the error vectors\n",
        "\n"
      ],
      "metadata": {
        "id": "cchXvYROd2c0",
        "colab": {
          "base_uri": "https://localhost:8080/"
        },
        "outputId": "ed264288-b6ca-4b6c-a79e-0fd141b84dd9"
      },
      "id": "cchXvYROd2c0",
      "execution_count": 91,
      "outputs": [
        {
          "output_type": "stream",
          "name": "stdout",
          "text": [
            "[1] \"Training set size: 234540 - Testing set size 26061\"\n",
            "[1] \"Misclassification rate - 1 fold: 0.904186332067073\"\n",
            "[1] \"Training set size: 234540 - Testing set size 26061\"\n",
            "[1] \"Misclassification rate - 2 fold: 0.901692183722804\"\n",
            "[1] \"Training set size: 234540 - Testing set size 26061\"\n",
            "[1] \"Misclassification rate - 3 fold: 0.905260734430759\"\n",
            "[1] \"Training set size: 234541 - Testing set size 26060\"\n",
            "[1] \"Misclassification rate - 4 fold: 0.90353031465848\"\n",
            "[1] \"Training set size: 234540 - Testing set size 26061\"\n",
            "[1] \"Misclassification rate - 5 fold: 0.903457273320287\"\n",
            "[1] \"Training set size: 234540 - Testing set size 26061\"\n",
            "[1] \"Misclassification rate - 6 fold: 0.901385211618894\"\n",
            "[1] \"Training set size: 234540 - Testing set size 26061\"\n",
            "[1] \"Misclassification rate - 7 fold: 0.901692183722804\"\n",
            "[1] \"Training set size: 234540 - Testing set size 26061\"\n",
            "[1] \"Misclassification rate - 8 fold: 0.907217681593185\"\n",
            "[1] \"Training set size: 234540 - Testing set size 26061\"\n",
            "[1] \"Misclassification rate - 9 fold: 0.905375848969725\"\n",
            "[1] \"Training set size: 234549 - Testing set size 26052\"\n",
            "[1] \"Misclassification rate - 10 fold: 0.902118839244588\"\n",
            "[1] \"CV - Mean misclassification rate: 0.90359166033486\"\n",
            "[1] \"[INFO] - Accuracy In sample : 0.0963706551853813\"\n",
            "[1] \"[INFO] - Misclassification rate In sample : 0.903629344814619\"\n",
            "[1] \"[INFO] - F1 Score In sample : 0.0963706551853813\"\n",
            "[1] \"[INFO] - Accuracy Out sample : 0.0964459213666818\"\n",
            "[1] \"[INFO] - Misclassification rate Out sample : 0.903554078633318\"\n",
            "[1] \"[INFO] - F1 Score Out sample : 0.0964459213666818\"\n",
            "[1] \"Training set size: 234540 - Testing set size 26061\"\n",
            "[1] \"Misclassification rate - 1 fold: 0.901078239514984\"\n",
            "[1] \"Training set size: 234541 - Testing set size 26060\"\n",
            "[1] \"Misclassification rate - 2 fold: 0.902762854950115\"\n",
            "[1] \"Training set size: 234540 - Testing set size 26061\"\n",
            "[1] \"Misclassification rate - 3 fold: 0.904531675683972\"\n",
            "[1] \"Training set size: 234540 - Testing set size 26061\"\n",
            "[1] \"Misclassification rate - 4 fold: 0.90338053029431\"\n",
            "[1] \"Training set size: 234540 - Testing set size 26061\"\n",
            "[1] \"Misclassification rate - 5 fold: 0.905989793177545\"\n",
            "[1] \"Training set size: 234540 - Testing set size 26061\"\n",
            "[1] \"Misclassification rate - 6 fold: 0.903227044242354\"\n",
            "[1] \"Training set size: 234540 - Testing set size 26061\"\n",
            "[1] \"Misclassification rate - 7 fold: 0.904646790222938\"\n",
            "[1] \"Training set size: 234540 - Testing set size 26061\"\n",
            "[1] \"Misclassification rate - 8 fold: 0.903303787268332\"\n",
            "[1] \"Training set size: 234540 - Testing set size 26061\"\n",
            "[1] \"Misclassification rate - 9 fold: 0.904109589041096\"\n",
            "[1] \"Training set size: 234549 - Testing set size 26052\"\n",
            "[1] \"Misclassification rate - 10 fold: 0.902886534623062\"\n",
            "[1] \"CV - Mean misclassification rate: 0.903591683901871\"\n",
            "[1] \"[INFO] - Accuracy In sample : 0.0964474017452168\"\n",
            "[1] \"[INFO] - Misclassification rate In sample : 0.903552598254783\"\n",
            "[1] \"[INFO] - F1 Score In sample : 0.0964474017452168\"\n",
            "[1] \"[INFO] - Accuracy Out sample : 0.0963691759848351\"\n",
            "[1] \"[INFO] - Misclassification rate Out sample : 0.903630824015165\"\n",
            "[1] \"[INFO] - F1 Score Out sample : 0.0963691759848351\"\n",
            "[1] \"Training set size: 234540 - Testing set size 26061\"\n",
            "[1] \"Misclassification rate - 1 fold: 0.905260734430759\"\n",
            "[1] \"Training set size: 234540 - Testing set size 26061\"\n",
            "[1] \"Misclassification rate - 2 fold: 0.904416561145006\"\n",
            "[1] \"Training set size: 234540 - Testing set size 26061\"\n",
            "[1] \"Misclassification rate - 3 fold: 0.903342158781321\"\n",
            "[1] \"Training set size: 234540 - Testing set size 26061\"\n",
            "[1] \"Misclassification rate - 4 fold: 0.906028164690534\"\n",
            "[1] \"Training set size: 234540 - Testing set size 26061\"\n",
            "[1] \"Misclassification rate - 5 fold: 0.902075898852692\"\n",
            "[1] \"Training set size: 234540 - Testing set size 26061\"\n",
            "[1] \"Misclassification rate - 6 fold: 0.900963124976018\"\n",
            "[1] \"Training set size: 234541 - Testing set size 26060\"\n",
            "[1] \"Misclassification rate - 7 fold: 0.903415195702226\"\n",
            "[1] \"Training set size: 234540 - Testing set size 26061\"\n",
            "[1] \"Misclassification rate - 8 fold: 0.903802616937186\"\n",
            "[1] \"Training set size: 234540 - Testing set size 26061\"\n",
            "[1] \"Misclassification rate - 9 fold: 0.903802616937186\"\n",
            "[1] \"Training set size: 234549 - Testing set size 26052\"\n",
            "[1] \"Misclassification rate - 10 fold: 0.902809765085214\"\n",
            "[1] \"CV - Mean misclassification rate: 0.903591683753814\"\n",
            "[1] \"[INFO] - Accuracy In sample : 0.0957789716039908\"\n",
            "[1] \"[INFO] - Misclassification rate In sample : 0.904221028396009\"\n",
            "[1] \"[INFO] - F1 Score In sample : 0.0957789716039908\"\n",
            "[1] \"[INFO] - Accuracy Out sample : 0.0970376055257099\"\n",
            "[1] \"[INFO] - Misclassification rate Out sample : 0.90296239447429\"\n",
            "[1] \"[INFO] - F1 Score Out sample : 0.0970376055257099\"\n",
            "[1] \"Training set size: 234540 - Testing set size 26061\"\n",
            "[1] \"Misclassification rate - 1 fold: 0.90399447450213\"\n",
            "[1] \"Training set size: 234540 - Testing set size 26061\"\n",
            "[1] \"Misclassification rate - 2 fold: 0.904800276274894\"\n",
            "[1] \"Training set size: 234540 - Testing set size 26061\"\n",
            "[1] \"Misclassification rate - 3 fold: 0.904071217528107\"\n",
            "[1] \"Training set size: 234541 - Testing set size 26060\"\n",
            "[1] \"Misclassification rate - 4 fold: 0.901918649270913\"\n",
            "[1] \"Training set size: 234540 - Testing set size 26061\"\n",
            "[1] \"Misclassification rate - 5 fold: 0.902843329112467\"\n",
            "[1] \"Training set size: 234540 - Testing set size 26061\"\n",
            "[1] \"Misclassification rate - 6 fold: 0.905299105943747\"\n",
            "[1] \"Training set size: 234540 - Testing set size 26061\"\n",
            "[1] \"Misclassification rate - 7 fold: 0.902459613982579\"\n",
            "[1] \"Training set size: 234540 - Testing set size 26061\"\n",
            "[1] \"Misclassification rate - 8 fold: 0.902843329112467\"\n",
            "[1] \"Training set size: 234540 - Testing set size 26061\"\n",
            "[1] \"Misclassification rate - 9 fold: 0.905913050151568\"\n",
            "[1] \"Training set size: 234549 - Testing set size 26052\"\n",
            "[1] \"Misclassification rate - 10 fold: 0.901773376324275\"\n",
            "[1] \"CV - Mean misclassification rate: 0.903591642220315\"\n",
            "[1] \"[INFO] - Accuracy In sample : 0.096478100369151\"\n",
            "[1] \"[INFO] - Misclassification rate In sample : 0.903521899630849\"\n",
            "[1] \"[INFO] - F1 Score In sample : 0.096478100369151\"\n",
            "[1] \"[INFO] - Accuracy Out sample : 0.0963384778320965\"\n",
            "[1] \"[INFO] - Misclassification rate Out sample : 0.903661522167904\"\n",
            "[1] \"[INFO] - F1 Score Out sample : 0.0963384778320964\"\n"
          ]
        }
      ]
    },
    {
      "cell_type": "code",
      "source": [
        "set.seed(5)\n",
        "hidden_nodes_vec <-c(0.1,0.2,0.3,0.4,0.5)\n",
        "\n",
        "error_in_sample_vec <- numeric()\n",
        "error_out_sample_vec <- numeric()\n",
        "error_cv_vec <- numeric()\n",
        "\n",
        "k = 10 # nombre de plis pour la validation croisée\n",
        "threshold1 = 0.1 # premier seuil pour la prédiction\n",
        "threshold2 = 0.5 # second seuil pour la prédiction\n",
        "r = 0.4 # rayon pour l'initialisation des poids du réseau\n",
        "\n",
        "\n",
        "  for(hidden_nodes in hidden_nodes_vec){\n",
        "  results = crossValidationInOutSample(data_train, hidden_nodes=hidden_nodes, k=k, threshold1=threshold1, threshold2=threshold2, r=r)\n",
        "  \n",
        "  if(is.list(results)){\n",
        "      error_in_sample_vec <- c(error_in_sample_vec, results$in_sample$misclassification_rate)\n",
        "      error_out_sample_vec <- c(error_out_sample_vec, results$out_sample$misclassification_rate)\n",
        "      error_cv_vec <- c(error_cv_vec, results$cv)\n",
        "  } else {\n",
        "      print(\"Error: crossValidationInOutSample did not return a list\")\n",
        "  }\n",
        "}\n",
        "\n",
        "\n",
        "\n",
        "# Print the error vectors\n",
        "\n"
      ],
      "metadata": {
        "colab": {
          "base_uri": "https://localhost:8080/"
        },
        "id": "Y7gXj9S5P11e",
        "outputId": "0c3ad9ef-667b-42e8-cb30-6fac4d0039a2"
      },
      "id": "Y7gXj9S5P11e",
      "execution_count": 67,
      "outputs": [
        {
          "output_type": "stream",
          "name": "stdout",
          "text": [
            "[1] \"Training set size: 234540 - Testing set size 26061\"\n",
            "[1] \"Misclassification rate - 1 fold: 0.904186332067073\"\n",
            "[1] \"Training set size: 234540 - Testing set size 26061\"\n",
            "[1] \"Misclassification rate - 2 fold: 0.901692183722804\"\n",
            "[1] \"Training set size: 234540 - Testing set size 26061\"\n",
            "[1] \"Misclassification rate - 3 fold: 0.905260734430759\"\n",
            "[1] \"Training set size: 234541 - Testing set size 26060\"\n",
            "[1] \"Misclassification rate - 4 fold: 0.90353031465848\"\n",
            "[1] \"Training set size: 234540 - Testing set size 26061\"\n",
            "[1] \"Misclassification rate - 5 fold: 0.903457273320287\"\n",
            "[1] \"Training set size: 234540 - Testing set size 26061\"\n",
            "[1] \"Misclassification rate - 6 fold: 0.901385211618894\"\n",
            "[1] \"Training set size: 234540 - Testing set size 26061\"\n",
            "[1] \"Misclassification rate - 7 fold: 0.901692183722804\"\n",
            "[1] \"Training set size: 234540 - Testing set size 26061\"\n",
            "[1] \"Misclassification rate - 8 fold: 0.907217681593185\"\n",
            "[1] \"Training set size: 234540 - Testing set size 26061\"\n",
            "[1] \"Misclassification rate - 9 fold: 0.905375848969725\"\n",
            "[1] \"Training set size: 234549 - Testing set size 26052\"\n",
            "[1] \"Misclassification rate - 10 fold: 0.902118839244588\"\n",
            "[1] \"CV - Mean misclassification rate: 0.90359166033486\"\n",
            "[1] \"In sample misclassification rate: 0.903629344814619\"\n",
            "[1] \"Out of sample misclassification rate: 0.903554078633318\"\n",
            "[1] \"Training set size: 234540 - Testing set size 26061\"\n",
            "[1] \"Misclassification rate - 1 fold: 0.900963124976018\"\n",
            "[1] \"Training set size: 234541 - Testing set size 26060\"\n",
            "[1] \"Misclassification rate - 2 fold: 0.904182655410591\"\n",
            "[1] \"Training set size: 234540 - Testing set size 26061\"\n",
            "[1] \"Misclassification rate - 3 fold: 0.904147960554085\"\n",
            "[1] \"Training set size: 234540 - Testing set size 26061\"\n",
            "[1] \"Misclassification rate - 4 fold: 0.902037527339703\"\n",
            "[1] \"Training set size: 234540 - Testing set size 26061\"\n",
            "[1] \"Misclassification rate - 5 fold: 0.905030505352826\"\n",
            "[1] \"Training set size: 234540 - Testing set size 26061\"\n",
            "[1] \"Misclassification rate - 6 fold: 0.905068876865815\"\n",
            "[1] \"Training set size: 234540 - Testing set size 26061\"\n",
            "[1] \"Misclassification rate - 7 fold: 0.902191013391658\"\n",
            "[1] \"Training set size: 234540 - Testing set size 26061\"\n",
            "[1] \"Misclassification rate - 8 fold: 0.902843329112467\"\n",
            "[1] \"Training set size: 234540 - Testing set size 26061\"\n",
            "[1] \"Misclassification rate - 9 fold: 0.90491539081386\"\n",
            "[1] \"Training set size: 234549 - Testing set size 26052\"\n",
            "[1] \"Misclassification rate - 10 fold: 0.90453707968678\"\n",
            "[1] \"CV - Mean misclassification rate: 0.90359174635038\"\n",
            "[1] \"In sample misclassification rate: 0.903268635983392\"\n",
            "[1] \"Out of sample misclassification rate: 0.903914781927997\"\n",
            "[1] \"Training set size: 234540 - Testing set size 26061\"\n",
            "[1] \"Misclassification rate - 1 fold: 0.905183991404781\"\n",
            "[1] \"Training set size: 234540 - Testing set size 26061\"\n",
            "[1] \"Misclassification rate - 2 fold: 0.903840988450175\"\n",
            "[1] \"Training set size: 234540 - Testing set size 26061\"\n",
            "[1] \"Misclassification rate - 3 fold: 0.904032846015118\"\n",
            "[1] \"Training set size: 234540 - Testing set size 26061\"\n",
            "[1] \"Misclassification rate - 4 fold: 0.904032846015118\"\n",
            "[1] \"Training set size: 234540 - Testing set size 26061\"\n",
            "[1] \"Misclassification rate - 5 fold: 0.902766586086489\"\n",
            "[1] \"Training set size: 234540 - Testing set size 26061\"\n",
            "[1] \"Misclassification rate - 6 fold: 0.902306127930624\"\n",
            "[1] \"Training set size: 234540 - Testing set size 26061\"\n",
            "[1] \"Misclassification rate - 7 fold: 0.903917731476152\"\n",
            "[1] \"Training set size: 234541 - Testing set size 26060\"\n",
            "[1] \"Misclassification rate - 8 fold: 0.903184957789716\"\n",
            "[1] \"Training set size: 234540 - Testing set size 26061\"\n",
            "[1] \"Misclassification rate - 9 fold: 0.903572387859253\"\n",
            "[1] \"Training set size: 234549 - Testing set size 26052\"\n",
            "[1] \"Misclassification rate - 10 fold: 0.90307845846768\"\n",
            "[1] \"CV - Mean misclassification rate: 0.903591692149511\"\n",
            "[1] \"In sample misclassification rate: 0.903967766692249\"\n",
            "[1] \"Out of sample misclassification rate: 0.903215656178051\"\n",
            "[1] \"Training set size: 234540 - Testing set size 26061\"\n",
            "[1] \"Misclassification rate - 1 fold: 0.903495644833276\"\n",
            "[1] \"Training set size: 234540 - Testing set size 26061\"\n",
            "[1] \"Misclassification rate - 2 fold: 0.905989793177545\"\n",
            "[1] \"Training set size: 234540 - Testing set size 26061\"\n",
            "[1] \"Misclassification rate - 3 fold: 0.905145619891792\"\n",
            "[1] \"Training set size: 234540 - Testing set size 26061\"\n",
            "[1] \"Misclassification rate - 4 fold: 0.901960784313726\"\n",
            "[1] \"Training set size: 234541 - Testing set size 26060\"\n",
            "[1] \"Misclassification rate - 5 fold: 0.903300076745971\"\n",
            "[1] \"Training set size: 234540 - Testing set size 26061\"\n",
            "[1] \"Misclassification rate - 6 fold: 0.904263075093051\"\n",
            "[1] \"Training set size: 234540 - Testing set size 26061\"\n",
            "[1] \"Misclassification rate - 7 fold: 0.903649130885231\"\n",
            "[1] \"Training set size: 234540 - Testing set size 26061\"\n",
            "[1] \"Misclassification rate - 8 fold: 0.901845669774759\"\n",
            "[1] \"Training set size: 234540 - Testing set size 26061\"\n",
            "[1] \"Misclassification rate - 9 fold: 0.903188672729366\"\n",
            "[1] \"Training set size: 234549 - Testing set size 26052\"\n",
            "[1] \"Misclassification rate - 10 fold: 0.90307845846768\"\n",
            "[1] \"CV - Mean misclassification rate: 0.90359169259124\"\n",
            "[1] \"In sample misclassification rate: 0.903982378989862\"\n",
            "[1] \"Out of sample misclassification rate: 0.903201049876824\"\n",
            "[1] \"Training set size: 234540 - Testing set size 26061\"\n",
            "[1] \"Misclassification rate - 1 fold: 0.900963124976018\"\n",
            "[1] \"Training set size: 234540 - Testing set size 26061\"\n",
            "[1] \"Misclassification rate - 2 fold: 0.899811979586355\"\n",
            "[1] \"Training set size: 234540 - Testing set size 26061\"\n",
            "[1] \"Misclassification rate - 3 fold: 0.905721192586624\"\n",
            "[1] \"Training set size: 234540 - Testing set size 26061\"\n",
            "[1] \"Misclassification rate - 4 fold: 0.902536357008557\"\n",
            "[1] \"Training set size: 234540 - Testing set size 26061\"\n",
            "[1] \"Misclassification rate - 5 fold: 0.903495644833276\"\n",
            "[1] \"Training set size: 234540 - Testing set size 26061\"\n",
            "[1] \"Misclassification rate - 6 fold: 0.904263075093051\"\n",
            "[1] \"Training set size: 234540 - Testing set size 26061\"\n",
            "[1] \"Misclassification rate - 7 fold: 0.907831625801005\"\n",
            "[1] \"Training set size: 234540 - Testing set size 26061\"\n",
            "[1] \"Misclassification rate - 8 fold: 0.904109589041096\"\n",
            "[1] \"Training set size: 234541 - Testing set size 26060\"\n",
            "[1] \"Misclassification rate - 9 fold: 0.903607060629317\"\n",
            "[1] \"Training set size: 234549 - Testing set size 26052\"\n",
            "[1] \"Misclassification rate - 10 fold: 0.903577460463688\"\n",
            "[1] \"CV - Mean misclassification rate: 0.903591711001899\"\n",
            "[1] \"In sample misclassification rate: 0.902501918649271\"\n",
            "[1] \"Out of sample misclassification rate: 0.904681504221028\"\n"
          ]
        }
      ]
    },
    {
      "cell_type": "code",
      "source": [],
      "metadata": {
        "id": "ZO0KCJQYBtL7"
      },
      "id": "ZO0KCJQYBtL7",
      "execution_count": null,
      "outputs": []
    },
    {
      "cell_type": "code",
      "source": [],
      "metadata": {
        "id": "Xgry2QtIBteq"
      },
      "id": "Xgry2QtIBteq",
      "execution_count": null,
      "outputs": []
    },
    {
      "cell_type": "code",
      "source": [
        "reg_Trees <- function(out_data, in_data, k){\n",
        "  out_data <- as.factor(out_data) # Convert target variable to factor\n",
        "  index <- sample(1:nrow(in_data)) #reshuffle the rows\n",
        "  max <- ceiling(nrow(in_data)/k) #get the size of each subset of the training set\n",
        "  splits <- split(index, ceiling(seq_along(index)/max)) #split the rows into subsets\n",
        "  accuracy_vec <- rep(NA,k) #vector that will contain the accuracies\n",
        "  misclassification_rate_vec <- rep(NA,k) #vector that will contain the misclassification rates\n",
        "  f1_score_vec <- rep(NA,k) #vector that will contain the F1 scores\n",
        "  for (i in 1:k){ #k-fold\n",
        "    train_data <- in_data[-splits[[i]],] #select everything but one subset\n",
        "    out_train <- out_data[-splits[[i]]] #select everything but one subset\n",
        "    combined_train <- cbind(out_train,train_data) #combine the input and output\n",
        "    test_data <- in_data[splits[[i]],] #select one subset\n",
        "    out_test <- out_data[splits[[i]]] #select one subset\n",
        "    tree_model <- rpart(out_train~., data = combined_train) #build the model\n",
        "    out_pred <- predict(tree_model,test_data, type=\"class\") #predict the output of training.features\n",
        "    conf_mat <- table(out_test,out_pred) #confusion matrix\n",
        "    accuracy_vec[i] <- sum(diag(conf_mat))/sum(conf_mat) #accuracy\n",
        "    misclassification_rate_vec[i] <- 1 - accuracy_vec[i] #misclassification rate\n",
        "    f1_score_vec[i] <- F1_Score_micro(out_test, out_pred) #F1 score\n",
        "  }\n",
        "  print(paste(\"Accuracy:\", round(mean(accuracy_vec),3))) #print the mean accuracy\n",
        "  print(paste(\"Misclassification Rate:\", round(mean(misclassification_rate_vec,na.rm=TRUE),3))) #print the mean misclassification rate\n",
        "  print(paste(\"F1 Score:\", round(mean(f1_score_vec,na.rm=TRUE),3))) #print the mean F1 score\n",
        "  combined <- cbind(out_data,in_data)\n",
        "  return(rpart(out_data~.,data = combined)) #return the model trained on the whole set\n",
        "}\n"
      ],
      "metadata": {
        "id": "KpnxX1ImZUV7"
      },
      "id": "KpnxX1ImZUV7",
      "execution_count": 43,
      "outputs": []
    },
    {
      "cell_type": "code",
      "source": [
        "\n",
        "\n"
      ],
      "metadata": {
        "id": "-95lUwdSFDnG"
      },
      "id": "-95lUwdSFDnG",
      "execution_count": null,
      "outputs": []
    },
    {
      "cell_type": "code",
      "source": [
        "# 1. Mélanger l'ensemble de données de manière aléatoire.\n",
        "shuffled_index <- sample(1:nrow(data_train))\n",
        "\n",
        "# 2. Obtenir l'indice pour la moitié de l'ensemble de données\n",
        "half_index <- floor(nrow(data_train)/2)\n",
        "\n",
        "# 3. Diviser les données d'entraînement en deux plus petits dataframes : l'ensemble d'entraînement et l'ensemble de test\n",
        "train_data <-  data_train[shuffled_index[1:half_index],]\n",
        "test_data <-  data_train[shuffled_index[(half_index+1):nrow(data_train)],]\n",
        "\n",
        "#4. Tailles de l'ensemble d'entraînement et de l'ensemble de test\n",
        "print(paste(\"Training Set Size : \",half_index ,\"Test set Size : \",nrow(data_train)-half_index ))\n",
        "\n",
        "#5. Entraîner le modèle d'arbre de décision avec rpart \n",
        "model <- rpart(dammage ~ . , method=\"class\", data=train_data)\n",
        "\n",
        "# Visualiser les variables les plus importantes\n",
        "data.frame(model$variable.importance)\n",
        "\n",
        "# Visualiser l'arbre de décision du modèle\n",
        "rpart.plot(model, type=1 , fallen.leaves = F ,cex =0.9)\n",
        "\n",
        "# Obtenir les prédictions de notre ensemble de test à partir de notre modèle entraîné\n",
        "Y_pred_probs <- predict(model, test_data[,-ncol(test_data)], type = \"prob\")\n",
        "\n",
        "#Y_pred <- predict(model,test_data[,-ncol(test_data)], type = \"class\")\n",
        "\n",
        "# Obtenir les résultats réels de l'ensemble de test\n",
        "Y <- test_data[,ncol(test_data)]\n",
        "# Matrice de confusion\n",
        "Y_pred <- ifelse(Y_pred_probs[,1] > 0.3, \"1\", \n",
        "            ifelse(Y_pred_probs[,2] > 0.5, \"2\", \"3\"))\n",
        "confusion_matrix <- table(Y_pred, Y)\n",
        "\n",
        "# Ajout du calcul du score F1\n",
        "Y_pred <- as.factor(Y_pred)\n",
        "Y <- as.factor(Y)\n",
        "f1_score <- F1_Score_micro(Y, Y_pred)\n",
        "print(paste(\"F1 Score:\", f1_score))\n",
        "accuracy = sum(diag(confusion_matrix))/sum(confusion_matrix)\n",
        "misclassification_rate = 1 - accuracy\n",
        "print(paste(\"Misclassification_rate On Damage Grade Prediction = \" , misclassification_rate))\n",
        "print(paste( \"Accuracy On Damage Grade Prediction = \" , accuracy))\n",
        "\n",
        "\n",
        "\n"
      ],
      "metadata": {
        "id": "oI6tCNZ-h-Ll",
        "colab": {
          "base_uri": "https://localhost:8080/",
          "height": 1000
        },
        "outputId": "df3f8be9-aaf1-4c0f-8b57-e154e8114aac"
      },
      "id": "oI6tCNZ-h-Ll",
      "execution_count": 45,
      "outputs": [
        {
          "output_type": "stream",
          "name": "stdout",
          "text": [
            "[1] \"Training Set Size :  130300 Test set Size :  130301\"\n"
          ]
        },
        {
          "output_type": "display_data",
          "data": {
            "text/html": [
              "<table class=\"dataframe\">\n",
              "<caption>A data.frame: 18 × 1</caption>\n",
              "<thead>\n",
              "\t<tr><th></th><th scope=col>model.variable.importance</th></tr>\n",
              "\t<tr><th></th><th scope=col>&lt;dbl&gt;</th></tr>\n",
              "</thead>\n",
              "<tbody>\n",
              "\t<tr><th scope=row>geo_level_1_id</th><td>6960.9594035</td></tr>\n",
              "\t<tr><th scope=row>fragile_building</th><td>3573.6436762</td></tr>\n",
              "\t<tr><th scope=row>foundation_type_r</th><td>2044.5185693</td></tr>\n",
              "\t<tr><th scope=row>ground_floor_type_v</th><td>1472.8687334</td></tr>\n",
              "\t<tr><th scope=row>has_superstructure_mud_mortar_stone</th><td>1340.9342977</td></tr>\n",
              "\t<tr><th scope=row>has_superstructure_cement_mortar_brick</th><td>1246.8074897</td></tr>\n",
              "\t<tr><th scope=row>roof_type_x</th><td>1154.6945681</td></tr>\n",
              "\t<tr><th scope=row>has_superstructure_timber</th><td> 492.5398163</td></tr>\n",
              "\t<tr><th scope=row>count_floors_pre_eq</th><td> 350.7919952</td></tr>\n",
              "\t<tr><th scope=row>foundation_type_w</th><td> 350.3792030</td></tr>\n",
              "\t<tr><th scope=row>geo_level_2_id</th><td> 318.2535678</td></tr>\n",
              "\t<tr><th scope=row>has_superstructure_bamboo</th><td> 289.9955718</td></tr>\n",
              "\t<tr><th scope=row>position_s</th><td> 282.9807526</td></tr>\n",
              "\t<tr><th scope=row>position_t</th><td> 238.5526087</td></tr>\n",
              "\t<tr><th scope=row>roof_type_q</th><td> 150.5252041</td></tr>\n",
              "\t<tr><th scope=row>count_families</th><td>  61.6676530</td></tr>\n",
              "\t<tr><th scope=row>legal_ownership_status_w</th><td>  13.7098939</td></tr>\n",
              "\t<tr><th scope=row>age</th><td>   0.6405775</td></tr>\n",
              "</tbody>\n",
              "</table>\n"
            ],
            "text/markdown": "\nA data.frame: 18 × 1\n\n| <!--/--> | model.variable.importance &lt;dbl&gt; |\n|---|---|\n| geo_level_1_id | 6960.9594035 |\n| fragile_building | 3573.6436762 |\n| foundation_type_r | 2044.5185693 |\n| ground_floor_type_v | 1472.8687334 |\n| has_superstructure_mud_mortar_stone | 1340.9342977 |\n| has_superstructure_cement_mortar_brick | 1246.8074897 |\n| roof_type_x | 1154.6945681 |\n| has_superstructure_timber |  492.5398163 |\n| count_floors_pre_eq |  350.7919952 |\n| foundation_type_w |  350.3792030 |\n| geo_level_2_id |  318.2535678 |\n| has_superstructure_bamboo |  289.9955718 |\n| position_s |  282.9807526 |\n| position_t |  238.5526087 |\n| roof_type_q |  150.5252041 |\n| count_families |   61.6676530 |\n| legal_ownership_status_w |   13.7098939 |\n| age |    0.6405775 |\n\n",
            "text/latex": "A data.frame: 18 × 1\n\\begin{tabular}{r|l}\n  & model.variable.importance\\\\\n  & <dbl>\\\\\n\\hline\n\tgeo\\_level\\_1\\_id & 6960.9594035\\\\\n\tfragile\\_building & 3573.6436762\\\\\n\tfoundation\\_type\\_r & 2044.5185693\\\\\n\tground\\_floor\\_type\\_v & 1472.8687334\\\\\n\thas\\_superstructure\\_mud\\_mortar\\_stone & 1340.9342977\\\\\n\thas\\_superstructure\\_cement\\_mortar\\_brick & 1246.8074897\\\\\n\troof\\_type\\_x & 1154.6945681\\\\\n\thas\\_superstructure\\_timber &  492.5398163\\\\\n\tcount\\_floors\\_pre\\_eq &  350.7919952\\\\\n\tfoundation\\_type\\_w &  350.3792030\\\\\n\tgeo\\_level\\_2\\_id &  318.2535678\\\\\n\thas\\_superstructure\\_bamboo &  289.9955718\\\\\n\tposition\\_s &  282.9807526\\\\\n\tposition\\_t &  238.5526087\\\\\n\troof\\_type\\_q &  150.5252041\\\\\n\tcount\\_families &   61.6676530\\\\\n\tlegal\\_ownership\\_status\\_w &   13.7098939\\\\\n\tage &    0.6405775\\\\\n\\end{tabular}\n",
            "text/plain": [
              "                                       model.variable.importance\n",
              "geo_level_1_id                         6960.9594035             \n",
              "fragile_building                       3573.6436762             \n",
              "foundation_type_r                      2044.5185693             \n",
              "ground_floor_type_v                    1472.8687334             \n",
              "has_superstructure_mud_mortar_stone    1340.9342977             \n",
              "has_superstructure_cement_mortar_brick 1246.8074897             \n",
              "roof_type_x                            1154.6945681             \n",
              "has_superstructure_timber               492.5398163             \n",
              "count_floors_pre_eq                     350.7919952             \n",
              "foundation_type_w                       350.3792030             \n",
              "geo_level_2_id                          318.2535678             \n",
              "has_superstructure_bamboo               289.9955718             \n",
              "position_s                              282.9807526             \n",
              "position_t                              238.5526087             \n",
              "roof_type_q                             150.5252041             \n",
              "count_families                           61.6676530             \n",
              "legal_ownership_status_w                 13.7098939             \n",
              "age                                       0.6405775             "
            ]
          },
          "metadata": {}
        },
        {
          "output_type": "stream",
          "name": "stdout",
          "text": [
            "[1] \"F1 Score: 0.624599964697124\"\n",
            "[1] \"Misclassification_rate On Damage Grade Prediction =  0.375400035302876\"\n",
            "[1] \"Accuracy On Damage Grade Prediction =  0.624599964697124\"\n"
          ]
        },
        {
          "output_type": "display_data",
          "data": {
            "text/plain": [
              "plot without title"
            ],
            "image/png": "[encoded data removed]"
          },
          "metadata": {
            "image/png": {
              "width": 420,
              "height": 420
            }
          }
        }
      ]
    },
    {
      "cell_type": "code",
      "source": [
        "dammage_tree <- reg_Trees(data_train$dammage, r_data, 10)\n",
        "\n",
        "\n",
        "treedammage_pred <- predict(dammage_tree, r_test, type = \"class\")\n",
        "\n"
      ],
      "metadata": {
        "id": "RXenMsDP_sAZ",
        "colab": {
          "base_uri": "https://localhost:8080/"
        },
        "outputId": "29707377-309f-4193-c3fb-97254a2a6580"
      },
      "id": "RXenMsDP_sAZ",
      "execution_count": 46,
      "outputs": [
        {
          "output_type": "stream",
          "name": "stdout",
          "text": [
            "[1] \"Accuracy: 0.64\"\n",
            "[1] \"Misclassification Rate: 0.36\"\n",
            "[1] \"F1 Score: 0.64\"\n"
          ]
        }
      ]
    },
    {
      "cell_type": "code",
      "source": [
        "\n"
      ],
      "metadata": {
        "id": "B-sudOPJqEH_"
      },
      "id": "B-sudOPJqEH_",
      "execution_count": 47,
      "outputs": []
    },
    {
      "cell_type": "code",
      "source": [
        "printcp(dammage_tree )\n",
        "plot(dammage_tree , uniform=TRUE,\n",
        "    main=\"Regression Tree - dammage_tree \")\n",
        "    text(dammage_tree , use.n=TRUE, all=TRUE, cex=.8)\n",
        "\n"
      ],
      "metadata": {
        "id": "VtmBZ8a3T43f",
        "colab": {
          "base_uri": "https://localhost:8080/",
          "height": 711
        },
        "outputId": "42e1ac5d-dfb6-419d-b070-76ef5695c1db"
      },
      "id": "VtmBZ8a3T43f",
      "execution_count": 48,
      "outputs": [
        {
          "output_type": "stream",
          "name": "stdout",
          "text": [
            "\n",
            "Classification tree:\n",
            "rpart(formula = out_data ~ ., data = combined)\n",
            "\n",
            "Variables actually used in tree construction:\n",
            "[1] fragile_building geo_level_1_id  \n",
            "\n",
            "Root node error: 112342/260601 = 0.43109\n",
            "\n",
            "n= 260601 \n",
            "\n",
            "        CP nsplit rel error  xerror      xstd\n",
            "1 0.028380      0   1.00000 1.00000 0.0022504\n",
            "2 0.025716      4   0.88648 0.88648 0.0022080\n",
            "3 0.010000      6   0.83505 0.83505 0.0021811\n"
          ]
        },
        {
          "output_type": "display_data",
          "data": {
            "text/plain": [
              "Plot with title “Regression Tree - dammage_tree ”"
            ],
            "image/png": "[encoded data removed]"
          },
          "metadata": {
            "image/png": {
              "width": 420,
              "height": 420
            }
          }
        }
      ]
    },
    {
      "cell_type": "code",
      "source": [
        "#df_predictions <- as.data.frame(treedammage_pred)\n",
        "result_df  <- data.frame(building_id = test_features$building_id, damage_grade = treedammage_pred)\n",
        "\n",
        "#write.csv(result_df, \"result_tree.csv\", row.names = FALSE)\n"
      ],
      "metadata": {
        "id": "mvJpReN9fkJH"
      },
      "id": "mvJpReN9fkJH",
      "execution_count": 51,
      "outputs": []
    },
    {
      "cell_type": "code",
      "source": [
        "\n",
        "\n",
        "head(result_df)"
      ],
      "metadata": {
        "id": "6UvAtB446Thz",
        "colab": {
          "base_uri": "https://localhost:8080/",
          "height": 286
        },
        "outputId": "b8281ab6-8e53-4df6-bb7a-d638511e11cf"
      },
      "id": "6UvAtB446Thz",
      "execution_count": 52,
      "outputs": [
        {
          "output_type": "display_data",
          "data": {
            "text/html": [
              "<table class=\"dataframe\">\n",
              "<caption>A data.frame: 6 × 2</caption>\n",
              "<thead>\n",
              "\t<tr><th></th><th scope=col>building_id</th><th scope=col>damage_grade</th></tr>\n",
              "\t<tr><th></th><th scope=col>&lt;int&gt;</th><th scope=col>&lt;fct&gt;</th></tr>\n",
              "</thead>\n",
              "<tbody>\n",
              "\t<tr><th scope=row>1</th><td>300051</td><td>3</td></tr>\n",
              "\t<tr><th scope=row>2</th><td> 99355</td><td>2</td></tr>\n",
              "\t<tr><th scope=row>3</th><td>890251</td><td>2</td></tr>\n",
              "\t<tr><th scope=row>4</th><td>745817</td><td>2</td></tr>\n",
              "\t<tr><th scope=row>5</th><td>421793</td><td>3</td></tr>\n",
              "\t<tr><th scope=row>6</th><td>871976</td><td>2</td></tr>\n",
              "</tbody>\n",
              "</table>\n"
            ],
            "text/markdown": "\nA data.frame: 6 × 2\n\n| <!--/--> | building_id &lt;int&gt; | damage_grade &lt;fct&gt; |\n|---|---|---|\n| 1 | 300051 | 3 |\n| 2 |  99355 | 2 |\n| 3 | 890251 | 2 |\n| 4 | 745817 | 2 |\n| 5 | 421793 | 3 |\n| 6 | 871976 | 2 |\n\n",
            "text/latex": "A data.frame: 6 × 2\n\\begin{tabular}{r|ll}\n  & building\\_id & damage\\_grade\\\\\n  & <int> & <fct>\\\\\n\\hline\n\t1 & 300051 & 3\\\\\n\t2 &  99355 & 2\\\\\n\t3 & 890251 & 2\\\\\n\t4 & 745817 & 2\\\\\n\t5 & 421793 & 3\\\\\n\t6 & 871976 & 2\\\\\n\\end{tabular}\n",
            "text/plain": [
              "  building_id damage_grade\n",
              "1 300051      3           \n",
              "2  99355      2           \n",
              "3 890251      2           \n",
              "4 745817      2           \n",
              "5 421793      3           \n",
              "6 871976      2           "
            ]
          },
          "metadata": {}
        }
      ]
    }
  ],
  "metadata": {
    "kernelspec": {
      "display_name": "R",
      "language": "R",
      "name": "ir"
    },
    "language_info": {
      "codemirror_mode": "r",
      "file_extension": ".r",
      "mimetype": "text/x-r-source",
      "name": "R",
      "pygments_lexer": "r",
      "version": "4.1.3"
    },
    "colab": {
      "provenance": [],
      "toc_visible": true,
      "include_colab_link": true
    }
  },
  "nbformat": 4,
  "nbformat_minor": 5
}