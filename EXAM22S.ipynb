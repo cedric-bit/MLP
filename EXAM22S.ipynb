{
  "cells": [
    {
      "cell_type": "markdown",
      "metadata": {
        "id": "view-in-github",
        "colab_type": "text"
      },
      "source": [
        "<a href=\"https://colab.research.google.com/github/cedric-bit/MLP/blob/main/EXAM22S.ipynb\" target=\"_parent\"><img src=\"https://colab.research.google.com/assets/colab-badge.svg\" alt=\"Open In Colab\"/></a>"
      ]
    },
    {
      "cell_type": "code",
      "source": [
        "install.packages(\"mvtnorm\")\n",
        "library(mvtnorm)"
      ],
      "metadata": {
        "colab": {
          "base_uri": "https://localhost:8080/"
        },
        "id": "mXefeb8385K2",
        "outputId": "7d988ab3-dc54-4a2c-c88e-d8402629fb59"
      },
      "id": "mXefeb8385K2",
      "execution_count": null,
      "outputs": [
        {
          "output_type": "stream",
          "name": "stderr",
          "text": [
            "Installing package into ‘/usr/local/lib/R/site-library’\n",
            "(as ‘lib’ is unspecified)\n",
            "\n"
          ]
        }
      ]
    },
    {
      "cell_type": "markdown",
      "source": [],
      "metadata": {
        "id": "Ub9MFv6SxCh3"
      },
      "id": "Ub9MFv6SxCh3"
    },
    {
      "cell_type": "code",
      "source": [
        "# Fonction pour vérifier l'inégalité de Kraft\n",
        "check_kraft_inequality <- function(code_lengths) {\n",
        "  sum_val = 0\n",
        "  for (length in code_lengths) {\n",
        "    sum_val = sum_val + 1/2^length\n",
        "  }\n",
        "\n",
        "  return(sum_val <= 1)\n",
        "}\n",
        "\n",
        "# Testons la fonction avec un exemple de longueurs de codes\n",
        "code_lengths = c(1, 2, 3, 3)  # Ces longueurs respectent l'inégalité de Kraft\n",
        "print(check_kraft_inequality(code_lengths))  # Doit afficher TRUE\n",
        "\n",
        "code_lengths = c(1, 1, 1, 1)  # Ces longueurs ne respectent pas l'inégalité de Kraft\n",
        "print(check_kraft_inequality(code_lengths))  # Doit afficher FALSE\n"
      ],
      "metadata": {
        "colab": {
          "base_uri": "https://localhost:8080/"
        },
        "id": "aNg7lcVgxCtY",
        "outputId": "c6948530-0f5b-4169-ce12-001588f78be5"
      },
      "id": "aNg7lcVgxCtY",
      "execution_count": null,
      "outputs": [
        {
          "output_type": "stream",
          "name": "stdout",
          "text": [
            "[1] TRUE\n",
            "[1] FALSE\n"
          ]
        }
      ]
    },
    {
      "cell_type": "markdown",
      "source": [
        "The R dataframe Q4.G1.D (in EXAM_2021_2s.Rdata) contains the i.i.d. dataset of a regression task where target is y∈R\n",
        " and the input x∈R2\n",
        ".\n",
        "Let us consider a **KNN regression model** which returns as output the average of the K nearest neighbors and the neighbors are selected by a Euclidean distance metric. The student should compare the following 7 KNN regression models which differ in terms of the number K of neighbors.\n",
        "\n",
        "K=1\n",
        "K=2\n",
        "K=3\n",
        "K=4\n",
        "K=5\n",
        "K=6\n",
        "K=7\n",
        " By using R and without any data preprocessing,  the student should answer the following questions.\n",
        "\n",
        "Compute the empirical risk (average of the squared training errors) of the 7 models.\n",
        "Compute the generalisation error (average of the squared leave-one-out errors) of the 7 models:"
      ],
      "metadata": {
        "id": "9q5YWm8uiXrc"
      },
      "id": "9q5YWm8uiXrc"
    },
    {
      "cell_type": "code",
      "source": [
        "# Clear the workspace\n",
        "rm(list=ls())\n",
        "\n",
        "# Load the data\n",
        "load(\"EXAM_2021_2s.Rdata\")\n",
        "\n",
        "# Extract the input and target variables from the data\n",
        "X <- Q4.G1.D[,1:2]\n",
        "Y <- Q4.G1.D[,3]\n",
        "\n",
        "# Number of data points\n",
        "N <- nrow(X)\n",
        "\n",
        "# Number of neighbors to consider for the KNN model\n",
        "K_values <- c(1,2,3,4,5,6,7)\n",
        "\n",
        "# Initialize a vector to store the empirical risks for each model\n",
        "empirical_risks <- numeric(length(K_values))\n",
        "\n",
        "# Loop over each value of K\n",
        "for (k_index in 1:length(K_values)) {\n",
        "  K <- K_values[k_index]\n",
        "\n",
        "  # Initialize a vector to store the predicted values for each data point\n",
        "  Y_pred <- numeric(N)\n",
        "\n",
        "  # Loop over each data point\n",
        "  for (i in 1:N) {\n",
        "    # Compute the Euclidean distance to each other data point\n",
        "    distances <- sqrt(rowSums((t(t(X) - X[i,]))^2))\n",
        "\n",
        "    # Find the K nearest neighbors\n",
        "    nearest_neighbors <- order(distances)[1:K]\n",
        "\n",
        "    # Compute the predicted value as the average of the target values of the nearest neighbors\n",
        "    Y_pred[i] <- mean(Y[nearest_neighbors])\n",
        "  }\n",
        "\n",
        "  # Compute the empirical risk as the average of the squared training errors\n",
        "  empirical_risks[k_index] <- mean((Y - Y_pred)^2)\n",
        "\n",
        "  # Print the empirical risk for the current value of K\n",
        "  print(paste(\"Empirical risk for K =\", K, \"is\", empirical_risks[k_index]))\n",
        "}\n"
      ],
      "metadata": {
        "colab": {
          "base_uri": "https://localhost:8080/"
        },
        "id": "InmahwmViae1",
        "outputId": "aea78f13-272d-4f6d-d278-7141d5404e5c"
      },
      "id": "InmahwmViae1",
      "execution_count": null,
      "outputs": [
        {
          "output_type": "stream",
          "name": "stdout",
          "text": [
            "[1] \"Empirical risk for K = 1 is 0\"\n",
            "[1] \"Empirical risk for K = 2 is 1.44126750380219\"\n",
            "[1] \"Empirical risk for K = 3 is 2.32619625128151\"\n",
            "[1] \"Empirical risk for K = 4 is 3.45715155283777\"\n",
            "[1] \"Empirical risk for K = 5 is 4.36334372720836\"\n",
            "[1] \"Empirical risk for K = 6 is 4.90607934567973\"\n",
            "[1] \"Empirical risk for K = 7 is 5.50594850822464\"\n"
          ]
        }
      ]
    },
    {
      "cell_type": "code",
      "source": [
        "rm(list=ls())\n",
        "\n",
        "load(\"EXAM_2021_2s.Rdata\")\n",
        "\n",
        "D = Q4.G1.D\n",
        "X = D[,1:2]\n",
        "Y = D[,3]\n",
        "\n",
        "Kvalues = 1:7\n",
        "N = nrow(X)\n",
        "generalizationErrors = numeric(length(Kvalues))\n",
        "outputAtQ = numeric(length(Kvalues))\n",
        "q = c(0, 0)\n",
        "\n",
        "for (kIndex in 1:length(Kvalues)) {\n",
        "  K = Kvalues[kIndex]\n",
        "  looErrors = numeric(N)\n",
        "\n",
        "  for (i in 1:N) {\n",
        "    distances = sqrt(rowSums((t(t(X[-i,]) - X[i,]))^2))\n",
        "    nearestNeighbors = order(distances)[1:K]\n",
        "    Ypred = mean(Y[-i][nearestNeighbors])\n",
        "    looErrors[i] = (Y[i] - Ypred)^2\n",
        "  }\n",
        "\n",
        "  generalizationErrors[kIndex] = mean(looErrors)\n",
        "  distancesToQ = sqrt(rowSums((t(t(X) - q))^2))\n",
        "  nearestNeighborsToQ = order(distancesToQ)[1:K]\n",
        "  outputAtQ[kIndex] = mean(Y[nearestNeighborsToQ])\n",
        "\n",
        "  print(paste(\"Generalization error for K =\", K, \"is\", generalizationErrors[kIndex]))\n",
        "  print(paste(\"Output at q=[0,0] for K =\", K, \"is\", outputAtQ[kIndex]))\n",
        "}\n",
        "\n",
        "recommendedK = Kvalues[which.min(generalizationErrors)]\n",
        "print(paste(\"The recommended number of neighbors is K =\", recommendedK))\n"
      ],
      "metadata": {
        "colab": {
          "base_uri": "https://localhost:8080/"
        },
        "id": "VZW0SFvNjpfX",
        "outputId": "b982ee61-2215-48ab-9161-23df0ee23767"
      },
      "id": "VZW0SFvNjpfX",
      "execution_count": null,
      "outputs": [
        {
          "output_type": "stream",
          "name": "stdout",
          "text": [
            "[1] \"Generalization error for K = 1 is 5.76507001520876\"\n",
            "[1] \"Output at q=[0,0] for K = 1 is 1.56100013952439\"\n",
            "[1] \"Generalization error for K = 2 is 5.2339415653834\"\n",
            "[1] \"Output at q=[0,0] for K = 2 is 1.52898204214246\"\n",
            "[1] \"Generalization error for K = 3 is 6.14604720504493\"\n",
            "[1] \"Output at q=[0,0] for K = 3 is 1.54379119441794\"\n",
            "[1] \"Generalization error for K = 4 is 6.81772457376307\"\n",
            "[1] \"Output at q=[0,0] for K = 4 is 1.42706954437499\"\n",
            "[1] \"Generalization error for K = 5 is 7.06475425777882\"\n",
            "[1] \"Output at q=[0,0] for K = 5 is 1.33302854928171\"\n",
            "[1] \"Generalization error for K = 6 is 7.49420769175021\"\n",
            "[1] \"Output at q=[0,0] for K = 6 is 1.35867623170466\"\n",
            "[1] \"Generalization error for K = 7 is 7.93554859303281\"\n",
            "[1] \"Output at q=[0,0] for K = 7 is 1.23171234892523\"\n",
            "[1] \"The recommended number of neighbors is K = 2\"\n"
          ]
        }
      ]
    },
    {
      "cell_type": "markdown",
      "source": [
        "Let us consider a regression task with n=50\n",
        " inputs and 1 output\n",
        "whose training set is contained in the data matrices X and Y  and the test data set\n",
        "is contained in the data matrices Xts and Yts of this .Rdata file\n",
        "\n",
        "#By using R,  compute the 4 most relevant eigen-features by using PCA.\n",
        "Then compare the MISE error (mean of the squared prediction error) for the test set with the original set of features and the set of eigen-features. Use as learning algorithm a linear least squares"
      ],
      "metadata": {
        "id": "yEgqOt2t3hW4"
      },
      "id": "yEgqOt2t3hW4"
    },
    {
      "cell_type": "code",
      "source": [
        "# Clear the workspace\n",
        "rm(list=ls())\n",
        "set.seed(123)\n",
        "# Load the data\n",
        "load(\"FS2.Rdata\")\n",
        "\n",
        "n=NCOL(X)\n",
        "N=NROW(X)\n",
        "\n",
        "# Perform PCA on the data\n",
        "pca = prcomp(X, scale = TRUE)\n",
        "\n",
        "# Select the first 4 principal components\n",
        "X_pca = pca$x[,1:4]\n",
        "\n",
        "# Project the test data onto the same principal components\n",
        "Xts_pca = scale(Xts, center = pca$center, scale = pca$scale) %*% pca$rotation[,1:4]\n",
        "\n",
        "X=cbind(numeric(N)+1,X)\n",
        "Xts=cbind(numeric(NROW(Xts))+1,Xts)\n",
        "\n",
        "# Fit a linear model to the data using all features\n",
        "betahat=solve(t(X)%*%X)%*%t(X)%*%Y\n",
        "\n",
        "# Make predictions on the test set\n",
        "Yhats=Xts%*%betahat\n",
        "\n",
        "# Compute the Mean Integrated Squared Error (MISE) on the test set\n",
        "MISEts=mean((Yts-Yhats)^2)\n",
        "\n",
        "# Print the MISE for all features\n",
        "print(paste(\"MISE test (all features): \", MISEts))\n",
        "\n",
        "X_pca=cbind(numeric(N)+1,X_pca)\n",
        "Xts_pca=cbind(numeric(NROW(Xts_pca))+1,Xts_pca)\n",
        "\n",
        "# Fit a linear model to the data using the selected features\n",
        "betahat_pca=solve(t(X_pca)%*%X_pca)%*%t(X_pca)%*%Y\n",
        "\n",
        "# Make predictions on the test set\n",
        "Yhats_pca=Xts_pca%*%betahat_pca\n",
        "\n",
        "# Compute the Mean Integrated Squared Error (MISE) on the test set\n",
        "MISEts_pca=mean((Yts-Yhats_pca)^2)\n",
        "\n",
        "# Print the MISE for the selected features\n",
        "print(paste(\"MISE test (4 eigen-features): \", MISEts_pca))\n",
        "\n",
        "# Check if feature selection was useful\n",
        "if(MISEts_pca < MISEts) {\n",
        "  print(\"Yes, feature selection was useful.\")\n",
        "} else {\n",
        "  print(\"No, feature selection was not useful.\")\n",
        "}\n"
      ],
      "metadata": {
        "id": "iAwXvBPz18Jq",
        "outputId": "c3dd53f5-b2b6-43f6-fc90-121d1a157c83",
        "colab": {
          "base_uri": "https://localhost:8080/"
        }
      },
      "id": "iAwXvBPz18Jq",
      "execution_count": null,
      "outputs": [
        {
          "output_type": "stream",
          "name": "stdout",
          "text": [
            "[1] \"MISE test (all features):  1.63483352521904\"\n",
            "[1] \"MISE test (4 eigen-features):  0.974900336134459\"\n",
            "[1] \"Yes, feature selection was useful.\"\n"
          ]
        }
      ]
    },
    {
      "cell_type": "code",
      "source": [],
      "metadata": {
        "id": "i0tG3AZM82sG"
      },
      "id": "i0tG3AZM82sG",
      "execution_count": null,
      "outputs": []
    },
    {
      "cell_type": "markdown",
      "source": [
        "load(\"FS2.Rdata\")\n",
        "\n",
        "\n",
        "\n",
        "n=NCOL(X)\n",
        "\n",
        "N=NROW(X)\n",
        "\n",
        "\n",
        "\n",
        "fselected<-4\n",
        "\n",
        "Xhat=scale(X)\n",
        "\n",
        "S=svd(Xhat)\n",
        "\n",
        "Z=Xhat%*%S$v\n",
        "\n",
        "\n",
        "\n",
        "Xhats=scale(Xts)\n",
        "\n",
        "Zts=Xhats%*%S$v\n",
        "\n",
        "\n",
        "\n",
        "Z=Z[,1:fselected]\n",
        "\n",
        "Zts=Zts[,1:fselected]\n",
        "\n",
        "\n",
        "\n",
        "\n",
        "\n",
        "X=cbind(numeric(N)+1,X)\n",
        "\n",
        "Xts=cbind(numeric(NROW(Xts))+1,Xts)\n",
        "\n",
        "betahat=solve(t(X)%*%X)%*%t(X)%*%Y\n",
        "\n",
        "Yhats=Xts%*%betahat\n",
        "\n",
        "MISEts=mean((Yts-Yhats)^2)\n",
        "\n",
        "\n",
        "\n",
        "\n",
        "\n",
        "Z=cbind(numeric(N)+1,Z)\n",
        "\n",
        "Zts=cbind(numeric(NROW(Zts))+1,Zts)\n",
        "\n",
        "betahat=solve(t(Z)%*%Z)%*%t(Z)%*%Y\n",
        "\n",
        "Yhats=Zts%*%betahat\n",
        "\n",
        "MISEts2=mean((Yts-Yhats)^2)\n",
        "\n"
      ],
      "metadata": {
        "id": "M_pM3vJy4sNh"
      },
      "id": "M_pM3vJy4sNh"
    },
    {
      "cell_type": "markdown",
      "source": [
        "Let us consider a regression task with $n=20$ inputs and $1$ output, whose training set is contained in the data matrices $X$ and $Y$ of this \\texttt{.Rdata} file.\n",
        "\n",
        "By using R, find the $5$ most relevant features by using a forward selection algorithm based on linear least-squares and leave-one-out.\n",
        "\n",
        "First most important feature:   Réponse\n",
        "\n",
        "Second most important feature:   Réponse\n",
        "\n",
        "Third most important feature:   Réponse\n",
        "\n",
        "Fourth most important feature:   Réponse\n",
        "\n",
        "Fifth most important feature:   Réponse\n",
        "\n",
        "\n",
        "\n",
        "## Let us consider a regression task with n=20\n",
        " inputs and 1 output\n",
        "whose training set is contained in the data matrices X and Y  of this .Rdata file.\n",
        "\n",
        "By using R,  find the 5 most relevant features by using a ranking algorithm based on correlation\n",
        "\n",
        "First most important feature :    Réponse\n",
        "\n",
        "\n",
        "\n",
        "Second most important feature :   Réponse\n",
        "\n",
        "\n",
        "\n",
        "Third most important feature :   Réponse\n",
        "\n",
        "\n",
        "\n",
        "Fourth most important feature :   Réponse\n",
        "\n",
        "\n",
        "\n",
        "Fifth most important feature\n"
      ],
      "metadata": {
        "id": "cTTQ5Cj-aOi5"
      },
      "id": "cTTQ5Cj-aOi5"
    },
    {
      "cell_type": "code",
      "source": [
        "# Clear all variables from the workspace\n",
        "rm(list=ls())\n",
        "set.seed(123)\n",
        "# Load the data\n",
        "load(\"FS.Rdata\")\n",
        "\n",
        "# Get the number of columns in X\n",
        "n = NCOL(X)\n",
        "\n",
        "# Get the number of rows in X\n",
        "N = NROW(X)\n",
        "\n",
        "# Initialize an empty vector to store the indices of the selected features\n",
        "fselected = NULL\n",
        "\n",
        "# Maximum number of features to select\n",
        "nmax = 5\n",
        "\n",
        "# Forward selection process\n",
        "for (f in 1:nmax) {\n",
        "\n",
        "  # Initialize a vector to store the MSE for each feature\n",
        "  MSEloo = numeric(n) + Inf\n",
        "\n",
        "  # For each feature not already selected\n",
        "  for (j in setdiff(1:n, fselected)) {\n",
        "\n",
        "    # Subset the data to include only the selected features and the current one\n",
        "    subs = c(fselected, j)\n",
        "\n",
        "    # Initialize a vector to store the leave-one-out error for each observation\n",
        "    eloo = numeric(N)\n",
        "\n",
        "    # For each observation\n",
        "    for (i in 1:N) {\n",
        "\n",
        "      # Fit a linear model without the i-th observation\n",
        "      Xi = cbind(numeric(N-1) + 1, X[-i, subs])\n",
        "      Yi = Y[-i]\n",
        "      betai = solve(t(Xi) %*% Xi) %*% t(Xi) %*% Yi\n",
        "\n",
        "      # Predict the i-th observation\n",
        "      yhati = c(1, X[i, subs]) %*% betai\n",
        "\n",
        "      # Compute the error\n",
        "      eloo[i] = Y[i] - yhati\n",
        "    }\n",
        "\n",
        "    # Compute the mean squared error\n",
        "    MSEloo[j] = mean(eloo^2)\n",
        "  }\n",
        "\n",
        "  # Select the feature with the smallest error\n",
        "  fselected = c(fselected, which.min(MSEloo))\n",
        "}\n",
        "\n",
        "# Print the selected features\n",
        "print(fselected[1:nmax])\n"
      ],
      "metadata": {
        "colab": {
          "base_uri": "https://localhost:8080/"
        },
        "id": "VM0aVE2lbeVH",
        "outputId": "51f2cf71-9966-4f8d-d82c-ebfea92b4f24"
      },
      "id": "VM0aVE2lbeVH",
      "execution_count": null,
      "outputs": [
        {
          "output_type": "stream",
          "name": "stdout",
          "text": [
            "[1]  4  3 13  6 18\n"
          ]
        }
      ]
    },
    {
      "cell_type": "code",
      "source": [
        "load(\"FS.Rdata\")\n",
        "\n",
        "n=NCOL(X)\n",
        "\n",
        "corXY=NULL\n",
        "\n",
        "for (j in 1:n){\n",
        "\n",
        "  corXY=c(corXY,abs(cor(X[,j],Y)))\n",
        "\n",
        "}\n",
        "\n",
        "print(sort(corXY,decre=TRUE,index=TRUE)$ix[1:5])"
      ],
      "metadata": {
        "id": "cUOxPRYhg8SX"
      },
      "id": "cUOxPRYhg8SX",
      "execution_count": null,
      "outputs": []
    },
    {
      "cell_type": "markdown",
      "source": [
        "Let us consider a regression task with n=20\n",
        " inputs and 1 output\n",
        "whose training set is contained in the data matrices X and Y  of this .Rdata file\n",
        "\n",
        "By using R,  find the 4 most relevant according to a mRMR filter strategy where the mutual information is estimated on the basis of the Pearson correlation."
      ],
      "metadata": {
        "id": "cqczgTfxdOaQ"
      },
      "id": "cqczgTfxdOaQ"
    },
    {
      "cell_type": "code",
      "source": [
        "rm(list=ls())\n",
        "\n",
        "load(\"FS.Rdata\")\n",
        "set.seed(123)\n",
        "n=NCOL(X)\n",
        "\n",
        "N=NROW(X)\n",
        "\n",
        "XY<-cbind(X,Y)\n",
        "\n",
        "CC=cor(XY)\n",
        "\n",
        "InfM=-1/2*log(1-CC^2)\n",
        "\n",
        "subset=which.max(InfM[-(n+1),n+1])\n",
        "\n",
        "\n",
        "\n",
        "for (s in 1:3){\n",
        "\n",
        "  mRMR<-numeric(n)-Inf\n",
        "\n",
        "  for (j in setdiff(1:n,subset)){\n",
        "\n",
        "    mRMR[j]=InfM[j,n+1]-mean(InfM[j,subset])\n",
        "\n",
        "  }\n",
        "\n",
        "  subset<-c(subset,which.max(mRMR))\n",
        "\n",
        "}\n",
        "\n",
        "\n",
        "\n",
        "print(subset)"
      ],
      "metadata": {
        "colab": {
          "base_uri": "https://localhost:8080/"
        },
        "id": "5lPAyYhWdQLH",
        "outputId": "fd53e5db-b933-4b6b-fc1c-a77ce16a2654"
      },
      "id": "5lPAyYhWdQLH",
      "execution_count": null,
      "outputs": [
        {
          "output_type": "stream",
          "name": "stdout",
          "text": [
            "            \n",
            " 4  3 19  5 \n"
          ]
        }
      ]
    },
    {
      "cell_type": "code",
      "source": [],
      "metadata": {
        "colab": {
          "base_uri": "https://localhost:8080/",
          "height": 34
        },
        "id": "QDNco3Msea9-",
        "outputId": "e0d73dd5-ddc8-409e-ffb9-c2dd1b7d36c6"
      },
      "id": "QDNco3Msea9-",
      "execution_count": null,
      "outputs": [
        {
          "output_type": "display_data",
          "data": {
            "text/html": [
              "<style>\n",
              ".list-inline {list-style: none; margin:0; padding: 0}\n",
              ".list-inline>li {display: inline-block}\n",
              ".list-inline>li:not(:last-child)::after {content: \"\\00b7\"; padding: 0 .5ex}\n",
              "</style>\n",
              "<ol class=list-inline><li>'X'</li><li>'Y'</li></ol>\n"
            ],
            "text/markdown": "1. 'X'\n2. 'Y'\n\n\n",
            "text/latex": "\\begin{enumerate*}\n\\item 'X'\n\\item 'Y'\n\\end{enumerate*}\n",
            "text/plain": [
              "[1] \"X\" \"Y\""
            ]
          },
          "metadata": {}
        }
      ]
    },
    {
      "cell_type": "markdown",
      "source": [
        "faire ceci aussi dans la meme logique : Let us consider a regression task with n=20\n",
        " inputs and 1 output\n",
        "whose training set is contained in the data matrices X and Y  and the test data set\n",
        "is contained in the data matrices Xts and Yts of this .Rdata file\n",
        "\n",
        "By using R,  find the 5 most relevant features by using a ranking algorithm based on correlation\n",
        "and compare the MISE error (mean of the squared prediction error) for the test set with the original set of features and the selected set of features. Use as learning algorithm a linear least squares\n",
        "MISE test (all features) :\n",
        "MISE test (subset of 5 best ranked features) :\n",
        "\n",
        "Was feature selection useful?"
      ],
      "metadata": {
        "id": "wPuY6gUHdhHW"
      },
      "id": "wPuY6gUHdhHW"
    },
    {
      "cell_type": "code",
      "source": [
        "# Clear the workspace\n",
        "rm(list=ls())\n",
        "set.seed(123)\n",
        "# Load the data\n",
        "load(\"FS.Rdata\")\n",
        "\n",
        "n=NCOL(X)\n",
        "N=NROW(X)\n",
        "\n",
        "# Initialize an empty vector to store the correlation values\n",
        "corXY=NULL\n",
        "\n",
        "# Compute the absolute correlation between each feature and the target variable\n",
        "for (j in 1:n){\n",
        "  corXY=c(corXY,abs(cor(X[,j],Y)))\n",
        "}\n",
        "\n",
        "# Select the indices of the 5 features with the highest absolute correlation\n",
        "fsel=sort(corXY,decre=TRUE,index=TRUE)$ix[1:5]\n",
        "\n",
        "# Print the indices of the selected features\n",
        "print(paste(\"First most important feature: \", fsel[1]))\n",
        "print(paste(\"Second most important feature: \", fsel[2]))\n",
        "print(paste(\"Third most important feature: \", fsel[3]))\n",
        "print(paste(\"Fourth most important feature: \", fsel[4]))\n",
        "print(paste(\"Fifth most important feature: \", fsel[5]))\n",
        "\n",
        "# Create new data matrices containing only the selected features\n",
        "X2=X[,fsel]\n",
        "Xts2=Xts[,fsel]\n",
        "\n",
        "X=cbind(numeric(N)+1,X)\n",
        "Xts=cbind(numeric(NROW(Xts))+1,Xts)\n",
        "\n",
        "# Fit a linear model to the data using all features\n",
        "betahat=solve(t(X)%*%X)%*%t(X)%*%Y\n",
        "\n",
        "# Make predictions on the test set\n",
        "Yhats=Xts%*%betahat\n",
        "\n",
        "# Compute the Mean Integrated Squared Error (MISE) on the test set\n",
        "MISEts=mean((Yts-Yhats)^2)\n",
        "\n",
        "# Print the MISE for all features\n",
        "print(paste(\"MISE test (all features): \", MISEts))\n",
        "\n",
        "X2=cbind(numeric(N)+1,X2)\n",
        "Xts2=cbind(numeric(NROW(Xts))+1,Xts2)\n",
        "\n",
        "# Fit a linear model to the data using the selected features\n",
        "betahat2=solve(t(X2)%*%X2)%*%t(X2)%*%Y\n",
        "\n",
        "# Make predictions on the test set\n",
        "Yhats2=Xts2%*%betahat2\n",
        "\n",
        "# Compute the Mean Integrated Squared Error (MISE) on the test set\n",
        "MISEts2=mean((Yts-Yhats2)^2)\n",
        "\n",
        "# Print the MISE for the selected features\n",
        "print(paste(\"MISE test (subset of 5 best ranked features): \", MISEts2))\n",
        "\n",
        "# Check if feature selection was useful\n",
        "if(MISEts2 < MISEts) {\n",
        "  print(\"Yes, feature selection was useful.\")\n",
        "} else {\n",
        "  print(\"No, feature selection was not useful.\")\n",
        "}\n"
      ],
      "metadata": {
        "colab": {
          "base_uri": "https://localhost:8080/"
        },
        "id": "P_pGzEjhd7C1",
        "outputId": "84dd0087-b2af-4d5b-cc1f-9af6824dc118"
      },
      "id": "P_pGzEjhd7C1",
      "execution_count": null,
      "outputs": [
        {
          "output_type": "stream",
          "name": "stdout",
          "text": [
            "[1] \"First most important feature:  4\"\n",
            "[1] \"Second most important feature:  3\"\n",
            "[1] \"Third most important feature:  19\"\n",
            "[1] \"Fourth most important feature:  5\"\n",
            "[1] \"Fifth most important feature:  1\"\n",
            "[1] \"MISE test (all features):  0.904552933253753\"\n",
            "[1] \"MISE test (subset of 5 best ranked features):  0.807802843365852\"\n",
            "[1] \"Yes, feature selection was useful.\"\n"
          ]
        }
      ]
    },
    {
      "cell_type": "markdown",
      "source": [
        "Let us consider a regression task with n=20\n",
        " inputs and 1 output\n",
        "whose training set is contained in the data matrices X and Y  and the test data set\n",
        "is contained in the data matrices Xts and Yts of this .Rdata file\n",
        "\n",
        "# By using R,  find the 5 most relevant features by using a forward selection algorithm based on linear least-squares and leave-one-out.\n",
        "Then compare the MISE error (mean of the squared prediction error) for the test set with the original set of features and the selected set of features. Use as learning algorithm a linear least squares\n",
        "MISE test (all features) :    Réponse\n",
        "\n",
        "\n",
        "\n",
        "MISE test (subset of 5 best ranked features) :   Réponse\n",
        "\n",
        "\n",
        "Was feature selection useful?\n",
        "\n",
        "NO"
      ],
      "metadata": {
        "id": "MUny4wgygU2H"
      },
      "id": "MUny4wgygU2H"
    },
    {
      "cell_type": "code",
      "source": [
        "set.seed(123)\n",
        "# Clear the workspace\n",
        "rm(list=ls())\n",
        "\n",
        "# Load the data\n",
        "load(\"FS.Rdata\")\n",
        "\n",
        "n=NCOL(X)\n",
        "N=NROW(X)\n",
        "\n",
        "# Initialize an empty vector to store the selected features\n",
        "fselected <- NULL\n",
        "\n",
        "# Number of features to select\n",
        "nmax = 5\n",
        "\n",
        "# Forward selection process\n",
        "for (f in 1:nmax){\n",
        "  # Initialize a vector to store the MSE of each feature\n",
        "  MSEloo = numeric(n) + Inf\n",
        "  for (j in setdiff(1:n, fselected)){\n",
        "    # Temporary subset of selected features\n",
        "    subs = c(fselected, j)\n",
        "    eloo = numeric(N)\n",
        "    for (i in 1:N){\n",
        "      Xi = cbind(numeric(N-1)+1, X[-i, subs])\n",
        "      Yi = Y[-i]\n",
        "      betai = solve(t(Xi) %*% Xi) %*% t(Xi) %*% Yi\n",
        "      yhati = c(1, X[i, subs]) %*% betai\n",
        "      eloo[i] = Y[i] - yhati\n",
        "    }\n",
        "    # Store the MSE of the current feature\n",
        "    MSEloo[j] = mean(eloo^2)\n",
        "  }\n",
        "  # Add the feature with the smallest MSE to the selected features\n",
        "  fselected = c(fselected, which.min(MSEloo))\n",
        "}\n",
        "\n",
        "# Store the indices of the selected features\n",
        "fsel = fselected\n",
        "\n",
        "# Print the indices of the selected features\n",
        "print(paste(\"First most important feature: \", fsel[1]))\n",
        "print(paste(\"Second most important feature: \", fsel[2]))\n",
        "print(paste(\"Third most important feature: \", fsel[3]))\n",
        "print(paste(\"Fourth most important feature: \", fsel[4]))\n",
        "print(paste(\"Fifth most important feature: \", fsel[5]))\n",
        "\n",
        "# Create new data matrices containing only the selected features\n",
        "X2 = X[, fsel]\n",
        "Xts2 = Xts[, fsel]\n",
        "\n",
        "X = cbind(numeric(N) + 1, X)\n",
        "Xts = cbind(numeric(NROW(Xts)) + 1, Xts)\n",
        "\n",
        "# Fit a linear model to the data using all features\n",
        "betahat = solve(t(X) %*% X) %*% t(X) %*% Y\n",
        "\n",
        "# Make predictions on the test set\n",
        "Yhats = Xts %*% betahat\n",
        "\n",
        "# Compute the Mean Integrated Squared Error (MISE) on the test set\n",
        "MISEts = mean((Yts - Yhats)^2)\n",
        "\n",
        "# Print the MISE for all features\n",
        "print(paste(\"MISE test (all features): \", MISEts))\n",
        "\n",
        "X2 = cbind(numeric(N) + 1, X2)\n",
        "Xts2 = cbind(numeric(NROW(Xts2)) + 1, Xts2)\n",
        "\n",
        "# Fit a linear model to the data using the selected features\n",
        "betahat2 = solve(t(X2) %*% X2) %*% t(X2) %*% Y\n",
        "\n",
        "# Make predictions on the test set\n",
        "Yhats2 = Xts2 %*% betahat2\n",
        "\n",
        "# Compute the Mean Integrated Squared Error (MISE) on the test set\n",
        "MISEts2 = mean((Yts - Yhats2)^2)\n",
        "\n",
        "# Print the MISE for the selected features\n",
        "print(paste(\"MISE test (subset of 5 best ranked features): \", MISEts2))\n",
        "\n",
        "# Check if feature selection was useful\n",
        "if(MISEts2 < MISEts) {\n",
        "  print(\"Yes, feature selection was useful.\")\n",
        "} else {\n",
        "  print(\"No, feature selection was not useful.\")\n",
        "}\n"
      ],
      "metadata": {
        "colab": {
          "base_uri": "https://localhost:8080/"
        },
        "id": "YdlFaukxgXAN",
        "outputId": "cbc9b528-7987-4cd9-8c08-f7b125c9a698"
      },
      "id": "YdlFaukxgXAN",
      "execution_count": null,
      "outputs": [
        {
          "output_type": "stream",
          "name": "stdout",
          "text": [
            "[1] \"First most important feature:  4\"\n",
            "[1] \"Second most important feature:  3\"\n",
            "[1] \"Third most important feature:  13\"\n",
            "[1] \"Fourth most important feature:  6\"\n",
            "[1] \"Fifth most important feature:  18\"\n",
            "[1] \"MISE test (all features):  0.904552933253753\"\n",
            "[1] \"MISE test (subset of 5 best ranked features):  0.79817601220304\"\n",
            "[1] \"Yes, feature selection was useful.\"\n"
          ]
        }
      ]
    },
    {
      "cell_type": "code",
      "source": [],
      "metadata": {
        "id": "ouTDMmQpfUXi"
      },
      "id": "ouTDMmQpfUXi",
      "execution_count": null,
      "outputs": []
    },
    {
      "cell_type": "markdown",
      "source": [
        "Let us consider a regression task with n=50\n",
        " inputs and 1 output\n",
        "whose training set is contained in the data matrices X and Y   of this .Rdata file\n",
        "\n",
        "By using R,  compute the optimal λ\n",
        " ## shrinkage parameter for a ridge-regression approach by using a leave-one-out assessment strategy.\n",
        "\n",
        "0\t1\t10\t100\t1000\t10000\t100000"
      ],
      "metadata": {
        "id": "JlztHhCyhRlQ"
      },
      "id": "JlztHhCyhRlQ"
    },
    {
      "cell_type": "markdown",
      "source": [],
      "metadata": {
        "id": "mM_9gA4TiT8E"
      },
      "id": "mM_9gA4TiT8E"
    },
    {
      "cell_type": "code",
      "source": [
        "rm(list=ls())\n",
        "\n",
        "\n",
        "\n",
        "\n",
        "\n",
        "\n",
        "\n",
        "load(\"FS.Rdata\")\n",
        "\n",
        "\n",
        "\n",
        "n=NCOL(X)\n",
        "\n",
        "N=NROW(X)\n",
        "\n",
        "\n",
        "\n",
        "X<-cbind(numeric(N)+1,X)\n",
        "\n",
        "\n",
        "\n",
        "\n",
        "\n",
        "LAM=c(0,1,10,100,1000,10000,100000)\n",
        "\n",
        "MSEloo=numeric(length(LAM))\n",
        "\n",
        "for (l  in 1:length(LAM)){\n",
        "\n",
        "  Eloo<-NULL\n",
        "\n",
        "  lam=LAM[l]\n",
        "\n",
        "  for (i in 1:N){\n",
        "\n",
        "    Xi=X[-i,]\n",
        "\n",
        "    Yi=Y[-i]\n",
        "\n",
        "    betahat= solve(t(Xi)%*%Xi+lam*diag(n+1))%*%t(Xi)%*%Yi\n",
        "\n",
        "    Eloo<-c(Eloo,Y[i]-X[i,]%*%betahat)\n",
        "\n",
        "  }\n",
        "\n",
        "  MSEloo[l]=mean(Eloo^2)\n",
        "\n",
        "}\n",
        "\n",
        "bestlam=LAM[which.min(MSEloo)]\n",
        "\n",
        "\n",
        "\n",
        "cat(\"best lam=\",bestlam,\"\\n\")"
      ],
      "metadata": {
        "colab": {
          "base_uri": "https://localhost:8080/"
        },
        "id": "uxm_G2REhYHo",
        "outputId": "71e0f3f2-cdbf-4fb8-ae78-7b528204e4c9"
      },
      "id": "uxm_G2REhYHo",
      "execution_count": null,
      "outputs": [
        {
          "output_type": "stream",
          "name": "stdout",
          "text": [
            "best lam= 10 \n"
          ]
        }
      ]
    },
    {
      "cell_type": "markdown",
      "source": [
        "Consider the R dataframe \\texttt{Q6.G1.D} in \\texttt{EXAM\\_2021\\_1s.Rdata} that contains the observed dataset of a binary classification task where the target is $y \\in \\{-1, 1\\}$ and the input $x \\in \\mathbb{R}^2$.\n",
        "\n",
        "The student should:\n",
        "\n",
        "1. Trace the ROC curve of a Naive Bayes classifier using a Normal approximation of the conditional density.\n",
        "2. Trace the ROC curve of the classifier $c(x) = \\begin{cases} 1 & \\text{if } x_1 > h \\\\ -1 & \\text{else} \\end{cases}$ for different values of $h$.\n",
        "3. Choose the best classifier based on the ROC curve.\n",
        "4. In the following question, copy the R code used for tracing the ROC curves.\n",
        "5. In the following question, upload a PDF file showing the two ROC curves and justify the choice of the classifier.\n"
      ],
      "metadata": {
        "id": "niybTIbnQydo"
      },
      "id": "niybTIbnQydo"
    },
    {
      "cell_type": "code",
      "execution_count": null,
      "id": "3d64e9a1",
      "metadata": {
        "id": "3d64e9a1",
        "colab": {
          "base_uri": "https://localhost:8080/",
          "height": 620
        },
        "outputId": "7bf026d1-7072-4dbf-df89-a7b68d3eb14e"
      },
      "outputs": [
        {
          "output_type": "stream",
          "name": "stderr",
          "text": [
            "Setting levels: control = -1, case = 1\n",
            "\n",
            "Setting direction: controls < cases\n",
            "\n",
            "Setting levels: control = -1, case = 1\n",
            "\n",
            "Setting direction: controls < cases\n",
            "\n"
          ]
        },
        {
          "output_type": "stream",
          "name": "stdout",
          "text": [
            "[1] \"AUC for Threshold Classifier:  0.592948717948718\"\n",
            "[1] \"AUC for Naive Bayes Classifier:  0.950320512820513\"\n"
          ]
        },
        {
          "output_type": "display_data",
          "data": {
            "text/plain": [
              "Plot with title “ROC curves”"
            ],
            "image/png": "[encoded data removed]"
          },
          "metadata": {
            "image/png": {
              "width": 420,
              "height": 420
            }
          }
        }
      ],
      "source": [
        "# Clear the current working environment\n",
        "rm(list=ls())\n",
        "\n",
        "# Load data from the specified file\n",
        "load(\"EXAM_2021_1s.Rdata\")\n",
        "\n",
        "# Set the seed for random number generation for reproducibility\n",
        "set.seed(123)\n",
        "\n",
        "# Define the Naive Bayes function\n",
        "NB<-function(X,Y){\n",
        "  # Get the number of samples (N) and the number of features (n)\n",
        "  N=length(Y)\n",
        "  n=NCOL(X)\n",
        "\n",
        "  # Initialize an empty vector for storing the predicted probabilities\n",
        "  Yhat=numeric(N)\n",
        "\n",
        "  # Get the indices of positive and negative samples\n",
        "  I1=which(Y==1)\n",
        "  I0=which(Y==-1)\n",
        "\n",
        "  # Calculate the prior probabilities of positive and negative classes\n",
        "  p1=length(I1)/N\n",
        "  p0=1-p1\n",
        "\n",
        "  # Loop over each sample\n",
        "  for (i in 1:N){\n",
        "    # Initialize the likelihoods of positive and negative classes\n",
        "    p1x=1\n",
        "    p0x=1\n",
        "\n",
        "    # Loop over each feature\n",
        "    for (j in 1:n){\n",
        "      # Update the likelihoods based on the Normal distribution\n",
        "      p1x=p1x*dnorm(X[i,j],mean(X[I1,j]),sd(X[I1,j]))\n",
        "      p0x=p0x*dnorm(X[i,j],mean(X[I0,j]),sd(X[I0,j]))\n",
        "    }\n",
        "\n",
        "    # Calculate the posterior probabilities and store them in Yhat\n",
        "    Yhat[i]=p1x*p1/(p1x*p1+p0x*p0)\n",
        "  }\n",
        "\n",
        "  # Return the predicted probabilities\n",
        "  return(Yhat)\n",
        "}\n",
        "\n",
        "# Define the number of samples (N) and the number of features (n)\n",
        "N=50\n",
        "n=2\n",
        "\n",
        "# Extract the features (X) and the target variable (Y) from the dataset\n",
        "D=Q6.G1.D\n",
        "X=D[,1:2]\n",
        "Y=D[,3]\n",
        "\n",
        "# Count the number of positive and negative samples\n",
        "N1=length(which(Y==1))\n",
        "N0=length(which(Y==-1))\n",
        "\n",
        "# Calculate the predicted probabilities for the threshold-based classifier and the Naive Bayes classifier\n",
        "Yhat1=X[,1]\n",
        "Yhat2=NB(X,Y)\n",
        "\n",
        "# Sort the predicted probabilities\n",
        "s1<-sort(Yhat1,decreasing=FALSE,index=TRUE)\n",
        "s2<-sort(Yhat2,decreasing=FALSE,index=TRUE)\n",
        "\n",
        "# Initialize vectors for storing the true positive rate (TPR) and the false positive rate (FPR)\n",
        "TPR1=NULL\n",
        "FPR1=NULL\n",
        "TPR2=NULL\n",
        "FPR2=NULL\n",
        "\n",
        "# Loop over each threshold\n",
        "for (i in 1:N){\n",
        "  # Get the indices of samples above the current threshold\n",
        "  I1=s1$ix[1:i]\n",
        "  I2=s2$ix[1:i]\n",
        "\n",
        "  # Calculate and store the TPR and FPR for each classifier\n",
        "  TPR1=c(TPR1,length(which(Y[setdiff(1:N,I1)]==1))/N1)\n",
        "  FPR1=c(FPR1,length(which(Y[setdiff(1:N,I1)]==-1))/N0)\n",
        "  TPR2=c(TPR2,length(which(Y[setdiff(1:N,I2)]==1))/N1)\n",
        "  FPR2=c(FPR2,length(which(Y[setdiff(1:N,I2)]==-1))/N0)\n",
        "}\n",
        "\n",
        "# Plot the ROC curves for both classifiers\n",
        "plot(FPR1,TPR1,type=\"l\",col=\"red\", xlab=\"FPR\", ylab=\"TPR\",main=\"ROC curves\")\n",
        "lines(FPR1,FPR1,lty=2)\n",
        "lines(FPR2,TPR2,col=\"black\")\n",
        "\n",
        "# Add a legend to the plot\n",
        "legend(0.5,0.3,c(\"TH\",\"NB\"), col=c(\"red\",\"black\"),lty=1, text.font = 2,pt.cex = 1, cex = 0.7,ncol=3)\n",
        "\n",
        "# If the pROC package is not installed, install it\n",
        "if (!require(pROC)) {\n",
        "  install.packages(\"pROC\")\n",
        "}\n",
        "\n",
        "# Load the pROC package\n",
        "library(pROC)\n",
        "\n",
        "# Calculate the AUC for each classifier\n",
        "auc1 <- auc(roc(Y, Yhat1))\n",
        "auc2 <- auc(roc(Y, Yhat2))\n",
        "\n",
        "# Print the AUCs\n",
        "print(paste(\"AUC for Threshold Classifier: \", auc1))\n",
        "print(paste(\"AUC for Naive Bayes Classifier: \", auc2))\n"
      ]
    },
    {
      "cell_type": "markdown",
      "source": [
        "Consider the R dataframe Q6.G1.D in EXAM_2021_1s.Rdata that contains the observed dataset of a binary classification task where target is y∈{−1,1}\n",
        " and the input x∈R2\n",
        ".\n",
        "\n",
        "\n",
        "\n",
        "The student should\n",
        "\n",
        "trace the ROC curve of a Naive Bayes classifier using a Normal approximation of the conditional density,\n",
        "trace the ROC curve of the classifier c(x)={1 if x_1>h and −1 else\n",
        " for different values of h,\n",
        "choose the best classifier on the basis of the ROC curve,\n",
        "in the following question, copy the  R code used for tracing the ROC curves\n",
        "in the following question, upload a pdf file showing the 2 ROC curves and justifying the choice of the classifier."
      ],
      "metadata": {
        "id": "aV6EOb_pKUqj"
      },
      "id": "aV6EOb_pKUqj"
    },
    {
      "cell_type": "markdown",
      "source": [],
      "metadata": {
        "id": "MN-QhU3pQwBT"
      },
      "id": "MN-QhU3pQwBT"
    },
    {
      "cell_type": "code",
      "source": [
        "Q6.G1.D"
      ],
      "metadata": {
        "id": "eGKPGP-sLulx"
      },
      "id": "eGKPGP-sLulx",
      "execution_count": null,
      "outputs": []
    },
    {
      "cell_type": "code",
      "source": [
        "# Assuming your data matrix's name is Q6.G1.D\n",
        "\n",
        "# Load your data\n",
        "load(\"EXAM_2021_1s.Rdata\")\n",
        "\n",
        "# Split your data into classes based on the target variable y\n",
        "class1 <- Q6.G1.D[Q6.G1.D[,3] == 1,]\n",
        "class2 <- Q6.G1.D[Q6.G1.D[,3] == -1,]\n",
        "\n",
        "# Calculate means and sd for each feature in each class\n",
        "mean1 <- colMeans(class1[,1:2])\n",
        "mean2 <- colMeans(class2[,1:2])\n",
        "sd1 <- apply(class1[,1:2], 2, sd)\n",
        "sd2 <- apply(class2[,1:2], 2, sd)\n",
        "\n",
        "# Implement the naive bayes classifier using the Gaussian approximation\n",
        "naive_bayes_classifier <- function(x) {\n",
        "  likelihood1 <- dnorm(x[1], mean1[1], sd1[1]) * dnorm(x[2], mean1[2], sd1[2])\n",
        "  likelihood2 <- dnorm(x[1], mean2[1], sd2[1]) * dnorm(x[2], mean2[2], sd2[2])\n",
        "\n",
        "  prior1 <- nrow(class1) / nrow(Q6.G1.D)\n",
        "  prior2 <- nrow(class2) / nrow(Q6.G1.D)\n",
        "\n",
        "  posterior1 <- likelihood1 * prior1\n",
        "  posterior2 <- likelihood2 * prior2\n",
        "\n",
        "  if (posterior1 > posterior2) {\n",
        "    return(1)\n",
        "  } else {\n",
        "    return(-1)\n",
        "  }\n",
        "}\n",
        "\n",
        "# Test naive bayes classifier on the data\n",
        "predictions_naive_bayes <- apply(Q6.G1.D[,1:2], 1, naive_bayes_classifier)\n",
        "\n",
        "# Implement the second classifier\n",
        "classifier_c <- function(x, h) {\n",
        "  if (x[1] > h) {\n",
        "    return(1)\n",
        "  } else {\n",
        "    return(-1)\n",
        "  }\n",
        "}\n",
        "\n",
        "# Test classifier c on the data for different values of h\n",
        "h_values <- seq(min(Q6.G1.D[,1]), max(Q6.G1.D[,1]), length.out = 100)\n",
        "\n",
        "roc_values <- matrix(nrow=length(h_values), ncol=2)\n",
        "\n",
        "for (i in seq_along(h_values)) {\n",
        "  predictions_classifier_c <- apply(Q6.G1.D[,1:2], 1, classifier_c, h = h_values[i])\n",
        "\n",
        "  tp_rate <- sum(Q6.G1.D[,3] == 1 & predictions_classifier_c == 1) / sum(Q6.G1.D[,3] == 1)\n",
        "  fp_rate <- sum(Q6.G1.D[,3] == -1 & predictions_classifier_c == 1) / sum(Q6.G1.D[,3] == -1)\n",
        "\n",
        "  roc_values[i,] <- c(fp_rate, tp_rate)\n",
        "}\n",
        "\n",
        "# Plot ROC curve for classifier c\n",
        "plot(roc_values[,1], roc_values[,2], type = \"l\")\n",
        "\n",
        "# Measure the performance of each classifier\n",
        "accuracy_naive_bayes <- mean(Q6.G1.D[,3] == predictions_naive_bayes)\n",
        "accuracy_classifier_c <- max(apply(roc_values, 1, min))\n",
        "\n",
        "# Choose the classifier with the best performance\n",
        "if (accuracy_naive_bayes > accuracy_classifier_c) {\n",
        "  print(\"Naive Bayes is the best classifier\")\n",
        "} else {\n",
        "  print(\"Classifier c is the best classifier\")\n",
        "}\n"
      ],
      "metadata": {
        "id": "DK4JrR47MD5n"
      },
      "id": "DK4JrR47MD5n",
      "execution_count": null,
      "outputs": []
    },
    {
      "cell_type": "markdown",
      "source": [
        "onsider the R dataframe Q5.G1.D in EXAM_2021_1s.Rdata\n",
        "\n",
        "It contains the observed dataset of a binary classification task where target is y∈{−1,1}\n",
        " and the input x∈R2\n",
        ".\n",
        "\n",
        "\n",
        "\n",
        "Let us consider the following three classifiers:\n",
        "\n",
        "{1 if x1>0 −1 else\n",
        "{1 if x1x2<0 −1 else\n",
        "{1 if x2<0 −1 else\n",
        "\n",
        "\n",
        " Fill the confusion matrix of the first classifier\n",
        "\n",
        " \tReal class=1\tReal class= -1\n",
        "Predicted class=1\tRéponse\n",
        "Réponse\n",
        "Predicted class =-1"
      ],
      "metadata": {
        "id": "B06RdZIFNF6J"
      },
      "id": "B06RdZIFNF6J"
    },
    {
      "cell_type": "code",
      "source": [
        "load(\"EXAM_2021_1s.Rdata\")\n",
        "\n",
        "Q5.G1.D"
      ],
      "metadata": {
        "id": "XE3w1NWMNFL5"
      },
      "id": "XE3w1NWMNFL5",
      "execution_count": null,
      "outputs": []
    },
    {
      "cell_type": "code",
      "source": [
        "# Load your data\n",
        "load(\"EXAM_2021_1s.Rdata\")\n",
        "\n",
        "# Assuming your matrix's name is Q5.G1.D and it has columns x1, x2 and y\n",
        "\n",
        "# Define the first classifier\n",
        "classifier_1 <- function(x) {\n",
        "  if (x[1] > 0) {\n",
        "    return(1)\n",
        "  } else {\n",
        "    return(-1)\n",
        "  }\n",
        "}\n",
        "\n",
        "# Apply the classifier to your data\n",
        "predicted_classifier_1 <- apply(Q5.G1.D[,1:2], 1, classifier_1)\n",
        "\n",
        "# Define a function to generate confusion matrix\n",
        "generate_confusion_matrix <- function(true_labels, predicted_labels) {\n",
        "  true_positives <- sum(true_labels == 1 & predicted_labels == 1)\n",
        "  true_negatives <- sum(true_labels == -1 & predicted_labels == -1)\n",
        "  false_positives <- sum(true_labels == -1 & predicted_labels == 1)\n",
        "  false_negatives <- sum(true_labels == 1 & predicted_labels == -1)\n",
        "\n",
        "  return(matrix(c(true_positives, false_positives, false_negatives, true_negatives), nrow = 2, byrow = TRUE))\n",
        "}\n",
        "\n",
        "# Generate the confusion matrix for the first classifier\n",
        "confusion_matrix_classifier_1 <- generate_confusion_matrix(Q5.G1.D[,3], predicted_classifier_1)\n",
        "print(confusion_matrix_classifier_1)\n"
      ],
      "metadata": {
        "colab": {
          "base_uri": "https://localhost:8080/"
        },
        "id": "3YcO34WWN761",
        "outputId": "30c023cf-43d5-493c-a3e2-a485d5507939"
      },
      "id": "3YcO34WWN761",
      "execution_count": null,
      "outputs": [
        {
          "output_type": "stream",
          "name": "stdout",
          "text": [
            "     [,1] [,2]\n",
            "[1,]   13    9\n",
            "[2,]    9   19\n"
          ]
        }
      ]
    },
    {
      "cell_type": "code",
      "source": [
        "# Define the second classifier\n",
        "classifier_2 <- function(x) {\n",
        "  if (x[1]*x[2] < 0) {\n",
        "    return(1)\n",
        "  } else {\n",
        "    return(-1)\n",
        "  }\n",
        "}\n",
        "\n",
        "# Apply the classifier to your data\n",
        "predicted_classifier_2 <- apply(Q5.G1.D[,1:2], 1, classifier_2)\n",
        "\n",
        "# Generate the confusion matrix for the second classifier\n",
        "confusion_matrix_classifier_2 <- generate_confusion_matrix(Q5.G1.D[,3], predicted_classifier_2)\n",
        "print(confusion_matrix_classifier_2)\n"
      ],
      "metadata": {
        "colab": {
          "base_uri": "https://localhost:8080/"
        },
        "id": "QGjdux1gO_Lc",
        "outputId": "1d6754d2-7ef0-409f-e097-21145b28cf83"
      },
      "id": "QGjdux1gO_Lc",
      "execution_count": null,
      "outputs": [
        {
          "output_type": "stream",
          "name": "stdout",
          "text": [
            "     [,1] [,2]\n",
            "[1,]    3   21\n",
            "[2,]   19    7\n"
          ]
        }
      ]
    },
    {
      "cell_type": "code",
      "source": [
        "# Define the third classifier\n",
        "classifier_3 <- function(x) {\n",
        "  if (x[2] < 0) {\n",
        "    return(1)\n",
        "  } else {\n",
        "    return(-1)\n",
        "  }\n",
        "}\n",
        "\n",
        "# Apply the classifier to your data\n",
        "predicted_classifier_3 <- apply(Q5.G1.D[,1:2], 1, classifier_3)\n",
        "\n",
        "# Generate the confusion matrix for the third classifier\n",
        "confusion_matrix_classifier_3 <- generate_confusion_matrix(Q5.G1.D[,3], predicted_classifier_3)\n",
        "print(confusion_matrix_classifier_3)\n"
      ],
      "metadata": {
        "colab": {
          "base_uri": "https://localhost:8080/"
        },
        "id": "6cRaqG7pPZ9E",
        "outputId": "4444aea2-736c-4b82-e75d-d9aefa0f9c19"
      },
      "id": "6cRaqG7pPZ9E",
      "execution_count": null,
      "outputs": [
        {
          "output_type": "stream",
          "name": "stdout",
          "text": [
            "     [,1] [,2]\n",
            "[1,]    8   16\n",
            "[2,]   14   12\n"
          ]
        }
      ]
    },
    {
      "cell_type": "markdown",
      "source": [
        "Consider the R dataframe \\texttt{Q5.G1.D} in \\texttt{EXAM\\_2021\\_1s.Rdata}.\n",
        "\n",
        "It contains the observed dataset of a binary classification task where the target is $y \\in \\{-1, 1\\}$ and the input $x \\in \\mathbb{R}^2$.\n",
        "\n",
        "Let us consider the following three classifiers:\n",
        "\n",
        "\\[\n",
        "\\begin{align*}\n",
        "\\text{Classifier 1:} & \\quad \\text{if } x_1 > 0, \\text{ return } 1 \\text{ else return } -1 \\\\\n",
        "\\text{Classifier 2:} & \\quad \\text{if } x_1 \\cdot x_2 < 0, \\text{ return } 1 \\text{ else return } -1 \\\\\n",
        "\\text{Classifier 3:} & \\quad \\text{if } x_2 < 0, \\text{ return } 1 \\text{ else return } -1 \\\\\n",
        "\\end{align*}\n",
        "\\]\n"
      ],
      "metadata": {
        "id": "DogRUKLZP3oL"
      },
      "id": "DogRUKLZP3oL"
    },
    {
      "cell_type": "code",
      "source": [
        "rm(list=ls())\n",
        "\n",
        "load(\"EXAM_2021_1s.Rdata\")\n",
        "\n",
        "\n",
        "\n",
        "assess<-function(Y,Yhat){\n",
        "\n",
        "  if (length(Y)!=length(Y))\n",
        "\n",
        "    stop(\"wrong sizes\")\n",
        "\n",
        "  TP=length(which(Y==1 & Yhat==1))\n",
        "\n",
        "  FP=length(which(Y==-1 & Yhat==1))\n",
        "\n",
        "  TN=length(which(Y==-1 & Yhat==-1))\n",
        "\n",
        "  FN=length(which(Y==1 & Yhat==-1))\n",
        "\n",
        "\n",
        "\n",
        "  P=length(which(Y==1))\n",
        "\n",
        "  N=length(which(Y==-1))\n",
        "\n",
        "  Phat=length(which(Yhat==1))\n",
        "\n",
        "  Nhat=length(which(Yhat==-1))\n",
        "\n",
        "  list(TP=TP,FP=FP,FN=FN,TN=TN,TPR=TP/P, FPR=FP/N, TNR=TN/N, PR=TP/Phat,\n",
        "\n",
        "       ER=(FP+FN)/(P+N),BER=0.5*(FP/(TN+FP)+FN/(FN+TP)))\n",
        "\n",
        "\n",
        "\n",
        "\n",
        "\n",
        "}\n",
        "\n",
        "\n",
        "\n",
        "\n",
        "\n",
        "\n",
        "\n",
        "\n",
        "\n",
        "\n",
        "\n",
        "D=Q5.G1.D\n",
        "\n",
        "\n",
        "\n",
        "\n",
        "\n",
        "X=D[,1:2]\n",
        "\n",
        "Y=D[,3]\n",
        "\n",
        "N=NROW(X)\n",
        "\n",
        "n=NCOL(X)\n",
        "\n",
        "I1=which(X[,1]>0)\n",
        "\n",
        "C1hat=numeric(N)-1\n",
        "\n",
        "C1hat[I1]=1\n",
        "\n",
        "\n",
        "\n",
        "I2=which(X[,1]*X[,2]<0)\n",
        "\n",
        "C2hat=numeric(N)-1\n",
        "\n",
        "C2hat[I2]=1\n",
        "\n",
        "\n",
        "\n",
        "I3=which(X[,2]<0)\n",
        "\n",
        "C3hat=numeric(N)-1\n",
        "\n",
        "C3hat[I3]=1\n",
        "\n",
        "\n",
        "\n",
        "PR=NULL\n",
        "\n",
        "ER=NULL\n",
        "\n",
        "BER=NULL\n",
        "\n",
        "TPR=NULL\n",
        "\n",
        "TNR=NULL\n",
        "\n",
        "\n",
        "\n",
        "for (i in 1:3){\n",
        "\n",
        "  eval(parse(text=paste(\"ASSC=assess(Y,C\",i,\"hat)\",sep=\"\")))\n",
        "\n",
        "  TP=ASSC$TP\n",
        "\n",
        "  FP=ASSC$FP\n",
        "\n",
        "  FN=ASSC$FN\n",
        "\n",
        "  TN=ASSC$TN\n",
        "\n",
        "  ER<-c(ER,ASSC$ER)\n",
        "\n",
        "  BER<-c(BER,ASSC$BER)\n",
        "\n",
        "  PR=c(PR,ASSC$PR)\n",
        "\n",
        "  TPR=c(TPR,ASSC$TPR)\n",
        "\n",
        "  TNR=c(TNR,ASSC$TNR)\n",
        "\n",
        "  cat(\"Classifier\",i,\":\")\n",
        "\n",
        "  print(rbind(c(TP,FP),c(FN,TN)))\n",
        "\n",
        "}\n",
        "\n",
        "\n",
        "\n",
        "\n",
        "\n",
        "cat(\"\\n which.min(ER)=\",which.min(ER),\n",
        "\n",
        "    \"\\n which.min(BER)=\",which.min(BER),\n",
        "\n",
        "    \"\\n which.max(PR)=\",which.max(PR),\n",
        "\n",
        "    \"\\n which.max(TPR)=\",which.max(TPR),\n",
        "\n",
        "    \"\\n which.max(TNR)=\",which.max(TNR),\n",
        "\n",
        "    \"TNR=\", TNR,\"\\n\")\n",
        "\n"
      ],
      "metadata": {
        "colab": {
          "base_uri": "https://localhost:8080/"
        },
        "id": "9XVc8DfcRRSb",
        "outputId": "98fe738e-a674-4554-e5c7-3d01882108e7"
      },
      "id": "9XVc8DfcRRSb",
      "execution_count": null,
      "outputs": [
        {
          "output_type": "stream",
          "name": "stdout",
          "text": [
            "Classifier 1 :     [,1] [,2]\n",
            "[1,]   13    9\n",
            "[2,]    9   19\n",
            "Classifier 2 :     [,1] [,2]\n",
            "[1,]    3   21\n",
            "[2,]   19    7\n",
            "Classifier 3 :     [,1] [,2]\n",
            "[1,]    8   16\n",
            "[2,]   14   12\n",
            "\n",
            " which.min(ER)= 1 \n",
            " which.min(BER)= 1 \n",
            " which.max(PR)= 1 \n",
            " which.max(TPR)= 1 \n",
            " which.max(TNR)= 1 TNR= 0.6785714 0.25 0.4285714 \n"
          ]
        }
      ]
    },
    {
      "cell_type": "markdown",
      "source": [
        "EXAM.2021.1s.Q6.1\n",
        "\n",
        "\n",
        "\n",
        "Consider the R dataframe Q6.G1.D in EXAM_2021_1s.Rdata that contains the observed dataset of a binary classification task where target is y∈{−1,1}\n",
        " and the input x∈R2\n",
        ".\n",
        "\n",
        "\n",
        "\n",
        "The student should\n",
        "\n",
        "trace the ROC curve of a Naive Bayes classifier using a Normal approximation of the conditional density,\n",
        "trace the ROC curve of the classifier c(x)={1 if x1>h−1 else\n",
        " for different values of h,\n",
        "choose the best classifier on the basis of the ROC curve,\n",
        "in the following question, copy the  R code used for tracing the ROC curves\n",
        "in the following question, upload a pdf file showing the 2 ROC curves and justifying the choice of the classifier."
      ],
      "metadata": {
        "id": "DlD9ARaGR4qa"
      },
      "id": "DlD9ARaGR4qa"
    },
    {
      "cell_type": "code",
      "source": [
        "rm(list=ls())\n",
        "\n",
        "load(\"EXAM_2021_1s.Rdata\")\n",
        "\n",
        "set.seed(123)\n",
        "\n",
        "\n",
        "NB<-function(X,Y){\n",
        "\n",
        "  N=length(Y)\n",
        "\n",
        "  n=NCOL(X)\n",
        "\n",
        "  Yhat=numeric(N)\n",
        "\n",
        "  I1=which(Y==1)\n",
        "\n",
        "  I0=which(Y==-1)\n",
        "\n",
        "  p1=length(I1)/N\n",
        "\n",
        "  p0=1-p1\n",
        "\n",
        "  for (i in 1:N){\n",
        "\n",
        "    p1x=1\n",
        "\n",
        "    p0x=1\n",
        "\n",
        "    for (j in 1:n){\n",
        "\n",
        "      p1x=p1x*dnorm(X[i,j],mean(X[I1,j]),sd(X[I1,j]))\n",
        "\n",
        "      p0x=p0x*dnorm(X[i,j],mean(X[I0,j]),sd(X[I0,j]))\n",
        "\n",
        "\n",
        "\n",
        "    }\n",
        "\n",
        "    Yhat[i]=p1x*p1/(p1x*p1+p0x*p0)\n",
        "\n",
        "  }\n",
        "\n",
        "\n",
        "\n",
        "  return(Yhat)\n",
        "\n",
        "\n",
        "\n",
        "}\n",
        "\n",
        "\n",
        "\n",
        "N=50\n",
        "\n",
        "n=2\n",
        "  #Y=sign(X[,2]+rnorm(N,sd=sdw))\n",
        "\n",
        "  D=Q6.G1.D\n",
        "\n",
        "\n",
        "X=D[,1:2]\n",
        "\n",
        "Y=D[,3]\n",
        "\n",
        "\n",
        "\n",
        "\n",
        "\n",
        "N1=length(which(Y==1))\n",
        "\n",
        "N0=length(which(Y==-1))\n",
        "\n",
        "Yhat1=X[,1]\n",
        "\n",
        "Yhat2=NB(X,Y)\n",
        "\n",
        "s1<-sort(Yhat1,decreasing=FALSE,index=TRUE)\n",
        "\n",
        "s2<-sort(Yhat2,decreasing=FALSE,index=TRUE)\n",
        "\n",
        "TPR1=NULL\n",
        "\n",
        "FPR1=NULL\n",
        "\n",
        "TPR2=NULL\n",
        "\n",
        "FPR2=NULL\n",
        "\n",
        "for (i in 1:N){\n",
        "\n",
        "  I1=s1$ix[1:i]\n",
        "\n",
        "  TPR1=c(TPR1,length(which(Y[setdiff(1:N,I1)]==1))/N1)\n",
        "\n",
        "  FPR1=c(FPR1,length(which(Y[setdiff(1:N,I1)]==-1))/N0)\n",
        "\n",
        "  I2=s2$ix[1:i]\n",
        "\n",
        "  TPR2=c(TPR2,length(which(Y[setdiff(1:N,I2)]==1))/N1)\n",
        "\n",
        "  FPR2=c(FPR2,length(which(Y[setdiff(1:N,I2)]==-1))/N0)\n",
        "\n",
        "\n",
        "\n",
        "}\n",
        "\n",
        "\n",
        "\n",
        "\n",
        "\n",
        "plot(FPR1,TPR1,type=\"l\",col=\"red\",\n",
        "\n",
        "     xlab=\"FPR\",\n",
        "\n",
        "     ylab=\"TPR\",main=\"ROC curves\")\n",
        "\n",
        "lines(FPR1,FPR1,lty=2)\n",
        "\n",
        "lines(FPR2,TPR2,col=\"black\")\n",
        "\n",
        "\n",
        "\n",
        "legend(0.5,0.3,c(\"TH\",\"NB\"),\n",
        "\n",
        "       col=c(\"red\",\"black\"),lty=1,\n",
        "\n",
        "       text.font = 2,pt.cex = 1, cex = 0.7,ncol=3)\n",
        "\n",
        "#\n",
        "if (!require(pROC)) {\n",
        "  install.packages(\"pROC\")\n",
        "}\n",
        "\n",
        "#\n",
        "library(pROC)\n",
        "auc1 <- auc(roc(Y, Yhat1))\n",
        "auc2 <- auc(roc(Y, Yhat2))\n",
        "\n",
        "#\n",
        "print(paste(\"AUC for Threshold Classifier: \", auc1))\n",
        "print(paste(\"AUC for Naive Bayes Classifier: \", auc2))\n",
        "\n"
      ],
      "metadata": {
        "colab": {
          "base_uri": "https://localhost:8080/",
          "height": 975
        },
        "id": "29q43slzR1hr",
        "outputId": "0cd68f85-12cb-4544-9309-7f0674ba12b6"
      },
      "id": "29q43slzR1hr",
      "execution_count": null,
      "outputs": [
        {
          "output_type": "stream",
          "name": "stderr",
          "text": [
            "Loading required package: pROC\n",
            "\n",
            "Warning message in library(package, lib.loc = lib.loc, character.only = TRUE, logical.return = TRUE, :\n",
            "“there is no package called ‘pROC’”\n",
            "Installing package into ‘/usr/local/lib/R/site-library’\n",
            "(as ‘lib’ is unspecified)\n",
            "\n",
            "also installing the dependencies ‘plyr’, ‘Rcpp’\n",
            "\n",
            "\n",
            "Type 'citation(\"pROC\")' for a citation.\n",
            "\n",
            "\n",
            "Attaching package: ‘pROC’\n",
            "\n",
            "\n",
            "The following objects are masked from ‘package:stats’:\n",
            "\n",
            "    cov, smooth, var\n",
            "\n",
            "\n",
            "Setting levels: control = -1, case = 1\n",
            "\n",
            "Setting direction: controls < cases\n",
            "\n",
            "Setting levels: control = -1, case = 1\n",
            "\n",
            "Setting direction: controls < cases\n",
            "\n"
          ]
        },
        {
          "output_type": "stream",
          "name": "stdout",
          "text": [
            "[1] \"AUC for Threshold Classifier:  0.592948717948718\"\n",
            "[1] \"AUC for Naive Bayes Classifier:  0.950320512820513\"\n"
          ]
        },
        {
          "output_type": "display_data",
          "data": {
            "text/plain": [
              "Plot with title “ROC curves”"
            ],
            "image/png": "[encoded data removed]"
          },
          "metadata": {
            "image/png": {
              "width": 420,
              "height": 420
            }
          }
        }
      ]
    },
    {
      "cell_type": "markdown",
      "source": [
        "calculez l'aire du trapèze formé par ces points et l'axe des abscisses. L'aire d'un trapèze est donnée par 0.5 * (base1 + base2) * hauteur, où base1 et base2 sont les valeurs de TPR pour les deux points, et hauteur est la différence entre les valeurs de FPR pour les deux points.\n",
        "\n",
        "Sommez toutes ces aires de trapèzes pour obtenir l'aire sous la courbe ROC."
      ],
      "metadata": {
        "id": "Rk27Qf_nu-sb"
      },
      "id": "Rk27Qf_nu-sb"
    },
    {
      "cell_type": "code",
      "source": [
        "# Fonction pour calculer l'AUC en utilisant la méthode des trapèzes\n",
        "calculate_auc <- function(TPR, FPR) {\n",
        "  auc = 0\n",
        "  # Tri des FPR et TPR\n",
        "  order = order(FPR)\n",
        "  TPR = TPR[order]\n",
        "  FPR = FPR[order]\n",
        "\n",
        "  # Calcul de l'AUC\n",
        "  for (i in 1:(length(FPR) - 1)) {\n",
        "    auc = auc + 0.5 * (TPR[i+1] + TPR[i]) * (FPR[i+1] - FPR[i])\n",
        "  }\n",
        "  return(auc)\n",
        "}\n",
        "\n",
        "# Calcul de l'AUC pour chaque classificateur\n",
        "auc1 = calculate_auc(TPR1, FPR1)\n",
        "auc2 = calculate_auc(TPR2, FPR2)\n",
        "\n",
        "# Impression des résultats\n",
        "print(paste(\"AUC pour le classificateur 1 : \", auc1))\n",
        "print(paste(\"AUC pour le classificateur 2 : \", auc2))\n"
      ],
      "metadata": {
        "colab": {
          "base_uri": "https://localhost:8080/"
        },
        "id": "ObbV1KyFqeP2",
        "outputId": "e245ed0a-4623-40da-a5b2-9fbbcf455dd3"
      },
      "id": "ObbV1KyFqeP2",
      "execution_count": null,
      "outputs": [
        {
          "output_type": "stream",
          "name": "stdout",
          "text": [
            "[1] \"AUC pour le classificateur 1 :  0.555288461538462\"\n",
            "[1] \"AUC pour le classificateur 2 :  0.903044871794872\"\n"
          ]
        }
      ]
    },
    {
      "cell_type": "markdown",
      "source": [
        "Dans le code que vous avez partagé, deux classificateurs sont utilisés :\n",
        "\n",
        "Le \"classificateur 1\" utilise seulement la première caractéristique des données (X[,1]) pour faire ses prédictions. C'est un classificateur très simple qui peut ne pas avoir de bonnes performances si la classification dépend de plusieurs caractéristiques. Les prédictions de ce classificateur sont stockées dans Yhat1.\n",
        "\n",
        "Le \"classificateur 2\" utilise la méthode Naive Bayes pour faire ses prédictions. Cette méthode suppose que chaque caractéristique est indépendante des autres, ce qui n'est pas toujours le cas dans les données réelles. Cependant, malgré cette supposition naïve, le classificateur Naive Bayes peut souvent avoir de bonnes performances. Les prédictions de ce classificateur sont calculées par la fonction NB() et sont stockées dans Yhat2.\n",
        "\n",
        "En fin de compte, le code trace les courbes ROC pour ces deux classificateurs et affiche la légende pour les deux courbes (\"TH\" pour le classificateur 1 et \"NB\" pour le classificateur 2)."
      ],
      "metadata": {
        "id": "4dTAp5vTunzj"
      },
      "id": "4dTAp5vTunzj"
    },
    {
      "cell_type": "markdown",
      "source": [
        "D'après les résultats  obtenus, le classificateur bayésien naïf semble être le meilleur parmi les deux. Il a une AUC (Area Under the Curve) de 0.95, ce qui est bien supérieur à celle du classificateur basé sur le seuil, qui a une AUC de 0.59.\n",
        "\n",
        "En général, un classificateur avec une AUC plus proche de 1 est préférable car cela signifie qu'il a une capacité de discrimination plus élevée. Autrement dit, il est meilleur pour distinguer entre les différentes classes. Une AUC de 0.95 signifie que le classificateur bayésien naïf est capable de classer correctement les exemples positifs et négatifs 95% du temps, en supposant que nous choisissons un seuil approprié."
      ],
      "metadata": {
        "id": "8RjktNDRW4X2"
      },
      "id": "8RjktNDRW4X2"
    },
    {
      "cell_type": "code",
      "source": [
        "install.packages(\"mvtnorm\")\n"
      ],
      "metadata": {
        "id": "M7FASSC-Ykk6",
        "colab": {
          "base_uri": "https://localhost:8080/"
        },
        "outputId": "7896c916-4e88-4e0c-b57d-25d2c74f7b94"
      },
      "id": "M7FASSC-Ykk6",
      "execution_count": null,
      "outputs": [
        {
          "output_type": "stream",
          "name": "stderr",
          "text": [
            "Installing package into ‘/usr/local/lib/R/site-library’\n",
            "(as ‘lib’ is unspecified)\n",
            "\n"
          ]
        }
      ]
    },
    {
      "cell_type": "markdown",
      "source": [
        "# Instruction Exams 2023 Machine Learning\n",
        "\n",
        "Dear students,\n",
        "The exam (out of 10 points) is composed of 4 exercises (one per page) and 1 bonus.\n",
        "Exercises 1 and 2 are worth 2 points (out of 10). Exercises 3 and 4 are worth 3 points (out of 10).\n",
        "The bonus is worth 0.5 points but will be considered only if the sum of points obtained with the 4 exercises is greater/equal to 7.\n",
        "\n",
        "Each exercise is made of two sections: a question section and a justification section (to paste your R code and attach your textual justifications). Each answer must be justified with a documented portion of R code (when requested) and with a textual justification. The points will be given only in case of correct justifications.\n",
        "The R code should be copied in the proper window and NOT attached as a file. All attached R codes will not be taken into consideration.\n",
        "You are allowed to go back and forth through the different pages containing the questions.\n",
        "Each time you switch to another page, the answers to the questions on the page you are leaving are automatically saved.\n",
        "The data for the exam are contained in the .Rdata file available here.\n",
        "Download the file in a directory on your computer and make the following test in R:\n",
        "\n",
        "* rm(list=ls())\n",
        "* load(\"EXAM.1s.23.Rdata\")\n",
        "* ls()\n",
        "You should see as output the name of the following 9 variables\n",
        "\n",
        "[1] \"Q3.G1.D\"   \"Q3.G2.D\"   \"Q3.G3.D\"   \"Q4.G1.D\"   \"Q4.G1.Dts\" \"Q4.G2.D\"   \"Q4.G2.Dts\"\n",
        "[8] \"Q4.G3.D\"   \"Q4.G3.Dts\"\n",
        "Pay attention to the following points:\n",
        "\n",
        "- During the correction, the code will be copied and pasted into an R command window with an empty memory environment. For that reason, the code has to be self-contained and load properly all the required data. Code executing with errors will not be considered. We recommend that any code portion starts with\n",
        "\n",
        "- rm(list=ls())\n",
        "- load(\"EXAM.1s.23.Rdata\")\n",
        "- set.seed(0)\n",
        "\n",
        "\n",
        "\n",
        "\n",
        "- be sure to use the right R variables mentioned in your question,\n",
        "\n",
        "- use the decimal point (and not the decimal comma) to denote the decimal separator: e.g. 1/10 should be written as 0.1\n",
        "\n",
        "- do not do any rounding: use the value returned by R: e.g. 1/3  should be written as 0.3333333\n",
        "\n",
        "- exam duration (220 minutes= 3h40 mins)\n",
        "\n",
        "\n",
        "\n",
        "The exam shall be completed independently, and it shall represent the sole efforts of the student. You are allowed to use the course documents (handbook, slides, TPs) but no additional sources (web, chatbots..). Any interaction with other persons (or chatbots) during the exam is considered academic dishonesty and will be punished accordingly.\n",
        "\n",
        "Students should be reachable on Teams throughout the entire exam.\n",
        "\n"
      ],
      "metadata": {
        "id": "xuoEJ8KCX4bO"
      },
      "id": "xuoEJ8KCX4bO"
    },
    {
      "cell_type": "code",
      "source": [
        "library(mvtnorm)\n",
        "\n"
      ],
      "metadata": {
        "id": "bvPrQGZdHbdA"
      },
      "id": "bvPrQGZdHbdA",
      "execution_count": null,
      "outputs": []
    },
    {
      "cell_type": "code",
      "source": [
        "rm(list=ls())\n",
        "load(\"EXAM.1s.23.Rdata\")\n",
        "ls()"
      ],
      "metadata": {
        "colab": {
          "base_uri": "https://localhost:8080/",
          "height": 34
        },
        "id": "lBpGqU0zGx13",
        "outputId": "c6898838-8a87-432d-f9b2-38961f818f6f"
      },
      "id": "lBpGqU0zGx13",
      "execution_count": null,
      "outputs": [
        {
          "output_type": "display_data",
          "data": {
            "text/html": [
              "<style>\n",
              ".list-inline {list-style: none; margin:0; padding: 0}\n",
              ".list-inline>li {display: inline-block}\n",
              ".list-inline>li:not(:last-child)::after {content: \"\\00b7\"; padding: 0 .5ex}\n",
              "</style>\n",
              "<ol class=list-inline><li>'Q3.G1.D'</li><li>'Q3.G2.D'</li><li>'Q3.G3.D'</li><li>'Q4.G1.D'</li><li>'Q4.G1.Dts'</li><li>'Q4.G2.D'</li><li>'Q4.G2.Dts'</li><li>'Q4.G3.D'</li><li>'Q4.G3.Dts'</li></ol>\n"
            ],
            "text/markdown": "1. 'Q3.G1.D'\n2. 'Q3.G2.D'\n3. 'Q3.G3.D'\n4. 'Q4.G1.D'\n5. 'Q4.G1.Dts'\n6. 'Q4.G2.D'\n7. 'Q4.G2.Dts'\n8. 'Q4.G3.D'\n9. 'Q4.G3.Dts'\n\n\n",
            "text/latex": "\\begin{enumerate*}\n\\item 'Q3.G1.D'\n\\item 'Q3.G2.D'\n\\item 'Q3.G3.D'\n\\item 'Q4.G1.D'\n\\item 'Q4.G1.Dts'\n\\item 'Q4.G2.D'\n\\item 'Q4.G2.Dts'\n\\item 'Q4.G3.D'\n\\item 'Q4.G3.Dts'\n\\end{enumerate*}\n",
            "text/plain": [
              "[1] \"Q3.G1.D\"   \"Q3.G2.D\"   \"Q3.G3.D\"   \"Q4.G1.D\"   \"Q4.G1.Dts\" \"Q4.G2.D\"  \n",
              "[7] \"Q4.G2.Dts\" \"Q4.G3.D\"   \"Q4.G3.Dts\""
            ]
          },
          "metadata": {}
        }
      ]
    },
    {
      "cell_type": "code",
      "source": [
        "\n",
        "Q4.G3.Dts\n"
      ],
      "metadata": {
        "id": "UnVoqgsMZMJr"
      },
      "id": "UnVoqgsMZMJr",
      "execution_count": null,
      "outputs": []
    },
    {
      "cell_type": "code",
      "source": [
        "rm(list=ls())\n",
        "load(\"EXAM.1s.23.Rdata\")\n",
        "set.seed(0)\n",
        "# Set the parameters\n",
        "N <- 50 # data size\n",
        "mu <- 0\n",
        "sigma <- 0.25\n",
        "n_trials <- 10000\n",
        "theta <- sin(0.5)\n",
        "\n",
        "# Initialize a matrix to hold the estimates from each trial for each model\n",
        "estimates <- matrix(0, n_trials, 4)\n",
        "\n",
        "# Run the Monte Carlo simulation\n",
        "for (s in 1:n_trials) {\n",
        "  # Generate the dataset\n",
        "  X <- seq(-1, 1, length=N)\n",
        "  y <- sin(X) + rnorm(N, mean=mu, sd=sigma)\n",
        "\n",
        "  # Fit our four models\n",
        "  model1 <- lm(y ~ 1)\n",
        "  model2 <- lm(y ~ X)\n",
        "  model3 <- lm(y ~ poly(X, 2))\n",
        "  model4 <- lm(y ~ poly(X, 3))\n",
        "\n",
        "  # Make predictions at x=0.5 for each model\n",
        "  estimates[s, 1] <- predict(model1, newdata=data.frame(X=0.5))\n",
        "  estimates[s, 2] <- predict(model2, newdata=data.frame(X=0.5))\n",
        "  estimates[s, 3] <- predict(model3, newdata=data.frame(X=0.5))\n",
        "  estimates[s, 4] <- predict(model4, newdata=data.frame(X=0.5))\n",
        "}\n",
        "\n",
        "# Compute and print the absolute bias, variance, and MSE of each estimator\n",
        "for (num in 1:4) {\n",
        "  cat(\"Estimator\", num, \": |Bias|=\", abs(mean(estimates[, num]) - theta),\n",
        "      \"Variance=\", var(estimates[, num]),\n",
        "      \"MSE=\", mean((estimates[, num] - theta)^2), \"\\n\")\n",
        "}\n",
        "\n",
        "# Identify the estimator with the highest variance\n",
        "cat(\"The estimator with the highest variance is estimator\", which.max(apply(estimates, 2, var)), \"\\n\")\n",
        "# Identify the estimator with the lowest variance\n",
        "cat(\"The estimator with the lowest variance is estimator\", which.min(apply(estimates, 2, var)), \"\\n\")\n",
        "\n",
        "# Identify the estimator with the highest MSE\n",
        "mse_values <- apply(estimates, 2, function(est) mean((est - theta)^2))\n",
        "cat(\"The estimator with the highest MSE is estimator\", which.max(mse_values), \"\\n\")\n",
        "\n"
      ],
      "metadata": {
        "colab": {
          "base_uri": "https://localhost:8080/"
        },
        "id": "Zk7Tn9_nZpGa",
        "outputId": "11663d77-8a02-431a-81fa-9b7357147f81"
      },
      "id": "Zk7Tn9_nZpGa",
      "execution_count": null,
      "outputs": [
        {
          "output_type": "stream",
          "name": "stdout",
          "text": [
            "Estimator 1 : |Bias|= 0.4793887 Variance= 0.00124639 MSE= 0.2310598 \n",
            "Estimator 2 : |Bias|= 0.02970238 Variance= 0.002149378 MSE= 0.003031395 \n",
            "Estimator 3 : |Bias|= 0.02966857 Variance= 0.002266729 MSE= 0.003146726 \n",
            "Estimator 4 : |Bias|= 0.0005209817 Variance= 0.003978474 MSE= 0.003978348 \n",
            "The estimator with the highest variance is estimator 4 \n",
            "The estimator with the lowest variance is estimator 1 \n",
            "The estimator with the highest MSE is estimator 1 \n"
          ]
        }
      ]
    },
    {
      "cell_type": "code",
      "source": [
        "install.packages(\"class\") # to get KNN\n"
      ],
      "metadata": {
        "colab": {
          "base_uri": "https://localhost:8080/"
        },
        "id": "JsbJd9ydvdGZ",
        "outputId": "d8ea1bee-2c3b-45a0-b3f8-7d83ce5e60f7"
      },
      "id": "JsbJd9ydvdGZ",
      "execution_count": null,
      "outputs": [
        {
          "output_type": "stream",
          "name": "stderr",
          "text": [
            "Installing package into ‘/usr/local/lib/R/site-library’\n",
            "(as ‘lib’ is unspecified)\n",
            "\n"
          ]
        }
      ]
    },
    {
      "cell_type": "code",
      "source": [
        "# Clear all variables from the workspace\n",
        "rm(list=ls())\n",
        "set.seed(0)\n",
        "\n",
        "# Load the data\n",
        "load(\"EXAM.1s.23.Rdata\")\n",
        "data <- Q3.G3.D\n",
        "\n",
        "# Define K for KNN\n",
        "k <- 5\n",
        "library(class)\n",
        "# Define input and output\n",
        "X <- data[,1:(ncol(data)-1)]  # Now the input does not include the target\n",
        "Y <- data[,11]  # The target is now the 11th column\n",
        "\n",
        "# Number of features\n",
        "n <- ncol(X)\n",
        "\n",
        "# Initialize an empty vector to store the indices of the selected features\n",
        "fselected = NULL\n",
        "\n",
        "# Maximum number of features to select\n",
        "nmax = 5\n",
        "\n",
        "# Forward selection process\n",
        "for (f in 1:nmax) {\n",
        "\n",
        "  # Initialize a vector to store the MSE for each feature\n",
        "  MSEloo = numeric(n) + Inf\n",
        "\n",
        "  # For each feature not already selected\n",
        "  for (j in setdiff(1:n, fselected)) {\n",
        "\n",
        "    # Subset the data to include only the selected features and the current one\n",
        "    subs = c(fselected, j)\n",
        "\n",
        "    # Initialize a vector to store the leave-one-out error for each observation\n",
        "    eloo = numeric(nrow(X))\n",
        "\n",
        "    # For each observation\n",
        "    for (i in 1:nrow(X)) {\n",
        "\n",
        "      # Fit a 5NN model without the i-th observation\n",
        "      Xi <- X[-i, subs]\n",
        "      Yi <- Y[-i]\n",
        "\n",
        "      # Predict the i-th observation\n",
        "      yhati <- knn(train = Xi, test = X[i, subs, drop = FALSE], cl = Yi, k = k)\n",
        "\n",
        "      # Compute the error\n",
        "      eloo[i] = as.numeric(Y[i]) - as.numeric(yhati)\n",
        "    }\n",
        "\n",
        "    # Compute the mean squared error\n",
        "    MSEloo[j] = mean(eloo^2)\n",
        "  }\n",
        "\n",
        "  # Select the feature with the smallest error\n",
        "  fselected = c(fselected, which.min(MSEloo))\n",
        "}\n",
        "\n",
        "# Print the selected features\n",
        "print(fselected[1:nmax])\n"
      ],
      "metadata": {
        "id": "Hc6McpIax9NE",
        "colab": {
          "base_uri": "https://localhost:8080/"
        },
        "outputId": "22098b3f-a594-4ffc-f9ac-baf2d12b71d1"
      },
      "id": "Hc6McpIax9NE",
      "execution_count": null,
      "outputs": [
        {
          "output_type": "stream",
          "name": "stdout",
          "text": [
            "[1] 5 7 2 6 9\n"
          ]
        }
      ]
    },
    {
      "cell_type": "code",
      "source": [
        "# Load the data\n",
        "load(\"EXAM.1s.23.Rdata\")\n",
        " Q3.G3.D"
      ],
      "metadata": {
        "id": "fhC7Do8rNaGe"
      },
      "id": "fhC7Do8rNaGe",
      "execution_count": null,
      "outputs": []
    },
    {
      "cell_type": "code",
      "source": [
        "# Clear all variables from the workspace\n",
        "rm(list=ls())\n",
        "set.seed(0)\n",
        "# Load the data\n",
        "load(\"EXAM.1s.23.Rdata\")\n",
        "data <- Q3.G3.D\n",
        "\n",
        "# KNN function\n",
        "knn <- function(test_data, train_data, Y, k){\n",
        "    predictions = numeric(nrow(test_data))\n",
        "    for (i in 1:nrow(test_data)){\n",
        "        distances = sqrt(rowSums((t(t(train_data)) - test_data[i, ])^2))\n",
        "        closest = order(distances)[1:k]\n",
        "        predictions[i] = ifelse(mean(Y[closest]) > 0, 1, -1)\n",
        "    }\n",
        "    # handle NA values that might have been resulted due to a tie in the class voting\n",
        "\n",
        "    return(predictions)\n",
        "}\n",
        "\n",
        "# Define K for KNN\n",
        "k <- 5\n",
        "\n",
        "# Define input and output\n",
        " # Now the input does not include the target\n",
        "Y <- data[,11]  # The target is now the 11th column\n",
        "X <- data[,1:(ncol(data)-1)]\n",
        "# Number of features\n",
        "n <- ncol(X)\n",
        "\n",
        "# Initialize an empty vector to store the indices of the selected features\n",
        "fselected = NULL\n",
        "\n",
        "# Maximum number of features to select\n",
        "nmax = 5\n",
        "\n",
        "# Forward selection process\n",
        "for (f in 1:nmax) {\n",
        "\n",
        "  # Initialize a vector to store the MSE for each feature\n",
        "  MSEloo = numeric(n) + Inf\n",
        "\n",
        "  # For each feature not already selected\n",
        "  for (j in setdiff(1:n, fselected)) {\n",
        "\n",
        "    # Subset the data to include only the selected features and the current one\n",
        "    subs = c(fselected, j)\n",
        "\n",
        "    # Initialize a vector to store the leave-one-out error for each observation\n",
        "    eloo = numeric(nrow(X))\n",
        "\n",
        "    # For each observation\n",
        "    for (i in 1:nrow(X)) {\n",
        "\n",
        "      # Fit a 5NN model without the i-th observation\n",
        "      Xi <- X[-i, subs]\n",
        "      Yi <- Y[-i]\n",
        "\n",
        "      # Predict the i-th observation\n",
        "      yhati <- knn(train = Xi, test = X[i, subs, drop = FALSE], Y = Yi, k = k)\n",
        "\n",
        "      # Compute the error\n",
        "      eloo[i] = as.numeric(Y[i]) - as.numeric(yhati)\n",
        "    }\n",
        "\n",
        "    # Compute the mean squared error\n",
        "    MSEloo[j] = mean(eloo^2)\n",
        "  }\n",
        "\n",
        "  # Select the feature with the smallest error\n",
        "  fselected = c(fselected, which.min(MSEloo))\n",
        "}\n",
        "\n",
        "# Print the selected features\n",
        "print(fselected[1:nmax])\n"
      ],
      "metadata": {
        "colab": {
          "base_uri": "https://localhost:8080/"
        },
        "id": "ykSNNVuy-2wl",
        "outputId": "b161aab3-18ba-4e2d-a576-c7c620916610"
      },
      "id": "ykSNNVuy-2wl",
      "execution_count": null,
      "outputs": [
        {
          "output_type": "stream",
          "name": "stdout",
          "text": [
            "[1] 8 7 6 5 3\n"
          ]
        }
      ]
    },
    {
      "cell_type": "code",
      "source": [
        "# Clear all variables from the workspace\n",
        "rm(list=ls())\n",
        "set.seed(0)\n",
        "# Load the data\n",
        "load(\"EXAM.1s.23.Rdata\")\n",
        "data <- Q3.G3.D\n",
        "\n",
        "knn <- function(test_data, train_data, Y, k){\n",
        "    predictions = numeric(nrow(test_data))\n",
        "    for (i in 1:nrow(test_data)){\n",
        "        distances = sqrt(rowSums((t(t(train_data)) - test_data[i, ])^2))\n",
        "        closest = order(distances)[1:k]\n",
        "\n",
        "        # Compute the average of the 'Y' values of the 'k' closest neighbors\n",
        "        predictions[i] = mean(Y[closest])\n",
        "    }\n",
        "\n",
        "    return(predictions)\n",
        "}\n",
        "\n",
        "\n",
        "\n",
        "# Define K for KNN\n",
        "k <- 5\n",
        "\n",
        "# Define input and output\n",
        "X <- data[,1:(ncol(data)-1)]  # Now the input does not include the target\n",
        "Y <- data[,11]  # The target is now the 11th column\n",
        "\n",
        "# Number of features\n",
        "n <- ncol(X)\n",
        "\n",
        "# Initialize an empty vector to store the indices of the selected features\n",
        "fselected = NULL\n",
        "\n",
        "# Maximum number of features to select\n",
        "nmax = 5\n",
        "\n",
        "# Forward selection process\n",
        "for (f in 1:nmax) {\n",
        "\n",
        "  # Initialize a vector to store the MSE for each feature\n",
        "  MSEloo = numeric(n) + Inf\n",
        "\n",
        "  # For each feature not already selected\n",
        "  for (j in setdiff(1:n, fselected)) {\n",
        "\n",
        "    # Subset the data to include only the selected features and the current one\n",
        "    subs = c(fselected, j)\n",
        "\n",
        "    # Initialize a vector to store the leave-one-out error for each observation\n",
        "    eloo = numeric(nrow(X))\n",
        "\n",
        "    # For each observation\n",
        "    for (i in 1:nrow(X)) {\n",
        "\n",
        "      # Fit a 5NN model without the i-th observation\n",
        "      Xi <- X[-i, subs]\n",
        "      Yi <- Y[-i]\n",
        "\n",
        "      # Predict the i-th observation\n",
        "      yhati <- knn(train = Xi, test = X[i, subs, drop = FALSE], Y = Yi, k = k)\n",
        "\n",
        "      # Compute the error\n",
        "      eloo[i] = as.numeric(Y[i]) - as.numeric(yhati)\n",
        "    }\n",
        "\n",
        "    # Compute the mean squared error\n",
        "    MSEloo[j] = mean(eloo^2)\n",
        "  }\n",
        "\n",
        "  # Select the feature with the smallest error\n",
        "  fselected = c(fselected, which.min(MSEloo))\n",
        "}\n",
        "\n",
        "# Print the selected features\n",
        "print(fselected[1:nmax])\n"
      ],
      "metadata": {
        "colab": {
          "base_uri": "https://localhost:8080/"
        },
        "id": "47pSGQ8e52p1",
        "outputId": "37c904be-63c6-4c03-d929-85f6fd150a66"
      },
      "id": "47pSGQ8e52p1",
      "execution_count": null,
      "outputs": [
        {
          "output_type": "stream",
          "name": "stdout",
          "text": [
            "[1]  8  7  6  5 10\n"
          ]
        }
      ]
    },
    {
      "cell_type": "code",
      "source": [
        " Q3.G3.D"
      ],
      "metadata": {
        "id": "9NBpW3_B-D_g"
      },
      "id": "9NBpW3_B-D_g",
      "execution_count": null,
      "outputs": []
    },
    {
      "cell_type": "code",
      "source": [
        "# Clear all variables from the workspace\n",
        "rm(list=ls())\n",
        "load(\"EXAM.1s.23.Rdata\")\n",
        "install.packages(\"mvtnorm\")\n",
        "\n",
        "set.seed(123)\n",
        "\n",
        "# Define the training and test data\n",
        "train_data <- Q4.G2.D\n",
        "test_data <- Q4.G2.Dts\n",
        "\n",
        "knn <- function(test_data, train_data, k){\n",
        "    predictions = numeric(nrow(test_data))\n",
        "\n",
        "    for (i in 1:nrow(test_data)){\n",
        "        distances = sqrt(rowSums((t(train_data[,1:2]) - test_data[i, 1:2])^2))\n",
        "        closest = order(distances)[1:k]\n",
        "\n",
        "        # Compute the average of the target values of the 'k' closest neighbors\n",
        "        predictions[i] = mean(train_data[closest,3])\n",
        "    }\n",
        "\n",
        "    # handle NA values that might have been resulted due to missing values\n",
        "    na_idx <- is.na(predictions)\n",
        "    if(any(na_idx)){\n",
        "        predictions[na_idx] <- sample(train_data[,3], size = mean(na_idx), replace = TRUE)\n",
        "    }\n",
        "\n",
        "    return(predictions)\n",
        "}\n",
        "\n",
        "\n",
        "\n",
        "\n",
        "\n",
        "# Function to implement Gaussian classifier\n",
        "gaussian_classifier <- function(test_data, train_data){\n",
        "    # Separate data by class\n",
        "    train_data_pos = train_data[train_data[,3] == 1, 1:2]\n",
        "    train_data_neg = train_data[train_data[,3] == -1, 1:2]\n",
        "\n",
        "    # Calculate means and covariance matrices\n",
        "    means_pos = colMeans(train_data_pos)\n",
        "    means_neg = colMeans(train_data_neg)\n",
        "    cov_pos = cov(train_data_pos)\n",
        "    cov_neg = cov(train_data_neg)\n",
        "\n",
        "    # Compute probabilities for each class\n",
        "    predictions = ifelse(mvtnorm::dmvnorm(test_data[, 1:2], mean = means_pos, sigma = cov_pos) >\n",
        "                         mvtnorm::dmvnorm(test_data[, 1:2], mean = means_neg, sigma = cov_neg), 1, -1)\n",
        "\n",
        "    return(predictions)\n",
        "}\n",
        "\n",
        "# Compute predictions for the 5NN\n",
        "predictions_5NN <- knn(test_data, train_data, k=5)\n",
        "# Compute predictions for the Gaussian classifier\n",
        "predictions_gaussian <- gaussian_classifier(test_data, train_data)\n",
        "\n",
        "# install pROC package if not installed\n",
        "if (!require(pROC)) {\n",
        "  install.packages(\"pROC\")\n",
        "}\n",
        "\n",
        "library(pROC)\n",
        "\n",
        "# Compute true class labels for the test data\n",
        "true_labels <- test_data[,3]\n",
        "\n",
        "# ROC curve for 5NN\n",
        "roc_obj_5NN <- roc(true_labels, predictions_5NN)\n",
        "plot(roc_obj_5NN, main=\"ROC Curve for 5NN\")\n",
        "\n",
        "# ROC curve for Gaussian classifier\n",
        "roc_obj_gaussian <- roc(true_labels, predictions_gaussian)\n",
        "plot(roc_obj_gaussian, main=\"ROC Curve for Gaussian Classifier\")\n",
        "\n"
      ],
      "metadata": {
        "id": "zAkC4pfc390v",
        "colab": {
          "base_uri": "https://localhost:8080/",
          "height": 1000
        },
        "outputId": "f5e6568f-a862-46c5-bdbf-62a66427b34f"
      },
      "id": "zAkC4pfc390v",
      "execution_count": null,
      "outputs": [
        {
          "output_type": "stream",
          "name": "stderr",
          "text": [
            "Installing package into ‘/usr/local/lib/R/site-library’\n",
            "(as ‘lib’ is unspecified)\n",
            "\n",
            "Loading required package: pROC\n",
            "\n",
            "Warning message in library(package, lib.loc = lib.loc, character.only = TRUE, logical.return = TRUE, :\n",
            "“there is no package called ‘pROC’”\n",
            "Installing package into ‘/usr/local/lib/R/site-library’\n",
            "(as ‘lib’ is unspecified)\n",
            "\n",
            "also installing the dependencies ‘plyr’, ‘Rcpp’\n",
            "\n",
            "\n",
            "Type 'citation(\"pROC\")' for a citation.\n",
            "\n",
            "\n",
            "Attaching package: ‘pROC’\n",
            "\n",
            "\n",
            "The following objects are masked from ‘package:stats’:\n",
            "\n",
            "    cov, smooth, var\n",
            "\n",
            "\n",
            "Setting levels: control = -1, case = 1\n",
            "\n",
            "Setting direction: controls < cases\n",
            "\n",
            "Setting levels: control = -1, case = 1\n",
            "\n",
            "Setting direction: controls < cases\n",
            "\n"
          ]
        },
        {
          "output_type": "display_data",
          "data": {
            "text/plain": [
              "Plot with title “ROC Curve for 5NN”"
            ],
            "image/png": "[encoded data removed]"
          },
          "metadata": {
            "image/png": {
              "width": 420,
              "height": 420
            }
          }
        },
        {
          "output_type": "display_data",
          "data": {
            "text/plain": [
              "Plot with title “ROC Curve for Gaussian Classifier”"
            ],
            "image/png": "[encoded data removed]"
          },
          "metadata": {
            "image/png": {
              "width": 420,
              "height": 420
            }
          }
        }
      ]
    },
    {
      "cell_type": "code",
      "source": [
        "test_data"
      ],
      "metadata": {
        "id": "OoObtPyp8nLH"
      },
      "id": "OoObtPyp8nLH",
      "execution_count": null,
      "outputs": []
    },
    {
      "cell_type": "code",
      "source": [
        "# Function to compute ROC curve\n",
        "roc_curve <- function(predictions, labels){\n",
        "    # Initialize true positive rate and false positive rate vectors\n",
        "    tpr <- c()\n",
        "    fpr <- c()\n",
        "\n",
        "    # Loop over threshold values\n",
        "    for (threshold in seq(-1, 1, by = 0.01)){\n",
        "        # Compute confusion matrix\n",
        "        TP <- sum(predictions >= threshold & labels == 1)\n",
        "        FP <- sum(predictions >= threshold & labels == -1)\n",
        "        TN <- sum(predictions < threshold & labels == -1)\n",
        "        FN <- sum(predictions < threshold & labels == 1)\n",
        "\n",
        "        # Compute true positive rate and false positive rate\n",
        "        TPR <- TP / (TP + FN)\n",
        "        FPR <- FP / (FP + TN)\n",
        "\n",
        "        # Append to vectors\n",
        "        tpr <- c(tpr, TPR)\n",
        "        fpr <- c(fpr, FPR)\n",
        "    }\n",
        "\n",
        "    return(list(tpr = tpr, fpr = fpr))\n",
        "}\n",
        "\n",
        "# Compute ROC curves\n",
        "roc_5NN <- roc_curve(predictions_5NN, test_data[,3])\n",
        "roc_gaussian <- roc_curve(predictions_gaussian, test_data[,3])\n",
        "\n",
        "# Plot ROC curves\n",
        "plot(roc_5NN$fpr, roc_5NN$tpr, type = \"l\", col = \"red\", xlab = \"False Positive Rate\", ylab = \"True Positive Rate\")\n",
        "lines(roc_gaussian$fpr, roc_gaussian$tpr, col = \"blue\")\n",
        "\n",
        "legend(\"bottomright\", legend=c(\"5NN\", \"Gaussian\"),\n",
        "       col=c(\"red\", \"blue\"), lty=1)\n"
      ],
      "metadata": {
        "colab": {
          "base_uri": "https://localhost:8080/",
          "height": 437
        },
        "id": "eP0zvwze6ezB",
        "outputId": "6dfdac74-7333-4d5c-d198-c6094547d15f"
      },
      "id": "eP0zvwze6ezB",
      "execution_count": null,
      "outputs": [
        {
          "output_type": "display_data",
          "data": {
            "text/plain": [
              "plot without title"
            ],
            "image/png": "[encoded data removed]"
          },
          "metadata": {
            "image/png": {
              "width": 420,
              "height": 420
            }
          }
        }
      ]
    },
    {
      "cell_type": "code",
      "source": [
        "\n",
        "plot(FPR1,TPR1,type=\"l\",col=\"red\",\n",
        "\n",
        "     xlab=\"FPR\",\n",
        "\n",
        "     ylab=\"TPR\",main=\"ROC curves\")\n",
        "\n",
        "lines(FPR1,FPR1,lty=2)\n",
        "\n",
        "lines(FPR2,TPR2,col=\"black\")\n"
      ],
      "metadata": {
        "id": "L5nLu5sTCBMr"
      },
      "id": "L5nLu5sTCBMr",
      "execution_count": null,
      "outputs": []
    },
    {
      "cell_type": "code",
      "source": [
        "# Clear all variables from the workspace\n",
        "rm(list=ls())\n",
        "load(\"EXAM.1s.23.Rdata\")\n",
        "set.seed(123)\n",
        "\n",
        "# Define the training and test data\n",
        "train_data <- Q4.G2.D\n",
        "test_data <- Q4.G2.Dts\n",
        "\n",
        "# Function to implement K-Nearest with 5 neighbours (5NN) and Euclidean distance\n",
        "knn <- function(test_data, train_data, k){\n",
        "    predictions = numeric(nrow(test_data))\n",
        "\n",
        "    for (i in 1:nrow(test_data)){\n",
        "        distances = sqrt(rowSums((t(train_data[,1:2]) - test_data[i, 1:2])^2))\n",
        "        closest = order(distances)[1:k]\n",
        "        predictions[i] = ifelse(mean(train_data[closest,3]) > 0, 1, -1)\n",
        "    }\n",
        "\n",
        "    # handle NA values that might have been resulted due to a tie in the class voting\n",
        "    na_idx <- is.na(predictions)\n",
        "    if(any(na_idx)){\n",
        "        predictions[na_idx] <- sample(c(-1,1), size = sum(na_idx), replace = TRUE)\n",
        "    }\n",
        "\n",
        "    return(predictions)\n",
        "}\n",
        "\n",
        "# Function to implement Gaussian classifier\n",
        "gaussian_classifier <- function(test_data, train_data){\n",
        "    # Separate data by class\n",
        "    train_data_pos = train_data[train_data[,3] == 1, 1:2]\n",
        "    train_data_neg = train_data[train_data[,3] == -1, 1:2]\n",
        "\n",
        "    # Calculate means and covariance matrices\n",
        "    means_pos = colMeans(train_data_pos)\n",
        "    means_neg = colMeans(train_data_neg)\n",
        "    cov_pos = cov(train_data_pos)\n",
        "    cov_neg = cov(train_data_neg)\n",
        "\n",
        "    # Compute probabilities for each class\n",
        "    predictions = ifelse(mvtnorm::dmvnorm(test_data[, 1:2], mean = means_pos, sigma = cov_pos) >\n",
        "                         mvtnorm::dmvnorm(test_data[, 1:2], mean = means_neg, sigma = cov_neg), 1, -1)\n",
        "\n",
        "    return(predictions)\n",
        "}\n",
        "\n",
        "# Compute predictions for the 5NN\n",
        "predictions_5NN <- knn(test_data, train_data, k=5)\n",
        "# Compute predictions for the Gaussian classifier\n",
        "predictions_gaussian <- gaussian_classifier(test_data, train_data)\n",
        "\n",
        "# Function to compute ROC curve\n",
        "roc_curve <- function(predictions, labels){\n",
        "    # Initialize true positive rate and false positive rate vectors\n",
        "    tpr <- c()\n",
        "    fpr <- c()\n",
        "\n",
        "    # Loop over threshold values\n",
        "    for (threshold in seq(-1, 1, by = 0.01)){\n",
        "        # Compute confusion matrix\n",
        "        TP <- sum(predictions >= threshold & labels == 1)\n",
        "        FP <- sum(predictions >= threshold & labels == -1)\n",
        "        TN <- sum(predictions < threshold & labels == -1)\n",
        "        FN <- sum(predictions < threshold & labels == 1)\n",
        "\n",
        "        # Compute true positive rate and false positive rate\n",
        "        TPR <- TP / (TP + FN)\n",
        "        FPR <- FP / (FP + TN)\n",
        "\n",
        "        # Append to vectors\n",
        "        tpr <- c(tpr, TPR)\n",
        "        fpr <- c(fpr, FPR)\n",
        "    }\n",
        "\n",
        "    return(list(tpr = tpr, fpr = fpr))\n",
        "}\n",
        "\n",
        "# Function to compute Precision/Recall curve\n",
        "pr_curve <- function(predictions, labels){\n",
        "    # Initialize precision and recall vectors\n",
        "    precision <- c()\n",
        "    recall <- c()\n",
        "\n",
        "    # Loop over threshold values\n",
        "    for (threshold in seq(-1, 1, by = 0.01)){\n",
        "        # Compute confusion matrix\n",
        "        TP <- sum(predictions >= threshold & labels == 1)\n",
        "        FP <- sum(predictions >= threshold & labels == -1)\n",
        "        TN <- sum(predictions < threshold & labels == -1)\n",
        "        FN <- sum(predictions < threshold & labels == 1)\n",
        "\n",
        "        # Compute precision and recall\n",
        "        Precision <- TP / (TP + FP)\n",
        "        Recall <- TP / (TP + FN)\n",
        "\n",
        "        # Append to vectors\n",
        "        precision <- c(precision, Precision)\n",
        "        recall <- c(recall, Recall)\n",
        "    }\n",
        "\n",
        "    return(list(precision = precision, recall = recall))\n",
        "}\n",
        "\n",
        "# Compute ROC curves\n",
        "roc_5NN <- roc_curve(predictions_5NN, test_data[,3])\n",
        "roc_gaussian <- roc_curve(predictions_gaussian, test_data[,3])\n",
        "\n",
        "# Compute Precision/Recall curves\n",
        "pr_5NN <- pr_curve(predictions_5NN, test_data[,3])\n",
        "pr_gaussian <- pr_curve(predictions_gaussian, test_data[,3])\n",
        "# Open PDF device\n",
        "\n",
        "# Plot ROC curves\n",
        "plot(roc_5NN$fpr, roc_5NN$tpr, type = \"l\", col = \"red\", xlab = \"False Positive Rate\", ylab = \"True Positive Rate\" , main = \"ROC curves\")\n",
        "lines(roc_gaussian$fpr, roc_gaussian$tpr, col = \"blue\")\n",
        "\n",
        "# Plot Precision/Recall curves\n",
        "plot(pr_5NN$recall, pr_5NN$precision, type = \"l\", col = \"red\", xlab = \"Recall\", ylab = \"Precision\")\n",
        "lines(pr_gaussian$recall, pr_gaussian$precision, col = \"blue\")\n",
        "\n",
        "# Add legends\n",
        "legend(\"bottomright\", legend = c(\"5NN\", \"Gaussian\"), col = c(\"red\", \"blue\"), lty = 1)\n"
      ],
      "metadata": {
        "id": "KDVw2u5VDTKY",
        "colab": {
          "base_uri": "https://localhost:8080/",
          "height": 857
        },
        "outputId": "5b77eb05-679e-41a7-b1c6-a15ec7c65b91"
      },
      "id": "KDVw2u5VDTKY",
      "execution_count": null,
      "outputs": [
        {
          "output_type": "display_data",
          "data": {
            "text/plain": [
              "Plot with title “ROC curves”"
            ],
            "image/png": "[encoded data removed]"
          },
          "metadata": {
            "image/png": {
              "width": 420,
              "height": 420
            }
          }
        },
        {
          "output_type": "display_data",
          "data": {
            "text/plain": [
              "plot without title"
            ],
            "image/png": "[encoded data removed]"
          },
          "metadata": {
            "image/png": {
              "width": 420,
              "height": 420
            }
          }
        }
      ]
    },
    {
      "cell_type": "code",
      "source": [
        "# Fonction pour calculer l'AUC en utilisant la méthode des trapèzes\n",
        "calculate_auc <- function(TPR, FPR) {\n",
        "  auc = 0\n",
        "  # Tri des FPR et TPR\n",
        "  order = order(FPR)\n",
        "  TPR = TPR[order]\n",
        "  FPR = FPR[order]\n",
        "\n",
        "  # Calcul de l'AUC\n",
        "  for (i in 1:(length(FPR) - 1)) {\n",
        "    auc = auc + 0.5 * (TPR[i+1] + TPR[i]) * (FPR[i+1] - FPR[i])\n",
        "  }\n",
        "  return(auc)\n",
        "}\n",
        "# Calculer l'AUC pour le classificateur 5NN\n",
        "auc_5NN <- calculate_auc(roc_5NN$tpr, roc_5NN$fpr)\n",
        "print(paste(\"AUC for 5NN: \", auc_5NN))\n",
        "\n",
        "# Calculer l'AUC pour le classificateur Gaussian\n",
        "auc_gaussian <- calculate_auc(roc_gaussian$tpr, roc_gaussian$fpr)\n",
        "print(paste(\"AUC for Gaussian: \", auc_gaussian))\n"
      ],
      "metadata": {
        "id": "sQInPPUzKZQg",
        "outputId": "746f9189-cac1-480e-a95e-89b56c6a0793",
        "colab": {
          "base_uri": "https://localhost:8080/"
        }
      },
      "id": "sQInPPUzKZQg",
      "execution_count": null,
      "outputs": [
        {
          "output_type": "stream",
          "name": "stdout",
          "text": [
            "[1] \"AUC for 5NN:  0.394662081013211\"\n",
            "[1] \"AUC for Gaussian:  0.703565345561743\"\n"
          ]
        }
      ]
    }
  ],
  "metadata": {
    "kernelspec": {
      "display_name": "R",
      "language": "R",
      "name": "ir"
    },
    "language_info": {
      "codemirror_mode": "r",
      "file_extension": ".r",
      "mimetype": "text/x-r-source",
      "name": "R",
      "pygments_lexer": "r",
      "version": "4.1.3"
    },
    "colab": {
      "provenance": [],
      "include_colab_link": true
    }
  },
  "nbformat": 4,
  "nbformat_minor": 5
}